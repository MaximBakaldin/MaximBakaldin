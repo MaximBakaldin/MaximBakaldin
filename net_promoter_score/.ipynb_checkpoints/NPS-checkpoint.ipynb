{
 "cells": [
  {
   "cell_type": "markdown",
   "id": "134f8766",
   "metadata": {
    "toc": true
   },
   "source": [
    "<h1>Table of Contents<span class=\"tocSkip\"></span></h1>\n",
    "<div class=\"toc\"><ul class=\"toc-item\"><li><span><a href=\"#Краткое-описание-проекта\" data-toc-modified-id=\"Краткое-описание-проекта-1\"><span class=\"toc-item-num\">1&nbsp;&nbsp;</span>Краткое описание проекта</a></span></li><li><span><a href=\"#Описание-данных\" data-toc-modified-id=\"Описание-данных-2\"><span class=\"toc-item-num\">2&nbsp;&nbsp;</span>Описание данных</a></span><ul class=\"toc-item\"><li><span><a href=\"#Образец-витрины-данных\" data-toc-modified-id=\"Образец-витрины-данных-2.1\"><span class=\"toc-item-num\">2.1&nbsp;&nbsp;</span>Образец витрины данных</a></span><ul class=\"toc-item\"><li><span><a href=\"#Таблица-user\" data-toc-modified-id=\"Таблица-user-2.1.1\"><span class=\"toc-item-num\">2.1.1&nbsp;&nbsp;</span>Таблица user</a></span></li><li><span><a href=\"#Таблица-location\" data-toc-modified-id=\"Таблица-location-2.1.2\"><span class=\"toc-item-num\">2.1.2&nbsp;&nbsp;</span>Таблица location</a></span></li><li><span><a href=\"#Таблица-age_segment\" data-toc-modified-id=\"Таблица-age_segment-2.1.3\"><span class=\"toc-item-num\">2.1.3&nbsp;&nbsp;</span>Таблица age_segment</a></span></li><li><span><a href=\"#Таблица-traffic_segment\" data-toc-modified-id=\"Таблица-traffic_segment-2.1.4\"><span class=\"toc-item-num\">2.1.4&nbsp;&nbsp;</span>Таблица traffic_segment</a></span></li><li><span><a href=\"#Таблица-lifetime_segment\" data-toc-modified-id=\"Таблица-lifetime_segment-2.1.5\"><span class=\"toc-item-num\">2.1.5&nbsp;&nbsp;</span>Таблица lifetime_segment</a></span></li></ul></li></ul></li><li><span><a href=\"#Загрузка-данных\" data-toc-modified-id=\"Загрузка-данных-3\"><span class=\"toc-item-num\">3&nbsp;&nbsp;</span>Загрузка данных</a></span><ul class=\"toc-item\"><li><span><a href=\"#Сохраним-витрину-в-csv\" data-toc-modified-id=\"Сохраним-витрину-в-csv-3.1\"><span class=\"toc-item-num\">3.1&nbsp;&nbsp;</span>Сохраним витрину в csv</a></span></li></ul></li><li><span><a href=\"#Основные-задачи-и--вопросы\" data-toc-modified-id=\"Основные-задачи-и--вопросы-4\"><span class=\"toc-item-num\">4&nbsp;&nbsp;</span>Основные задачи и  вопросы</a></span><ul class=\"toc-item\"><li><span><a href=\"#Ссылка-на-презентацию\" data-toc-modified-id=\"Ссылка-на-презентацию-4.1\"><span class=\"toc-item-num\">4.1&nbsp;&nbsp;</span>Ссылка на презентацию</a></span></li></ul></li></ul></div>"
   ]
  },
  {
   "cell_type": "markdown",
   "id": "68f4c7a4",
   "metadata": {},
   "source": [
    "# Проектная работа  «Оценка уровня потребительской лояльности»."
   ]
  },
  {
   "cell_type": "markdown",
   "id": "24ec5355",
   "metadata": {},
   "source": [
    "## Краткое описание проекта"
   ]
  },
  {
   "cell_type": "markdown",
   "id": "1bb1b2d7",
   "metadata": {},
   "source": [
    "Заказчик этого исследования — большая телекоммуникационная компания, которая оказывает услуги на территории всего СНГ. Перед компанией стоит задача определить текущий уровень потребительской лояльности, или NPS (от англ. Net Promoter Score), среди клиентов из России. \n",
    "\n",
    "Интерпретируя результаты NPS-опросов, следует также помнить, что само значение мало о чём говорит. Однако исследования показывают, что клиенты-сторонники полезны любому бизнесу. Они чаще других повторно совершают покупки, активнее тестируют обновления и приводят в сервис своих друзей и знакомых. Поэтому NPS остаётся одной из важнейших метрик бизнеса. "
   ]
  },
  {
   "cell_type": "markdown",
   "id": "30f2540f",
   "metadata": {},
   "source": [
    "**Цель исследования** - определить текущий уровень потребительской лояльности, или NPS (от англ. Net Promoter Score), среди клиентов из России."
   ]
  },
  {
   "cell_type": "markdown",
   "id": "12c0b5fc",
   "metadata": {},
   "source": [
    "## Описание данных"
   ]
  },
  {
   "cell_type": "markdown",
   "id": "fb1962a6",
   "metadata": {},
   "source": [
    "### Образец витрины данных"
   ]
  },
  {
   "cell_type": "markdown",
   "id": "287ce9c5",
   "metadata": {},
   "source": [
    "- user_id\tИдентификатор клиента\n",
    "- lt_day\tКоличество дней «жизни» клиента\n",
    "- is_new\tПоле хранит информацию о том, является ли клиент новым\n",
    "- age\tВозраст\n",
    "- gender_segment\tПол (для удобства работы с полем преобразуйте значения в текстовый вид)\n",
    "- os_name\tТип операционной системы\n",
    "- cpe_type_name\tТип устройства\n",
    "- country\tСтрана проживания\n",
    "- city\tГород проживания\n",
    "- age_segment\tВозрастной сегмент\n",
    "- traffic_segment\tСегмент по объёму потребляемого трафика\n",
    "- lifetime_segment\tСегмент по количеству дней «жизни»\n",
    "- nps_score\tОценка клиента в NPS-опросе\n",
    "- nps_group\tПоле хранит информацию о том, к какой группе относится оценка клиента в опросе"
   ]
  },
  {
   "cell_type": "markdown",
   "id": "2b54c68f",
   "metadata": {},
   "source": [
    "#### Таблица user"
   ]
  },
  {
   "cell_type": "markdown",
   "id": "a1e60977",
   "metadata": {},
   "source": [
    "- user_id\tИдентификатор клиента, первичный ключ таблицы\n",
    "- lt_day\tКоличество дней «жизни» клиента\n",
    "- age\tВозраст клиента в годах\n",
    "- gender_segment\tПол клиента (1 – женщина, 0 – мужчина)\n",
    "- os_name\tТип операционной системы\n",
    "- cpe_type_name\tТип устройства\n",
    "- location_id\tИдентификатор домашнего региона клиента, внешний ключ, отсылающий к таблице location\n",
    "- age_gr_id\tИдентификатор возрастного сегмента клиента, внешний ключ, отсылающий к таблице age_segment\n",
    "- tr_gr_id\tИдентификатор сегмента клиента по объёму потребляемого трафика в месяц, внешний ключ, отсылающий к таблице traffic_segment\n",
    "- lt_gr_id\tИдентификатор сегмента клиента по количеству месяцев «жизни», внешний ключ, отсылающий к таблице lifetime_segment\n",
    "- nps_score\tОценка клиента в NPS-опросе (от 1 до 10)"
   ]
  },
  {
   "cell_type": "markdown",
   "id": "6ae9a7ac",
   "metadata": {},
   "source": [
    "#### Таблица location\n",
    "Справочник территорий, в которых телеком-компания оказывает услуги."
   ]
  },
  {
   "cell_type": "markdown",
   "id": "c853a58f",
   "metadata": {},
   "source": [
    "- location_id\tИдентификатор записи, первичный ключ\n",
    "- country\tСтрана\n",
    "- city\tГород"
   ]
  },
  {
   "cell_type": "markdown",
   "id": "146fb40c",
   "metadata": {},
   "source": [
    "#### Таблица age_segment\n",
    "Данные о возрастных сегментах клиентов."
   ]
  },
  {
   "cell_type": "markdown",
   "id": "0139b963",
   "metadata": {},
   "source": [
    "- age_gr_id\tИдентификатор сегмента, первичный ключ\n",
    "- bucket_min\tМинимальная граница сегмента\n",
    "- bucket_max\tМаксимальная граница сегмента\n",
    "- title\tНазвание сегмента"
   ]
  },
  {
   "cell_type": "markdown",
   "id": "068d53db",
   "metadata": {},
   "source": [
    "#### Таблица traffic_segment\n",
    "Данные о выделяемых сегментах по объёму потребляемого трафика."
   ]
  },
  {
   "cell_type": "markdown",
   "id": "96e5a161",
   "metadata": {},
   "source": [
    "- tr_gr_id\tИдентификатор сегмента, первичный ключ\n",
    "- bucket_min\tМинимальная граница сегмента\n",
    "- bucket_max\tМаксимальная граница сегмента\n",
    "- title\tНазвание сегмента"
   ]
  },
  {
   "cell_type": "markdown",
   "id": "01ac6106",
   "metadata": {},
   "source": [
    "#### Таблица lifetime_segment\n",
    "Данные о выделяемых сегментах по количеству месяцев «жизни» клиента — лайфтайму."
   ]
  },
  {
   "cell_type": "markdown",
   "id": "0afb2d60",
   "metadata": {},
   "source": [
    "- lt_gr_id\tИдентификатор сегмента, первичный ключ\n",
    "- bucket_min\tМинимальная граница сегмента\n",
    "- bucket_max\tМаксимальная граница сегмента\n",
    "- title\tНазвание сегмента"
   ]
  },
  {
   "cell_type": "markdown",
   "id": "1e7e67d6",
   "metadata": {},
   "source": [
    "## Загрузка данных"
   ]
  },
  {
   "cell_type": "code",
   "execution_count": 1,
   "id": "8df75e48",
   "metadata": {},
   "outputs": [],
   "source": [
    "# импортируем библиотеки\n",
    "import os # operating system\n",
    "import pandas as pd\n",
    "from sqlalchemy import create_engine\n"
   ]
  },
  {
   "cell_type": "code",
   "execution_count": 2,
   "id": "9545b5e8",
   "metadata": {},
   "outputs": [],
   "source": [
    "# определяем пути к БД\n",
    "# путь к БД на ПК\n",
    "path_to_db_local = 'telecomm_csi.db'\n",
    "# путь к БД на платформе\n",
    "path_to_db_platform = '/datasets/telecomm_csi.db'\n",
    "# итоговый путь к БД\n",
    "path_to_db = None\n",
    "\n",
    "# если путь на ПК ведёт к БД, то он становится итоговым\n",
    "if os.path.exists(path_to_db_local):\n",
    "    path_to_db = path_to_db_local\n",
    "# иначе: если путь на платформе ведёт к БД, то он становится итоговым\n",
    "elif os.path.exists(path_to_db_platform):\n",
    "    path_to_db = path_to_db_platform\n",
    "# иначе выводится сообщение о том, что файл не найден\n",
    "else:\n",
    "    raise Exception('Файл с базой данных SQLite не найден!')\n",
    "# если итоговый путь не пустой\n",
    "if path_to_db:\n",
    "    # то создаём подключение к базе\n",
    "    engine = create_engine(f'sqlite:///{path_to_db}', echo=False)\n",
    "    \n",
    "    # пример запроса\n",
    "    query = \"\"\"\n",
    "    SELECT  user_id,\n",
    "            lt_day,\n",
    "            CASE WHEN lt_day <= 365 THEN 'new' ELSE 'old' END AS is_new,\n",
    "            age,\n",
    "            CASE gender_segment WHEN 1 THEN 'женщины' WHEN 0 THEN 'мужчины' END AS gender_segment,\n",
    "            os_name,\n",
    "            cpe_type_name,\n",
    "            country,\n",
    "            city,\n",
    "            SUBSTRING(a.title, INSTR(a.title,' ')+1) AS age_segment,\n",
    "            SUBSTRING(t.title, INSTR(t.title,' ')+1) AS traffic_segment,\n",
    "            SUBSTRING(lt.title, INSTR(lt.title,' ')+1) AS lifetime_segment,\n",
    "            nps_score,\n",
    "            CASE WHEN nps_score <= 6 THEN 'критики' WHEN nps_score <= 8 THEN 'нейтралы' ELSE 'промоутеры' END AS nps_score_type\n",
    "    FROM user AS u LEFT JOIN location AS l on u.location_id = l.location_id\n",
    "    LEFT JOIN age_segment AS a on u.age_gr_id = a.age_gr_id\n",
    "    LEFT JOIN traffic_segment AS t on u.tr_gr_id = t.tr_gr_id\n",
    "    LEFT JOIN lifetime_segment AS lt on u.lt_gr_id = lt.lt_gr_id;\n",
    "    \"\"\"\n",
    "    \n"
   ]
  },
  {
   "cell_type": "code",
   "execution_count": 3,
   "id": "56d42cc5",
   "metadata": {},
   "outputs": [],
   "source": [
    "# создаём датафрейм по данным запроса\n",
    "df = pd.read_sql(query, engine) "
   ]
  },
  {
   "cell_type": "code",
   "execution_count": 4,
   "id": "77398b41",
   "metadata": {},
   "outputs": [
    {
     "name": "stdout",
     "output_type": "stream",
     "text": [
      "<class 'pandas.core.frame.DataFrame'>\n",
      "RangeIndex: 502493 entries, 0 to 502492\n",
      "Data columns (total 14 columns):\n",
      " #   Column            Non-Null Count   Dtype  \n",
      "---  ------            --------------   -----  \n",
      " 0   user_id           502493 non-null  object \n",
      " 1   lt_day            502493 non-null  int64  \n",
      " 2   is_new            502493 non-null  object \n",
      " 3   age               501939 non-null  float64\n",
      " 4   gender_segment    501192 non-null  object \n",
      " 5   os_name           502493 non-null  object \n",
      " 6   cpe_type_name     502493 non-null  object \n",
      " 7   country           502493 non-null  object \n",
      " 8   city              502493 non-null  object \n",
      " 9   age_segment       502493 non-null  object \n",
      " 10  traffic_segment   502493 non-null  object \n",
      " 11  lifetime_segment  502493 non-null  object \n",
      " 12  nps_score         502493 non-null  int64  \n",
      " 13  nps_score_type    502493 non-null  object \n",
      "dtypes: float64(1), int64(2), object(11)\n",
      "memory usage: 53.7+ MB\n"
     ]
    }
   ],
   "source": [
    "df.info()"
   ]
  },
  {
   "cell_type": "code",
   "execution_count": 5,
   "id": "eaa428d4",
   "metadata": {},
   "outputs": [
    {
     "data": {
      "text/html": [
       "<div>\n",
       "<style scoped>\n",
       "    .dataframe tbody tr th:only-of-type {\n",
       "        vertical-align: middle;\n",
       "    }\n",
       "\n",
       "    .dataframe tbody tr th {\n",
       "        vertical-align: top;\n",
       "    }\n",
       "\n",
       "    .dataframe thead th {\n",
       "        text-align: right;\n",
       "    }\n",
       "</style>\n",
       "<table border=\"1\" class=\"dataframe\">\n",
       "  <thead>\n",
       "    <tr style=\"text-align: right;\">\n",
       "      <th></th>\n",
       "      <th>user_id</th>\n",
       "      <th>lt_day</th>\n",
       "      <th>is_new</th>\n",
       "      <th>age</th>\n",
       "      <th>gender_segment</th>\n",
       "      <th>os_name</th>\n",
       "      <th>cpe_type_name</th>\n",
       "      <th>country</th>\n",
       "      <th>city</th>\n",
       "      <th>age_segment</th>\n",
       "      <th>traffic_segment</th>\n",
       "      <th>lifetime_segment</th>\n",
       "      <th>nps_score</th>\n",
       "      <th>nps_score_type</th>\n",
       "    </tr>\n",
       "  </thead>\n",
       "  <tbody>\n",
       "    <tr>\n",
       "      <th>122008</th>\n",
       "      <td>GA9GF0</td>\n",
       "      <td>2012</td>\n",
       "      <td>old</td>\n",
       "      <td>40.0</td>\n",
       "      <td>мужчины</td>\n",
       "      <td>ANDROID</td>\n",
       "      <td>SMARTPHONE</td>\n",
       "      <td>Россия</td>\n",
       "      <td>Казань</td>\n",
       "      <td>35-44</td>\n",
       "      <td>20-25</td>\n",
       "      <td>36+</td>\n",
       "      <td>4</td>\n",
       "      <td>критики</td>\n",
       "    </tr>\n",
       "    <tr>\n",
       "      <th>293874</th>\n",
       "      <td>P7BPIS</td>\n",
       "      <td>389</td>\n",
       "      <td>old</td>\n",
       "      <td>33.0</td>\n",
       "      <td>женщины</td>\n",
       "      <td>ANDROID</td>\n",
       "      <td>SMARTPHONE</td>\n",
       "      <td>Россия</td>\n",
       "      <td>Самара</td>\n",
       "      <td>25-34</td>\n",
       "      <td>15-20</td>\n",
       "      <td>13-24</td>\n",
       "      <td>10</td>\n",
       "      <td>промоутеры</td>\n",
       "    </tr>\n",
       "    <tr>\n",
       "      <th>84160</th>\n",
       "      <td>EC522S</td>\n",
       "      <td>898</td>\n",
       "      <td>old</td>\n",
       "      <td>29.0</td>\n",
       "      <td>женщины</td>\n",
       "      <td>ANDROID</td>\n",
       "      <td>SMARTPHONE</td>\n",
       "      <td>Россия</td>\n",
       "      <td>Казань</td>\n",
       "      <td>25-34</td>\n",
       "      <td>10-15</td>\n",
       "      <td>25-36</td>\n",
       "      <td>1</td>\n",
       "      <td>критики</td>\n",
       "    </tr>\n",
       "    <tr>\n",
       "      <th>72365</th>\n",
       "      <td>DQ9FEM</td>\n",
       "      <td>5266</td>\n",
       "      <td>old</td>\n",
       "      <td>56.0</td>\n",
       "      <td>мужчины</td>\n",
       "      <td>ANDROID</td>\n",
       "      <td>SMARTPHONE</td>\n",
       "      <td>Россия</td>\n",
       "      <td>Тюмень</td>\n",
       "      <td>55-64</td>\n",
       "      <td>10-15</td>\n",
       "      <td>36+</td>\n",
       "      <td>10</td>\n",
       "      <td>промоутеры</td>\n",
       "    </tr>\n",
       "    <tr>\n",
       "      <th>439858</th>\n",
       "      <td>WRBN9M</td>\n",
       "      <td>948</td>\n",
       "      <td>old</td>\n",
       "      <td>35.0</td>\n",
       "      <td>мужчины</td>\n",
       "      <td>ANDROID</td>\n",
       "      <td>SMARTPHONE</td>\n",
       "      <td>Россия</td>\n",
       "      <td>Москва</td>\n",
       "      <td>35-44</td>\n",
       "      <td>45-50</td>\n",
       "      <td>25-36</td>\n",
       "      <td>5</td>\n",
       "      <td>критики</td>\n",
       "    </tr>\n",
       "  </tbody>\n",
       "</table>\n",
       "</div>"
      ],
      "text/plain": [
       "       user_id  lt_day is_new   age gender_segment  os_name cpe_type_name  \\\n",
       "122008  GA9GF0    2012    old  40.0        мужчины  ANDROID    SMARTPHONE   \n",
       "293874  P7BPIS     389    old  33.0        женщины  ANDROID    SMARTPHONE   \n",
       "84160   EC522S     898    old  29.0        женщины  ANDROID    SMARTPHONE   \n",
       "72365   DQ9FEM    5266    old  56.0        мужчины  ANDROID    SMARTPHONE   \n",
       "439858  WRBN9M     948    old  35.0        мужчины  ANDROID    SMARTPHONE   \n",
       "\n",
       "       country    city age_segment traffic_segment lifetime_segment  \\\n",
       "122008  Россия  Казань       35-44           20-25              36+   \n",
       "293874  Россия  Самара       25-34           15-20            13-24   \n",
       "84160   Россия  Казань       25-34           10-15            25-36   \n",
       "72365   Россия  Тюмень       55-64           10-15              36+   \n",
       "439858  Россия  Москва       35-44           45-50            25-36   \n",
       "\n",
       "        nps_score nps_score_type  \n",
       "122008          4        критики  \n",
       "293874         10     промоутеры  \n",
       "84160           1        критики  \n",
       "72365          10     промоутеры  \n",
       "439858          5        критики  "
      ]
     },
     "execution_count": 5,
     "metadata": {},
     "output_type": "execute_result"
    }
   ],
   "source": [
    "df.sample(5)"
   ]
  },
  {
   "cell_type": "markdown",
   "id": "b5d4c493",
   "metadata": {},
   "source": [
    "### Сохраним витрину в csv"
   ]
  },
  {
   "cell_type": "code",
   "execution_count": 6,
   "id": "684870a7",
   "metadata": {},
   "outputs": [],
   "source": [
    "# Сохраним витрину в csv\n",
    "df.to_csv('nps.csv', index=False)"
   ]
  },
  {
   "cell_type": "code",
   "execution_count": 7,
   "id": "b3146a88",
   "metadata": {},
   "outputs": [],
   "source": [
    "data =pd.read_csv('nps.csv')"
   ]
  },
  {
   "cell_type": "markdown",
   "id": "b12ffd34",
   "metadata": {},
   "source": [
    "## Основные задачи и  вопросы"
   ]
  },
  {
   "cell_type": "markdown",
   "id": "4f9f1490",
   "metadata": {},
   "source": [
    "Нужно построить дашборд, который представит информацию о текущем уровне NPS среди клиентов и покажет, как этот уровень меняется в зависимости от пользовательских признаков. Используя дашборд, ответим на вопросы:\n",
    "\n",
    "\n",
    "- Как распределены участники опроса по возрасту и полу? Каких пользователей больше: новых или старых? Пользователи из каких городов активнее участвовали в опросе?\n",
    "- Какие группы пользователей наиболее лояльны к сервису? Какие менее?\n",
    "- Какой общий NPS среди всех опрошенных?\n",
    "- Как можно описать клиентов, которые относятся к группе cторонников (англ. promoters)?"
   ]
  },
  {
   "cell_type": "markdown",
   "id": "54ac9a43",
   "metadata": {},
   "source": [
    "### Ссылка на презентацию"
   ]
  },
  {
   "cell_type": "markdown",
   "id": "6942cfa3",
   "metadata": {},
   "source": [
    "[Презентация  NPS](https://public.tableau.com/views/NPS_17247759049860/NPS_1?:language=en-US&publish=yes&:sid=&:redirect=auth&:display_count=n&:origin=viz_share_link)"
   ]
  }
 ],
 "metadata": {
  "kernelspec": {
   "display_name": "Python 3 (ipykernel)",
   "language": "python",
   "name": "python3"
  },
  "language_info": {
   "codemirror_mode": {
    "name": "ipython",
    "version": 3
   },
   "file_extension": ".py",
   "mimetype": "text/x-python",
   "name": "python",
   "nbconvert_exporter": "python",
   "pygments_lexer": "ipython3",
   "version": "3.9.19"
  },
  "toc": {
   "base_numbering": 1,
   "nav_menu": {
    "height": "27.9883px",
    "width": "160px"
   },
   "number_sections": true,
   "sideBar": true,
   "skip_h1_title": true,
   "title_cell": "Table of Contents",
   "title_sidebar": "Contents",
   "toc_cell": true,
   "toc_position": {
    "height": "1253.33px",
    "left": "36px",
    "top": "111.84px",
    "width": "165px"
   },
   "toc_section_display": true,
   "toc_window_display": true
  },
  "varInspector": {
   "cols": {
    "lenName": 16,
    "lenType": 16,
    "lenVar": 40
   },
   "kernels_config": {
    "python": {
     "delete_cmd_postfix": "",
     "delete_cmd_prefix": "del ",
     "library": "var_list.py",
     "varRefreshCmd": "print(var_dic_list())"
    },
    "r": {
     "delete_cmd_postfix": ") ",
     "delete_cmd_prefix": "rm(",
     "library": "var_list.r",
     "varRefreshCmd": "cat(var_dic_list()) "
    }
   },
   "types_to_exclude": [
    "module",
    "function",
    "builtin_function_or_method",
    "instance",
    "_Feature"
   ],
   "window_display": false
  }
 },
 "nbformat": 4,
 "nbformat_minor": 5
}
