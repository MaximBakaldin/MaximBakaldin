{
 "cells": [
  {
   "cell_type": "markdown",
   "id": "4f11de00",
   "metadata": {
    "deletable": false,
    "editable": false,
    "id": "4f11de00"
   },
   "source": [
    "# Исследование надежности заемщиков"
   ]
  },
  {
   "cell_type": "markdown",
   "id": "bfe2fc39",
   "metadata": {},
   "source": [
    "## **Краткое описание проекта**"
   ]
  },
  {
   "cell_type": "markdown",
   "id": "c246605e",
   "metadata": {},
   "source": [
    "Заказчик — кредитный отдел банка. Нужно разобраться, влияет ли семейное положение и количество детей клиента на факт\n",
    "погашения кредита в срок. Входные данные от банка — статистика о платёжеспособности клиентов.\n",
    "\n",
    "Результаты исследования будут учтены при построении модели *кредитного скоринга* — специальной системы, которая \n",
    "оценивает способность потенциального заёмщика вернуть кредит банку."
   ]
  },
  {
   "cell_type": "markdown",
   "id": "03c05e83",
   "metadata": {},
   "source": [
    "**Описание данных**\n",
    "\n",
    "- **children** — количество детей в семье\n",
    "- **days_employed** — общий трудовой стаж в днях\n",
    "- **dob_years** — возраст клиента в годах\n",
    "- **education** — уровень образования клиента\n",
    "- **education_id** — идентификатор уровня образования\n",
    "- **family_status** — семейное положение\n",
    "- **family_status_id** — идентификатор семейного положения\n",
    "- **gender** — пол клиента\n",
    "- **income_type** — тип занятости\n",
    "- **debt** — имел ли задолженность по возврату кредитов\n",
    "- **total_income** — ежемесячный доход\n",
    "- **purpose** — цель получения кредита"
   ]
  },
  {
   "cell_type": "markdown",
   "id": "5a9b170b",
   "metadata": {},
   "source": [
    "**Цель исследования**\n",
    "\n",
    "Дать ответы на вопросы:\n",
    "- Есть ли зависимость между количеством детей и возвратом кредита в срок?\n",
    "- Есть ли зависимость между семейным положением и возвратом кредита в срок?\n",
    "- Есть ли зависимость между уровнем дохода и возвратом кредита в срок?\n",
    "- Как разные цели кредита влияют на его возврат в срок?\n",
    "- Приведите возможные причины появления пропусков в исходных данных.\n",
    "- Объясните, почему заполнить пропуски медианным значением — лучшее решение для количественных переменных.\n",
    "\n",
    "Основной бизнес целью  заказчика является - **расчет целесообразности выдачи кредита на основании имеющихся данных анкетирования**"
   ]
  },
  {
   "cell_type": "markdown",
   "id": "f09d6878",
   "metadata": {
    "deletable": false,
    "editable": false,
    "id": "f09d6878"
   },
   "source": [
    "Это первая часть проекта, она будет проверена автоматически. Вторую часть проверит ревьюер. "
   ]
  },
  {
   "cell_type": "markdown",
   "id": "516620ee",
   "metadata": {
    "deletable": false,
    "editable": false,
    "id": "516620ee"
   },
   "source": [
    "## Откройте таблицу и изучите общую информацию о данных"
   ]
  },
  {
   "cell_type": "markdown",
   "id": "76a8a9ce",
   "metadata": {
    "deletable": false,
    "editable": false,
    "id": "76a8a9ce",
    "tags": [
     "start_task"
    ]
   },
   "source": [
    "**Задание 1. Импортируйте библиотеку pandas. Считайте данные из csv-файла в датафрейм и сохраните в переменную `data`. Путь к файлу:**\n",
    "\n",
    "`/datasets/data.csv`"
   ]
  },
  {
   "cell_type": "code",
   "execution_count": 1,
   "id": "fab207d0",
   "metadata": {
    "id": "fab207d0"
   },
   "outputs": [],
   "source": [
    "# импортируем необходимые библиотеки используя конструкцию try-except\n",
    "try:\n",
    "    import pandas as pd # библиотека для работы с табличными данными\n",
    "    import matplotlib.pyplot as plt # модуль для создания графиков и диаграмм\n",
    "    import seaborn as sns # библиотека, построенная на основе Matplotlib для визуализации данных.\n",
    "    import numpy as np # библиотека для научных вычислений\n",
    "    import missingno as msno # модуль для визуализации отсутствующих значений \n",
    "except Exception as e:\n",
    "    # выведем сообщение об ошибке, с указанием ошибки\n",
    "    print(\"Ошибка при загрузке библиотеки missingno: pip install missingno!  \", e) \n",
    "    "
   ]
  },
  {
   "cell_type": "code",
   "execution_count": 2,
   "id": "f32f32a8",
   "metadata": {},
   "outputs": [],
   "source": [
    "# убираем назойливые предупреждения 'warnings', оставим на память, может пригодиться\n",
    "#import warnings\n",
    "#warnings.simplefilter(action='ignore', category=Warning)"
   ]
  },
  {
   "cell_type": "code",
   "execution_count": null,
   "id": "6c82b607",
   "metadata": {
    "id": "6c82b607"
   },
   "outputs": [],
   "source": [
    "# прочитаем csv-файл, используя конструкцию try-except для предотвращения возникновения ошибки при попытке чтения файла\n",
    "try:\n",
    "    data = pd.read_csv('data.csv')\n",
    "except:\n",
    "    data = pd.read_csv('datasets/data.csv')"
   ]
  },
  {
   "cell_type": "markdown",
   "id": "08bbb5b3",
   "metadata": {
    "deletable": false,
    "editable": false,
    "id": "08bbb5b3",
    "tags": [
     "start_task"
    ]
   },
   "source": [
    "**Задание 2. Выведите первые 20 строчек датафрейма `data` на экран.**"
   ]
  },
  {
   "cell_type": "code",
   "execution_count": 4,
   "id": "4ff33b36",
   "metadata": {
    "id": "4ff33b36"
   },
   "outputs": [
    {
     "data": {
      "text/html": [
       "<div>\n",
       "<style scoped>\n",
       "    .dataframe tbody tr th:only-of-type {\n",
       "        vertical-align: middle;\n",
       "    }\n",
       "\n",
       "    .dataframe tbody tr th {\n",
       "        vertical-align: top;\n",
       "    }\n",
       "\n",
       "    .dataframe thead th {\n",
       "        text-align: right;\n",
       "    }\n",
       "</style>\n",
       "<table border=\"1\" class=\"dataframe\">\n",
       "  <thead>\n",
       "    <tr style=\"text-align: right;\">\n",
       "      <th></th>\n",
       "      <th>children</th>\n",
       "      <th>days_employed</th>\n",
       "      <th>dob_years</th>\n",
       "      <th>education</th>\n",
       "      <th>education_id</th>\n",
       "      <th>family_status</th>\n",
       "      <th>family_status_id</th>\n",
       "      <th>gender</th>\n",
       "      <th>income_type</th>\n",
       "      <th>debt</th>\n",
       "      <th>total_income</th>\n",
       "      <th>purpose</th>\n",
       "    </tr>\n",
       "  </thead>\n",
       "  <tbody>\n",
       "    <tr>\n",
       "      <th>0</th>\n",
       "      <td>1</td>\n",
       "      <td>-8437.673028</td>\n",
       "      <td>42</td>\n",
       "      <td>высшее</td>\n",
       "      <td>0</td>\n",
       "      <td>женат / замужем</td>\n",
       "      <td>0</td>\n",
       "      <td>F</td>\n",
       "      <td>сотрудник</td>\n",
       "      <td>0</td>\n",
       "      <td>253875.639453</td>\n",
       "      <td>покупка жилья</td>\n",
       "    </tr>\n",
       "    <tr>\n",
       "      <th>1</th>\n",
       "      <td>1</td>\n",
       "      <td>-4024.803754</td>\n",
       "      <td>36</td>\n",
       "      <td>среднее</td>\n",
       "      <td>1</td>\n",
       "      <td>женат / замужем</td>\n",
       "      <td>0</td>\n",
       "      <td>F</td>\n",
       "      <td>сотрудник</td>\n",
       "      <td>0</td>\n",
       "      <td>112080.014102</td>\n",
       "      <td>приобретение автомобиля</td>\n",
       "    </tr>\n",
       "    <tr>\n",
       "      <th>2</th>\n",
       "      <td>0</td>\n",
       "      <td>-5623.422610</td>\n",
       "      <td>33</td>\n",
       "      <td>Среднее</td>\n",
       "      <td>1</td>\n",
       "      <td>женат / замужем</td>\n",
       "      <td>0</td>\n",
       "      <td>M</td>\n",
       "      <td>сотрудник</td>\n",
       "      <td>0</td>\n",
       "      <td>145885.952297</td>\n",
       "      <td>покупка жилья</td>\n",
       "    </tr>\n",
       "    <tr>\n",
       "      <th>3</th>\n",
       "      <td>3</td>\n",
       "      <td>-4124.747207</td>\n",
       "      <td>32</td>\n",
       "      <td>среднее</td>\n",
       "      <td>1</td>\n",
       "      <td>женат / замужем</td>\n",
       "      <td>0</td>\n",
       "      <td>M</td>\n",
       "      <td>сотрудник</td>\n",
       "      <td>0</td>\n",
       "      <td>267628.550329</td>\n",
       "      <td>дополнительное образование</td>\n",
       "    </tr>\n",
       "    <tr>\n",
       "      <th>4</th>\n",
       "      <td>0</td>\n",
       "      <td>340266.072047</td>\n",
       "      <td>53</td>\n",
       "      <td>среднее</td>\n",
       "      <td>1</td>\n",
       "      <td>гражданский брак</td>\n",
       "      <td>1</td>\n",
       "      <td>F</td>\n",
       "      <td>пенсионер</td>\n",
       "      <td>0</td>\n",
       "      <td>158616.077870</td>\n",
       "      <td>сыграть свадьбу</td>\n",
       "    </tr>\n",
       "    <tr>\n",
       "      <th>5</th>\n",
       "      <td>0</td>\n",
       "      <td>-926.185831</td>\n",
       "      <td>27</td>\n",
       "      <td>высшее</td>\n",
       "      <td>0</td>\n",
       "      <td>гражданский брак</td>\n",
       "      <td>1</td>\n",
       "      <td>M</td>\n",
       "      <td>компаньон</td>\n",
       "      <td>0</td>\n",
       "      <td>255763.565419</td>\n",
       "      <td>покупка жилья</td>\n",
       "    </tr>\n",
       "    <tr>\n",
       "      <th>6</th>\n",
       "      <td>0</td>\n",
       "      <td>-2879.202052</td>\n",
       "      <td>43</td>\n",
       "      <td>высшее</td>\n",
       "      <td>0</td>\n",
       "      <td>женат / замужем</td>\n",
       "      <td>0</td>\n",
       "      <td>F</td>\n",
       "      <td>компаньон</td>\n",
       "      <td>0</td>\n",
       "      <td>240525.971920</td>\n",
       "      <td>операции с жильем</td>\n",
       "    </tr>\n",
       "    <tr>\n",
       "      <th>7</th>\n",
       "      <td>0</td>\n",
       "      <td>-152.779569</td>\n",
       "      <td>50</td>\n",
       "      <td>СРЕДНЕЕ</td>\n",
       "      <td>1</td>\n",
       "      <td>женат / замужем</td>\n",
       "      <td>0</td>\n",
       "      <td>M</td>\n",
       "      <td>сотрудник</td>\n",
       "      <td>0</td>\n",
       "      <td>135823.934197</td>\n",
       "      <td>образование</td>\n",
       "    </tr>\n",
       "    <tr>\n",
       "      <th>8</th>\n",
       "      <td>2</td>\n",
       "      <td>-6929.865299</td>\n",
       "      <td>35</td>\n",
       "      <td>ВЫСШЕЕ</td>\n",
       "      <td>0</td>\n",
       "      <td>гражданский брак</td>\n",
       "      <td>1</td>\n",
       "      <td>F</td>\n",
       "      <td>сотрудник</td>\n",
       "      <td>0</td>\n",
       "      <td>95856.832424</td>\n",
       "      <td>на проведение свадьбы</td>\n",
       "    </tr>\n",
       "    <tr>\n",
       "      <th>9</th>\n",
       "      <td>0</td>\n",
       "      <td>-2188.756445</td>\n",
       "      <td>41</td>\n",
       "      <td>среднее</td>\n",
       "      <td>1</td>\n",
       "      <td>женат / замужем</td>\n",
       "      <td>0</td>\n",
       "      <td>M</td>\n",
       "      <td>сотрудник</td>\n",
       "      <td>0</td>\n",
       "      <td>144425.938277</td>\n",
       "      <td>покупка жилья для семьи</td>\n",
       "    </tr>\n",
       "    <tr>\n",
       "      <th>10</th>\n",
       "      <td>2</td>\n",
       "      <td>-4171.483647</td>\n",
       "      <td>36</td>\n",
       "      <td>высшее</td>\n",
       "      <td>0</td>\n",
       "      <td>женат / замужем</td>\n",
       "      <td>0</td>\n",
       "      <td>M</td>\n",
       "      <td>компаньон</td>\n",
       "      <td>0</td>\n",
       "      <td>113943.491460</td>\n",
       "      <td>покупка недвижимости</td>\n",
       "    </tr>\n",
       "    <tr>\n",
       "      <th>11</th>\n",
       "      <td>0</td>\n",
       "      <td>-792.701887</td>\n",
       "      <td>40</td>\n",
       "      <td>среднее</td>\n",
       "      <td>1</td>\n",
       "      <td>женат / замужем</td>\n",
       "      <td>0</td>\n",
       "      <td>F</td>\n",
       "      <td>сотрудник</td>\n",
       "      <td>0</td>\n",
       "      <td>77069.234271</td>\n",
       "      <td>покупка коммерческой недвижимости</td>\n",
       "    </tr>\n",
       "    <tr>\n",
       "      <th>12</th>\n",
       "      <td>0</td>\n",
       "      <td>NaN</td>\n",
       "      <td>65</td>\n",
       "      <td>среднее</td>\n",
       "      <td>1</td>\n",
       "      <td>гражданский брак</td>\n",
       "      <td>1</td>\n",
       "      <td>M</td>\n",
       "      <td>пенсионер</td>\n",
       "      <td>0</td>\n",
       "      <td>NaN</td>\n",
       "      <td>сыграть свадьбу</td>\n",
       "    </tr>\n",
       "    <tr>\n",
       "      <th>13</th>\n",
       "      <td>0</td>\n",
       "      <td>-1846.641941</td>\n",
       "      <td>54</td>\n",
       "      <td>неоконченное высшее</td>\n",
       "      <td>2</td>\n",
       "      <td>женат / замужем</td>\n",
       "      <td>0</td>\n",
       "      <td>F</td>\n",
       "      <td>сотрудник</td>\n",
       "      <td>0</td>\n",
       "      <td>130458.228857</td>\n",
       "      <td>приобретение автомобиля</td>\n",
       "    </tr>\n",
       "    <tr>\n",
       "      <th>14</th>\n",
       "      <td>0</td>\n",
       "      <td>-1844.956182</td>\n",
       "      <td>56</td>\n",
       "      <td>высшее</td>\n",
       "      <td>0</td>\n",
       "      <td>гражданский брак</td>\n",
       "      <td>1</td>\n",
       "      <td>F</td>\n",
       "      <td>компаньон</td>\n",
       "      <td>1</td>\n",
       "      <td>165127.911772</td>\n",
       "      <td>покупка жилой недвижимости</td>\n",
       "    </tr>\n",
       "    <tr>\n",
       "      <th>15</th>\n",
       "      <td>1</td>\n",
       "      <td>-972.364419</td>\n",
       "      <td>26</td>\n",
       "      <td>среднее</td>\n",
       "      <td>1</td>\n",
       "      <td>женат / замужем</td>\n",
       "      <td>0</td>\n",
       "      <td>F</td>\n",
       "      <td>сотрудник</td>\n",
       "      <td>0</td>\n",
       "      <td>116820.904450</td>\n",
       "      <td>строительство собственной недвижимости</td>\n",
       "    </tr>\n",
       "    <tr>\n",
       "      <th>16</th>\n",
       "      <td>0</td>\n",
       "      <td>-1719.934226</td>\n",
       "      <td>35</td>\n",
       "      <td>среднее</td>\n",
       "      <td>1</td>\n",
       "      <td>женат / замужем</td>\n",
       "      <td>0</td>\n",
       "      <td>F</td>\n",
       "      <td>сотрудник</td>\n",
       "      <td>0</td>\n",
       "      <td>289202.704229</td>\n",
       "      <td>недвижимость</td>\n",
       "    </tr>\n",
       "    <tr>\n",
       "      <th>17</th>\n",
       "      <td>0</td>\n",
       "      <td>-2369.999720</td>\n",
       "      <td>33</td>\n",
       "      <td>высшее</td>\n",
       "      <td>0</td>\n",
       "      <td>гражданский брак</td>\n",
       "      <td>1</td>\n",
       "      <td>M</td>\n",
       "      <td>сотрудник</td>\n",
       "      <td>0</td>\n",
       "      <td>90410.586745</td>\n",
       "      <td>строительство недвижимости</td>\n",
       "    </tr>\n",
       "    <tr>\n",
       "      <th>18</th>\n",
       "      <td>0</td>\n",
       "      <td>400281.136913</td>\n",
       "      <td>53</td>\n",
       "      <td>среднее</td>\n",
       "      <td>1</td>\n",
       "      <td>вдовец / вдова</td>\n",
       "      <td>2</td>\n",
       "      <td>F</td>\n",
       "      <td>пенсионер</td>\n",
       "      <td>0</td>\n",
       "      <td>56823.777243</td>\n",
       "      <td>на покупку подержанного автомобиля</td>\n",
       "    </tr>\n",
       "    <tr>\n",
       "      <th>19</th>\n",
       "      <td>0</td>\n",
       "      <td>-10038.818549</td>\n",
       "      <td>48</td>\n",
       "      <td>СРЕДНЕЕ</td>\n",
       "      <td>1</td>\n",
       "      <td>в разводе</td>\n",
       "      <td>3</td>\n",
       "      <td>F</td>\n",
       "      <td>сотрудник</td>\n",
       "      <td>0</td>\n",
       "      <td>242831.107982</td>\n",
       "      <td>на покупку своего автомобиля</td>\n",
       "    </tr>\n",
       "  </tbody>\n",
       "</table>\n",
       "</div>"
      ],
      "text/plain": [
       "    children  days_employed  dob_years            education  education_id  \\\n",
       "0          1   -8437.673028         42               высшее             0   \n",
       "1          1   -4024.803754         36              среднее             1   \n",
       "2          0   -5623.422610         33              Среднее             1   \n",
       "3          3   -4124.747207         32              среднее             1   \n",
       "4          0  340266.072047         53              среднее             1   \n",
       "5          0    -926.185831         27               высшее             0   \n",
       "6          0   -2879.202052         43               высшее             0   \n",
       "7          0    -152.779569         50              СРЕДНЕЕ             1   \n",
       "8          2   -6929.865299         35               ВЫСШЕЕ             0   \n",
       "9          0   -2188.756445         41              среднее             1   \n",
       "10         2   -4171.483647         36               высшее             0   \n",
       "11         0    -792.701887         40              среднее             1   \n",
       "12         0            NaN         65              среднее             1   \n",
       "13         0   -1846.641941         54  неоконченное высшее             2   \n",
       "14         0   -1844.956182         56               высшее             0   \n",
       "15         1    -972.364419         26              среднее             1   \n",
       "16         0   -1719.934226         35              среднее             1   \n",
       "17         0   -2369.999720         33               высшее             0   \n",
       "18         0  400281.136913         53              среднее             1   \n",
       "19         0  -10038.818549         48              СРЕДНЕЕ             1   \n",
       "\n",
       "       family_status  family_status_id gender income_type  debt  \\\n",
       "0    женат / замужем                 0      F   сотрудник     0   \n",
       "1    женат / замужем                 0      F   сотрудник     0   \n",
       "2    женат / замужем                 0      M   сотрудник     0   \n",
       "3    женат / замужем                 0      M   сотрудник     0   \n",
       "4   гражданский брак                 1      F   пенсионер     0   \n",
       "5   гражданский брак                 1      M   компаньон     0   \n",
       "6    женат / замужем                 0      F   компаньон     0   \n",
       "7    женат / замужем                 0      M   сотрудник     0   \n",
       "8   гражданский брак                 1      F   сотрудник     0   \n",
       "9    женат / замужем                 0      M   сотрудник     0   \n",
       "10   женат / замужем                 0      M   компаньон     0   \n",
       "11   женат / замужем                 0      F   сотрудник     0   \n",
       "12  гражданский брак                 1      M   пенсионер     0   \n",
       "13   женат / замужем                 0      F   сотрудник     0   \n",
       "14  гражданский брак                 1      F   компаньон     1   \n",
       "15   женат / замужем                 0      F   сотрудник     0   \n",
       "16   женат / замужем                 0      F   сотрудник     0   \n",
       "17  гражданский брак                 1      M   сотрудник     0   \n",
       "18    вдовец / вдова                 2      F   пенсионер     0   \n",
       "19         в разводе                 3      F   сотрудник     0   \n",
       "\n",
       "     total_income                                 purpose  \n",
       "0   253875.639453                           покупка жилья  \n",
       "1   112080.014102                 приобретение автомобиля  \n",
       "2   145885.952297                           покупка жилья  \n",
       "3   267628.550329              дополнительное образование  \n",
       "4   158616.077870                         сыграть свадьбу  \n",
       "5   255763.565419                           покупка жилья  \n",
       "6   240525.971920                       операции с жильем  \n",
       "7   135823.934197                             образование  \n",
       "8    95856.832424                   на проведение свадьбы  \n",
       "9   144425.938277                 покупка жилья для семьи  \n",
       "10  113943.491460                    покупка недвижимости  \n",
       "11   77069.234271       покупка коммерческой недвижимости  \n",
       "12            NaN                         сыграть свадьбу  \n",
       "13  130458.228857                 приобретение автомобиля  \n",
       "14  165127.911772              покупка жилой недвижимости  \n",
       "15  116820.904450  строительство собственной недвижимости  \n",
       "16  289202.704229                            недвижимость  \n",
       "17   90410.586745              строительство недвижимости  \n",
       "18   56823.777243      на покупку подержанного автомобиля  \n",
       "19  242831.107982            на покупку своего автомобиля  "
      ]
     },
     "execution_count": 4,
     "metadata": {},
     "output_type": "execute_result"
    }
   ],
   "source": [
    "# выведем первые 20 строчек для ознакомления с содержанием датафрейма\n",
    "data.head(20)"
   ]
  },
  {
   "cell_type": "markdown",
   "id": "c8f382ae",
   "metadata": {
    "deletable": false,
    "editable": false,
    "id": "c8f382ae",
    "tags": [
     "start_task"
    ]
   },
   "source": [
    "**Задание 3. Выведите основную информацию о датафрейме с помощью метода `info()`.**"
   ]
  },
  {
   "cell_type": "code",
   "execution_count": 5,
   "id": "e1ed9908",
   "metadata": {
    "id": "e1ed9908"
   },
   "outputs": [
    {
     "name": "stdout",
     "output_type": "stream",
     "text": [
      "<class 'pandas.core.frame.DataFrame'>\n",
      "RangeIndex: 21525 entries, 0 to 21524\n",
      "Data columns (total 12 columns):\n",
      " #   Column            Non-Null Count  Dtype  \n",
      "---  ------            --------------  -----  \n",
      " 0   children          21525 non-null  int64  \n",
      " 1   days_employed     19351 non-null  float64\n",
      " 2   dob_years         21525 non-null  int64  \n",
      " 3   education         21525 non-null  object \n",
      " 4   education_id      21525 non-null  int64  \n",
      " 5   family_status     21525 non-null  object \n",
      " 6   family_status_id  21525 non-null  int64  \n",
      " 7   gender            21525 non-null  object \n",
      " 8   income_type       21525 non-null  object \n",
      " 9   debt              21525 non-null  int64  \n",
      " 10  total_income      19351 non-null  float64\n",
      " 11  purpose           21525 non-null  object \n",
      "dtypes: float64(2), int64(5), object(5)\n",
      "memory usage: 2.0+ MB\n"
     ]
    }
   ],
   "source": [
    "# выведем информацию о датафрейме\n",
    "data.info()"
   ]
  },
  {
   "cell_type": "markdown",
   "id": "2eddc0f1",
   "metadata": {},
   "source": [
    "**Разберем пролученную информацию из краткого обзора датафрейма**"
   ]
  },
  {
   "cell_type": "markdown",
   "id": "7e0898fd",
   "metadata": {},
   "source": [
    "### **Категории данных**"
   ]
  },
  {
   "cell_type": "markdown",
   "id": "814a2c00",
   "metadata": {},
   "source": [
    "Данные в предоставленном датфрейме имеют следующие категории:\n",
    "\n",
    "|Наименование| Категория данных |\n",
    "| --- | --- |\n",
    "| children | Количественное значение |\n",
    "| days_employed | Количественное значение |\n",
    "| dob_years | Количественное значение |\n",
    "| education | Категориальное значение | \n",
    "| education_id | Категориальное значение | \n",
    "| family_status | Категориальное значение |\n",
    "| family_status_id | Категориальное значение |\n",
    "| gender | Категориальное значение |\n",
    "| income_type | Категориальное значение |\n",
    "| debt | Категориальное значение (булево)| \n",
    "| total_income | Количественное значение |\n",
    "| purpose | Категориальное значение |"
   ]
  },
  {
   "cell_type": "markdown",
   "id": "2ec43689",
   "metadata": {},
   "source": [
    "### **Аномалии**"
   ]
  },
  {
   "cell_type": "markdown",
   "id": "3d701657",
   "metadata": {},
   "source": [
    "В данных обнаружены артефакты (аномалии) — значения, которые не отражают действительность и появились по какой-то ошибке. Например, отрицательное количество дней трудового стажа или количество дней трудового стажа превышающее срок жизни человека в столбце **days_employed**."
   ]
  },
  {
   "cell_type": "markdown",
   "id": "b482da34",
   "metadata": {},
   "source": [
    "### **Дубликаты**"
   ]
  },
  {
   "cell_type": "markdown",
   "id": "ca8a4f8b",
   "metadata": {},
   "source": [
    "В данных обнаружены неявные дубликаты в столбце **education** - одни и те же значения, но записанные по-разному: с использованием заглавных и строчных букв."
   ]
  },
  {
   "cell_type": "markdown",
   "id": "6d953a6e",
   "metadata": {},
   "source": [
    "### **Пропуски и возможные причины их возниковения**"
   ]
  },
  {
   "cell_type": "markdown",
   "id": "e236fb9d",
   "metadata": {},
   "source": [
    "В двух столбцах есть пропущенные значения. Один из них — **days_employed** (общий трудовой стаж в днях), второй — **total_income** (ежемесячный доход)."
   ]
  },
  {
   "cell_type": "code",
   "execution_count": 6,
   "id": "a62a14fe",
   "metadata": {},
   "outputs": [],
   "source": [
    "# лишний код не добавляющий ценности проекту!\n",
    "# для повышения качества визуализации сделаем стиль графиков seaborn основным\n",
    "#sns.set()"
   ]
  },
  {
   "cell_type": "code",
   "execution_count": 7,
   "id": "0f729d18",
   "metadata": {
    "scrolled": false
   },
   "outputs": [],
   "source": [
    "# лишний код не добавляющий ценности проекту!\n",
    "# посмотрим на количества пропусков с помощью столбчатой диаграммы\n",
    "# в случае отстутствия необходимых библиотек загрузим изображение по прямой ссылке\n",
    "#try:\n",
    "#    msno.bar(data);\n",
    "#except Exception as e:\n",
    "#    print(\"Ошибка при загрузке библиотеки missingno: pip install missingno!  \", e)\n",
    "#    from IPython.display import Image\n",
    "#    display(Image(url='https://i.postimg.cc/6qvG8WNv/2024-04-27-14-26-30.png')) # отображаем изображение"
   ]
  },
  {
   "cell_type": "code",
   "execution_count": 8,
   "id": "e142518b",
   "metadata": {},
   "outputs": [
    {
     "data": {
      "text/plain": [
       "days_employed       0.101\n",
       "total_income        0.101\n",
       "children            0.000\n",
       "dob_years           0.000\n",
       "education           0.000\n",
       "education_id        0.000\n",
       "family_status       0.000\n",
       "family_status_id    0.000\n",
       "gender              0.000\n",
       "income_type         0.000\n",
       "debt                0.000\n",
       "purpose             0.000\n",
       "dtype: float64"
      ]
     },
     "execution_count": 8,
     "metadata": {},
     "output_type": "execute_result"
    }
   ],
   "source": [
    "# посмотрим на долю пропусков в столбцах\n",
    "data.isna().mean().sort_values(ascending=False).round(3)"
   ]
  },
  {
   "cell_type": "markdown",
   "id": "cba46890",
   "metadata": {},
   "source": [
    "*Количество пропусков по двум столбцам равно и составляет около 10 % от общего количества записей*"
   ]
  },
  {
   "cell_type": "code",
   "execution_count": 9,
   "id": "68437420",
   "metadata": {},
   "outputs": [
    {
     "data": {
      "image/png": "[encoded data removed]",
      "text/plain": [
       "<Figure size 2500x1000 with 2 Axes>"
      ]
     },
     "metadata": {},
     "output_type": "display_data"
    }
   ],
   "source": [
    "# для того что-бы определить существование в пропусках какой-то закономерности, построим матрицу пропущенных значений\n",
    "# (функция msno.matrix()).\n",
    "# в случае отстутствия необходимых библиотек загрузим изображение по прямой ссылке\n",
    "try:\n",
    "    msno.matrix(data)\n",
    "except Exception as e:\n",
    "    print(\"Ошибка при загрузке библиотеки missingno: pip install missingno!  \", e)\n",
    "    from IPython.display import Image\n",
    "    display(Image(url='https://i.postimg.cc/vmj8SDTx/2024-04-27-14-26-54.png'))"
   ]
  },
  {
   "cell_type": "markdown",
   "id": "bd78ae54",
   "metadata": {},
   "source": [
    "Из приведённой выше матрицы мы видим, что распределение пропущенных значений выглядит неслучайным, существует корреляция между пропущенными значениями в обоих столбцах и возможно существование зависимости от самого значения показателя.\n",
    "Отнесём пропуски к **неслучайным** (*missing not at random, MNAR*)\n",
    "\n",
    "**Возможной причиной  возниковения  пропусков в датасете - может являться желание респондента скрыть реальные доходы и стаж работы с целью увеличения шанса на одобрение кредита.**\n",
    "\n",
    "Для заполнения пропусков в данном проекте мы будем использовать заполнение внутригрупповым  медианным значением, этот метод имеет ряд приемуществ:\n",
    "\n",
    "- Медианное значение — это число, которое находится в середине числового ряда, если его упорядочить. Оно может помочь сохранить структуру данных, которая может исказиться при использовании других методов заполнения пропусков.\n",
    "\n",
    "- Медианное значение устойчиво к экстремальным значениям (выбросам), что делает его надёжным методом заполнения пропусков в данных.\n",
    "\n",
    "- Рассчитать медианное значение проще и быстрее, чем использовать более сложные методы анализа данных.\n",
    "\n",
    "- В отличие от среднего арифметического, медианное значение не влияет на среднее значение в наборе данных, даже если в нём есть пропуски."
   ]
  },
  {
   "cell_type": "markdown",
   "id": "1647c1da",
   "metadata": {},
   "source": [
    "### **Целевая переменная**"
   ]
  },
  {
   "cell_type": "markdown",
   "id": "936689cb",
   "metadata": {},
   "source": [
    "Целевой переменной с которой мы будем работать для определения зависимостей является переменная 'debt' - имел ли клиент задолженность по возврату кредитов."
   ]
  },
  {
   "cell_type": "code",
   "execution_count": 10,
   "id": "b8ebcd34",
   "metadata": {},
   "outputs": [
    {
     "data": {
      "text/plain": [
       "0.081"
      ]
     },
     "execution_count": 10,
     "metadata": {},
     "output_type": "execute_result"
    }
   ],
   "source": [
    "# определим количество клиентов имевших задолженность по возврату кредита\n",
    "# data['debt'].value_counts(normalize=True)\n",
    "data['debt'].mean().round(3)"
   ]
  },
  {
   "cell_type": "markdown",
   "id": "dddb4666",
   "metadata": {},
   "source": [
    "*Общее количество клиентов имевших задолженность по возврату кредита составляет около 8% от общего количества записей.*"
   ]
  },
  {
   "cell_type": "markdown",
   "id": "f969a1cd",
   "metadata": {
    "deletable": false,
    "editable": false,
    "id": "f969a1cd"
   },
   "source": [
    "## Предобработка данных"
   ]
  },
  {
   "cell_type": "markdown",
   "id": "7283e864",
   "metadata": {
    "deletable": false,
    "editable": false,
    "id": "7283e864"
   },
   "source": [
    "### Удаление пропусков"
   ]
  },
  {
   "cell_type": "markdown",
   "id": "c9a0745e",
   "metadata": {
    "deletable": false,
    "editable": false,
    "id": "c9a0745e",
    "tags": [
     "start_task"
    ]
   },
   "source": [
    "**Задание 4. Выведите количество пропущенных значений для каждого столбца. Используйте комбинацию двух методов.**"
   ]
  },
  {
   "cell_type": "code",
   "execution_count": 11,
   "id": "b7a096e1",
   "metadata": {
    "id": "b7a096e1"
   },
   "outputs": [
    {
     "data": {
      "text/plain": [
       "children               0\n",
       "days_employed       2174\n",
       "dob_years              0\n",
       "education              0\n",
       "education_id           0\n",
       "family_status          0\n",
       "family_status_id       0\n",
       "gender                 0\n",
       "income_type            0\n",
       "debt                   0\n",
       "total_income        2174\n",
       "purpose                0\n",
       "dtype: int64"
      ]
     },
     "execution_count": 11,
     "metadata": {},
     "output_type": "execute_result"
    }
   ],
   "source": [
    "# применим методы .isna() и .sum() к датафрейму\n",
    "data.isna().sum()"
   ]
  },
  {
   "cell_type": "markdown",
   "id": "c2578616",
   "metadata": {
    "deletable": false,
    "editable": false,
    "id": "c2578616",
    "tags": [
     "start_task"
    ]
   },
   "source": [
    "**Задание 5. В двух столбцах есть пропущенные значения. Один из них — `days_employed`. Пропуски в этом столбце вы обработаете на следующем этапе. Другой столбец с пропущенными значениями — `total_income` — хранит данные о доходах. На сумму дохода сильнее всего влияет тип занятости, поэтому заполнить пропуски в этом столбце нужно медианным значением по каждому типу из столбца `income_type`. Например, у человека с типом занятости `сотрудник` пропуск в столбце `total_income` должен быть заполнен медианным доходом среди всех записей с тем же типом.**"
   ]
  },
  {
   "cell_type": "code",
   "execution_count": 12,
   "id": "e8afc4bc",
   "metadata": {
    "id": "e8afc4bc"
   },
   "outputs": [
    {
     "data": {
      "text/plain": [
       "children               0\n",
       "days_employed       2174\n",
       "dob_years              0\n",
       "education              0\n",
       "education_id           0\n",
       "family_status          0\n",
       "family_status_id       0\n",
       "gender                 0\n",
       "income_type            0\n",
       "debt                   0\n",
       "total_income           0\n",
       "purpose                0\n",
       "dtype: int64"
      ]
     },
     "execution_count": 12,
     "metadata": {},
     "output_type": "execute_result"
    }
   ],
   "source": [
    "# перебираем каждый тип занятости в наборе уникальных значений столба income_type\n",
    "# на каждом шаге цикла с помощью атрибута loc выбираем строки,\n",
    "# в которых в income_type текущий тип занятости (d) и есть пропуски в total_income\n",
    "# и записываем в них среднее значение total_income среди строк с текущим типом занятости (d)# ваш код здесь\n",
    "for d in data['income_type'].unique():\n",
    "    data.loc[(data['income_type'] == d) & (data['total_income'].isna()), 'total_income'] = \\\n",
    "    data.loc[(data['income_type'] == d), 'total_income'].median()\n",
    "# Выполним проверку наличия пропусков в столбце total_income после заполнения медианным значением\n",
    "data.isna().sum()    "
   ]
  },
  {
   "cell_type": "markdown",
   "id": "ae986d46",
   "metadata": {
    "deletable": false,
    "editable": false,
    "id": "ae986d46"
   },
   "source": [
    "### Обработка аномальных значений"
   ]
  },
  {
   "cell_type": "markdown",
   "id": "b049cbae",
   "metadata": {
    "deletable": false,
    "editable": false,
    "id": "b049cbae",
    "tags": [
     "start_task"
    ]
   },
   "source": [
    "**Задание 6. В данных могут встречаться артефакты (аномалии) — значения, которые не отражают действительность и появились по какой-то ошибке. Таким артефактом будет отрицательное количество дней трудового стажа в столбце `days_employed`. Для реальных данных это нормально. Обработайте значения в этом столбце: замените все отрицательные значения положительными с помощью метода `abs()`.**"
   ]
  },
  {
   "cell_type": "code",
   "execution_count": 13,
   "id": "187779b0",
   "metadata": {
    "id": "187779b0"
   },
   "outputs": [],
   "source": [
    "# применим метод .abs() для приведения отрицательных к абсолютным значениям\n",
    "data['days_employed'] = data['days_employed'].abs()"
   ]
  },
  {
   "cell_type": "markdown",
   "id": "a13054c2",
   "metadata": {
    "deletable": false,
    "editable": false,
    "id": "a13054c2",
    "tags": [
     "start_task"
    ]
   },
   "source": [
    "**Задание 7. Для каждого типа занятости выведите медианное значение трудового стажа `days_employed` в днях.**"
   ]
  },
  {
   "cell_type": "code",
   "execution_count": 14,
   "id": "f3f5810c",
   "metadata": {
    "id": "f3f5810c"
   },
   "outputs": [
    {
     "data": {
      "text/html": [
       "<div>\n",
       "<style scoped>\n",
       "    .dataframe tbody tr th:only-of-type {\n",
       "        vertical-align: middle;\n",
       "    }\n",
       "\n",
       "    .dataframe tbody tr th {\n",
       "        vertical-align: top;\n",
       "    }\n",
       "\n",
       "    .dataframe thead th {\n",
       "        text-align: right;\n",
       "    }\n",
       "</style>\n",
       "<table border=\"1\" class=\"dataframe\">\n",
       "  <thead>\n",
       "    <tr style=\"text-align: right;\">\n",
       "      <th></th>\n",
       "      <th>median</th>\n",
       "      <th>count</th>\n",
       "    </tr>\n",
       "    <tr>\n",
       "      <th>income_type</th>\n",
       "      <th></th>\n",
       "      <th></th>\n",
       "    </tr>\n",
       "  </thead>\n",
       "  <tbody>\n",
       "    <tr>\n",
       "      <th>безработный</th>\n",
       "      <td>366413.652744</td>\n",
       "      <td>2</td>\n",
       "    </tr>\n",
       "    <tr>\n",
       "      <th>в декрете</th>\n",
       "      <td>3296.759962</td>\n",
       "      <td>1</td>\n",
       "    </tr>\n",
       "    <tr>\n",
       "      <th>госслужащий</th>\n",
       "      <td>2689.368353</td>\n",
       "      <td>1312</td>\n",
       "    </tr>\n",
       "    <tr>\n",
       "      <th>компаньон</th>\n",
       "      <td>1547.382223</td>\n",
       "      <td>4577</td>\n",
       "    </tr>\n",
       "    <tr>\n",
       "      <th>пенсионер</th>\n",
       "      <td>365213.306266</td>\n",
       "      <td>3443</td>\n",
       "    </tr>\n",
       "    <tr>\n",
       "      <th>предприниматель</th>\n",
       "      <td>520.848083</td>\n",
       "      <td>1</td>\n",
       "    </tr>\n",
       "    <tr>\n",
       "      <th>сотрудник</th>\n",
       "      <td>1574.202821</td>\n",
       "      <td>10014</td>\n",
       "    </tr>\n",
       "    <tr>\n",
       "      <th>студент</th>\n",
       "      <td>578.751554</td>\n",
       "      <td>1</td>\n",
       "    </tr>\n",
       "  </tbody>\n",
       "</table>\n",
       "</div>"
      ],
      "text/plain": [
       "                        median  count\n",
       "income_type                          \n",
       "безработный      366413.652744      2\n",
       "в декрете          3296.759962      1\n",
       "госслужащий        2689.368353   1312\n",
       "компаньон          1547.382223   4577\n",
       "пенсионер        365213.306266   3443\n",
       "предприниматель     520.848083      1\n",
       "сотрудник          1574.202821  10014\n",
       "студент             578.751554      1"
      ]
     },
     "execution_count": 14,
     "metadata": {},
     "output_type": "execute_result"
    }
   ],
   "source": [
    "# выполним группировку по столбцу с типом занятости и значенями трудового стажа\n",
    "data.groupby('income_type')['days_employed'].agg(['median', 'count'])"
   ]
  },
  {
   "cell_type": "markdown",
   "id": "dbc3168c",
   "metadata": {
    "deletable": false,
    "editable": false,
    "id": "dbc3168c"
   },
   "source": [
    "У двух типов (безработные и пенсионеры) получатся аномально большие значения. Исправить такие значения сложно, поэтому оставьте их как есть."
   ]
  },
  {
   "cell_type": "markdown",
   "id": "ff4378c2",
   "metadata": {
    "deletable": false,
    "editable": false,
    "id": "ff4378c2",
    "tags": [
     "start_task"
    ]
   },
   "source": [
    "**Задание 8. Выведите перечень уникальных значений столбца `children`.**"
   ]
  },
  {
   "cell_type": "code",
   "execution_count": 15,
   "id": "9bd0c232",
   "metadata": {
    "id": "9bd0c232"
   },
   "outputs": [
    {
     "data": {
      "text/plain": [
       "array([ 1,  0,  3,  2, -1,  4, 20,  5], dtype=int64)"
      ]
     },
     "execution_count": 15,
     "metadata": {},
     "output_type": "execute_result"
    }
   ],
   "source": [
    "# применим метод .unique() для отображения перечня уникальных значений\n",
    "data['children'].unique()"
   ]
  },
  {
   "cell_type": "markdown",
   "id": "e0ffd26b",
   "metadata": {},
   "source": [
    "*Обнаружены аномальные значения в столбце с количеством детей: -1, 20*"
   ]
  },
  {
   "cell_type": "markdown",
   "id": "8e911990",
   "metadata": {
    "deletable": false,
    "editable": false,
    "id": "8e911990",
    "tags": [
     "start_task"
    ]
   },
   "source": [
    "**Задание 9. В столбце `children` есть два аномальных значения. Удалите строки, в которых встречаются такие аномальные значения из датафрейма `data`.**"
   ]
  },
  {
   "cell_type": "code",
   "execution_count": 16,
   "id": "6d5ba289",
   "metadata": {
    "id": "6d5ba289"
   },
   "outputs": [],
   "source": [
    "# лишний код не добавляющий ценности проекту!\n",
    "# создадим переменную anomalies содержащую аномальные значения.\n",
    "# для удаления строк перезапишем датафрейм с помощью применения метода .drop(удалит указанные в аргументе значения),\n",
    "# метода .isin() которая используется в библиотеке pandas для проверки наличия значений в серии или в DataFrame.\n",
    "#anomalies = [-1, 20]\n",
    "#data = data.drop(data[data['children'].isin(anomalies)].index)\n",
    "\n",
    "# всё можно было сделать гораздо проще! перезапишем наш датафрейм с учетом значения логических операторов,\n",
    "# такой способ не требует создания дополнительной переменной.\n",
    "data = data[(data['children'] != -1) & (data['children'] != 20)]"
   ]
  },
  {
   "cell_type": "markdown",
   "id": "18d77455",
   "metadata": {
    "deletable": false,
    "editable": false,
    "id": "18d77455",
    "tags": [
     "start_task"
    ]
   },
   "source": [
    "**Задание 10. Ещё раз выведите перечень уникальных значений столбца `children`, чтобы убедиться, что артефакты удалены.**"
   ]
  },
  {
   "cell_type": "code",
   "execution_count": 17,
   "id": "2c5fa92c",
   "metadata": {
    "id": "2c5fa92c"
   },
   "outputs": [
    {
     "data": {
      "text/plain": [
       "array([1, 0, 3, 2, 4, 5], dtype=int64)"
      ]
     },
     "execution_count": 17,
     "metadata": {},
     "output_type": "execute_result"
    }
   ],
   "source": [
    "data['children'].unique()"
   ]
  },
  {
   "cell_type": "code",
   "execution_count": 18,
   "id": "4d13d94d",
   "metadata": {},
   "outputs": [
    {
     "data": {
      "text/plain": [
       "array([42, 36, 33, 32, 53, 27, 43, 50, 35, 41, 40, 65, 54, 56, 26, 48, 24,\n",
       "       21, 57, 67, 28, 63, 62, 47, 34, 68, 25, 31, 30, 20, 49, 37, 45, 61,\n",
       "       64, 44, 52, 46, 23, 38, 39, 51,  0, 59, 29, 60, 55, 58, 71, 22, 73,\n",
       "       66, 69, 19, 72, 70, 74, 75], dtype=int64)"
      ]
     },
     "execution_count": 18,
     "metadata": {},
     "output_type": "execute_result"
    }
   ],
   "source": [
    "# применим метод .unique() для отображения перечня уникальных значений в столбце с возрастом клиентов\n",
    "data['dob_years'].unique()"
   ]
  },
  {
   "cell_type": "markdown",
   "id": "701e266b",
   "metadata": {},
   "source": [
    "*Обнаружены аномальные значения в столбце с возрастом клиентов равные 0.*"
   ]
  },
  {
   "cell_type": "markdown",
   "id": "0ec07dee",
   "metadata": {
    "deletable": false,
    "editable": false,
    "id": "0ec07dee"
   },
   "source": [
    "### Удаление пропусков (продолжение)"
   ]
  },
  {
   "cell_type": "markdown",
   "id": "0fc3ae3f",
   "metadata": {
    "deletable": false,
    "editable": false,
    "id": "0fc3ae3f",
    "tags": [
     "start_task"
    ]
   },
   "source": [
    "**Задание 11. Заполните пропуски в столбце `days_employed` медианными значениями по каждому типу занятости `income_type`.**"
   ]
  },
  {
   "cell_type": "code",
   "execution_count": 19,
   "id": "e2aea7ac",
   "metadata": {
    "id": "e2aea7ac"
   },
   "outputs": [],
   "source": [
    "# перебирём каждый тип занятости в наборе уникальных значений столцба income_type\n",
    "# на каждом шаге цикла с помощью атрибута loc выбираем строки,\n",
    "# в которых в income_type текущий тип занятости (d) и есть пропуски в total_income\n",
    " # и записываем в них среднее значение total_income среди строк с текущим типом занятости (d)# ваш код здесь\n",
    "for d in data['income_type'].unique():\n",
    "    data.loc[(data['income_type'] == d) & (data['days_employed'].isna()), 'days_employed'] = \\\n",
    "    data.loc[(data['income_type'] == d), 'days_employed'].median()\n",
    " "
   ]
  },
  {
   "cell_type": "markdown",
   "id": "97b0b795",
   "metadata": {
    "deletable": false,
    "editable": false,
    "id": "97b0b795",
    "tags": [
     "start_task"
    ]
   },
   "source": [
    "**Задание 12. Убедитесь, что все пропуски заполнены. Проверьте себя и ещё раз выведите количество пропущенных значений для каждого столбца с помощью двух методов.**"
   ]
  },
  {
   "cell_type": "code",
   "execution_count": 20,
   "id": "79632a21",
   "metadata": {
    "id": "79632a21"
   },
   "outputs": [
    {
     "data": {
      "text/plain": [
       "children            0\n",
       "days_employed       0\n",
       "dob_years           0\n",
       "education           0\n",
       "education_id        0\n",
       "family_status       0\n",
       "family_status_id    0\n",
       "gender              0\n",
       "income_type         0\n",
       "debt                0\n",
       "total_income        0\n",
       "purpose             0\n",
       "dtype: int64"
      ]
     },
     "execution_count": 20,
     "metadata": {},
     "output_type": "execute_result"
    }
   ],
   "source": [
    "# выполним проверку наличия пропусков в датафрейме\n",
    "data.isna().sum()"
   ]
  },
  {
   "cell_type": "markdown",
   "id": "e6f031ca",
   "metadata": {},
   "source": [
    "### **Обработка аномальных значений (продолжение)**"
   ]
  },
  {
   "cell_type": "markdown",
   "id": "df02561a",
   "metadata": {},
   "source": [
    "В двух столбцах нашего датафрейма остались аномальные значения:\n",
    "   - в столбце **days_employed** медианное значение трудового стажа для безработных и пенсионеров составляет более 365000 дней, что cоответсвует значению более 1000 лет;\n",
    "   - в столбце **dob_years** присутствует значения возраста клиентов равное 0.\n",
    "\n",
    "Мы не можем поступить с данными значениями по аналогии со столбцом **children**, так как удаление строк с аномальными значениями, окажет влияние на результат исследования поставленных вопросов.\n",
    "\n",
    "Сами же аномальные значения в данных столбцах не оказывают прямого влияния на проверку интересующих нас гипотез, но могут иметь значение для построения модели кредитного скоринга, что является основной задачей заказчика (**расчет целесообразности выдачи кредита на основании имеющихся данных анкетирования**)."
   ]
  },
  {
   "cell_type": "markdown",
   "id": "b8b1a85f",
   "metadata": {},
   "source": [
    "*Что можно сделать?* \n",
    "\n",
    "*Оба столбца имеют корреляцию друг с другом, чем больше возраст клиента тем вероятнее всего больше дней трудового стажа.\n",
    "Попробуем заменить имеющиеся аномальные значения на среднегрупповые медианные.*\n",
    "\n",
    "*Первым делом заменим значения равные нулю в столбце с возрастом клиентов*"
   ]
  },
  {
   "cell_type": "code",
   "execution_count": 21,
   "id": "31a40e56",
   "metadata": {},
   "outputs": [
    {
     "data": {
      "text/plain": [
       "100"
      ]
     },
     "execution_count": 21,
     "metadata": {},
     "output_type": "execute_result"
    }
   ],
   "source": [
    "# заменим значения на пропуски и проверим результат\n",
    "data.loc[data['dob_years'] == 0, 'dob_years'] = np.nan\n",
    "data['dob_years'].isna().sum()"
   ]
  },
  {
   "cell_type": "code",
   "execution_count": 22,
   "id": "2b0809c7",
   "metadata": {},
   "outputs": [
    {
     "data": {
      "text/plain": [
       "array([42., 36., 33., 32., 53., 27., 43., 50., 35., 41., 40., 65., 54.,\n",
       "       56., 26., 48., 24., 21., 57., 67., 28., 63., 62., 47., 34., 68.,\n",
       "       25., 31., 30., 20., 49., 37., 45., 61., 64., 44., 52., 46., 23.,\n",
       "       38., 39., 51., 60., 59., 29., 55., 58., 71., 22., 73., 66., 69.,\n",
       "       19., 72., 70., 74., 75.])"
      ]
     },
     "execution_count": 22,
     "metadata": {},
     "output_type": "execute_result"
    }
   ],
   "source": [
    "# по аналогии с предыдущими столбцами используем цикл для замены пропусков\n",
    "for d in data['income_type'].unique():\n",
    "    data.loc[(data['income_type'] == d) & (data['dob_years'].isna()), 'dob_years'] = \\\n",
    "    data.loc[(data['income_type'] == d), 'dob_years'].median()\n",
    "# проверим результат\n",
    "data['dob_years'].unique()"
   ]
  },
  {
   "cell_type": "markdown",
   "id": "7f0f15e3",
   "metadata": {},
   "source": [
    "*Мы заменили аномальные значения в столбце значения **dob_years** на среднегрупповые по типу занятости, теперь можем занятся столбцом **days_employed**, средние значения будем брать из возрастных категорий, для этого добавим столбец **age_group** в котором разделим клиентов по возрасту*"
   ]
  },
  {
   "cell_type": "code",
   "execution_count": 23,
   "id": "2aac3012",
   "metadata": {},
   "outputs": [],
   "source": [
    "# с помощью метода .cut добавим столбец в котором разделим клиентов на возрастные группы\n",
    "data['age_group'] = pd.cut(\n",
    "\n",
    "    data['dob_years'], # наименование столбца\n",
    "\n",
    "    bins=[0, 18, 30, 40, 50, 60, 2000], # границы возрастных групп\n",
    "\n",
    "    labels=['<18', '18-30', '30-40', '40-50', '50-60', '60+'] # названия возрастных групп\n",
    ")"
   ]
  },
  {
   "cell_type": "markdown",
   "id": "588c47f8",
   "metadata": {},
   "source": [
    "*Определим какие значения стоит считать аномальными.*"
   ]
  },
  {
   "cell_type": "code",
   "execution_count": 24,
   "id": "7177914a",
   "metadata": {},
   "outputs": [
    {
     "data": {
      "text/plain": [
       "array([8437.67302776, 4024.80375385, 5623.42261023, ..., 2113.3468877 ,\n",
       "       3112.4817052 , 1984.50758853])"
      ]
     },
     "execution_count": 24,
     "metadata": {},
     "output_type": "execute_result"
    }
   ],
   "source": [
    "# применение метода .unique не позволяет увидеть полную картину, ввиду большого количества значений\n",
    "data['days_employed'].unique()"
   ]
  },
  {
   "cell_type": "markdown",
   "id": "deb7b4ea",
   "metadata": {},
   "source": [
    "*Предположим что все значения выше 18000 ~ 50 лет трудового стажа можно считать аномальными.*"
   ]
  },
  {
   "cell_type": "code",
   "execution_count": 25,
   "id": "777084b2",
   "metadata": {},
   "outputs": [
    {
     "data": {
      "text/html": [
       "<div>\n",
       "<style scoped>\n",
       "    .dataframe tbody tr th:only-of-type {\n",
       "        vertical-align: middle;\n",
       "    }\n",
       "\n",
       "    .dataframe tbody tr th {\n",
       "        vertical-align: top;\n",
       "    }\n",
       "\n",
       "    .dataframe thead th {\n",
       "        text-align: right;\n",
       "    }\n",
       "</style>\n",
       "<table border=\"1\" class=\"dataframe\">\n",
       "  <thead>\n",
       "    <tr style=\"text-align: right;\">\n",
       "      <th></th>\n",
       "      <th>index</th>\n",
       "      <th>days_employed_group</th>\n",
       "    </tr>\n",
       "  </thead>\n",
       "  <tbody>\n",
       "    <tr>\n",
       "      <th>0</th>\n",
       "      <td>normal</td>\n",
       "      <td>0.820531</td>\n",
       "    </tr>\n",
       "    <tr>\n",
       "      <th>1</th>\n",
       "      <td>anomaly</td>\n",
       "      <td>0.179469</td>\n",
       "    </tr>\n",
       "  </tbody>\n",
       "</table>\n",
       "</div>"
      ],
      "text/plain": [
       "     index  days_employed_group\n",
       "0   normal             0.820531\n",
       "1  anomaly             0.179469"
      ]
     },
     "execution_count": 25,
     "metadata": {},
     "output_type": "execute_result"
    }
   ],
   "source": [
    "# для проверки с помощью метода .cut добавим столбец в котором разделим на две категории : нормальные и аномальные значения\n",
    "data['days_employed_group'] = pd.cut(\n",
    "\n",
    "    data['days_employed'],\n",
    "\n",
    "   bins=[0, 19000, 2000000], # границы возрастных групп\n",
    "    labels=['normal',  'anomaly'] # названия возрастных групп\n",
    ")\n",
    "# отобразим  аномальные значения с сортировкой чтобы убедится в том, что в список попали только аномальные значения\n",
    "#data.loc[data['days_employed_group'] == 'anomaly'].sort_values('days_employed').head()\n",
    "# в список попало значение  18388 >50 лет трудового стажа, старт карьеры в 11 лет, \n",
    "# допустим и изменим значение границы на 19000\n",
    "# отобразим количество и долю аномальных значений в столбце days_employed\n",
    "data['days_employed_group'].value_counts(normalize=True).reset_index()"
   ]
  },
  {
   "cell_type": "markdown",
   "id": "33127a77",
   "metadata": {},
   "source": [
    "*Количество аномальных значений составляет около 18% процентов от общего*"
   ]
  },
  {
   "cell_type": "code",
   "execution_count": 26,
   "id": "4876c869",
   "metadata": {},
   "outputs": [
    {
     "data": {
      "text/plain": [
       "3841"
      ]
     },
     "execution_count": 26,
     "metadata": {},
     "output_type": "execute_result"
    }
   ],
   "source": [
    "# заменим значения на пропуски и проверим результат\n",
    "data.loc[data['days_employed'] > 19000, 'days_employed'] = np.nan\n",
    "data['days_employed'].isna().sum()"
   ]
  },
  {
   "cell_type": "code",
   "execution_count": 27,
   "id": "4fba1616",
   "metadata": {},
   "outputs": [
    {
     "data": {
      "text/html": [
       "<div>\n",
       "<style scoped>\n",
       "    .dataframe tbody tr th:only-of-type {\n",
       "        vertical-align: middle;\n",
       "    }\n",
       "\n",
       "    .dataframe tbody tr th {\n",
       "        vertical-align: top;\n",
       "    }\n",
       "\n",
       "    .dataframe thead th {\n",
       "        text-align: right;\n",
       "    }\n",
       "</style>\n",
       "<table border=\"1\" class=\"dataframe\">\n",
       "  <thead>\n",
       "    <tr style=\"text-align: right;\">\n",
       "      <th></th>\n",
       "      <th>count</th>\n",
       "      <th>median</th>\n",
       "    </tr>\n",
       "    <tr>\n",
       "      <th>age_group</th>\n",
       "      <th></th>\n",
       "      <th></th>\n",
       "    </tr>\n",
       "  </thead>\n",
       "  <tbody>\n",
       "    <tr>\n",
       "      <th>&lt;18</th>\n",
       "      <td>0</td>\n",
       "      <td>NaN</td>\n",
       "    </tr>\n",
       "    <tr>\n",
       "      <th>18-30</th>\n",
       "      <td>3705</td>\n",
       "      <td>1177.801697</td>\n",
       "    </tr>\n",
       "    <tr>\n",
       "      <th>30-40</th>\n",
       "      <td>5784</td>\n",
       "      <td>1572.328285</td>\n",
       "    </tr>\n",
       "    <tr>\n",
       "      <th>40-50</th>\n",
       "      <td>5241</td>\n",
       "      <td>1828.799871</td>\n",
       "    </tr>\n",
       "    <tr>\n",
       "      <th>50-60</th>\n",
       "      <td>4540</td>\n",
       "      <td>1968.453705</td>\n",
       "    </tr>\n",
       "    <tr>\n",
       "      <th>60+</th>\n",
       "      <td>2132</td>\n",
       "      <td>2285.039430</td>\n",
       "    </tr>\n",
       "  </tbody>\n",
       "</table>\n",
       "</div>"
      ],
      "text/plain": [
       "           count       median\n",
       "age_group                    \n",
       "<18            0          NaN\n",
       "18-30       3705  1177.801697\n",
       "30-40       5784  1572.328285\n",
       "40-50       5241  1828.799871\n",
       "50-60       4540  1968.453705\n",
       "60+         2132  2285.039430"
      ]
     },
     "execution_count": 27,
     "metadata": {},
     "output_type": "execute_result"
    }
   ],
   "source": [
    "# по аналогии с предыдущими столбцами используем цикл для замены пропусков и проверим результат\n",
    "for d in data['age_group'].unique():\n",
    "    data.loc[(data['age_group'] == d) & (data['days_employed'].isna()), 'days_employed'] = \\\n",
    "    data.loc[(data['age_group'] == d), 'days_employed'].median()\n",
    "# сформируем сводную таблицу методом .groupby\n",
    "data.groupby('age_group')['days_employed'].agg(['count','median'])"
   ]
  },
  {
   "cell_type": "markdown",
   "id": "5d5986c9",
   "metadata": {},
   "source": [
    "Мы внесли изменения в значения столбцов **days_employed** и **dob_years**\n",
    "\n",
    "Внесённые нами изменения в значения датафрейма безусловно искажают реальные данные, но есть и ряд приемуществ:\n",
    "- они не влияют на решение поставленных вопросов; \n",
    "- применения метод замены на среднегрупповое значение мы сохраняем структуру данных, что позволяет оценить влияние этих переменных на целувую *debt*, для построения модели кредитного скоринга."
   ]
  },
  {
   "cell_type": "markdown",
   "id": "bd4aeb20",
   "metadata": {
    "deletable": false,
    "editable": false,
    "id": "bd4aeb20"
   },
   "source": [
    "### Изменение типов данных"
   ]
  },
  {
   "cell_type": "markdown",
   "id": "963bfa58",
   "metadata": {
    "deletable": false,
    "editable": false,
    "id": "963bfa58",
    "tags": [
     "start_task"
    ]
   },
   "source": [
    "**Задание 13. Замените вещественный тип данных в столбце `total_income` на целочисленный с помощью метода `astype()`.**"
   ]
  },
  {
   "cell_type": "code",
   "execution_count": 28,
   "id": "73da6ea0",
   "metadata": {
    "id": "73da6ea0"
   },
   "outputs": [],
   "source": [
    "# применим метод .astype(), который позволяет преобразовать значения в столбцах датафрейма к определённому типу данных.\n",
    "data['total_income'] = data['total_income'].astype('int')"
   ]
  },
  {
   "cell_type": "markdown",
   "id": "d290239e",
   "metadata": {
    "deletable": false,
    "editable": false,
    "id": "d290239e"
   },
   "source": [
    "### Обработка дубликатов"
   ]
  },
  {
   "cell_type": "markdown",
   "id": "1b5844fd",
   "metadata": {
    "deletable": false,
    "editable": false,
    "id": "1b5844fd",
    "tags": [
     "start_task"
    ]
   },
   "source": [
    "**Задание 14. Обработайте неявные дубликаты в столбце `education`. В этом столбце есть одни и те же значения, но записанные по-разному: с использованием заглавных и строчных букв. Приведите их к нижнему регистру.**"
   ]
  },
  {
   "cell_type": "code",
   "execution_count": 29,
   "id": "3f2504b3",
   "metadata": {
    "id": "3f2504b3"
   },
   "outputs": [],
   "source": [
    "# применим метод .str.lower() для преобразования всех символов строки в нижний регистр.\n",
    "data['education'] = data['education'].str.lower()"
   ]
  },
  {
   "cell_type": "markdown",
   "id": "4c22acbc",
   "metadata": {
    "deletable": false,
    "editable": false,
    "id": "4c22acbc",
    "tags": [
     "start_task"
    ]
   },
   "source": [
    "**Задание 15. Выведите на экран количество строк-дубликатов в данных. Если такие строки присутствуют, удалите их.**"
   ]
  },
  {
   "cell_type": "code",
   "execution_count": 30,
   "id": "d34a4325",
   "metadata": {
    "id": "d34a4325"
   },
   "outputs": [
    {
     "data": {
      "text/plain": [
       "71"
      ]
     },
     "execution_count": 30,
     "metadata": {},
     "output_type": "execute_result"
    }
   ],
   "source": [
    "# посчитаем количество явных дубликатов \n",
    "data.duplicated().sum()"
   ]
  },
  {
   "cell_type": "code",
   "execution_count": 31,
   "id": "6e1a6499",
   "metadata": {
    "id": "6e1a6499"
   },
   "outputs": [],
   "source": [
    "# удалим дубликаты с применением метода .drop_duplicates()\n",
    "data = data.drop_duplicates()"
   ]
  },
  {
   "cell_type": "markdown",
   "id": "e5686ccc",
   "metadata": {
    "deletable": false,
    "editable": false,
    "id": "e5686ccc"
   },
   "source": [
    "### Категоризация данных"
   ]
  },
  {
   "cell_type": "markdown",
   "id": "0e8fabe7",
   "metadata": {},
   "source": [
    "#### Категоризация по размерам доходов."
   ]
  },
  {
   "cell_type": "markdown",
   "id": "636e9acd",
   "metadata": {
    "deletable": false,
    "editable": false,
    "id": "636e9acd",
    "tags": [
     "start_task"
    ]
   },
   "source": [
    "**Задание 16. На основании диапазонов, указанных ниже, создайте в датафрейме `data` столбец `total_income_category` с категориями:**\n",
    "\n",
    "- 0–30000 — `'E'`;\n",
    "- 30001–50000 — `'D'`;\n",
    "- 50001–200000 — `'C'`;\n",
    "- 200001–1000000 — `'B'`;\n",
    "- 1000001 и выше — `'A'`.\n",
    "\n",
    "\n",
    "**Например, кредитополучателю с доходом 25000 нужно назначить категорию `'E'`, а клиенту, получающему 235000, — `'B'`. Используйте собственную функцию с именем `categorize_income()` и метод `apply()`.**"
   ]
  },
  {
   "cell_type": "code",
   "execution_count": 32,
   "id": "880a77e5",
   "metadata": {
    "id": "880a77e5"
   },
   "outputs": [],
   "source": [
    "# создадим функцию categorize_income() с применением логических условий и применением конструкции try-except \n",
    "def categorize_income(income):\n",
    "    try:\n",
    "        if 0 <= income <= 30000:\n",
    "            return 'E'\n",
    "        elif 30001 <= income  <= 50000:\n",
    "            return 'D'\n",
    "        elif 50001 <= income  <= 200000:\n",
    "            return 'C'\n",
    "        elif 200001 <= income  <= 1000000:\n",
    "            return 'B'\n",
    "        elif income >= 1000001: \n",
    "            return 'A'\n",
    "    except:\n",
    "        return \"Error\""
   ]
  },
  {
   "cell_type": "code",
   "execution_count": 33,
   "id": "6f25f161",
   "metadata": {
    "id": "6f25f161"
   },
   "outputs": [
    {
     "data": {
      "text/html": [
       "<div>\n",
       "<style scoped>\n",
       "    .dataframe tbody tr th:only-of-type {\n",
       "        vertical-align: middle;\n",
       "    }\n",
       "\n",
       "    .dataframe tbody tr th {\n",
       "        vertical-align: top;\n",
       "    }\n",
       "\n",
       "    .dataframe thead th {\n",
       "        text-align: right;\n",
       "    }\n",
       "</style>\n",
       "<table border=\"1\" class=\"dataframe\">\n",
       "  <thead>\n",
       "    <tr style=\"text-align: right;\">\n",
       "      <th></th>\n",
       "      <th>children</th>\n",
       "      <th>days_employed</th>\n",
       "      <th>dob_years</th>\n",
       "      <th>education</th>\n",
       "      <th>education_id</th>\n",
       "      <th>family_status</th>\n",
       "      <th>family_status_id</th>\n",
       "      <th>gender</th>\n",
       "      <th>income_type</th>\n",
       "      <th>debt</th>\n",
       "      <th>total_income</th>\n",
       "      <th>purpose</th>\n",
       "      <th>age_group</th>\n",
       "      <th>days_employed_group</th>\n",
       "      <th>total_income_category</th>\n",
       "    </tr>\n",
       "  </thead>\n",
       "  <tbody>\n",
       "    <tr>\n",
       "      <th>0</th>\n",
       "      <td>1</td>\n",
       "      <td>8437.673028</td>\n",
       "      <td>42.0</td>\n",
       "      <td>высшее</td>\n",
       "      <td>0</td>\n",
       "      <td>женат / замужем</td>\n",
       "      <td>0</td>\n",
       "      <td>F</td>\n",
       "      <td>сотрудник</td>\n",
       "      <td>0</td>\n",
       "      <td>253875</td>\n",
       "      <td>покупка жилья</td>\n",
       "      <td>40-50</td>\n",
       "      <td>normal</td>\n",
       "      <td>B</td>\n",
       "    </tr>\n",
       "    <tr>\n",
       "      <th>1</th>\n",
       "      <td>1</td>\n",
       "      <td>4024.803754</td>\n",
       "      <td>36.0</td>\n",
       "      <td>среднее</td>\n",
       "      <td>1</td>\n",
       "      <td>женат / замужем</td>\n",
       "      <td>0</td>\n",
       "      <td>F</td>\n",
       "      <td>сотрудник</td>\n",
       "      <td>0</td>\n",
       "      <td>112080</td>\n",
       "      <td>приобретение автомобиля</td>\n",
       "      <td>30-40</td>\n",
       "      <td>normal</td>\n",
       "      <td>C</td>\n",
       "    </tr>\n",
       "    <tr>\n",
       "      <th>2</th>\n",
       "      <td>0</td>\n",
       "      <td>5623.422610</td>\n",
       "      <td>33.0</td>\n",
       "      <td>среднее</td>\n",
       "      <td>1</td>\n",
       "      <td>женат / замужем</td>\n",
       "      <td>0</td>\n",
       "      <td>M</td>\n",
       "      <td>сотрудник</td>\n",
       "      <td>0</td>\n",
       "      <td>145885</td>\n",
       "      <td>покупка жилья</td>\n",
       "      <td>30-40</td>\n",
       "      <td>normal</td>\n",
       "      <td>C</td>\n",
       "    </tr>\n",
       "    <tr>\n",
       "      <th>3</th>\n",
       "      <td>3</td>\n",
       "      <td>4124.747207</td>\n",
       "      <td>32.0</td>\n",
       "      <td>среднее</td>\n",
       "      <td>1</td>\n",
       "      <td>женат / замужем</td>\n",
       "      <td>0</td>\n",
       "      <td>M</td>\n",
       "      <td>сотрудник</td>\n",
       "      <td>0</td>\n",
       "      <td>267628</td>\n",
       "      <td>дополнительное образование</td>\n",
       "      <td>30-40</td>\n",
       "      <td>normal</td>\n",
       "      <td>B</td>\n",
       "    </tr>\n",
       "    <tr>\n",
       "      <th>4</th>\n",
       "      <td>0</td>\n",
       "      <td>1968.453705</td>\n",
       "      <td>53.0</td>\n",
       "      <td>среднее</td>\n",
       "      <td>1</td>\n",
       "      <td>гражданский брак</td>\n",
       "      <td>1</td>\n",
       "      <td>F</td>\n",
       "      <td>пенсионер</td>\n",
       "      <td>0</td>\n",
       "      <td>158616</td>\n",
       "      <td>сыграть свадьбу</td>\n",
       "      <td>50-60</td>\n",
       "      <td>anomaly</td>\n",
       "      <td>C</td>\n",
       "    </tr>\n",
       "    <tr>\n",
       "      <th>...</th>\n",
       "      <td>...</td>\n",
       "      <td>...</td>\n",
       "      <td>...</td>\n",
       "      <td>...</td>\n",
       "      <td>...</td>\n",
       "      <td>...</td>\n",
       "      <td>...</td>\n",
       "      <td>...</td>\n",
       "      <td>...</td>\n",
       "      <td>...</td>\n",
       "      <td>...</td>\n",
       "      <td>...</td>\n",
       "      <td>...</td>\n",
       "      <td>...</td>\n",
       "      <td>...</td>\n",
       "    </tr>\n",
       "    <tr>\n",
       "      <th>21520</th>\n",
       "      <td>1</td>\n",
       "      <td>4529.316663</td>\n",
       "      <td>43.0</td>\n",
       "      <td>среднее</td>\n",
       "      <td>1</td>\n",
       "      <td>гражданский брак</td>\n",
       "      <td>1</td>\n",
       "      <td>F</td>\n",
       "      <td>компаньон</td>\n",
       "      <td>0</td>\n",
       "      <td>224791</td>\n",
       "      <td>операции с жильем</td>\n",
       "      <td>40-50</td>\n",
       "      <td>normal</td>\n",
       "      <td>B</td>\n",
       "    </tr>\n",
       "    <tr>\n",
       "      <th>21521</th>\n",
       "      <td>0</td>\n",
       "      <td>2285.039430</td>\n",
       "      <td>67.0</td>\n",
       "      <td>среднее</td>\n",
       "      <td>1</td>\n",
       "      <td>женат / замужем</td>\n",
       "      <td>0</td>\n",
       "      <td>F</td>\n",
       "      <td>пенсионер</td>\n",
       "      <td>0</td>\n",
       "      <td>155999</td>\n",
       "      <td>сделка с автомобилем</td>\n",
       "      <td>60+</td>\n",
       "      <td>anomaly</td>\n",
       "      <td>C</td>\n",
       "    </tr>\n",
       "    <tr>\n",
       "      <th>21522</th>\n",
       "      <td>1</td>\n",
       "      <td>2113.346888</td>\n",
       "      <td>38.0</td>\n",
       "      <td>среднее</td>\n",
       "      <td>1</td>\n",
       "      <td>гражданский брак</td>\n",
       "      <td>1</td>\n",
       "      <td>M</td>\n",
       "      <td>сотрудник</td>\n",
       "      <td>1</td>\n",
       "      <td>89672</td>\n",
       "      <td>недвижимость</td>\n",
       "      <td>30-40</td>\n",
       "      <td>normal</td>\n",
       "      <td>C</td>\n",
       "    </tr>\n",
       "    <tr>\n",
       "      <th>21523</th>\n",
       "      <td>3</td>\n",
       "      <td>3112.481705</td>\n",
       "      <td>38.0</td>\n",
       "      <td>среднее</td>\n",
       "      <td>1</td>\n",
       "      <td>женат / замужем</td>\n",
       "      <td>0</td>\n",
       "      <td>M</td>\n",
       "      <td>сотрудник</td>\n",
       "      <td>1</td>\n",
       "      <td>244093</td>\n",
       "      <td>на покупку своего автомобиля</td>\n",
       "      <td>30-40</td>\n",
       "      <td>normal</td>\n",
       "      <td>B</td>\n",
       "    </tr>\n",
       "    <tr>\n",
       "      <th>21524</th>\n",
       "      <td>2</td>\n",
       "      <td>1984.507589</td>\n",
       "      <td>40.0</td>\n",
       "      <td>среднее</td>\n",
       "      <td>1</td>\n",
       "      <td>женат / замужем</td>\n",
       "      <td>0</td>\n",
       "      <td>F</td>\n",
       "      <td>сотрудник</td>\n",
       "      <td>0</td>\n",
       "      <td>82047</td>\n",
       "      <td>на покупку автомобиля</td>\n",
       "      <td>30-40</td>\n",
       "      <td>normal</td>\n",
       "      <td>C</td>\n",
       "    </tr>\n",
       "  </tbody>\n",
       "</table>\n",
       "<p>21331 rows × 15 columns</p>\n",
       "</div>"
      ],
      "text/plain": [
       "       children  days_employed  dob_years education  education_id  \\\n",
       "0             1    8437.673028       42.0    высшее             0   \n",
       "1             1    4024.803754       36.0   среднее             1   \n",
       "2             0    5623.422610       33.0   среднее             1   \n",
       "3             3    4124.747207       32.0   среднее             1   \n",
       "4             0    1968.453705       53.0   среднее             1   \n",
       "...         ...            ...        ...       ...           ...   \n",
       "21520         1    4529.316663       43.0   среднее             1   \n",
       "21521         0    2285.039430       67.0   среднее             1   \n",
       "21522         1    2113.346888       38.0   среднее             1   \n",
       "21523         3    3112.481705       38.0   среднее             1   \n",
       "21524         2    1984.507589       40.0   среднее             1   \n",
       "\n",
       "          family_status  family_status_id gender income_type  debt  \\\n",
       "0       женат / замужем                 0      F   сотрудник     0   \n",
       "1       женат / замужем                 0      F   сотрудник     0   \n",
       "2       женат / замужем                 0      M   сотрудник     0   \n",
       "3       женат / замужем                 0      M   сотрудник     0   \n",
       "4      гражданский брак                 1      F   пенсионер     0   \n",
       "...                 ...               ...    ...         ...   ...   \n",
       "21520  гражданский брак                 1      F   компаньон     0   \n",
       "21521   женат / замужем                 0      F   пенсионер     0   \n",
       "21522  гражданский брак                 1      M   сотрудник     1   \n",
       "21523   женат / замужем                 0      M   сотрудник     1   \n",
       "21524   женат / замужем                 0      F   сотрудник     0   \n",
       "\n",
       "       total_income                       purpose age_group  \\\n",
       "0            253875                 покупка жилья     40-50   \n",
       "1            112080       приобретение автомобиля     30-40   \n",
       "2            145885                 покупка жилья     30-40   \n",
       "3            267628    дополнительное образование     30-40   \n",
       "4            158616               сыграть свадьбу     50-60   \n",
       "...             ...                           ...       ...   \n",
       "21520        224791             операции с жильем     40-50   \n",
       "21521        155999          сделка с автомобилем       60+   \n",
       "21522         89672                  недвижимость     30-40   \n",
       "21523        244093  на покупку своего автомобиля     30-40   \n",
       "21524         82047         на покупку автомобиля     30-40   \n",
       "\n",
       "      days_employed_group total_income_category  \n",
       "0                  normal                     B  \n",
       "1                  normal                     C  \n",
       "2                  normal                     C  \n",
       "3                  normal                     B  \n",
       "4                 anomaly                     C  \n",
       "...                   ...                   ...  \n",
       "21520              normal                     B  \n",
       "21521             anomaly                     C  \n",
       "21522              normal                     C  \n",
       "21523              normal                     B  \n",
       "21524              normal                     C  \n",
       "\n",
       "[21331 rows x 15 columns]"
      ]
     },
     "execution_count": 33,
     "metadata": {},
     "output_type": "execute_result"
    }
   ],
   "source": [
    "# применим функцию методом apply() и отобразим результат\n",
    "data['total_income_category'] = data['total_income'].apply(categorize_income)\n",
    "data"
   ]
  },
  {
   "cell_type": "markdown",
   "id": "3363b685",
   "metadata": {
    "deletable": false,
    "editable": false,
    "id": "3363b685",
    "tags": [
     "start_task"
    ]
   },
   "source": [
    "**Задание 17. Выведите на экран перечень уникальных целей взятия кредита из столбца `purpose`.**"
   ]
  },
  {
   "cell_type": "code",
   "execution_count": 34,
   "id": "e59f2c15",
   "metadata": {
    "id": "e59f2c15"
   },
   "outputs": [
    {
     "data": {
      "text/plain": [
       "array(['покупка жилья', 'приобретение автомобиля',\n",
       "       'дополнительное образование', 'сыграть свадьбу',\n",
       "       'операции с жильем', 'образование', 'на проведение свадьбы',\n",
       "       'покупка жилья для семьи', 'покупка недвижимости',\n",
       "       'покупка коммерческой недвижимости', 'покупка жилой недвижимости',\n",
       "       'строительство собственной недвижимости', 'недвижимость',\n",
       "       'строительство недвижимости', 'на покупку подержанного автомобиля',\n",
       "       'на покупку своего автомобиля',\n",
       "       'операции с коммерческой недвижимостью',\n",
       "       'строительство жилой недвижимости', 'жилье',\n",
       "       'операции со своей недвижимостью', 'автомобили',\n",
       "       'заняться образованием', 'сделка с подержанным автомобилем',\n",
       "       'получение образования', 'автомобиль', 'свадьба',\n",
       "       'получение дополнительного образования', 'покупка своего жилья',\n",
       "       'операции с недвижимостью', 'получение высшего образования',\n",
       "       'свой автомобиль', 'сделка с автомобилем',\n",
       "       'профильное образование', 'высшее образование',\n",
       "       'покупка жилья для сдачи', 'на покупку автомобиля', 'ремонт жилью',\n",
       "       'заняться высшим образованием'], dtype=object)"
      ]
     },
     "execution_count": 34,
     "metadata": {},
     "output_type": "execute_result"
    }
   ],
   "source": [
    "# применим метод .unique() для отображения уникальных значений\n",
    "data['purpose'].unique()"
   ]
  },
  {
   "cell_type": "markdown",
   "id": "d3301de9",
   "metadata": {},
   "source": [
    "#### Категоризация по цели кредита.\n",
    "\n",
    "**Для категоризации клиентов по цели кредита, необходимо учесть наличие неявных дубликатов в столбце с целью кредита.**\n",
    "\n",
    "**Внесение всех вариантов в тело функции будет слишком длительным и громостким решением.**"
   ]
  },
  {
   "cell_type": "markdown",
   "id": "bb33e847",
   "metadata": {
    "deletable": false,
    "editable": false,
    "id": "bb33e847",
    "tags": [
     "start_task"
    ]
   },
   "source": [
    "**Задание 18. Создайте функцию, которая на основании данных из столбца `purpose` сформирует новый столбец `purpose_category`, в который войдут следующие категории:**\n",
    "\n",
    "- `'операции с автомобилем'`,\n",
    "- `'операции с недвижимостью'`,\n",
    "- `'проведение свадьбы'`,\n",
    "- `'получение образования'`.\n",
    "\n",
    "**Например, если в столбце `purpose` находится подстрока `'на покупку автомобиля'`, то в столбце `purpose_category` должна появиться строка `'операции с автомобилем'`.**\n",
    "\n",
    "**Используйте собственную функцию с именем `categorize_purpose()` и метод `apply()`. Изучите данные в столбце `purpose` и определите, какие подстроки помогут вам правильно определить категорию.**"
   ]
  },
  {
   "cell_type": "code",
   "execution_count": 35,
   "id": "63909b83",
   "metadata": {
    "id": "63909b83"
   },
   "outputs": [],
   "source": [
    "# создадим функцию categorize_purpose() с применением конструкции try-except которая пройдется по каждому элементу столбца \n",
    "# purpose и проверит наличие строк в его значениях.\n",
    "def categorize_purpose(purpose):\n",
    "    try:\n",
    "        if 'авто' in purpose: \n",
    "            return 'операции с автомобилем'\n",
    "        elif 'свадьб' in purpose: \n",
    "            return 'проведение свадьбы'\n",
    "        elif 'образован' in purpose: \n",
    "            return 'получение образования'\n",
    "        elif 'жиль' in purpose or 'недвижим' in purpose:\n",
    "            return 'операция с недвижимостью'\n",
    "    except:\n",
    "        return 'операция не определена'\n",
    "        "
   ]
  },
  {
   "cell_type": "code",
   "execution_count": 36,
   "id": "7cb4a81d",
   "metadata": {
    "id": "7cb4a81d"
   },
   "outputs": [
    {
     "data": {
      "text/html": [
       "<div>\n",
       "<style scoped>\n",
       "    .dataframe tbody tr th:only-of-type {\n",
       "        vertical-align: middle;\n",
       "    }\n",
       "\n",
       "    .dataframe tbody tr th {\n",
       "        vertical-align: top;\n",
       "    }\n",
       "\n",
       "    .dataframe thead th {\n",
       "        text-align: right;\n",
       "    }\n",
       "</style>\n",
       "<table border=\"1\" class=\"dataframe\">\n",
       "  <thead>\n",
       "    <tr style=\"text-align: right;\">\n",
       "      <th></th>\n",
       "      <th>children</th>\n",
       "      <th>days_employed</th>\n",
       "      <th>dob_years</th>\n",
       "      <th>education</th>\n",
       "      <th>education_id</th>\n",
       "      <th>family_status</th>\n",
       "      <th>family_status_id</th>\n",
       "      <th>gender</th>\n",
       "      <th>income_type</th>\n",
       "      <th>debt</th>\n",
       "      <th>total_income</th>\n",
       "      <th>purpose</th>\n",
       "      <th>age_group</th>\n",
       "      <th>days_employed_group</th>\n",
       "      <th>total_income_category</th>\n",
       "      <th>purpose_category</th>\n",
       "    </tr>\n",
       "  </thead>\n",
       "  <tbody>\n",
       "    <tr>\n",
       "      <th>0</th>\n",
       "      <td>1</td>\n",
       "      <td>8437.673028</td>\n",
       "      <td>42.0</td>\n",
       "      <td>высшее</td>\n",
       "      <td>0</td>\n",
       "      <td>женат / замужем</td>\n",
       "      <td>0</td>\n",
       "      <td>F</td>\n",
       "      <td>сотрудник</td>\n",
       "      <td>0</td>\n",
       "      <td>253875</td>\n",
       "      <td>покупка жилья</td>\n",
       "      <td>40-50</td>\n",
       "      <td>normal</td>\n",
       "      <td>B</td>\n",
       "      <td>операция с недвижимостью</td>\n",
       "    </tr>\n",
       "    <tr>\n",
       "      <th>1</th>\n",
       "      <td>1</td>\n",
       "      <td>4024.803754</td>\n",
       "      <td>36.0</td>\n",
       "      <td>среднее</td>\n",
       "      <td>1</td>\n",
       "      <td>женат / замужем</td>\n",
       "      <td>0</td>\n",
       "      <td>F</td>\n",
       "      <td>сотрудник</td>\n",
       "      <td>0</td>\n",
       "      <td>112080</td>\n",
       "      <td>приобретение автомобиля</td>\n",
       "      <td>30-40</td>\n",
       "      <td>normal</td>\n",
       "      <td>C</td>\n",
       "      <td>операции с автомобилем</td>\n",
       "    </tr>\n",
       "    <tr>\n",
       "      <th>2</th>\n",
       "      <td>0</td>\n",
       "      <td>5623.422610</td>\n",
       "      <td>33.0</td>\n",
       "      <td>среднее</td>\n",
       "      <td>1</td>\n",
       "      <td>женат / замужем</td>\n",
       "      <td>0</td>\n",
       "      <td>M</td>\n",
       "      <td>сотрудник</td>\n",
       "      <td>0</td>\n",
       "      <td>145885</td>\n",
       "      <td>покупка жилья</td>\n",
       "      <td>30-40</td>\n",
       "      <td>normal</td>\n",
       "      <td>C</td>\n",
       "      <td>операция с недвижимостью</td>\n",
       "    </tr>\n",
       "    <tr>\n",
       "      <th>3</th>\n",
       "      <td>3</td>\n",
       "      <td>4124.747207</td>\n",
       "      <td>32.0</td>\n",
       "      <td>среднее</td>\n",
       "      <td>1</td>\n",
       "      <td>женат / замужем</td>\n",
       "      <td>0</td>\n",
       "      <td>M</td>\n",
       "      <td>сотрудник</td>\n",
       "      <td>0</td>\n",
       "      <td>267628</td>\n",
       "      <td>дополнительное образование</td>\n",
       "      <td>30-40</td>\n",
       "      <td>normal</td>\n",
       "      <td>B</td>\n",
       "      <td>получение образования</td>\n",
       "    </tr>\n",
       "    <tr>\n",
       "      <th>4</th>\n",
       "      <td>0</td>\n",
       "      <td>1968.453705</td>\n",
       "      <td>53.0</td>\n",
       "      <td>среднее</td>\n",
       "      <td>1</td>\n",
       "      <td>гражданский брак</td>\n",
       "      <td>1</td>\n",
       "      <td>F</td>\n",
       "      <td>пенсионер</td>\n",
       "      <td>0</td>\n",
       "      <td>158616</td>\n",
       "      <td>сыграть свадьбу</td>\n",
       "      <td>50-60</td>\n",
       "      <td>anomaly</td>\n",
       "      <td>C</td>\n",
       "      <td>проведение свадьбы</td>\n",
       "    </tr>\n",
       "    <tr>\n",
       "      <th>...</th>\n",
       "      <td>...</td>\n",
       "      <td>...</td>\n",
       "      <td>...</td>\n",
       "      <td>...</td>\n",
       "      <td>...</td>\n",
       "      <td>...</td>\n",
       "      <td>...</td>\n",
       "      <td>...</td>\n",
       "      <td>...</td>\n",
       "      <td>...</td>\n",
       "      <td>...</td>\n",
       "      <td>...</td>\n",
       "      <td>...</td>\n",
       "      <td>...</td>\n",
       "      <td>...</td>\n",
       "      <td>...</td>\n",
       "    </tr>\n",
       "    <tr>\n",
       "      <th>21520</th>\n",
       "      <td>1</td>\n",
       "      <td>4529.316663</td>\n",
       "      <td>43.0</td>\n",
       "      <td>среднее</td>\n",
       "      <td>1</td>\n",
       "      <td>гражданский брак</td>\n",
       "      <td>1</td>\n",
       "      <td>F</td>\n",
       "      <td>компаньон</td>\n",
       "      <td>0</td>\n",
       "      <td>224791</td>\n",
       "      <td>операции с жильем</td>\n",
       "      <td>40-50</td>\n",
       "      <td>normal</td>\n",
       "      <td>B</td>\n",
       "      <td>операция с недвижимостью</td>\n",
       "    </tr>\n",
       "    <tr>\n",
       "      <th>21521</th>\n",
       "      <td>0</td>\n",
       "      <td>2285.039430</td>\n",
       "      <td>67.0</td>\n",
       "      <td>среднее</td>\n",
       "      <td>1</td>\n",
       "      <td>женат / замужем</td>\n",
       "      <td>0</td>\n",
       "      <td>F</td>\n",
       "      <td>пенсионер</td>\n",
       "      <td>0</td>\n",
       "      <td>155999</td>\n",
       "      <td>сделка с автомобилем</td>\n",
       "      <td>60+</td>\n",
       "      <td>anomaly</td>\n",
       "      <td>C</td>\n",
       "      <td>операции с автомобилем</td>\n",
       "    </tr>\n",
       "    <tr>\n",
       "      <th>21522</th>\n",
       "      <td>1</td>\n",
       "      <td>2113.346888</td>\n",
       "      <td>38.0</td>\n",
       "      <td>среднее</td>\n",
       "      <td>1</td>\n",
       "      <td>гражданский брак</td>\n",
       "      <td>1</td>\n",
       "      <td>M</td>\n",
       "      <td>сотрудник</td>\n",
       "      <td>1</td>\n",
       "      <td>89672</td>\n",
       "      <td>недвижимость</td>\n",
       "      <td>30-40</td>\n",
       "      <td>normal</td>\n",
       "      <td>C</td>\n",
       "      <td>операция с недвижимостью</td>\n",
       "    </tr>\n",
       "    <tr>\n",
       "      <th>21523</th>\n",
       "      <td>3</td>\n",
       "      <td>3112.481705</td>\n",
       "      <td>38.0</td>\n",
       "      <td>среднее</td>\n",
       "      <td>1</td>\n",
       "      <td>женат / замужем</td>\n",
       "      <td>0</td>\n",
       "      <td>M</td>\n",
       "      <td>сотрудник</td>\n",
       "      <td>1</td>\n",
       "      <td>244093</td>\n",
       "      <td>на покупку своего автомобиля</td>\n",
       "      <td>30-40</td>\n",
       "      <td>normal</td>\n",
       "      <td>B</td>\n",
       "      <td>операции с автомобилем</td>\n",
       "    </tr>\n",
       "    <tr>\n",
       "      <th>21524</th>\n",
       "      <td>2</td>\n",
       "      <td>1984.507589</td>\n",
       "      <td>40.0</td>\n",
       "      <td>среднее</td>\n",
       "      <td>1</td>\n",
       "      <td>женат / замужем</td>\n",
       "      <td>0</td>\n",
       "      <td>F</td>\n",
       "      <td>сотрудник</td>\n",
       "      <td>0</td>\n",
       "      <td>82047</td>\n",
       "      <td>на покупку автомобиля</td>\n",
       "      <td>30-40</td>\n",
       "      <td>normal</td>\n",
       "      <td>C</td>\n",
       "      <td>операции с автомобилем</td>\n",
       "    </tr>\n",
       "  </tbody>\n",
       "</table>\n",
       "<p>21331 rows × 16 columns</p>\n",
       "</div>"
      ],
      "text/plain": [
       "       children  days_employed  dob_years education  education_id  \\\n",
       "0             1    8437.673028       42.0    высшее             0   \n",
       "1             1    4024.803754       36.0   среднее             1   \n",
       "2             0    5623.422610       33.0   среднее             1   \n",
       "3             3    4124.747207       32.0   среднее             1   \n",
       "4             0    1968.453705       53.0   среднее             1   \n",
       "...         ...            ...        ...       ...           ...   \n",
       "21520         1    4529.316663       43.0   среднее             1   \n",
       "21521         0    2285.039430       67.0   среднее             1   \n",
       "21522         1    2113.346888       38.0   среднее             1   \n",
       "21523         3    3112.481705       38.0   среднее             1   \n",
       "21524         2    1984.507589       40.0   среднее             1   \n",
       "\n",
       "          family_status  family_status_id gender income_type  debt  \\\n",
       "0       женат / замужем                 0      F   сотрудник     0   \n",
       "1       женат / замужем                 0      F   сотрудник     0   \n",
       "2       женат / замужем                 0      M   сотрудник     0   \n",
       "3       женат / замужем                 0      M   сотрудник     0   \n",
       "4      гражданский брак                 1      F   пенсионер     0   \n",
       "...                 ...               ...    ...         ...   ...   \n",
       "21520  гражданский брак                 1      F   компаньон     0   \n",
       "21521   женат / замужем                 0      F   пенсионер     0   \n",
       "21522  гражданский брак                 1      M   сотрудник     1   \n",
       "21523   женат / замужем                 0      M   сотрудник     1   \n",
       "21524   женат / замужем                 0      F   сотрудник     0   \n",
       "\n",
       "       total_income                       purpose age_group  \\\n",
       "0            253875                 покупка жилья     40-50   \n",
       "1            112080       приобретение автомобиля     30-40   \n",
       "2            145885                 покупка жилья     30-40   \n",
       "3            267628    дополнительное образование     30-40   \n",
       "4            158616               сыграть свадьбу     50-60   \n",
       "...             ...                           ...       ...   \n",
       "21520        224791             операции с жильем     40-50   \n",
       "21521        155999          сделка с автомобилем       60+   \n",
       "21522         89672                  недвижимость     30-40   \n",
       "21523        244093  на покупку своего автомобиля     30-40   \n",
       "21524         82047         на покупку автомобиля     30-40   \n",
       "\n",
       "      days_employed_group total_income_category          purpose_category  \n",
       "0                  normal                     B  операция с недвижимостью  \n",
       "1                  normal                     C    операции с автомобилем  \n",
       "2                  normal                     C  операция с недвижимостью  \n",
       "3                  normal                     B     получение образования  \n",
       "4                 anomaly                     C        проведение свадьбы  \n",
       "...                   ...                   ...                       ...  \n",
       "21520              normal                     B  операция с недвижимостью  \n",
       "21521             anomaly                     C    операции с автомобилем  \n",
       "21522              normal                     C  операция с недвижимостью  \n",
       "21523              normal                     B    операции с автомобилем  \n",
       "21524              normal                     C    операции с автомобилем  \n",
       "\n",
       "[21331 rows x 16 columns]"
      ]
     },
     "execution_count": 36,
     "metadata": {},
     "output_type": "execute_result"
    }
   ],
   "source": [
    "# применим функцию методом map() и отобразим получившуюся таблицу\n",
    "data['purpose_category'] = data['purpose'].map(categorize_purpose)\n",
    "data"
   ]
  },
  {
   "cell_type": "markdown",
   "id": "81ac9f17",
   "metadata": {},
   "source": [
    "##  Исследуйте данные и ответьте на вопросы"
   ]
  },
  {
   "cell_type": "markdown",
   "id": "03d9bca5",
   "metadata": {},
   "source": [
    "###  **Есть ли зависимость между количеством детей и возвратом кредита в срок?**"
   ]
  },
  {
   "cell_type": "markdown",
   "id": "f2b88357",
   "metadata": {},
   "source": [
    "Так как категории в столбце children_group основаны на количественных значения, мы можем напрямую сравнить как изменяется доля должников в зависимости от увеличения количества детей, сортировка таблицы для анализа в данном случае не требуется.\n"
   ]
  },
  {
   "cell_type": "code",
   "execution_count": 37,
   "id": "ad36695a",
   "metadata": {},
   "outputs": [],
   "source": [
    "# эволюция решений! \n",
    "# cгруппировали данные по столбцу с количеством детей\n",
    "#data_group_children = data.groupby('children').agg({'debt':'sum'}) # создали переменную, сгруппировали и применили метод .agg()\n",
    "#data_group_children['total_count'] = data['children'].value_counts() # добавили столбец с применением метода .value_counts()\n",
    "#data_group_children['rate'] = data_group_children['debt'] / data_group_children['total_count'] # определили долю от общего количества\n",
    "#data_group_children # отобразили результат"
   ]
  },
  {
   "cell_type": "code",
   "execution_count": 38,
   "id": "e9382768",
   "metadata": {},
   "outputs": [
    {
     "data": {
      "text/html": [
       "<div>\n",
       "<style scoped>\n",
       "    .dataframe tbody tr th:only-of-type {\n",
       "        vertical-align: middle;\n",
       "    }\n",
       "\n",
       "    .dataframe tbody tr th {\n",
       "        vertical-align: top;\n",
       "    }\n",
       "\n",
       "    .dataframe thead th {\n",
       "        text-align: right;\n",
       "    }\n",
       "</style>\n",
       "<table border=\"1\" class=\"dataframe\">\n",
       "  <thead>\n",
       "    <tr style=\"text-align: right;\">\n",
       "      <th></th>\n",
       "      <th>total</th>\n",
       "      <th>debtors</th>\n",
       "      <th>rate</th>\n",
       "    </tr>\n",
       "    <tr>\n",
       "      <th>children</th>\n",
       "      <th></th>\n",
       "      <th></th>\n",
       "      <th></th>\n",
       "    </tr>\n",
       "  </thead>\n",
       "  <tbody>\n",
       "    <tr>\n",
       "      <th>0</th>\n",
       "      <td>14091</td>\n",
       "      <td>1063</td>\n",
       "      <td>0.075</td>\n",
       "    </tr>\n",
       "    <tr>\n",
       "      <th>1</th>\n",
       "      <td>4808</td>\n",
       "      <td>444</td>\n",
       "      <td>0.092</td>\n",
       "    </tr>\n",
       "    <tr>\n",
       "      <th>2</th>\n",
       "      <td>2052</td>\n",
       "      <td>194</td>\n",
       "      <td>0.095</td>\n",
       "    </tr>\n",
       "    <tr>\n",
       "      <th>3</th>\n",
       "      <td>330</td>\n",
       "      <td>27</td>\n",
       "      <td>0.082</td>\n",
       "    </tr>\n",
       "    <tr>\n",
       "      <th>4</th>\n",
       "      <td>41</td>\n",
       "      <td>4</td>\n",
       "      <td>0.098</td>\n",
       "    </tr>\n",
       "    <tr>\n",
       "      <th>5</th>\n",
       "      <td>9</td>\n",
       "      <td>0</td>\n",
       "      <td>0.000</td>\n",
       "    </tr>\n",
       "  </tbody>\n",
       "</table>\n",
       "</div>"
      ],
      "text/plain": [
       "          total  debtors   rate\n",
       "children                       \n",
       "0         14091     1063  0.075\n",
       "1          4808      444  0.092\n",
       "2          2052      194  0.095\n",
       "3           330       27  0.082\n",
       "4            41        4  0.098\n",
       "5             9        0  0.000"
      ]
     },
     "execution_count": 38,
     "metadata": {},
     "output_type": "execute_result"
    }
   ],
   "source": [
    "# сделаем всё то же самое методом построения сводных таблиц .pivot_table\n",
    "children_relation = data.pivot_table(index='children', \n",
    "                     columns=None,\n",
    "                     values='debt',\n",
    "                     aggfunc=['count', 'sum', 'mean'],\n",
    ").round(3)\n",
    "children_relation.columns = ['total', 'debtors', 'rate'] # переименуем названия столбцов для наглядности\n",
    "children_relation # отобразим  результат\n",
    " "
   ]
  },
  {
   "cell_type": "markdown",
   "id": "048d8cd3",
   "metadata": {},
   "source": [
    "Обратим внимание, что группы с  3 и более детьми очень малочисленные, с целью снижения влияния выбросов и исключения ошибок при формулировании статистических выводов объединим этих клиентов в одну группу"
   ]
  },
  {
   "cell_type": "code",
   "execution_count": 39,
   "id": "28623f4d",
   "metadata": {},
   "outputs": [
    {
     "data": {
      "text/plain": [
       "0     14091\n",
       "1      4808\n",
       "2      2052\n",
       "3+      380\n",
       "Name: children_group, dtype: int64"
      ]
     },
     "execution_count": 39,
     "metadata": {},
     "output_type": "execute_result"
    }
   ],
   "source": [
    "#объединение методом .cut()\n",
    "data['children_group'] = pd.cut(\n",
    "\n",
    "    data['children'],\n",
    "\n",
    "    bins=[-1, 0, 1, 2, 20], # границы \n",
    "\n",
    "    labels=['0', '1', '2', '3+'] # названия \n",
    ")\n",
    "data['children_group'].value_counts()"
   ]
  },
  {
   "cell_type": "code",
   "execution_count": 40,
   "id": "56084b1c",
   "metadata": {},
   "outputs": [
    {
     "data": {
      "text/html": [
       "<div>\n",
       "<style scoped>\n",
       "    .dataframe tbody tr th:only-of-type {\n",
       "        vertical-align: middle;\n",
       "    }\n",
       "\n",
       "    .dataframe tbody tr th {\n",
       "        vertical-align: top;\n",
       "    }\n",
       "\n",
       "    .dataframe thead th {\n",
       "        text-align: right;\n",
       "    }\n",
       "</style>\n",
       "<table border=\"1\" class=\"dataframe\">\n",
       "  <thead>\n",
       "    <tr style=\"text-align: right;\">\n",
       "      <th></th>\n",
       "      <th>count</th>\n",
       "      <th>sum</th>\n",
       "      <th>mean</th>\n",
       "    </tr>\n",
       "    <tr>\n",
       "      <th>children_group</th>\n",
       "      <th></th>\n",
       "      <th></th>\n",
       "      <th></th>\n",
       "    </tr>\n",
       "  </thead>\n",
       "  <tbody>\n",
       "    <tr>\n",
       "      <th>0</th>\n",
       "      <td>14091</td>\n",
       "      <td>1063</td>\n",
       "      <td>0.075</td>\n",
       "    </tr>\n",
       "    <tr>\n",
       "      <th>1</th>\n",
       "      <td>4808</td>\n",
       "      <td>444</td>\n",
       "      <td>0.092</td>\n",
       "    </tr>\n",
       "    <tr>\n",
       "      <th>2</th>\n",
       "      <td>2052</td>\n",
       "      <td>194</td>\n",
       "      <td>0.095</td>\n",
       "    </tr>\n",
       "    <tr>\n",
       "      <th>3+</th>\n",
       "      <td>380</td>\n",
       "      <td>31</td>\n",
       "      <td>0.082</td>\n",
       "    </tr>\n",
       "  </tbody>\n",
       "</table>\n",
       "</div>"
      ],
      "text/plain": [
       "                count   sum   mean\n",
       "children_group                    \n",
       "0               14091  1063  0.075\n",
       "1                4808   444  0.092\n",
       "2                2052   194  0.095\n",
       "3+                380    31  0.082"
      ]
     },
     "metadata": {},
     "output_type": "display_data"
    },
    {
     "data": {
      "image/png": "[encoded data removed]",
      "text/plain": [
       "<Figure size 640x480 with 1 Axes>"
      ]
     },
     "metadata": {},
     "output_type": "display_data"
    }
   ],
   "source": [
    "# сформируем сводную таблицу по столбцу children_group методом .groupby \n",
    "display(data.groupby('children_group')['debt'].agg(['count', 'sum', 'mean']).round(3))\n",
    "# отобразим столбчатую диаграмму\n",
    "data.groupby('children_group')['debt'].agg(['mean']).round(3).plot(kind='bar')\n",
    "plt.title('Зависимость возврата кредита в срок от количества детей')\n",
    "plt.xlabel('Количество детей')\n",
    "plt.ylabel('Доля должников по группе')\n",
    "plt.show()"
   ]
  },
  {
   "cell_type": "markdown",
   "id": "a5293dae",
   "metadata": {},
   "source": [
    "**Напишем функцию, которая выполнит создание сводной таблицы и построение столбчатой диаграммы автоматически для каждой интересующей нас категории.**\n"
   ]
  },
  {
   "cell_type": "code",
   "execution_count": 41,
   "id": "ddfe0be5",
   "metadata": {},
   "outputs": [
    {
     "data": {
      "text/html": [
       "<div>\n",
       "<style scoped>\n",
       "    .dataframe tbody tr th:only-of-type {\n",
       "        vertical-align: middle;\n",
       "    }\n",
       "\n",
       "    .dataframe tbody tr th {\n",
       "        vertical-align: top;\n",
       "    }\n",
       "\n",
       "    .dataframe thead th {\n",
       "        text-align: right;\n",
       "    }\n",
       "</style>\n",
       "<table border=\"1\" class=\"dataframe\">\n",
       "  <thead>\n",
       "    <tr style=\"text-align: right;\">\n",
       "      <th></th>\n",
       "      <th>total_counts</th>\n",
       "      <th>debt_counts</th>\n",
       "      <th>debt_rate</th>\n",
       "    </tr>\n",
       "    <tr>\n",
       "      <th>children_group</th>\n",
       "      <th></th>\n",
       "      <th></th>\n",
       "      <th></th>\n",
       "    </tr>\n",
       "  </thead>\n",
       "  <tbody>\n",
       "    <tr>\n",
       "      <th>0</th>\n",
       "      <td>14091</td>\n",
       "      <td>1063</td>\n",
       "      <td>0.075</td>\n",
       "    </tr>\n",
       "    <tr>\n",
       "      <th>1</th>\n",
       "      <td>4808</td>\n",
       "      <td>444</td>\n",
       "      <td>0.092</td>\n",
       "    </tr>\n",
       "    <tr>\n",
       "      <th>2</th>\n",
       "      <td>2052</td>\n",
       "      <td>194</td>\n",
       "      <td>0.095</td>\n",
       "    </tr>\n",
       "    <tr>\n",
       "      <th>3+</th>\n",
       "      <td>380</td>\n",
       "      <td>31</td>\n",
       "      <td>0.082</td>\n",
       "    </tr>\n",
       "  </tbody>\n",
       "</table>\n",
       "</div>"
      ],
      "text/plain": [
       "                total_counts  debt_counts  debt_rate\n",
       "children_group                                      \n",
       "0                      14091         1063      0.075\n",
       "1                       4808          444      0.092\n",
       "2                       2052          194      0.095\n",
       "3+                       380           31      0.082"
      ]
     },
     "metadata": {},
     "output_type": "display_data"
    },
    {
     "name": "stderr",
     "output_type": "stream",
     "text": [
      "C:\\Users\\user\\AppData\\Local\\Temp\\ipykernel_7096\\2124465265.py:13: UserWarning: set_ticklabels() should only be used with a fixed number of ticks, i.e. after set_ticks() or using a FixedLocator.\n",
      "  ax.set_xticklabels(sorted_p.index, rotation=90)\n"
     ]
    },
    {
     "data": {
      "image/png": "[encoded data removed]",
      "text/plain": [
       "<Figure size 640x480 with 1 Axes>"
      ]
     },
     "metadata": {},
     "output_type": "display_data"
    }
   ],
   "source": [
    "# Напишем функцию, которая выполнит создание сводной таблицы и построение столбчатой диаграммы автоматически для каждой интересующей нас категории\n",
    "def pivotfunc(data, index):\n",
    "    p = data.pivot_table(index = index, columns = None, values='debt', aggfunc=(['count', 'sum', 'mean'])).round(3).droplevel(0, axis=1)\n",
    "    p.columns = ['total_counts', 'debt_counts', 'debt_rate']\n",
    "    display(p)\n",
    "\n",
    "    # Сортируем данные в диаграмме по среднему значению\n",
    "    sorted_p = p.sort_values(by='debt_rate', ascending=False)\n",
    "\n",
    "    # Добавляем код для построения диаграммы\n",
    "    fig, ax = plt.subplots()\n",
    "    ax.bar(sorted_p.index, sorted_p['debt_rate'])\n",
    "    ax.set_xticklabels(sorted_p.index, rotation=90)\n",
    "    ax.set_title('Зависимость от категории возврата кредита от '+index)\n",
    "    ax.set_xlabel(index)\n",
    "    ax.set_ylabel('Debt Rate')\n",
    "\n",
    "    # Отображаем диаграмму\n",
    "    plt.show()\n",
    "    \n",
    "pivotfunc(data, 'children_group')"
   ]
  },
  {
   "cell_type": "markdown",
   "id": "62ec8d86",
   "metadata": {},
   "source": [
    "#### **Выводы**"
   ]
  },
  {
   "cell_type": "markdown",
   "id": "29acd391",
   "metadata": {},
   "source": [
    "\n",
    "Из представленных данных сложно сделать однозначный вывод о наличии или отсутствии зависимости между количеством детей и возвратом кредита в срок,но можно сформировать следующие выводы:\n",
    "\n",
    "- Группа 0 (клиенты без детей) имеет самое большое количество клиентов 14091 и наименьшую долю клиентов с задолженностью - 7.5%.\n",
    "- В представленной выборке клиентов без детей в 3 раза больше чем клиентов с одним ребёнком и в 7 раз больше чем с двумя детьми.\n",
    "- По мере увеличения количества детей растёт и доля клиентов, имеющих задолженность. Это может говорить о том, что наличие детей может влиять на способность клиентов выплачивать кредиты в срок.\n",
    "- Можно предположить, что семьи с большим количеством детей могут испытывать больше финансовых трудностей и иметь более высокий уровень задолженности. Однако это лишь предположение, которое требует дополнительного исследования.\n",
    "- Необходимо провести более детальный анализ данных и учесть все возможные факторы, которые могут влиять на финансовое поведение клиентов.\n",
    "\n",
    "**Таким образом можно предположить, что количество детей у клиента может оказывать влияние на их способность возвращать кредиты в срок, но для окончательного подтверждения этой зависимости требуется дальнейший анализ, так как разница на самом деле может оказаться в рамках статистической погрешности **\n"
   ]
  },
  {
   "cell_type": "markdown",
   "id": "296e15fd",
   "metadata": {},
   "source": [
    "### **Есть ли зависимость между семейным положением и возвратом кредита в срок?**"
   ]
  },
  {
   "cell_type": "markdown",
   "id": "d4bbbb80",
   "metadata": {},
   "source": [
    "Значение переменной **family_status** является категориальным, мы не можем напрямую сравнить два показателя, поэтому отсортируем сводную таблицу по среднему значению целевой переменной **debt** для формирования рейтинга."
   ]
  },
  {
   "cell_type": "code",
   "execution_count": 42,
   "id": "41e9f294",
   "metadata": {},
   "outputs": [],
   "source": [
    "# сформируем сводную таблицу по столбцу family_status и отсортируем по убыванию\n",
    "#display(data.groupby('family_status')['debt'].agg(['count', 'sum', 'mean']).round(3).sort_values('mean', ascending=False))\n",
    "# отобразим столбчатую диаграмму\n",
    "#data.groupby('family_status')['debt'].agg(['mean']).round(3).sort_values('mean', ascending=False).plot(kind='bar')\n",
    "#plt.title('Зависимость возврата кредита в срок от семейного положения')\n",
    "#plt.xlabel('Семейное положение')\n",
    "#plt.ylabel('Доля должников по группе')\n",
    "#plt.show()"
   ]
  },
  {
   "cell_type": "code",
   "execution_count": 43,
   "id": "ee202d0d",
   "metadata": {},
   "outputs": [
    {
     "data": {
      "text/html": [
       "<div>\n",
       "<style scoped>\n",
       "    .dataframe tbody tr th:only-of-type {\n",
       "        vertical-align: middle;\n",
       "    }\n",
       "\n",
       "    .dataframe tbody tr th {\n",
       "        vertical-align: top;\n",
       "    }\n",
       "\n",
       "    .dataframe thead th {\n",
       "        text-align: right;\n",
       "    }\n",
       "</style>\n",
       "<table border=\"1\" class=\"dataframe\">\n",
       "  <thead>\n",
       "    <tr style=\"text-align: right;\">\n",
       "      <th></th>\n",
       "      <th>total_counts</th>\n",
       "      <th>debt_counts</th>\n",
       "      <th>debt_rate</th>\n",
       "    </tr>\n",
       "    <tr>\n",
       "      <th>family_status</th>\n",
       "      <th></th>\n",
       "      <th></th>\n",
       "      <th></th>\n",
       "    </tr>\n",
       "  </thead>\n",
       "  <tbody>\n",
       "    <tr>\n",
       "      <th>Не женат / не замужем</th>\n",
       "      <td>2796</td>\n",
       "      <td>273</td>\n",
       "      <td>0.098</td>\n",
       "    </tr>\n",
       "    <tr>\n",
       "      <th>в разводе</th>\n",
       "      <td>1189</td>\n",
       "      <td>84</td>\n",
       "      <td>0.071</td>\n",
       "    </tr>\n",
       "    <tr>\n",
       "      <th>вдовец / вдова</th>\n",
       "      <td>951</td>\n",
       "      <td>63</td>\n",
       "      <td>0.066</td>\n",
       "    </tr>\n",
       "    <tr>\n",
       "      <th>гражданский брак</th>\n",
       "      <td>4134</td>\n",
       "      <td>385</td>\n",
       "      <td>0.093</td>\n",
       "    </tr>\n",
       "    <tr>\n",
       "      <th>женат / замужем</th>\n",
       "      <td>12261</td>\n",
       "      <td>927</td>\n",
       "      <td>0.076</td>\n",
       "    </tr>\n",
       "  </tbody>\n",
       "</table>\n",
       "</div>"
      ],
      "text/plain": [
       "                       total_counts  debt_counts  debt_rate\n",
       "family_status                                              \n",
       "Не женат / не замужем          2796          273      0.098\n",
       "в разводе                      1189           84      0.071\n",
       "вдовец / вдова                  951           63      0.066\n",
       "гражданский брак               4134          385      0.093\n",
       "женат / замужем               12261          927      0.076"
      ]
     },
     "metadata": {},
     "output_type": "display_data"
    },
    {
     "name": "stderr",
     "output_type": "stream",
     "text": [
      "C:\\Users\\user\\AppData\\Local\\Temp\\ipykernel_7096\\2124465265.py:13: UserWarning: set_ticklabels() should only be used with a fixed number of ticks, i.e. after set_ticks() or using a FixedLocator.\n",
      "  ax.set_xticklabels(sorted_p.index, rotation=90)\n"
     ]
    },
    {
     "data": {
      "image/png": "[encoded data removed]",
      "text/plain": [
       "<Figure size 640x480 with 1 Axes>"
      ]
     },
     "metadata": {},
     "output_type": "display_data"
    }
   ],
   "source": [
    "pivotfunc(data, 'family_status')"
   ]
  },
  {
   "cell_type": "markdown",
   "id": "9f9f410b",
   "metadata": {},
   "source": [
    "#### **Выводы** "
   ]
  },
  {
   "cell_type": "markdown",
   "id": "1b08d16f",
   "metadata": {},
   "source": [
    "Количество записей в каждой группе позволяет сделать выводы без каких либо изменений в структуре данных.\n",
    "\n",
    "Из представленных данных можно сделать следующие выводы:\n",
    "- Кредит чаще берут женатые \\ замужние люди (или же им чаще его одобряют);\n",
    "- Диаграмма выще представляет собой антирейтинг клиентов от худшего к лучшему;\n",
    "- Можно предположить, что брак может способствовать более ответственному отношению к финансам и возврату кредитов, в то время как люди, не состоящие в браке или находящиеся в гражданском браке, могут иметь более нестабильные финансовые обстоятельства или меньшую финансовую поддержку от партнера.;\n",
    "- Возможно большее количество просрочек по кредиту у людей живущих в гражданском браке связано с пренебрежением государственными институтами и меньшей юридической грамотностью.\n",
    "\n",
    "\n",
    "**Таким образом, можно предположить, что семейное положение может оказывать влияние на возврат кредита в срок, и клиенты, находящиеся в более устойчивых семейных отношениях, имеют более низкую вероятность задолженности. Для окончательного подтверждения этой зависимости требуется дальнейший анализ.**\n",
    "\n"
   ]
  },
  {
   "cell_type": "markdown",
   "id": "5d44f3bd",
   "metadata": {},
   "source": [
    " "
   ]
  },
  {
   "cell_type": "markdown",
   "id": "7ddff27c",
   "metadata": {},
   "source": [
    "### **Есть ли зависимость между уровнем дохода и возвратом кредита в срок?**"
   ]
  },
  {
   "cell_type": "markdown",
   "id": "c151ab3b",
   "metadata": {},
   "source": [
    "Так как значение переменной **total_income_category** является количественным, мы можем напрямую сравнить как изменяется доля должников в зависимости от уровня дохода, сортировка таблицы для анализа в данном случае не требуется."
   ]
  },
  {
   "cell_type": "code",
   "execution_count": 44,
   "id": "8715f896",
   "metadata": {},
   "outputs": [],
   "source": [
    "# сформируем сводную таблицу по столбцу total_income_category и отсортируем по убыванию\n",
    "#display(data.groupby('total_income_category')['debt'].agg(['count', 'sum', 'mean']).round(3))\n",
    "# отобразим столбчатую диаграмму\n",
    "#data.groupby('total_income_category')['debt'].agg(['mean']).round(3).plot(kind='bar')\n",
    "#plt.title('Зависимость возврата кредита в срок от уровня дохода')\n",
    "#plt.xlabel('Уровень дохода')\n",
    "#plt.ylabel('Доля должников по группе')\n",
    "#plt.show()"
   ]
  },
  {
   "cell_type": "code",
   "execution_count": 45,
   "id": "527a544d",
   "metadata": {},
   "outputs": [
    {
     "data": {
      "text/html": [
       "<div>\n",
       "<style scoped>\n",
       "    .dataframe tbody tr th:only-of-type {\n",
       "        vertical-align: middle;\n",
       "    }\n",
       "\n",
       "    .dataframe tbody tr th {\n",
       "        vertical-align: top;\n",
       "    }\n",
       "\n",
       "    .dataframe thead th {\n",
       "        text-align: right;\n",
       "    }\n",
       "</style>\n",
       "<table border=\"1\" class=\"dataframe\">\n",
       "  <thead>\n",
       "    <tr style=\"text-align: right;\">\n",
       "      <th></th>\n",
       "      <th>total_counts</th>\n",
       "      <th>debt_counts</th>\n",
       "      <th>debt_rate</th>\n",
       "    </tr>\n",
       "    <tr>\n",
       "      <th>total_income_category</th>\n",
       "      <th></th>\n",
       "      <th></th>\n",
       "      <th></th>\n",
       "    </tr>\n",
       "  </thead>\n",
       "  <tbody>\n",
       "    <tr>\n",
       "      <th>A</th>\n",
       "      <td>25</td>\n",
       "      <td>2</td>\n",
       "      <td>0.080</td>\n",
       "    </tr>\n",
       "    <tr>\n",
       "      <th>B</th>\n",
       "      <td>5014</td>\n",
       "      <td>354</td>\n",
       "      <td>0.071</td>\n",
       "    </tr>\n",
       "    <tr>\n",
       "      <th>C</th>\n",
       "      <td>15921</td>\n",
       "      <td>1353</td>\n",
       "      <td>0.085</td>\n",
       "    </tr>\n",
       "    <tr>\n",
       "      <th>D</th>\n",
       "      <td>349</td>\n",
       "      <td>21</td>\n",
       "      <td>0.060</td>\n",
       "    </tr>\n",
       "    <tr>\n",
       "      <th>E</th>\n",
       "      <td>22</td>\n",
       "      <td>2</td>\n",
       "      <td>0.091</td>\n",
       "    </tr>\n",
       "  </tbody>\n",
       "</table>\n",
       "</div>"
      ],
      "text/plain": [
       "                       total_counts  debt_counts  debt_rate\n",
       "total_income_category                                      \n",
       "A                                25            2      0.080\n",
       "B                              5014          354      0.071\n",
       "C                             15921         1353      0.085\n",
       "D                               349           21      0.060\n",
       "E                                22            2      0.091"
      ]
     },
     "metadata": {},
     "output_type": "display_data"
    },
    {
     "name": "stderr",
     "output_type": "stream",
     "text": [
      "C:\\Users\\user\\AppData\\Local\\Temp\\ipykernel_7096\\2124465265.py:13: UserWarning: set_ticklabels() should only be used with a fixed number of ticks, i.e. after set_ticks() or using a FixedLocator.\n",
      "  ax.set_xticklabels(sorted_p.index, rotation=90)\n"
     ]
    },
    {
     "data": {
      "image/png": "[encoded data removed]",
      "text/plain": [
       "<Figure size 640x480 with 1 Axes>"
      ]
     },
     "metadata": {},
     "output_type": "display_data"
    }
   ],
   "source": [
    "pivotfunc(data, 'total_income_category')"
   ]
  },
  {
   "cell_type": "markdown",
   "id": "a00a1b8a",
   "metadata": {},
   "source": [
    "Обратим внимание, что группы А и Е очень малочисленные, с целью снижения влияния выбросов и исключения ошибок при формулировании статистических выводов мы можем:\n",
    "- объеденить с ближайшими по значению группами;\n",
    "- отбросить эти значения как выбросы.\n",
    "\n",
    "*Гипотеза - оба варианта не изменят структуры оставшихся значений.*"
   ]
  },
  {
   "cell_type": "code",
   "execution_count": 46,
   "id": "f031538c",
   "metadata": {},
   "outputs": [
    {
     "data": {
      "text/html": [
       "<div>\n",
       "<style scoped>\n",
       "    .dataframe tbody tr th:only-of-type {\n",
       "        vertical-align: middle;\n",
       "    }\n",
       "\n",
       "    .dataframe tbody tr th {\n",
       "        vertical-align: top;\n",
       "    }\n",
       "\n",
       "    .dataframe thead th {\n",
       "        text-align: right;\n",
       "    }\n",
       "</style>\n",
       "<table border=\"1\" class=\"dataframe\">\n",
       "  <thead>\n",
       "    <tr style=\"text-align: right;\">\n",
       "      <th></th>\n",
       "      <th>total_counts</th>\n",
       "      <th>debt_counts</th>\n",
       "      <th>debt_rate</th>\n",
       "    </tr>\n",
       "    <tr>\n",
       "      <th>total_income_group</th>\n",
       "      <th></th>\n",
       "      <th></th>\n",
       "      <th></th>\n",
       "    </tr>\n",
       "  </thead>\n",
       "  <tbody>\n",
       "    <tr>\n",
       "      <th>D</th>\n",
       "      <td>371</td>\n",
       "      <td>23</td>\n",
       "      <td>0.062</td>\n",
       "    </tr>\n",
       "    <tr>\n",
       "      <th>C</th>\n",
       "      <td>15921</td>\n",
       "      <td>1353</td>\n",
       "      <td>0.085</td>\n",
       "    </tr>\n",
       "    <tr>\n",
       "      <th>B</th>\n",
       "      <td>5039</td>\n",
       "      <td>356</td>\n",
       "      <td>0.071</td>\n",
       "    </tr>\n",
       "  </tbody>\n",
       "</table>\n",
       "</div>"
      ],
      "text/plain": [
       "                    total_counts  debt_counts  debt_rate\n",
       "total_income_group                                      \n",
       "D                            371           23      0.062\n",
       "C                          15921         1353      0.085\n",
       "B                           5039          356      0.071"
      ]
     },
     "metadata": {},
     "output_type": "display_data"
    },
    {
     "name": "stderr",
     "output_type": "stream",
     "text": [
      "C:\\Users\\user\\AppData\\Local\\Temp\\ipykernel_7096\\2124465265.py:13: UserWarning: set_ticklabels() should only be used with a fixed number of ticks, i.e. after set_ticks() or using a FixedLocator.\n",
      "  ax.set_xticklabels(sorted_p.index, rotation=90)\n"
     ]
    },
    {
     "data": {
      "image/png": "[encoded data removed]",
      "text/plain": [
       "<Figure size 640x480 with 1 Axes>"
      ]
     },
     "metadata": {},
     "output_type": "display_data"
    }
   ],
   "source": [
    "#объединеним значения методом .cut()\n",
    "data['total_income_group'] = pd.cut(\n",
    "\n",
    "    data['total_income'],\n",
    "\n",
    "    bins=[0, 50001, 200000, 1000000000], # границы \n",
    "\n",
    "    labels=['D', 'C', 'B'] # названия \n",
    ")\n",
    "# сформируем сводную таблицу по столбцу total_income_group и отсортируем по убыванию\n",
    "#display(data.groupby('total_income_group')['debt'].agg(['count', 'sum', 'mean']).round(3).sort_values('mean',ascending=False))\n",
    "# отобразим столбчатую диаграмму\n",
    "#data.groupby('total_income_group')['debt'].agg(['mean']).round(3).sort_values('mean',ascending=False).plot(kind='bar')\n",
    "#plt.title('Зависимость возврата кредита в срок от уровня дохода')\n",
    "#plt.xlabel('Уровень дохода')\n",
    "#plt.ylabel('Доля должников по группе')\n",
    "#plt.show()\n",
    "\n",
    "pivotfunc(data, 'total_income_group')"
   ]
  },
  {
   "cell_type": "code",
   "execution_count": 47,
   "id": "7d0f6367",
   "metadata": {},
   "outputs": [
    {
     "data": {
      "text/html": [
       "<div>\n",
       "<style scoped>\n",
       "    .dataframe tbody tr th:only-of-type {\n",
       "        vertical-align: middle;\n",
       "    }\n",
       "\n",
       "    .dataframe tbody tr th {\n",
       "        vertical-align: top;\n",
       "    }\n",
       "\n",
       "    .dataframe thead th {\n",
       "        text-align: right;\n",
       "    }\n",
       "</style>\n",
       "<table border=\"1\" class=\"dataframe\">\n",
       "  <thead>\n",
       "    <tr style=\"text-align: right;\">\n",
       "      <th></th>\n",
       "      <th>total_counts</th>\n",
       "      <th>debt_counts</th>\n",
       "      <th>debt_rate</th>\n",
       "    </tr>\n",
       "    <tr>\n",
       "      <th>total_income_category</th>\n",
       "      <th></th>\n",
       "      <th></th>\n",
       "      <th></th>\n",
       "    </tr>\n",
       "  </thead>\n",
       "  <tbody>\n",
       "    <tr>\n",
       "      <th>B</th>\n",
       "      <td>5014</td>\n",
       "      <td>354</td>\n",
       "      <td>0.071</td>\n",
       "    </tr>\n",
       "    <tr>\n",
       "      <th>C</th>\n",
       "      <td>15921</td>\n",
       "      <td>1353</td>\n",
       "      <td>0.085</td>\n",
       "    </tr>\n",
       "    <tr>\n",
       "      <th>D</th>\n",
       "      <td>349</td>\n",
       "      <td>21</td>\n",
       "      <td>0.060</td>\n",
       "    </tr>\n",
       "  </tbody>\n",
       "</table>\n",
       "</div>"
      ],
      "text/plain": [
       "                       total_counts  debt_counts  debt_rate\n",
       "total_income_category                                      \n",
       "B                              5014          354      0.071\n",
       "C                             15921         1353      0.085\n",
       "D                               349           21      0.060"
      ]
     },
     "metadata": {},
     "output_type": "display_data"
    },
    {
     "name": "stderr",
     "output_type": "stream",
     "text": [
      "C:\\Users\\user\\AppData\\Local\\Temp\\ipykernel_7096\\2124465265.py:13: UserWarning: set_ticklabels() should only be used with a fixed number of ticks, i.e. after set_ticks() or using a FixedLocator.\n",
      "  ax.set_xticklabels(sorted_p.index, rotation=90)\n"
     ]
    },
    {
     "data": {
      "image/png": "[encoded data removed]",
      "text/plain": [
       "<Figure size 640x480 with 1 Axes>"
      ]
     },
     "metadata": {},
     "output_type": "display_data"
    }
   ],
   "source": [
    "# отбросим значения  А и Е, для этого используем метод .isin()\n",
    "# создадим отфильтрованный датафрейм\n",
    "data_filtered = data[data['total_income_category'].isin(['B', 'C', 'D'])]\n",
    "# сформируем сводную таблицу по столбцу total_income_category и отсортируем по убыванию\n",
    "#display(data_filtered.groupby('total_income_category')['debt'].agg(['count', 'sum', 'mean']).round(3).sort_values('mean',ascending=False))\n",
    "# отобразим столбчатую диаграмму\n",
    "#data_filtered.groupby('total_income_category')['debt'].agg(['mean']).round(3).sort_values('mean',ascending=False).plot(kind='bar')\n",
    "#plt.title('Зависимость возврата кредита в срок от уровня дохода')\n",
    "#plt.xlabel('Уровень дохода')\n",
    "#plt.ylabel('Доля должников по группе')\n",
    "#plt.show()\n",
    "pivotfunc(data_filtered, 'total_income_category')"
   ]
  },
  {
   "cell_type": "markdown",
   "id": "2d096478",
   "metadata": {},
   "source": [
    "*Гипотеза подтверждена, структура данных вне зависимости от метода не изменилась мы можем приступить к выводам.*"
   ]
  },
  {
   "cell_type": "markdown",
   "id": "9fe4b432",
   "metadata": {},
   "source": [
    "#### **Выводы**"
   ]
  },
  {
   "cell_type": "markdown",
   "id": "6ab4e10d",
   "metadata": {},
   "source": [
    "Из представленных данных можно сделать следующие выводы:\n",
    "- Клиенты с низким уровнем дохода и имеют наименьший процент задолженностей 6.2%, что может быть связано с более осторожным подходом к управлению финансами или с тем, что им предоставляются кредиты, соответствующие их доходам, или им воообще реже предоставляю кредиты.\n",
    "- Клиенты со средним доходом имеют процент задолженностей 8.5% , это может указывать на то, что эта группа клиентов представляет собой наиболее многочисленную категорию среди представленных, и их финансовая стабильность может варьироваться.\n",
    "- Клиенты с высоким уровнем дохода, более чем в три раза реже берут кредит чем клиенты со средним уровнем дохода, и имеют  процент задолженностей 7.1 % , что может объясняться как высокими доходами, так и большей финансовой грамотностью.\n",
    "\n",
    "**Таким образом, на основе представленных данных можно сделать вывод о том, что существует зависимость между уровнем дохода и возвратом кредита в срок. Клиенты с более высоким уровнем дохода имеют обычно меньший процент задолженностей, чем со средним.**\n",
    "\n",
    "**Можно ли утверждать что кредитный рейтинг людей с низким уровнем дохода выше чем у людей со средним? Сомневаюсь.**"
   ]
  },
  {
   "cell_type": "markdown",
   "id": "672231ac",
   "metadata": {},
   "source": [
    "### **Как разные цели кредита влияют на его возврат в срок?**"
   ]
  },
  {
   "cell_type": "markdown",
   "id": "71d6a7c3",
   "metadata": {},
   "source": [
    "Значение переменной **purpose_category** является категориальным, мы не можем напрямую сравнить два показателя, поэтому отсортируем сводную таблицу по среднему значению целевой переменной **debt** для формирования рейтинга."
   ]
  },
  {
   "cell_type": "code",
   "execution_count": 48,
   "id": "f6babea6",
   "metadata": {},
   "outputs": [
    {
     "data": {
      "text/html": [
       "<div>\n",
       "<style scoped>\n",
       "    .dataframe tbody tr th:only-of-type {\n",
       "        vertical-align: middle;\n",
       "    }\n",
       "\n",
       "    .dataframe tbody tr th {\n",
       "        vertical-align: top;\n",
       "    }\n",
       "\n",
       "    .dataframe thead th {\n",
       "        text-align: right;\n",
       "    }\n",
       "</style>\n",
       "<table border=\"1\" class=\"dataframe\">\n",
       "  <thead>\n",
       "    <tr style=\"text-align: right;\">\n",
       "      <th></th>\n",
       "      <th>total_counts</th>\n",
       "      <th>debt_counts</th>\n",
       "      <th>debt_rate</th>\n",
       "    </tr>\n",
       "    <tr>\n",
       "      <th>total_income_group</th>\n",
       "      <th></th>\n",
       "      <th></th>\n",
       "      <th></th>\n",
       "    </tr>\n",
       "  </thead>\n",
       "  <tbody>\n",
       "    <tr>\n",
       "      <th>D</th>\n",
       "      <td>371</td>\n",
       "      <td>23</td>\n",
       "      <td>0.062</td>\n",
       "    </tr>\n",
       "    <tr>\n",
       "      <th>C</th>\n",
       "      <td>15921</td>\n",
       "      <td>1353</td>\n",
       "      <td>0.085</td>\n",
       "    </tr>\n",
       "    <tr>\n",
       "      <th>B</th>\n",
       "      <td>5039</td>\n",
       "      <td>356</td>\n",
       "      <td>0.071</td>\n",
       "    </tr>\n",
       "  </tbody>\n",
       "</table>\n",
       "</div>"
      ],
      "text/plain": [
       "                    total_counts  debt_counts  debt_rate\n",
       "total_income_group                                      \n",
       "D                            371           23      0.062\n",
       "C                          15921         1353      0.085\n",
       "B                           5039          356      0.071"
      ]
     },
     "metadata": {},
     "output_type": "display_data"
    },
    {
     "name": "stderr",
     "output_type": "stream",
     "text": [
      "C:\\Users\\user\\AppData\\Local\\Temp\\ipykernel_7096\\2124465265.py:13: UserWarning: set_ticklabels() should only be used with a fixed number of ticks, i.e. after set_ticks() or using a FixedLocator.\n",
      "  ax.set_xticklabels(sorted_p.index, rotation=90)\n"
     ]
    },
    {
     "data": {
      "image/png": "[encoded data removed]",
      "text/plain": [
       "<Figure size 640x480 with 1 Axes>"
      ]
     },
     "metadata": {},
     "output_type": "display_data"
    }
   ],
   "source": [
    "# сформируем сводную таблицу по столбцу 'purpose_category' и отсортируем по убыванию\n",
    "#display(data.groupby('purpose_category')['debt'].agg(['count', 'sum', 'mean']).round(3).sort_values('mean',ascending=False))\n",
    "# отобразим столбчатую диаграмму\n",
    "#data.groupby('purpose_category')['debt'].agg(['mean']).round(3).sort_values('mean',ascending=False).plot(kind='bar')\n",
    "#plt.title('Зависимость возврата кредита в срок от цели кредита')\n",
    "#plt.xlabel('Цель кредита')\n",
    "#plt.ylabel('Доля должников по группе')\n",
    "#plt.show()\n",
    "pivotfunc(data, 'total_income_group')"
   ]
  },
  {
   "cell_type": "markdown",
   "id": "c3b0357a",
   "metadata": {},
   "source": [
    "*Можно предположить что большее количество просрочек у клиентов  берущих кредит на получение образование связано с возрастом?* \n",
    "\n",
    "*Проверим гипотезу создав сводную таблицу.*"
   ]
  },
  {
   "cell_type": "code",
   "execution_count": 49,
   "id": "dbb0d327",
   "metadata": {},
   "outputs": [
    {
     "data": {
      "text/html": [
       "<div>\n",
       "<style scoped>\n",
       "    .dataframe tbody tr th:only-of-type {\n",
       "        vertical-align: middle;\n",
       "    }\n",
       "\n",
       "    .dataframe tbody tr th {\n",
       "        vertical-align: top;\n",
       "    }\n",
       "\n",
       "    .dataframe thead th {\n",
       "        text-align: right;\n",
       "    }\n",
       "</style>\n",
       "<table border=\"1\" class=\"dataframe\">\n",
       "  <thead>\n",
       "    <tr style=\"text-align: right;\">\n",
       "      <th>age_group</th>\n",
       "      <th>18-30</th>\n",
       "      <th>30-40</th>\n",
       "      <th>40-50</th>\n",
       "      <th>50-60</th>\n",
       "      <th>60+</th>\n",
       "    </tr>\n",
       "    <tr>\n",
       "      <th>purpose_category</th>\n",
       "      <th></th>\n",
       "      <th></th>\n",
       "      <th></th>\n",
       "      <th></th>\n",
       "      <th></th>\n",
       "    </tr>\n",
       "  </thead>\n",
       "  <tbody>\n",
       "    <tr>\n",
       "      <th>получение образования</th>\n",
       "      <td>0.130</td>\n",
       "      <td>0.106</td>\n",
       "      <td>0.087</td>\n",
       "      <td>0.072</td>\n",
       "      <td>0.050</td>\n",
       "    </tr>\n",
       "    <tr>\n",
       "      <th>операции с автомобилем</th>\n",
       "      <td>0.123</td>\n",
       "      <td>0.117</td>\n",
       "      <td>0.085</td>\n",
       "      <td>0.068</td>\n",
       "      <td>0.057</td>\n",
       "    </tr>\n",
       "    <tr>\n",
       "      <th>операция с недвижимостью</th>\n",
       "      <td>0.098</td>\n",
       "      <td>0.083</td>\n",
       "      <td>0.068</td>\n",
       "      <td>0.055</td>\n",
       "      <td>0.043</td>\n",
       "    </tr>\n",
       "    <tr>\n",
       "      <th>проведение свадьбы</th>\n",
       "      <td>0.097</td>\n",
       "      <td>0.089</td>\n",
       "      <td>0.081</td>\n",
       "      <td>0.065</td>\n",
       "      <td>0.044</td>\n",
       "    </tr>\n",
       "  </tbody>\n",
       "</table>\n",
       "</div>"
      ],
      "text/plain": [
       "age_group                 18-30  30-40  40-50  50-60    60+\n",
       "purpose_category                                           \n",
       "получение образования     0.130  0.106  0.087  0.072  0.050\n",
       "операции с автомобилем    0.123  0.117  0.085  0.068  0.057\n",
       "операция с недвижимостью  0.098  0.083  0.068  0.055  0.043\n",
       "проведение свадьбы        0.097  0.089  0.081  0.065  0.044"
      ]
     },
     "execution_count": 49,
     "metadata": {},
     "output_type": "execute_result"
    }
   ],
   "source": [
    "# сформируем сводную таблицу с применением метода pivot_table(), она приобретает среднее значение по умолчанию\n",
    "purpose_age_group = data.pivot_table(index ='purpose_category',\n",
    "                                     columns='age_group',\n",
    "                                     values='debt'\n",
    ").round(3)\n",
    "# отсортируем по столбцу с наименьшим возрастом\n",
    "purpose_age_group= purpose_age_group.sort_values('18-30', ascending=False)\n",
    "# выведем на экран\n",
    "purpose_age_group"
   ]
  },
  {
   "cell_type": "code",
   "execution_count": 50,
   "id": "c9d4b69e",
   "metadata": {},
   "outputs": [
    {
     "data": {
      "image/png": "[encoded data removed]",
      "text/plain": [
       "<Figure size 1200x800 with 2 Axes>"
      ]
     },
     "metadata": {},
     "output_type": "display_data"
    }
   ],
   "source": [
    "# для наглядности построим тепловую карту зависимостей\n",
    "plt.figure(figsize=(12, 8))\n",
    "sns.heatmap(purpose_age_group , annot=True, cmap='coolwarm', fmt=\".3f\")\n",
    "plt.title('Тепловая карта зависимости от цели кредита и возраста')\n",
    "plt.xlabel('Возрастные категории')\n",
    "plt.ylabel('Цели кредита')\n",
    "plt.xticks(rotation=45)\n",
    "plt.yticks(rotation=0)\n",
    "plt.tight_layout()\n",
    "plt.show()"
   ]
  },
  {
   "cell_type": "markdown",
   "id": "a1e08775",
   "metadata": {},
   "source": [
    "На получившейся тепловой карте мы можем наглядно увидеть как распределяются доли должников в различных возрастных группах по цели кредита, мы видим что  клиенты берущие кредит на получение образования или покупку автомобиля имеют самый высокий процент задолженностей от 10 до 13 %!\n",
    "\n",
    "\n",
    "*Доля должников среди клиентов в целом идет на уменьшение с увеличением возраста, поэтому можно считать что гипотеза не подверждена, так как влияние в данном случае оказывает именно цель получения кредита.*"
   ]
  },
  {
   "cell_type": "markdown",
   "id": "3518f9e0",
   "metadata": {},
   "source": [
    "#### **Выводы** "
   ]
  },
  {
   "cell_type": "markdown",
   "id": "90a86e94",
   "metadata": {},
   "source": [
    "Количество записей в каждой группе позволяет сделать выводы без каких либо изменений в структуре данных.\n",
    "\n",
    "\n",
    "Из предоставленных данных можно сделать следующие выводы:\n",
    "\n",
    "- Клиенты чаще  берут кредит на операции с недвижимостью, такие операции имеют наименьший процент задолженностей - 7.3 % Это может быть связано с тем, что приобретение недвижимости часто связано с более крупными и долгосрочными финансовыми планами, что способствует более ответственному подходу к управлению кредитами.\n",
    "- Отсортированная столбчатая диаграмма выше представляет собой антирейтинг клиентов от худшего к лучшему;\n",
    "- Клиенты, берущие кредит на проведение свадьбы, имеют немного ниже процент задолженностей - 7.9%, по сравнению с клиентами, берущими кредит на операции с автомобилем или получение образования. Это может быть связано с тем, что свадьба, как правило, планируется заранее, что позволяет лучше оценить финансовые возможности и подготовиться к погашению кредита.\n",
    "- Большее количество долгов по кредиту среди клиентов берущих кредит на операцию с автомобилем\\получение образования  связано в первую очередь с целью, так как изменения по распределению должников наблюдаются во всех категориях в зависимости от возраста;\n",
    "\n",
    "**Таким образом, можно сделать вывод, что цель кредита может влиять на возврат кредита в срок, причем клиенты, берущие кредит на операции с недвижимостью \\ проведение свадьбы , обычно имеют наиболее меньший процент задолженностей, чем клиенты, берущие кредиты на автомобиль или образование.**"
   ]
  },
  {
   "cell_type": "markdown",
   "id": "34cc3cd7",
   "metadata": {},
   "source": [
    " "
   ]
  },
  {
   "cell_type": "markdown",
   "id": "800f0c46",
   "metadata": {},
   "source": [
    " "
   ]
  },
  {
   "cell_type": "markdown",
   "id": "9ccb1bc3",
   "metadata": {},
   "source": [
    " "
   ]
  },
  {
   "cell_type": "markdown",
   "id": "9560a627",
   "metadata": {},
   "source": [
    "### **Приведите возможные причины появления пропусков в исходных данных.**"
   ]
  },
  {
   "cell_type": "markdown",
   "id": "566bb9cb",
   "metadata": {},
   "source": [
    "Продублируем информацию из раздела 2.4 \"Пропуски и возможные причины их появления\""
   ]
  },
  {
   "cell_type": "markdown",
   "id": "60db0900",
   "metadata": {},
   "source": [
    "*Количество пропусков по двум столбцам было равным и составляло около 10 % от общего количества записей*"
   ]
  },
  {
   "cell_type": "code",
   "execution_count": 51,
   "id": "2c091339",
   "metadata": {},
   "outputs": [
    {
     "data": {
      "text/html": [
       "<img src=\"https://i.postimg.cc/vmj8SDTx/2024-04-27-14-26-54.png\"/>"
      ],
      "text/plain": [
       "<IPython.core.display.Image object>"
      ]
     },
     "metadata": {},
     "output_type": "display_data"
    }
   ],
   "source": [
    "from IPython.display import Image\n",
    "display(Image(url='https://i.postimg.cc/vmj8SDTx/2024-04-27-14-26-54.png'))"
   ]
  },
  {
   "cell_type": "markdown",
   "id": "564b66b2",
   "metadata": {},
   "source": [
    "Из приведённой выше матрицы мы видим, что распределение пропущенных значений выглядит неслучайным, существует корреляция между пропущенными значениями в обоих столбцах и возможно существование зависимости от самого значения показателя.\n",
    "Отнесём пропуски к **неслучайным** (*missing not at random, MNAR*)"
   ]
  },
  {
   "cell_type": "markdown",
   "id": "f8551808",
   "metadata": {},
   "source": [
    "Ответ: \n",
    "    \n",
    "**Возможными причинами  возниковения  пропусков в датасете могут быть:** \n",
    "- желание респондента скрыть реальные доходы и стаж работы с целью увеличения шанса на одобрение кредита;\n",
    "- ошибки при внесении данных;\n",
    "- ошибки при анкетировании."
   ]
  },
  {
   "cell_type": "markdown",
   "id": "8922b006",
   "metadata": {},
   "source": [
    " "
   ]
  },
  {
   "cell_type": "markdown",
   "id": "01c1680e",
   "metadata": {},
   "source": [
    "### **Объясните, почему заполнить пропуски медианным значением — лучшее решение для количественных переменных.**"
   ]
  },
  {
   "cell_type": "markdown",
   "id": "fb19908c",
   "metadata": {},
   "source": [
    "Ответ:\n",
    "\n",
    "**Любое заполнение пропусков расчетными данными в той или иной степени искажает данные.**\n",
    "\n",
    "**Для выполнения задачи по определению зависимостей между установленным целевым значением *debt* и другими переменными, главным кретерием является сохранение структуры для получения достоверной информации, точность данных в данном случае находится на втором плане.**\n",
    "\n",
    "Для заполнения пропусков в данном проекте мы использовали заполнение внутригрупповым  медианным значением, этот метод имеет ряд приемуществ:\n",
    "\n",
    "- Медианное значение — это число, которое находится в середине числового ряда, если его упорядочить. Оно может помочь сохранить структуру данных, которая может исказиться при использовании других методов заполнения пропусков.\n",
    "\n",
    "- Медианное значение устойчиво к экстремальным значениям (выбросам), что делает его надёжным методом заполнения пропусков в данных.\n",
    "\n",
    "- Рассчитать медианное значение проще и быстрее, чем использовать более сложные методы анализа данных.\n",
    "\n",
    "- В отличие от среднего арифметического, медианное значение не влияет на среднее значение в наборе данных, даже если в нём есть пропуски.\n",
    "\n",
    "**Таким образом, использование медианы для заполнения пропусков в количественных переменных обеспечивает баланс между сохранением структуры данных и минимизацией искажений.**"
   ]
  },
  {
   "cell_type": "markdown",
   "id": "d33a70b8",
   "metadata": {},
   "source": [
    "### **Проверка собственных гипотез**"
   ]
  },
  {
   "cell_type": "markdown",
   "id": "447c90aa",
   "metadata": {},
   "source": [
    "#### **Есть ли зависимость между возрастом клиента и возвратом кредита в срок?**"
   ]
  },
  {
   "cell_type": "markdown",
   "id": "dd59c6f9",
   "metadata": {},
   "source": [
    "Так как значение категориальное значение **age_group** основано на количественной переменной **dob_years**, мы можем напрямую сравнить как изменяется доля должников в зависимости от возраста, сортировка таблицы для анализа в данном случае не требуется."
   ]
  },
  {
   "cell_type": "code",
   "execution_count": 62,
   "id": "24a3c30a",
   "metadata": {},
   "outputs": [
    {
     "data": {
      "text/html": [
       "<div>\n",
       "<style scoped>\n",
       "    .dataframe tbody tr th:only-of-type {\n",
       "        vertical-align: middle;\n",
       "    }\n",
       "\n",
       "    .dataframe tbody tr th {\n",
       "        vertical-align: top;\n",
       "    }\n",
       "\n",
       "    .dataframe thead tr th {\n",
       "        text-align: left;\n",
       "    }\n",
       "\n",
       "    .dataframe thead tr:last-of-type th {\n",
       "        text-align: right;\n",
       "    }\n",
       "</style>\n",
       "<table border=\"1\" class=\"dataframe\">\n",
       "  <thead>\n",
       "    <tr>\n",
       "      <th></th>\n",
       "      <th>count</th>\n",
       "      <th>sum</th>\n",
       "      <th>mean</th>\n",
       "    </tr>\n",
       "    <tr>\n",
       "      <th></th>\n",
       "      <th>debt</th>\n",
       "      <th>debt</th>\n",
       "      <th>debt</th>\n",
       "    </tr>\n",
       "    <tr>\n",
       "      <th>children</th>\n",
       "      <th></th>\n",
       "      <th></th>\n",
       "      <th></th>\n",
       "    </tr>\n",
       "  </thead>\n",
       "  <tbody>\n",
       "    <tr>\n",
       "      <th>0</th>\n",
       "      <td>14090</td>\n",
       "      <td>1063</td>\n",
       "      <td>0.075444</td>\n",
       "    </tr>\n",
       "    <tr>\n",
       "      <th>1</th>\n",
       "      <td>4808</td>\n",
       "      <td>444</td>\n",
       "      <td>0.092346</td>\n",
       "    </tr>\n",
       "    <tr>\n",
       "      <th>2</th>\n",
       "      <td>2052</td>\n",
       "      <td>194</td>\n",
       "      <td>0.094542</td>\n",
       "    </tr>\n",
       "    <tr>\n",
       "      <th>3</th>\n",
       "      <td>330</td>\n",
       "      <td>27</td>\n",
       "      <td>0.081818</td>\n",
       "    </tr>\n",
       "    <tr>\n",
       "      <th>4</th>\n",
       "      <td>41</td>\n",
       "      <td>4</td>\n",
       "      <td>0.097561</td>\n",
       "    </tr>\n",
       "    <tr>\n",
       "      <th>5</th>\n",
       "      <td>9</td>\n",
       "      <td>0</td>\n",
       "      <td>0.000000</td>\n",
       "    </tr>\n",
       "  </tbody>\n",
       "</table>\n",
       "</div>"
      ],
      "text/plain": [
       "          count   sum      mean\n",
       "           debt  debt      debt\n",
       "children                       \n",
       "0         14090  1063  0.075444\n",
       "1          4808   444  0.092346\n",
       "2          2052   194  0.094542\n",
       "3           330    27  0.081818\n",
       "4            41     4  0.097561\n",
       "5             9     0  0.000000"
      ]
     },
     "execution_count": 62,
     "metadata": {},
     "output_type": "execute_result"
    }
   ],
   "source": [
    "data.pivot_table(index='children', \n",
    "                           #columns=None,\n",
    "                            values='debt',\n",
    "                            aggfunc=['count', 'sum', 'mean'])"
   ]
  },
  {
   "cell_type": "code",
   "execution_count": 52,
   "id": "b11efc46",
   "metadata": {},
   "outputs": [
    {
     "data": {
      "text/html": [
       "<div>\n",
       "<style scoped>\n",
       "    .dataframe tbody tr th:only-of-type {\n",
       "        vertical-align: middle;\n",
       "    }\n",
       "\n",
       "    .dataframe tbody tr th {\n",
       "        vertical-align: top;\n",
       "    }\n",
       "\n",
       "    .dataframe thead th {\n",
       "        text-align: right;\n",
       "    }\n",
       "</style>\n",
       "<table border=\"1\" class=\"dataframe\">\n",
       "  <thead>\n",
       "    <tr style=\"text-align: right;\">\n",
       "      <th></th>\n",
       "      <th>total_counts</th>\n",
       "      <th>debt_counts</th>\n",
       "      <th>debt_rate</th>\n",
       "    </tr>\n",
       "    <tr>\n",
       "      <th>age_group</th>\n",
       "      <th></th>\n",
       "      <th></th>\n",
       "      <th></th>\n",
       "    </tr>\n",
       "  </thead>\n",
       "  <tbody>\n",
       "    <tr>\n",
       "      <th>&lt;18</th>\n",
       "      <td>0</td>\n",
       "      <td>0</td>\n",
       "      <td>NaN</td>\n",
       "    </tr>\n",
       "    <tr>\n",
       "      <th>18-30</th>\n",
       "      <td>3699</td>\n",
       "      <td>403</td>\n",
       "      <td>0.109</td>\n",
       "    </tr>\n",
       "    <tr>\n",
       "      <th>30-40</th>\n",
       "      <td>5773</td>\n",
       "      <td>548</td>\n",
       "      <td>0.095</td>\n",
       "    </tr>\n",
       "    <tr>\n",
       "      <th>40-50</th>\n",
       "      <td>5225</td>\n",
       "      <td>400</td>\n",
       "      <td>0.077</td>\n",
       "    </tr>\n",
       "    <tr>\n",
       "      <th>50-60</th>\n",
       "      <td>4516</td>\n",
       "      <td>280</td>\n",
       "      <td>0.062</td>\n",
       "    </tr>\n",
       "    <tr>\n",
       "      <th>60+</th>\n",
       "      <td>2118</td>\n",
       "      <td>101</td>\n",
       "      <td>0.048</td>\n",
       "    </tr>\n",
       "  </tbody>\n",
       "</table>\n",
       "</div>"
      ],
      "text/plain": [
       "           total_counts  debt_counts  debt_rate\n",
       "age_group                                      \n",
       "<18                   0            0        NaN\n",
       "18-30              3699          403      0.109\n",
       "30-40              5773          548      0.095\n",
       "40-50              5225          400      0.077\n",
       "50-60              4516          280      0.062\n",
       "60+                2118          101      0.048"
      ]
     },
     "metadata": {},
     "output_type": "display_data"
    },
    {
     "name": "stderr",
     "output_type": "stream",
     "text": [
      "C:\\Users\\user\\AppData\\Local\\Temp\\ipykernel_7096\\2124465265.py:13: UserWarning: set_ticklabels() should only be used with a fixed number of ticks, i.e. after set_ticks() or using a FixedLocator.\n",
      "  ax.set_xticklabels(sorted_p.index, rotation=90)\n"
     ]
    },
    {
     "data": {
      "image/png": "[encoded data removed]",
      "text/plain": [
       "<Figure size 640x480 with 1 Axes>"
      ]
     },
     "metadata": {},
     "output_type": "display_data"
    }
   ],
   "source": [
    "# сформируем сводную таблицу по столбцу total_income_category и отсортируем по убыванию\n",
    "#display(data.groupby('age_group')['debt'].agg(['count', 'sum', 'mean']).round(3))\n",
    "# отобразим столбчатую диаграмму\n",
    "#data.groupby('age_group')['debt'].agg(['mean']).round(3).plot(kind='bar')\n",
    "#plt.title('Зависимость возврата кредита в срок от возраста клиента')\n",
    "#plt.xlabel('Возрастная группа')\n",
    "#plt.ylabel('Доля должников по группе')\n",
    "#plt.show()\n",
    "pivotfunc(data, 'age_group')"
   ]
  },
  {
   "cell_type": "markdown",
   "id": "228cff4b",
   "metadata": {},
   "source": [
    "Количество записей в каждой группе позволяет сделать выводы без каких либо изменений в структуре данных.\n",
    "\n",
    "\n",
    "Из представленных данных, мы можем сделать следующие выводы:\n",
    "\n",
    "- Людям не выдают кредиты до 18 лет;\n",
    "- **Доля клиентов, имеющих задолженность, постепенно уменьшается с увеличением возраста: от 10.9% для группы 18-30 до 4.8% для группы 60+.;**\n",
    "- Можно предположить, что старшие возрастные группы, вероятно, обладают более стабильной финансовой ситуацией и более ответственным подходом к возврату кредитов, что приводит к уменьшению количества задолженностей.\n",
    "- **Чем ниже возраст клиента, тем больше шанс просрочки и тем меньше вероятность одобрения кредита.**\n",
    "\n",
    "**Таким образом, на основе представленных данных можно сделать вывод о наличии зависимости между возрастом клиентов и возвратом кредита в срок, с увеличением возраста клиентов наблюдается уменьшение вероятности задолженности.**"
   ]
  },
  {
   "cell_type": "markdown",
   "id": "2b0fba2a",
   "metadata": {},
   "source": [
    " \n"
   ]
  },
  {
   "cell_type": "markdown",
   "id": "c51a904b",
   "metadata": {},
   "source": [
    " "
   ]
  },
  {
   "cell_type": "markdown",
   "id": "e1763b02",
   "metadata": {},
   "source": [
    "#### **Есть ли зависимость между стажем работы клиента и возвратом кредита в срок?**"
   ]
  },
  {
   "cell_type": "markdown",
   "id": "516d465a",
   "metadata": {},
   "source": [
    "Так как значение переменной **days_employed** является количественным, мы можем напрямую сравнить как изменяется доля должников в зависимости от возраста, сортировка таблицы для анализа в данном случае не требуется.\n",
    "\n",
    "Для начала распределим на группы по значению трудового стажа.\n",
    "Возьмем следующие значения:\n",
    "- от нуля до года; \n",
    "- от года до трех лет; \n",
    "- от трех до пяти лет;\n",
    "- от пяти до 10 лет;\n",
    "- от 10 и выше."
   ]
  },
  {
   "cell_type": "code",
   "execution_count": 53,
   "id": "98d80652",
   "metadata": {},
   "outputs": [
    {
     "data": {
      "text/html": [
       "<div>\n",
       "<style scoped>\n",
       "    .dataframe tbody tr th:only-of-type {\n",
       "        vertical-align: middle;\n",
       "    }\n",
       "\n",
       "    .dataframe tbody tr th {\n",
       "        vertical-align: top;\n",
       "    }\n",
       "\n",
       "    .dataframe thead th {\n",
       "        text-align: right;\n",
       "    }\n",
       "</style>\n",
       "<table border=\"1\" class=\"dataframe\">\n",
       "  <thead>\n",
       "    <tr style=\"text-align: right;\">\n",
       "      <th></th>\n",
       "      <th>total_counts</th>\n",
       "      <th>debt_counts</th>\n",
       "      <th>debt_rate</th>\n",
       "    </tr>\n",
       "    <tr>\n",
       "      <th>days_employed_new</th>\n",
       "      <th></th>\n",
       "      <th></th>\n",
       "      <th></th>\n",
       "    </tr>\n",
       "  </thead>\n",
       "  <tbody>\n",
       "    <tr>\n",
       "      <th>от нуля до года</th>\n",
       "      <td>1817</td>\n",
       "      <td>193</td>\n",
       "      <td>0.106</td>\n",
       "    </tr>\n",
       "    <tr>\n",
       "      <th>от года до трех лет</th>\n",
       "      <td>3870</td>\n",
       "      <td>435</td>\n",
       "      <td>0.112</td>\n",
       "    </tr>\n",
       "    <tr>\n",
       "      <th>от трех до пяти лет</th>\n",
       "      <td>4509</td>\n",
       "      <td>380</td>\n",
       "      <td>0.084</td>\n",
       "    </tr>\n",
       "    <tr>\n",
       "      <th>от пяти до 10 лет</th>\n",
       "      <td>7961</td>\n",
       "      <td>558</td>\n",
       "      <td>0.070</td>\n",
       "    </tr>\n",
       "    <tr>\n",
       "      <th>10 лет и выше</th>\n",
       "      <td>3174</td>\n",
       "      <td>166</td>\n",
       "      <td>0.052</td>\n",
       "    </tr>\n",
       "  </tbody>\n",
       "</table>\n",
       "</div>"
      ],
      "text/plain": [
       "                     total_counts  debt_counts  debt_rate\n",
       "days_employed_new                                        \n",
       "от нуля до года              1817          193      0.106\n",
       "от года до трех лет          3870          435      0.112\n",
       "от трех до пяти лет          4509          380      0.084\n",
       "от пяти до 10 лет            7961          558      0.070\n",
       "10 лет и выше                3174          166      0.052"
      ]
     },
     "metadata": {},
     "output_type": "display_data"
    },
    {
     "name": "stderr",
     "output_type": "stream",
     "text": [
      "C:\\Users\\user\\AppData\\Local\\Temp\\ipykernel_7096\\2124465265.py:13: UserWarning: set_ticklabels() should only be used with a fixed number of ticks, i.e. after set_ticks() or using a FixedLocator.\n",
      "  ax.set_xticklabels(sorted_p.index, rotation=90)\n"
     ]
    },
    {
     "data": {
      "image/png": "[encoded data removed]",
      "text/plain": [
       "<Figure size 640x480 with 1 Axes>"
      ]
     },
     "metadata": {},
     "output_type": "display_data"
    }
   ],
   "source": [
    "#объединеним значения методом .cut()\n",
    "data['days_employed_new'] = pd.cut(\n",
    "\n",
    "    data['days_employed'],\n",
    "\n",
    "    bins=[0, 365, 1095, 1825, 3625, 19000], # границы \n",
    "\n",
    "    labels=['от нуля до года', 'от года до трех лет', 'от трех до пяти лет', 'от пяти до 10 лет', '10 лет и выше'] # названия \n",
    ")\n",
    "# сформируем сводную таблицу по столбцу total_income_group и отсортируем по убыванию\n",
    "#display(data.groupby('days_employed_new')['debt'].agg(['count', 'sum', 'mean']).round(3).sort_values('mean',ascending=False))\n",
    "# отобразим столбчатую диаграмму\n",
    "#data.groupby('days_employed_new')['debt'].agg(['mean']).round(3).sort_values('mean',ascending=False).plot(kind='bar')\n",
    "#plt.title('Зависимость возврата кредита в срок от стажа работы')\n",
    "#plt.xlabel('Стаж работы')\n",
    "#plt.ylabel('Доля должников по группе')\n",
    "#plt.show()\n",
    "\n",
    "pivotfunc(data, 'days_employed_new')\n"
   ]
  },
  {
   "cell_type": "markdown",
   "id": "7a5f69cf",
   "metadata": {},
   "source": [
    "Количество записей в каждой группе позволяет сделать выводы без каких либо изменений в структуре данных.\n",
    "\n",
    "Данные были искажены при замене аномальных значений, но мы можем расчитывать на сохранение структуры для построения выводов.\n",
    "\n",
    "Из представленных данных, можно сделать следующие выводы:\n",
    "- Чаще всего берут кредиты люди со стажем работы от 5 до 10 лет;\n",
    "- Эти же люди оказываются на втором месте кредитного рейтинга среди данных категорий, уступая лишь людям со стажем 10 и более лет;\n",
    "- Среди клиентов со стажем 10 лет и выше, доля задолженностей по кредиту составляет на 5,2 %, что на 6% ниже чем у клиентов со стажем до года;\n",
    "- Чем меньше стаж работы клиента тем больше вероятность просрочки и тем  меньше вероятность одобрения кредита. Это может быть связано с тем, что люди только начинающие свою карьеру могут иметь более нестабильный финансовую ситуацию и меньший опыт управления финансами.\n",
    "\n",
    "**Таким образом, можно сделать вывод о наличии зависимости между длительностью трудового стажа и возвратом кредита в срок. Чем больше трудовой стаж у клиента, тем меньше вероятность задолженности по кредиту, вероятно из-за улучшения финансовой стабильности и опыта в управлении финансами.**\n"
   ]
  },
  {
   "cell_type": "markdown",
   "id": "815c5f1b",
   "metadata": {},
   "source": [
    "#### **Есть ли зависимость между полом клиента и возвратом кредита в срок?**"
   ]
  },
  {
   "cell_type": "markdown",
   "id": "ca138dfa",
   "metadata": {},
   "source": [
    "Значение переменной **gender** является категориальным, мы не можем напрямую сравнить два показателя, поэтому отсортируем сводную таблицу по среднему значению целевой переменной **debt** для формирования рейтинга."
   ]
  },
  {
   "cell_type": "code",
   "execution_count": 54,
   "id": "171df198",
   "metadata": {},
   "outputs": [
    {
     "data": {
      "text/html": [
       "<div>\n",
       "<style scoped>\n",
       "    .dataframe tbody tr th:only-of-type {\n",
       "        vertical-align: middle;\n",
       "    }\n",
       "\n",
       "    .dataframe tbody tr th {\n",
       "        vertical-align: top;\n",
       "    }\n",
       "\n",
       "    .dataframe thead th {\n",
       "        text-align: right;\n",
       "    }\n",
       "</style>\n",
       "<table border=\"1\" class=\"dataframe\">\n",
       "  <thead>\n",
       "    <tr style=\"text-align: right;\">\n",
       "      <th></th>\n",
       "      <th>count</th>\n",
       "      <th>sum</th>\n",
       "      <th>mean</th>\n",
       "    </tr>\n",
       "    <tr>\n",
       "      <th>gender</th>\n",
       "      <th></th>\n",
       "      <th></th>\n",
       "      <th></th>\n",
       "    </tr>\n",
       "  </thead>\n",
       "  <tbody>\n",
       "    <tr>\n",
       "      <th>M</th>\n",
       "      <td>7238</td>\n",
       "      <td>743</td>\n",
       "      <td>0.103</td>\n",
       "    </tr>\n",
       "    <tr>\n",
       "      <th>F</th>\n",
       "      <td>14092</td>\n",
       "      <td>989</td>\n",
       "      <td>0.070</td>\n",
       "    </tr>\n",
       "    <tr>\n",
       "      <th>XNA</th>\n",
       "      <td>1</td>\n",
       "      <td>0</td>\n",
       "      <td>0.000</td>\n",
       "    </tr>\n",
       "  </tbody>\n",
       "</table>\n",
       "</div>"
      ],
      "text/plain": [
       "        count  sum   mean\n",
       "gender                   \n",
       "M        7238  743  0.103\n",
       "F       14092  989  0.070\n",
       "XNA         1    0  0.000"
      ]
     },
     "metadata": {},
     "output_type": "display_data"
    }
   ],
   "source": [
    "# сформируем сводную таблицу по столбцу 'purpose_category' и отсортируем по убыванию\n",
    "display(data.groupby('gender')['debt'].agg(['count', 'sum', 'mean']).round(3).sort_values('mean',ascending=False))"
   ]
  },
  {
   "cell_type": "code",
   "execution_count": 55,
   "id": "d8c8e937",
   "metadata": {},
   "outputs": [
    {
     "data": {
      "text/html": [
       "<div>\n",
       "<style scoped>\n",
       "    .dataframe tbody tr th:only-of-type {\n",
       "        vertical-align: middle;\n",
       "    }\n",
       "\n",
       "    .dataframe tbody tr th {\n",
       "        vertical-align: top;\n",
       "    }\n",
       "\n",
       "    .dataframe thead th {\n",
       "        text-align: right;\n",
       "    }\n",
       "</style>\n",
       "<table border=\"1\" class=\"dataframe\">\n",
       "  <thead>\n",
       "    <tr style=\"text-align: right;\">\n",
       "      <th></th>\n",
       "      <th>total_counts</th>\n",
       "      <th>debt_counts</th>\n",
       "      <th>debt_rate</th>\n",
       "    </tr>\n",
       "    <tr>\n",
       "      <th>gender</th>\n",
       "      <th></th>\n",
       "      <th></th>\n",
       "      <th></th>\n",
       "    </tr>\n",
       "  </thead>\n",
       "  <tbody>\n",
       "    <tr>\n",
       "      <th>F</th>\n",
       "      <td>14092</td>\n",
       "      <td>989</td>\n",
       "      <td>0.070</td>\n",
       "    </tr>\n",
       "    <tr>\n",
       "      <th>M</th>\n",
       "      <td>7238</td>\n",
       "      <td>743</td>\n",
       "      <td>0.103</td>\n",
       "    </tr>\n",
       "  </tbody>\n",
       "</table>\n",
       "</div>"
      ],
      "text/plain": [
       "        total_counts  debt_counts  debt_rate\n",
       "gender                                      \n",
       "F              14092          989      0.070\n",
       "M               7238          743      0.103"
      ]
     },
     "metadata": {},
     "output_type": "display_data"
    },
    {
     "name": "stderr",
     "output_type": "stream",
     "text": [
      "C:\\Users\\user\\AppData\\Local\\Temp\\ipykernel_7096\\2124465265.py:13: UserWarning: set_ticklabels() should only be used with a fixed number of ticks, i.e. after set_ticks() or using a FixedLocator.\n",
      "  ax.set_xticklabels(sorted_p.index, rotation=90)\n"
     ]
    },
    {
     "data": {
      "image/png": "[encoded data removed]",
      "text/plain": [
       "<Figure size 640x480 with 1 Axes>"
      ]
     },
     "metadata": {},
     "output_type": "display_data"
    }
   ],
   "source": [
    "# отбросим значения из категории XNA , для этого используем метод .isin()\n",
    "# создадим отфильтрованный датафрейм\n",
    "data = data[(data['gender'] != 'XNA')]\n",
    "# отобразим столбчатую диаграмму\n",
    "#data.groupby('gender')['debt'].agg(['mean']).round(3).sort_values('mean',ascending=False).plot(kind='bar')\n",
    "#plt.title('Зависимость возврата кредита в срок от пола клиента')\n",
    "#plt.xlabel('Пол клиента')\n",
    "#plt.ylabel('Доля должников по группе')\n",
    "#plt.show()\n",
    "pivotfunc(data, 'gender')"
   ]
  },
  {
   "cell_type": "markdown",
   "id": "875413ba",
   "metadata": {},
   "source": [
    "*Гипотеза -  на мужчин иногда сваливается содержание семьи. Проверим как влияет семейное положение  на мужчин и женщин а части возврата кредитов.*"
   ]
  },
  {
   "cell_type": "code",
   "execution_count": 56,
   "id": "028bd24d",
   "metadata": {},
   "outputs": [
    {
     "data": {
      "text/html": [
       "<div>\n",
       "<style scoped>\n",
       "    .dataframe tbody tr th:only-of-type {\n",
       "        vertical-align: middle;\n",
       "    }\n",
       "\n",
       "    .dataframe tbody tr th {\n",
       "        vertical-align: top;\n",
       "    }\n",
       "\n",
       "    .dataframe thead th {\n",
       "        text-align: right;\n",
       "    }\n",
       "</style>\n",
       "<table border=\"1\" class=\"dataframe\">\n",
       "  <thead>\n",
       "    <tr style=\"text-align: right;\">\n",
       "      <th>gender</th>\n",
       "      <th>F</th>\n",
       "      <th>M</th>\n",
       "    </tr>\n",
       "    <tr>\n",
       "      <th>family_status</th>\n",
       "      <th></th>\n",
       "      <th></th>\n",
       "    </tr>\n",
       "  </thead>\n",
       "  <tbody>\n",
       "    <tr>\n",
       "      <th>вдовец / вдова</th>\n",
       "      <td>0.058</td>\n",
       "      <td>0.200</td>\n",
       "    </tr>\n",
       "    <tr>\n",
       "      <th>Не женат / не замужем</th>\n",
       "      <td>0.068</td>\n",
       "      <td>0.144</td>\n",
       "    </tr>\n",
       "    <tr>\n",
       "      <th>гражданский брак</th>\n",
       "      <td>0.082</td>\n",
       "      <td>0.118</td>\n",
       "    </tr>\n",
       "    <tr>\n",
       "      <th>в разводе</th>\n",
       "      <td>0.066</td>\n",
       "      <td>0.089</td>\n",
       "    </tr>\n",
       "    <tr>\n",
       "      <th>женат / замужем</th>\n",
       "      <td>0.068</td>\n",
       "      <td>0.088</td>\n",
       "    </tr>\n",
       "  </tbody>\n",
       "</table>\n",
       "</div>"
      ],
      "text/plain": [
       "gender                     F      M\n",
       "family_status                      \n",
       "вдовец / вдова         0.058  0.200\n",
       "Не женат / не замужем  0.068  0.144\n",
       "гражданский брак       0.082  0.118\n",
       "в разводе              0.066  0.089\n",
       "женат / замужем        0.068  0.088"
      ]
     },
     "execution_count": 56,
     "metadata": {},
     "output_type": "execute_result"
    }
   ],
   "source": [
    "# сформируем сводную таблицу с применением метода pivot_table(), она приобретает среднее значение по умолчанию\n",
    "family_gender = data.pivot_table(index ='family_status',\n",
    "                                     columns='gender',\n",
    "                                     values='debt'\n",
    ").round(3)\n",
    "# отсортируем по столбцу с наименьшим возрастом\n",
    "family_gender = family_gender.sort_values('M', ascending=False)\n",
    "# выведем на экран\n",
    "family_gender"
   ]
  },
  {
   "cell_type": "code",
   "execution_count": 57,
   "id": "447d6a0e",
   "metadata": {},
   "outputs": [
    {
     "data": {
      "image/png": "[encoded data removed]",
      "text/plain": [
       "<Figure size 1200x800 with 2 Axes>"
      ]
     },
     "metadata": {},
     "output_type": "display_data"
    }
   ],
   "source": [
    "# для наглядности построим тепловую карту зависимостей\n",
    "plt.figure(figsize=(12, 8))\n",
    "sns.heatmap(family_gender , annot=True, cmap='coolwarm', fmt=\".3f\")\n",
    "plt.title('Тепловая карта зависимости от семейного положения и пола клиента')\n",
    "plt.xlabel('Пол клиента')\n",
    "plt.ylabel('Семейное положение')\n",
    "plt.xticks(rotation=45)\n",
    "plt.yticks(rotation=0)\n",
    "plt.tight_layout()\n",
    "plt.show()"
   ]
  },
  {
   "cell_type": "markdown",
   "id": "3c36874e",
   "metadata": {},
   "source": [
    "На получившейся тепловой карте, мы можем наглядно увидеть как распределяются доли должников среди женщин и мужчин в зависимости от их семейного статуса:\n",
    "\n",
    "- Клиенты-женщины в целом стабильны по выплате кредита вне зависимости от семейного положения, за исключением гражданского брака. Женщины-клиенты, которые находятся в гражданском браке, чаще оказываются среди должников — 8,2 %, а реже всего в должники попадают овдовевшие женщины — 5,8 %.\n",
    "\n",
    "- Среди клиентов-мужчин вдовцов — 20 % — оказываются должниками, следом за ними идут неженатые клиенты — 14 % должников.\n",
    "\n",
    "- Стабильнее всех в финансовом плане оказались женатые и разведённые мужчины, должников среди них лишь 8,8 %.\n",
    "\n",
    "**Таким образом, можно сделать вывод, что содержание семьи влияет на финансовое положение мужчин скорее благотворно. Поэтому гипотезу о корреляции финансовых проблем мужского населения с нелегкой семейной долей можно считать опровергнутой! =)**"
   ]
  },
  {
   "cell_type": "markdown",
   "id": "c947faa4",
   "metadata": {},
   "source": [
    "Количество записей в каждой группе позволяет сделать выводы без каких либо изменений в структуре данных.\n",
    "\n",
    "Из представленных данных, можно сделать следующие выводы:\n",
    "- Среди клиентов банка женщин в два раза больше чем мужчин!\n",
    "- Клиенты мужского пола имеют более высокий процент задолженностей - 10.3%, чем клиенты женского пола, у которых этот процент составляет 7.0%.\n",
    "- Это может указывать на то, что мужчины, возможно, чаще сталкиваются с финансовыми трудностями или менее ответственно относятся к возврату кредитов.\n",
    "- В то же время, женщины, вероятно, имеют более надежный и стабильный подход к управлению финансами, что отражается в более низком проценте задолженностей.\n",
    "- А еще женщины в целом имеют меньше вредных привычек, дольше живут, и более созидательны и рациональны, чем мужчины... Правда или ложь? =)\n",
    "\n",
    "**Таким образом, на основе представленных данных можно сделать вывод о наличии зависимости между полом клиента и возвратом кредита в срок. Клиенты женского пола имеют меньший процент задолженностей по сравнению с клиентами мужского пола.**"
   ]
  },
  {
   "cell_type": "markdown",
   "id": "8db51b8f",
   "metadata": {},
   "source": [
    "#### **Есть ли зависимость между уровнем образования клиента и возвратом кредита в срок?**"
   ]
  },
  {
   "cell_type": "markdown",
   "id": "2c12a0d8",
   "metadata": {},
   "source": [
    "Значение переменной **education** является категориальным, мы не можем напрямую сравнить два показателя, поэтому отсортируем сводную таблицу по среднему значению целевой переменной **debt** для формирования рейтинга."
   ]
  },
  {
   "cell_type": "code",
   "execution_count": 58,
   "id": "48af0c31",
   "metadata": {},
   "outputs": [
    {
     "data": {
      "text/html": [
       "<div>\n",
       "<style scoped>\n",
       "    .dataframe tbody tr th:only-of-type {\n",
       "        vertical-align: middle;\n",
       "    }\n",
       "\n",
       "    .dataframe tbody tr th {\n",
       "        vertical-align: top;\n",
       "    }\n",
       "\n",
       "    .dataframe thead th {\n",
       "        text-align: right;\n",
       "    }\n",
       "</style>\n",
       "<table border=\"1\" class=\"dataframe\">\n",
       "  <thead>\n",
       "    <tr style=\"text-align: right;\">\n",
       "      <th></th>\n",
       "      <th>total_counts</th>\n",
       "      <th>debt_counts</th>\n",
       "      <th>debt_rate</th>\n",
       "    </tr>\n",
       "    <tr>\n",
       "      <th>education</th>\n",
       "      <th></th>\n",
       "      <th></th>\n",
       "      <th></th>\n",
       "    </tr>\n",
       "  </thead>\n",
       "  <tbody>\n",
       "    <tr>\n",
       "      <th>высшее</th>\n",
       "      <td>5227</td>\n",
       "      <td>278</td>\n",
       "      <td>0.053</td>\n",
       "    </tr>\n",
       "    <tr>\n",
       "      <th>начальное</th>\n",
       "      <td>282</td>\n",
       "      <td>31</td>\n",
       "      <td>0.110</td>\n",
       "    </tr>\n",
       "    <tr>\n",
       "      <th>неоконченное высшее</th>\n",
       "      <td>740</td>\n",
       "      <td>68</td>\n",
       "      <td>0.092</td>\n",
       "    </tr>\n",
       "    <tr>\n",
       "      <th>среднее</th>\n",
       "      <td>15075</td>\n",
       "      <td>1355</td>\n",
       "      <td>0.090</td>\n",
       "    </tr>\n",
       "    <tr>\n",
       "      <th>ученая степень</th>\n",
       "      <td>6</td>\n",
       "      <td>0</td>\n",
       "      <td>0.000</td>\n",
       "    </tr>\n",
       "  </tbody>\n",
       "</table>\n",
       "</div>"
      ],
      "text/plain": [
       "                     total_counts  debt_counts  debt_rate\n",
       "education                                                \n",
       "высшее                       5227          278      0.053\n",
       "начальное                     282           31      0.110\n",
       "неоконченное высшее           740           68      0.092\n",
       "среднее                     15075         1355      0.090\n",
       "ученая степень                  6            0      0.000"
      ]
     },
     "metadata": {},
     "output_type": "display_data"
    },
    {
     "name": "stderr",
     "output_type": "stream",
     "text": [
      "C:\\Users\\user\\AppData\\Local\\Temp\\ipykernel_7096\\2124465265.py:13: UserWarning: set_ticklabels() should only be used with a fixed number of ticks, i.e. after set_ticks() or using a FixedLocator.\n",
      "  ax.set_xticklabels(sorted_p.index, rotation=90)\n"
     ]
    },
    {
     "data": {
      "image/png": "[encoded data removed]",
      "text/plain": [
       "<Figure size 640x480 with 1 Axes>"
      ]
     },
     "metadata": {},
     "output_type": "display_data"
    }
   ],
   "source": [
    "# сформируем сводную таблицу по столбцу 'purpose_category' и отсортируем по убыванию\n",
    "#display(data.groupby('education')['debt'].agg(['count', 'sum', 'mean']).round(3).sort_values('mean',ascending=False))\n",
    "# отобразим столбчатую диаграмму\n",
    "#data.groupby('education')['debt'].agg(['mean']).round(3).sort_values('mean',ascending=False).plot(kind='bar')\n",
    "\n",
    "pivotfunc(data, 'education')"
   ]
  },
  {
   "cell_type": "markdown",
   "id": "3e9d8a61",
   "metadata": {},
   "source": [
    "Из представленных данных, можно сделать следующие выводы:\n",
    "- Количество клиентов банка имеющих учёную степень крайне мало, для проведения хоть какого нибудь анализа;\n",
    "- Среди клиентов банка в три раза больше имеющих среднее образование чем клиентов имеющих высшее и в 50 раз больше чем имеющих начальное!\n",
    "- Клиенты с незаконченным высшим образованием имеют те же тенденции по возврату кредита в срок что и со средним их можно объединить\n",
    "- Клиенты с высшим образованием имеют наименьший процент задолженностей - 5.3%. Это может указывать на то, что образование на более высоком уровне может способствовать более ответственному подходу к управлению финансами и более успешному возврату кредитов.\n",
    "- Клиенты со средним и начальным образованием имеют более высокий процент задолженностей - 9.0% и 11.0%. Это может быть связано с менее стабильной финансовой ситуацией или меньшими возможностями для получения высокооплачиваемой работы.\n",
    "\n",
    "\n",
    "**Таким образом, можно сделать вывод о зависимости между уровнем образования клиента и возвратом кредита в срок. Обычно клиенты с более высоким уровнем образования имеют более низкий процент задолженностей, в то время как клиенты с более низким уровнем образования имеют более высокий процент задолженностей.**"
   ]
  },
  {
   "cell_type": "markdown",
   "id": "3d6b6ecc",
   "metadata": {},
   "source": [
    "\n",
    "  \n",
    "\n"
   ]
  },
  {
   "cell_type": "markdown",
   "id": "140329fc",
   "metadata": {},
   "source": [
    "## **Общий вывод**"
   ]
  },
  {
   "cell_type": "markdown",
   "id": "0fe717ef",
   "metadata": {},
   "source": [
    "**Скоринговая модель** — алгоритм или методика, которая позволяет оценить вероятность невыполнения обязательств потенциального заёмщика. Она используется банками и микрофинансовыми организациями для принятия решения о выдаче кредита или займа.\n",
    "Построение модели кредитного скоринга как правило подразумевает применение более сложных статистических методов таких как: регрессионный анализ, дискриминантный анализ, деревья решений и др.\n",
    "\n",
    "**Ответы на поставленные вопросы, по отдельности, не позволяют сделать однозначный вывод о целесообразности выдачи кредита клиенту.** \n",
    "\n",
    "   Однако, благодаря проведенному нами предварительному анализу, мы  выяснили какие факторы могут влиять на возврат кредита в срок и сделали следующие выводы: \n",
    "\n",
    "- Наличие детей у клиента может повлиять на его способность вернуть кредит в срок, так как клиенты с детьми чаще имеют задолженности.\n",
    "- Женатые/замужние клиенты обычно имеют более низкий процент задолженностей.\n",
    "- Клиенты с более высоким уровнем дохода и клиенты, берущие кредит на операции с недвижимостью или свадьбу, чаще возвращают кредиты в срок.\n",
    "- С возрастом клиентов наблюдается уменьшение вероятности задолженности.\n",
    "- Клиенты с более длительным трудовым стажем и клиенты с более высоким уровнем образования также имеют меньшую вероятность задолженности.\n",
    "- Женщины чаще возвращают кредиты в срок по сравнению с мужчинами.\n",
    "\n",
    "**Исходя из этих выводов, мы рекомендуем банку улучшить свою модель кредитного скоринга, включив в неё дополнительные параметры, такие как семейное положение, цель кредита, а также учитывая возраст, трудовой стаж, пол и уровень образования заемщика. Это поможет более точно оценить кредитоспособность клиентов и снизить риски задолженности.**"
   ]
  },
  {
   "cell_type": "markdown",
   "id": "3b667417",
   "metadata": {},
   "source": [
    "**Для окончательного подтверждения этих зависимостей требуется дальнейший анализ, так как разница может наблюдаться в рамках статистической погрешности**"
   ]
  },
  {
   "cell_type": "markdown",
   "id": "d91c0be4",
   "metadata": {},
   "source": [
    "*За основу проекты был взят шаблон из учебной среды практикума, разделы с внесенными изменениями были **выделены**.*"
   ]
  }
 ],
 "metadata": {
  "ExecuteTimeLog": [
   {
    "duration": 45,
    "start_time": "2024-04-23T17:46:14.616Z"
   },
   {
    "duration": 5,
    "start_time": "2024-04-23T17:46:24.774Z"
   },
   {
    "duration": 392,
    "start_time": "2024-04-23T17:46:37.484Z"
   },
   {
    "duration": 208,
    "start_time": "2024-04-23T17:46:37.878Z"
   },
   {
    "duration": 11,
    "start_time": "2024-04-23T17:46:38.087Z"
   },
   {
    "duration": 2,
    "start_time": "2024-04-23T17:46:38.100Z"
   },
   {
    "duration": 3,
    "start_time": "2024-04-23T17:46:38.104Z"
   },
   {
    "duration": 4,
    "start_time": "2024-04-23T17:46:38.108Z"
   },
   {
    "duration": 6,
    "start_time": "2024-04-23T17:46:38.115Z"
   },
   {
    "duration": 9,
    "start_time": "2024-04-23T17:46:38.122Z"
   },
   {
    "duration": 4,
    "start_time": "2024-04-23T17:46:38.132Z"
   },
   {
    "duration": 4,
    "start_time": "2024-04-23T17:46:38.137Z"
   },
   {
    "duration": 6,
    "start_time": "2024-04-23T17:46:38.143Z"
   },
   {
    "duration": 14,
    "start_time": "2024-04-23T17:46:38.150Z"
   },
   {
    "duration": 9,
    "start_time": "2024-04-23T17:46:38.165Z"
   },
   {
    "duration": 3,
    "start_time": "2024-04-23T17:46:38.176Z"
   },
   {
    "duration": 4,
    "start_time": "2024-04-23T17:46:38.180Z"
   },
   {
    "duration": 4,
    "start_time": "2024-04-23T17:46:38.185Z"
   },
   {
    "duration": 4,
    "start_time": "2024-04-23T17:46:38.190Z"
   },
   {
    "duration": 3,
    "start_time": "2024-04-23T17:46:38.195Z"
   },
   {
    "duration": 4,
    "start_time": "2024-04-23T17:46:38.200Z"
   },
   {
    "duration": 5,
    "start_time": "2024-04-23T17:46:38.205Z"
   },
   {
    "duration": 4,
    "start_time": "2024-04-23T17:46:38.211Z"
   },
   {
    "duration": 4,
    "start_time": "2024-04-23T17:46:38.216Z"
   },
   {
    "duration": 21,
    "start_time": "2024-04-23T17:46:48.385Z"
   }
  ],
  "colab": {
   "provenance": []
  },
  "kernelspec": {
   "display_name": "Python 3 (ipykernel)",
   "language": "python",
   "name": "python3"
  },
  "language_info": {
   "codemirror_mode": {
    "name": "ipython",
    "version": 3
   },
   "file_extension": ".py",
   "mimetype": "text/x-python",
   "name": "python",
   "nbconvert_exporter": "python",
   "pygments_lexer": "ipython3",
   "version": "3.9.19"
  },
  "toc": {
   "base_numbering": 1,
   "nav_menu": {},
   "number_sections": true,
   "sideBar": true,
   "skip_h1_title": true,
   "title_cell": "Table of Contents",
   "title_sidebar": "Contents",
   "toc_cell": false,
   "toc_position": {
    "height": "1528.96px",
    "left": "35px",
    "top": "111.125px",
    "width": "802.95px"
   },
   "toc_section_display": true,
   "toc_window_display": true
  }
 },
 "nbformat": 4,
 "nbformat_minor": 5
}
