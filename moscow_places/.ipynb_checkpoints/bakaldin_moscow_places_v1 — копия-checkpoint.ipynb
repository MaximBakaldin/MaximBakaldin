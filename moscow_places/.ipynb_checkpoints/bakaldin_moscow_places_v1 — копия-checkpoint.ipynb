{
 "cells": [
  {
   "cell_type": "markdown",
   "id": "134f8766",
   "metadata": {
    "toc": true
   },
   "source": [
    "<h1>Table of Contents<span class=\"tocSkip\"></span></h1>\n",
    "<div class=\"toc\"><ul class=\"toc-item\"><li><span><a href=\"#Краткое-описание-проекта\" data-toc-modified-id=\"Краткое-описание-проекта-1\"><span class=\"toc-item-num\">1&nbsp;&nbsp;</span>Краткое описание проекта</a></span></li><li><span><a href=\"#Обзор-данных\" data-toc-modified-id=\"Обзор-данных-2\"><span class=\"toc-item-num\">2&nbsp;&nbsp;</span>Обзор данных</a></span><ul class=\"toc-item\"><li><span><a href=\"#Загрузка-данных\" data-toc-modified-id=\"Загрузка-данных-2.1\"><span class=\"toc-item-num\">2.1&nbsp;&nbsp;</span>Загрузка данных</a></span></li><li><span><a href=\"#Пропуски\" data-toc-modified-id=\"Пропуски-2.2\"><span class=\"toc-item-num\">2.2&nbsp;&nbsp;</span>Пропуски</a></span></li><li><span><a href=\"#Дубликаты\" data-toc-modified-id=\"Дубликаты-2.3\"><span class=\"toc-item-num\">2.3&nbsp;&nbsp;</span>Дубликаты</a></span></li><li><span><a href=\"#Целевая-переменная\" data-toc-modified-id=\"Целевая-переменная-2.4\"><span class=\"toc-item-num\">2.4&nbsp;&nbsp;</span>Целевая переменная</a></span></li><li><span><a href=\"#Кратие-предварительные-итоги\" data-toc-modified-id=\"Кратие-предварительные-итоги-2.5\"><span class=\"toc-item-num\">2.5&nbsp;&nbsp;</span>Кратие предварительные итоги</a></span></li></ul></li><li><span><a href=\"#Предобработка-данных-и-разведовательный-анализ\" data-toc-modified-id=\"Предобработка-данных-и-разведовательный-анализ-3\"><span class=\"toc-item-num\">3&nbsp;&nbsp;</span>Предобработка данных и разведовательный анализ</a></span><ul class=\"toc-item\"><li><span><a href=\"#Изменим-тип-данных\" data-toc-modified-id=\"Изменим-тип-данных-3.1\"><span class=\"toc-item-num\">3.1&nbsp;&nbsp;</span>Изменим тип данных</a></span></li><li><span><a href=\"#Обработка-пропусков\" data-toc-modified-id=\"Обработка-пропусков-3.2\"><span class=\"toc-item-num\">3.2&nbsp;&nbsp;</span>Обработка пропусков</a></span><ul class=\"toc-item\"><li><span><a href=\"#Признак-middle_coffee_cup-и--middle_avg_bill.\" data-toc-modified-id=\"Признак-middle_coffee_cup-и--middle_avg_bill.-3.2.1\"><span class=\"toc-item-num\">3.2.1&nbsp;&nbsp;</span>Признак <code>middle_coffee_cup</code> и  <code>middle_avg_bill</code>.</a></span></li><li><span><a href=\"#Признак-avg_bill\" data-toc-modified-id=\"Признак-avg_bill-3.2.2\"><span class=\"toc-item-num\">3.2.2&nbsp;&nbsp;</span>Признак <code>avg_bill</code></a></span></li><li><span><a href=\"#Признак-price\" data-toc-modified-id=\"Признак-price-3.2.3\"><span class=\"toc-item-num\">3.2.3&nbsp;&nbsp;</span>Признак <code>price</code></a></span></li><li><span><a href=\"#Признак-seats\" data-toc-modified-id=\"Признак-seats-3.2.4\"><span class=\"toc-item-num\">3.2.4&nbsp;&nbsp;</span>Признак <code>seats</code></a></span></li><li><span><a href=\"#Признак-hours\" data-toc-modified-id=\"Признак-hours-3.2.5\"><span class=\"toc-item-num\">3.2.5&nbsp;&nbsp;</span>Признак <code>hours</code></a></span></li><li><span><a href=\"#Вывод-по-пропущенным-значениям\" data-toc-modified-id=\"Вывод-по-пропущенным-значениям-3.2.6\"><span class=\"toc-item-num\">3.2.6&nbsp;&nbsp;</span>Вывод по пропущенным значениям</a></span></li></ul></li><li><span><a href=\"#Обработка-дубликатов\" data-toc-modified-id=\"Обработка-дубликатов-3.3\"><span class=\"toc-item-num\">3.3&nbsp;&nbsp;</span>Обработка дубликатов</a></span></li><li><span><a href=\"#Изучим-категориальные-признаки\" data-toc-modified-id=\"Изучим-категориальные-признаки-3.4\"><span class=\"toc-item-num\">3.4&nbsp;&nbsp;</span>Изучим категориальные признаки</a></span><ul class=\"toc-item\"><li><span><a href=\"#Изучим-признак-name\" data-toc-modified-id=\"Изучим-признак-name-3.4.1\"><span class=\"toc-item-num\">3.4.1&nbsp;&nbsp;</span>Изучим признак <code>name</code></a></span></li><li><span><a href=\"#Изучим-признак-сategory\" data-toc-modified-id=\"Изучим-признак-сategory-3.4.2\"><span class=\"toc-item-num\">3.4.2&nbsp;&nbsp;</span>Изучим признак <code>сategory</code></a></span></li><li><span><a href=\"#Изучим-признак-address\" data-toc-modified-id=\"Изучим-признак-address-3.4.3\"><span class=\"toc-item-num\">3.4.3&nbsp;&nbsp;</span>Изучим признак <code>address</code></a></span></li><li><span><a href=\"#Изучим-признак-district\" data-toc-modified-id=\"Изучим-признак-district-3.4.4\"><span class=\"toc-item-num\">3.4.4&nbsp;&nbsp;</span>Изучим признак <code>district</code></a></span></li><li><span><a href=\"#Изучим-признак-hours\" data-toc-modified-id=\"Изучим-признак-hours-3.4.5\"><span class=\"toc-item-num\">3.4.5&nbsp;&nbsp;</span>Изучим признак <code>hours</code></a></span></li><li><span><a href=\"#Изучим-признак-price\" data-toc-modified-id=\"Изучим-признак-price-3.4.6\"><span class=\"toc-item-num\">3.4.6&nbsp;&nbsp;</span>Изучим признак <code>price</code></a></span></li></ul></li><li><span><a href=\"#Изучим-количественные-признаки\" data-toc-modified-id=\"Изучим-количественные-признаки-3.5\"><span class=\"toc-item-num\">3.5&nbsp;&nbsp;</span>Изучим количественные признаки</a></span><ul class=\"toc-item\"><li><span><a href=\"#Изучим-признак-rating\" data-toc-modified-id=\"Изучим-признак-rating-3.5.1\"><span class=\"toc-item-num\">3.5.1&nbsp;&nbsp;</span>Изучим признак <code>rating</code></a></span></li><li><span><a href=\"#Изучим-признак-middle_avg_bill\" data-toc-modified-id=\"Изучим-признак-middle_avg_bill-3.5.2\"><span class=\"toc-item-num\">3.5.2&nbsp;&nbsp;</span>Изучим признак <code>middle_avg_bill</code></a></span></li><li><span><a href=\"#Изучим-признак-middle_coffee_cup\" data-toc-modified-id=\"Изучим-признак-middle_coffee_cup-3.5.3\"><span class=\"toc-item-num\">3.5.3&nbsp;&nbsp;</span>Изучим признак <code>middle_coffee_cup</code></a></span></li><li><span><a href=\"#Изучим-признак-seats\" data-toc-modified-id=\"Изучим-признак-seats-3.5.4\"><span class=\"toc-item-num\">3.5.4&nbsp;&nbsp;</span>Изучим признак <code>seats</code></a></span></li></ul></li><li><span><a href=\"#Добавим-фичи-для-проведения-анализа\" data-toc-modified-id=\"Добавим-фичи-для-проведения-анализа-3.6\"><span class=\"toc-item-num\">3.6&nbsp;&nbsp;</span>Добавим фичи для проведения анализа</a></span><ul class=\"toc-item\"><li><span><a href=\"#Признак-street\" data-toc-modified-id=\"Признак-street-3.6.1\"><span class=\"toc-item-num\">3.6.1&nbsp;&nbsp;</span>Признак <code>street</code></a></span></li><li><span><a href=\"#Признак-is_24_7\" data-toc-modified-id=\"Признак-is_24_7-3.6.2\"><span class=\"toc-item-num\">3.6.2&nbsp;&nbsp;</span>Признак <code>is_24_7</code></a></span></li></ul></li><li><span><a href=\"#Фильтрация-данных.\" data-toc-modified-id=\"Фильтрация-данных.-3.7\"><span class=\"toc-item-num\">3.7&nbsp;&nbsp;</span>Фильтрация данных.</a></span></li><li><span><a href=\"#Вывод-по-этапу-предобратки\" data-toc-modified-id=\"Вывод-по-этапу-предобратки-3.8\"><span class=\"toc-item-num\">3.8&nbsp;&nbsp;</span>Вывод по этапу предобратки</a></span></li></ul></li><li><span><a href=\"#Анализ-данных\" data-toc-modified-id=\"Анализ-данных-4\"><span class=\"toc-item-num\">4&nbsp;&nbsp;</span>Анализ данных</a></span><ul class=\"toc-item\"><li><span><a href=\"#Изучим-распределение-заведений-по-категориям.\" data-toc-modified-id=\"Изучим-распределение-заведений-по-категориям.-4.1\"><span class=\"toc-item-num\">4.1&nbsp;&nbsp;</span>Изучим распределение заведений по категориям.</a></span></li><li><span><a href=\"#Исследуем-количество-посадочных-мест--по-категориям.\" data-toc-modified-id=\"Исследуем-количество-посадочных-мест--по-категориям.-4.2\"><span class=\"toc-item-num\">4.2&nbsp;&nbsp;</span>Исследуем количество посадочных мест  по категориям.</a></span></li><li><span><a href=\"#Рассмотрим--соотношение-сетевых-и-несетевых-заведений-в-датасете.\" data-toc-modified-id=\"Рассмотрим--соотношение-сетевых-и-несетевых-заведений-в-датасете.-4.3\"><span class=\"toc-item-num\">4.3&nbsp;&nbsp;</span>Рассмотрим  соотношение сетевых и несетевых заведений в датасете.</a></span></li><li><span><a href=\"#Изучим-какие-категории-заведений-чаще-являются-сетевыми.\" data-toc-modified-id=\"Изучим-какие-категории-заведений-чаще-являются-сетевыми.-4.4\"><span class=\"toc-item-num\">4.4&nbsp;&nbsp;</span>Изучим какие категории заведений чаще являются сетевыми.</a></span></li><li><span><a href=\"#Найдём-топ-15-популярных-сетей-в-Москве.\" data-toc-modified-id=\"Найдём-топ-15-популярных-сетей-в-Москве.-4.5\"><span class=\"toc-item-num\">4.5&nbsp;&nbsp;</span>Найдём топ-15 популярных сетей в Москве.</a></span></li><li><span><a href=\"#Какие-административные-районы-Москвы-присутствуют-в-датасете?-Отобразим-общее-количество-заведений-и-количество-заведений-каждой-категории-по-районам.\" data-toc-modified-id=\"Какие-административные-районы-Москвы-присутствуют-в-датасете?-Отобразим-общее-количество-заведений-и-количество-заведений-каждой-категории-по-районам.-4.6\"><span class=\"toc-item-num\">4.6&nbsp;&nbsp;</span>Какие административные районы Москвы присутствуют в датасете? Отобразим общее количество заведений и количество заведений каждой категории по районам.</a></span></li><li><span><a href=\"#Изучим-распределение-средних-рейтингов-по-категориям-заведений.\" data-toc-modified-id=\"Изучим-распределение-средних-рейтингов-по-категориям-заведений.-4.7\"><span class=\"toc-item-num\">4.7&nbsp;&nbsp;</span>Изучим распределение средних рейтингов по категориям заведений.</a></span></li><li><span><a href=\"#Построим-фоновую-картограмму-(хороплет)-со-средним-рейтингом-заведений-каждого-района.\" data-toc-modified-id=\"Построим-фоновую-картограмму-(хороплет)-со-средним-рейтингом-заведений-каждого-района.-4.8\"><span class=\"toc-item-num\">4.8&nbsp;&nbsp;</span>Построим фоновую картограмму (хороплет) со средним рейтингом заведений каждого района.</a></span></li><li><span><a href=\"#Отобразим-все-заведения-датасета-на-карте-с-помощью-кластеров-средствами-библиотеки-folium.\" data-toc-modified-id=\"Отобразим-все-заведения-датасета-на-карте-с-помощью-кластеров-средствами-библиотеки-folium.-4.9\"><span class=\"toc-item-num\">4.9&nbsp;&nbsp;</span>Отобразим все заведения датасета на карте с помощью кластеров средствами библиотеки folium.</a></span></li><li><span><a href=\"#Найдём-топ-15-улиц-по-количеству-заведений.\" data-toc-modified-id=\"Найдём-топ-15-улиц-по-количеству-заведений.-4.10\"><span class=\"toc-item-num\">4.10&nbsp;&nbsp;</span>Найдём топ-15 улиц по количеству заведений.</a></span></li><li><span><a href=\"#Изучим-улицы-на-которых-находится-только-одно-заведение.\" data-toc-modified-id=\"Изучим-улицы-на-которых-находится-только-одно-заведение.-4.11\"><span class=\"toc-item-num\">4.11&nbsp;&nbsp;</span>Изучим улицы на которых находится только одно заведение.</a></span></li><li><span><a href=\"#Распределение-средней-цены-по-округам.\" data-toc-modified-id=\"Распределение-средней-цены-по-округам.-4.12\"><span class=\"toc-item-num\">4.12&nbsp;&nbsp;</span>Распределение средней цены по округам.</a></span></li><li><span><a href=\"#Необязательное-задание:-проиллюстрируйте-другие-взаимосвязи,-которые-вы-нашли-в-данных.-Например,-по-желанию-исследуйте-часы-работы-заведений-и-их-зависимость-от-расположения-и-категории-заведения.-Также-можно-исследовать-особенности-заведений-с-плохими-рейтингами,-средние-чеки-в-таких-местах-и-распределение-по-категориям-заведений.\" data-toc-modified-id=\"Необязательное-задание:-проиллюстрируйте-другие-взаимосвязи,-которые-вы-нашли-в-данных.-Например,-по-желанию-исследуйте-часы-работы-заведений-и-их-зависимость-от-расположения-и-категории-заведения.-Также-можно-исследовать-особенности-заведений-с-плохими-рейтингами,-средние-чеки-в-таких-местах-и-распределение-по-категориям-заведений.-4.13\"><span class=\"toc-item-num\">4.13&nbsp;&nbsp;</span>Необязательное задание: проиллюстрируйте другие взаимосвязи, которые вы нашли в данных. Например, по желанию исследуйте часы работы заведений и их зависимость от расположения и категории заведения. Также можно исследовать особенности заведений с плохими рейтингами, средние чеки в таких местах и распределение по категориям заведений.</a></span></li><li><span><a href=\"#Исследуем-влияние-расстояния-до-центра-на-средний-чек-и-другие-показатели-заведений-Москвы.\" data-toc-modified-id=\"Исследуем-влияние-расстояния-до-центра-на-средний-чек-и-другие-показатели-заведений-Москвы.-4.14\"><span class=\"toc-item-num\">4.14&nbsp;&nbsp;</span>Исследуем влияние расстояния до центра на средний чек и другие показатели заведений Москвы.</a></span><ul class=\"toc-item\"><li><span><a href=\"#Влияние-расстояния-до-центра-на-средний-чек\" data-toc-modified-id=\"Влияние-расстояния-до-центра-на-средний-чек-4.14.1\"><span class=\"toc-item-num\">4.14.1&nbsp;&nbsp;</span>Влияние расстояния до центра на средний чек</a></span></li><li><span><a href=\"#Влияние-расстояния-на-стоимость-чашки-кофе.\" data-toc-modified-id=\"Влияние-расстояния-на-стоимость-чашки-кофе.-4.14.2\"><span class=\"toc-item-num\">4.14.2&nbsp;&nbsp;</span>Влияние расстояния на стоимость чашки кофе.</a></span></li><li><span><a href=\"#Влияние-расстояния-до-центра-на-рейтинги.\" data-toc-modified-id=\"Влияние-расстояния-до-центра-на-рейтинги.-4.14.3\"><span class=\"toc-item-num\">4.14.3&nbsp;&nbsp;</span>Влияние расстояния до центра на рейтинги.</a></span></li><li><span><a href=\"#Влияние-расстояний-на-количество-заведений.\" data-toc-modified-id=\"Влияние-расстояний-на-количество-заведений.-4.14.4\"><span class=\"toc-item-num\">4.14.4&nbsp;&nbsp;</span>Влияние расстояний на количество заведений.</a></span></li></ul></li><li><span><a href=\"#Изучим-распределение-плотности-заведений.\" data-toc-modified-id=\"Изучим-распределение-плотности-заведений.-4.15\"><span class=\"toc-item-num\">4.15&nbsp;&nbsp;</span>Изучим распределение плотности заведений.</a></span></li><li><span><a href=\"#Дополним-наши-данные-информацией-о-принадлежности-заведений-к-муниципальным-округам.\" data-toc-modified-id=\"Дополним-наши-данные-информацией-о-принадлежности-заведений-к-муниципальным-округам.-4.16\"><span class=\"toc-item-num\">4.16&nbsp;&nbsp;</span>Дополним наши данные информацией о принадлежности заведений к муниципальным округам.</a></span></li><li><span><a href=\"#Изучим-как-меняются-признаки-в-разных-районах-Москвы.\" data-toc-modified-id=\"Изучим-как-меняются-признаки-в-разных-районах-Москвы.-4.17\"><span class=\"toc-item-num\">4.17&nbsp;&nbsp;</span>Изучим как меняются признаки в разных районах Москвы.</a></span></li><li><span><a href=\"#Изучим-информацию-о-режимах-работы-заведений\" data-toc-modified-id=\"Изучим-информацию-о-режимах-работы-заведений-4.18\"><span class=\"toc-item-num\">4.18&nbsp;&nbsp;</span>Изучим информацию о режимах работы заведений</a></span></li><li><span><a href=\"#Отобразим-как-именяется-значение-среднего-чека-и-рейтинга-по-районам.\" data-toc-modified-id=\"Отобразим-как-именяется-значение-среднего-чека-и-рейтинга-по-районам.-4.19\"><span class=\"toc-item-num\">4.19&nbsp;&nbsp;</span>Отобразим как именяется значение среднего чека и рейтинга по районам.</a></span></li><li><span><a href=\"#Изучим-заведения-с-«плохим-рейтингом»\" data-toc-modified-id=\"Изучим-заведения-с-«плохим-рейтингом»-4.20\"><span class=\"toc-item-num\">4.20&nbsp;&nbsp;</span>Изучим заведения с «плохим рейтингом»</a></span></li><li><span><a href=\"#Промежуточные-итоги.\" data-toc-modified-id=\"Промежуточные-итоги.-4.21\"><span class=\"toc-item-num\">4.21&nbsp;&nbsp;</span>Промежуточные итоги.</a></span></li></ul></li><li><span><a href=\"#Детализируем-исследование:-открытие-кофейни\" data-toc-modified-id=\"Детализируем-исследование:-открытие-кофейни-5\"><span class=\"toc-item-num\">5&nbsp;&nbsp;</span>Детализируем исследование: открытие кофейни</a></span><ul class=\"toc-item\"><li><span><a href=\"#Изучим-сколько-всего-кофеен-в-датасете?-В-каких-районах-их-больше-всего,-каковы-особенности-их-расположения?\" data-toc-modified-id=\"Изучим-сколько-всего-кофеен-в-датасете?-В-каких-районах-их-больше-всего,-каковы-особенности-их-расположения?-5.1\"><span class=\"toc-item-num\">5.1&nbsp;&nbsp;</span>Изучим сколько всего кофеен в датасете? В каких районах их больше всего, каковы особенности их расположения?</a></span></li><li><span><a href=\"#Есть-ли-круглосуточные-кофейни?\" data-toc-modified-id=\"Есть-ли-круглосуточные-кофейни?-5.2\"><span class=\"toc-item-num\">5.2&nbsp;&nbsp;</span>Есть ли круглосуточные кофейни?</a></span></li><li><span><a href=\"#Изучим-распределение--кофеен-с-круглосуточным-режимом-работы\" data-toc-modified-id=\"Изучим-распределение--кофеен-с-круглосуточным-режимом-работы-5.3\"><span class=\"toc-item-num\">5.3&nbsp;&nbsp;</span>Изучим распределение  кофеен с круглосуточным режимом работы</a></span></li><li><span><a href=\"#Какие-у-кофеен-рейтинги?-Как-они-распределяются-по-округам?\" data-toc-modified-id=\"Какие-у-кофеен-рейтинги?-Как-они-распределяются-по-округам?-5.4\"><span class=\"toc-item-num\">5.4&nbsp;&nbsp;</span>Какие у кофеен рейтинги? Как они распределяются по округам?</a></span></li><li><span><a href=\"#Посмотрим-на--принадлежность-к-сетевым-заведениям.\" data-toc-modified-id=\"Посмотрим-на--принадлежность-к-сетевым-заведениям.-5.5\"><span class=\"toc-item-num\">5.5&nbsp;&nbsp;</span>Посмотрим на  принадлежность к сетевым заведениям.</a></span></li><li><span><a href=\"#На-какую-стоимость-чашки-капучино-стоит-ориентироваться-при-открытии-и-почему?\" data-toc-modified-id=\"На-какую-стоимость-чашки-капучино-стоит-ориентироваться-при-открытии-и-почему?-5.6\"><span class=\"toc-item-num\">5.6&nbsp;&nbsp;</span>На какую стоимость чашки капучино стоит ориентироваться при открытии и почему?</a></span></li><li><span><a href=\"#Изучим-конкурентов-с-высоким-рейтингом.\" data-toc-modified-id=\"Изучим-конкурентов-с-высоким-рейтингом.-5.7\"><span class=\"toc-item-num\">5.7&nbsp;&nbsp;</span>Изучим конкурентов с высоким рейтингом.</a></span></li><li><span><a href=\"#Изучим-какую-долю-составляют-кофейни-в-каждом-районе.\" data-toc-modified-id=\"Изучим-какую-долю-составляют-кофейни-в-каждом-районе.-5.8\"><span class=\"toc-item-num\">5.8&nbsp;&nbsp;</span>Изучим какую долю составляют кофейни в каждом районе.</a></span></li><li><span><a href=\"#Изучим-распределение-кофеен-среди-популярных-районов.\" data-toc-modified-id=\"Изучим-распределение-кофеен-среди-популярных-районов.-5.9\"><span class=\"toc-item-num\">5.9&nbsp;&nbsp;</span>Изучим распределение кофеен среди популярных районов.</a></span></li><li><span><a href=\"#Попробуем-определить-лучшие-места-для-открытия-кофейни.\" data-toc-modified-id=\"Попробуем-определить-лучшие-места-для-открытия-кофейни.-5.10\"><span class=\"toc-item-num\">5.10&nbsp;&nbsp;</span>Попробуем определить лучшие места для открытия кофейни.</a></span><ul class=\"toc-item\"><li><span><a href=\"#Подход-№1---отталкиваемся-от-доли-кофеен-среди-популярных-районов-города,-рассматриваем-улицы,-на-которых-отсутствуют-заведения-конкурентов.\" data-toc-modified-id=\"Подход-№1---отталкиваемся-от-доли-кофеен-среди-популярных-районов-города,-рассматриваем-улицы,-на-которых-отсутствуют-заведения-конкурентов.-5.10.1\"><span class=\"toc-item-num\">5.10.1&nbsp;&nbsp;</span>Подход №1 - отталкиваемся от доли кофеен среди популярных районов города, рассматриваем улицы, на которых отсутствуют заведения конкурентов.</a></span></li><li><span><a href=\"#Подход-№2-обогатим-наши-данные-информацией-по-плотности-населения-для-районов-Москвы-из-открытого-источника-ссылка,--Изучим-районы-по-количеству-человек-на-одну-кофеню.--Проверим-на-наличие-среди-них-улиц,-с-отсутствием-конкурентов.\" data-toc-modified-id=\"Подход-№2-обогатим-наши-данные-информацией-по-плотности-населения-для-районов-Москвы-из-открытого-источника-ссылка,--Изучим-районы-по-количеству-человек-на-одну-кофеню.--Проверим-на-наличие-среди-них-улиц,-с-отсутствием-конкурентов.-5.10.2\"><span class=\"toc-item-num\">5.10.2&nbsp;&nbsp;</span>Подход №2 обогатим наши данные информацией по плотности населения для районов Москвы из открытого источника <a href=\"https://russia.duck.consulting/maps/330\" target=\"_blank\">ссылка</a>,  Изучим районы по количеству человек на одну кофеню.  Проверим на наличие среди них улиц, с отсутствием конкурентов.</a></span></li></ul></li></ul></li><li><span><a href=\"#Выводы--по-разделу.\" data-toc-modified-id=\"Выводы--по-разделу.-6\"><span class=\"toc-item-num\">6&nbsp;&nbsp;</span>Выводы  по разделу.</a></span></li></ul></div>"
   ]
  },
  {
   "cell_type": "markdown",
   "id": "68f4c7a4",
   "metadata": {},
   "source": [
    "# Рынок заведений общественного питания Москвы."
   ]
  },
  {
   "cell_type": "markdown",
   "id": "24ec5355",
   "metadata": {},
   "source": [
    "## Краткое описание проекта"
   ]
  },
  {
   "cell_type": "markdown",
   "id": "1bb1b2d7",
   "metadata": {},
   "source": [
    "Инвесторы из фонда «Shut Up and Take My Money» решили попробовать себя в новой области и открыть заведение общественного питания в Москве. Заказчики ещё не знают, что это будет за место: кафе, ресторан, пиццерия, паб или бар, — и какими будут расположение, меню и цены.\n",
    "\n",
    "Наша задача подготовить исследование рынка Москвы, найти интересные особенности и презентовать полученные результаты, которые в будущем помогут в выборе подходящего инвесторам места.\n",
    "\n",
    "Для исследования подготовлен датасет с заведениями общественного питания Москвы, составленный на основе данных сервисов Яндекс Карты и Яндекс Бизнес на лето 2022 года. Информация, размещённая в сервисе Яндекс Бизнес, могла быть добавлена пользователями или найдена в общедоступных источниках. Она носит исключительно справочный характер."
   ]
  },
  {
   "cell_type": "markdown",
   "id": "30f2540f",
   "metadata": {},
   "source": [
    "**Цель исследования** - предоставить рекомендации, по опитмальному размещению заведения общественного питания в Москве."
   ]
  },
  {
   "cell_type": "markdown",
   "id": "a941a8a6",
   "metadata": {},
   "source": [
    "Описание данных\n",
    "Файл moscow_places.csv:\n",
    "- `name` — название заведения;\n",
    "- `address` — адрес заведения;\n",
    "- `category` — категория заведения, например «кафе», «пиццерия» или «кофейня»;\n",
    "- `hours` — информация о днях и часах работы;\n",
    "- `lat` — широта географической точки, в которой находится заведение;\n",
    "- `lng` — долгота географической точки, в которой находится заведение;\n",
    "- `rating` — рейтинг заведения по оценкам пользователей в Яндекс Картах (высшая оценка — 5.0);\n",
    "- `price` — категория цен в заведении, например «средние», «ниже среднего», «выше среднего» и так далее;\n",
    "- `avg_bill` — строка, которая хранит среднюю стоимость заказа в виде диапазона, например:\n",
    " - «Средний счёт: 1000–1500 ₽»;\n",
    " - «Цена чашки капучино: 130–220 ₽»;\n",
    " - «Цена бокала пива: 400–600 ₽».и так далее;\n",
    "\n",
    "- `middle_avg_bill` — число с оценкой среднего чека, которое указано только для значений из столбца avg_bill, начинающихся с подстроки «Средний счёт»:\n",
    " - Если в строке указан ценовой диапазон из двух значений, в столбец войдёт медиана этих двух значений.\n",
    " - Если в строке указано одно число — цена без диапазона, то в столбец войдёт -- это число.\n",
    " - Если значения нет или оно не начинается с подстроки «Средний счёт», то в столбец ничего не войдёт.\n",
    "- `middle_coffee_cup` — число с оценкой одной чашки капучино, которое указано только для значений из столбца avg_bill, начинающихся с подстроки «Цена одной чашки капучино»:\n",
    " - Если в строке указан ценовой диапазон из двух значений, в столбец войдёт медиана этих двух значений.\n",
    " - Если в строке указано одно число — цена без диапазона, то в столбец войдёт это число.\n",
    " - Если значения нет или оно не начинается с подстроки «Цена одной чашки капучино», то в столбец ничего не войдёт.\n",
    "- `chain` — число, выраженное 0 или 1, которое показывает, является ли заведение сетевым (для маленьких сетей могут встречаться ошибки):\n",
    " - 0 — заведение не является сетевым\n",
    " - 1 — заведение является сетевым\n",
    "- `district` — административный район, в котором находится заведение, например Центральный административный округ;\n",
    "- `seats` — количество посадочных мест."
   ]
  },
  {
   "cell_type": "markdown",
   "id": "52765c5f",
   "metadata": {},
   "source": [
    "## Обзор данных"
   ]
  },
  {
   "cell_type": "markdown",
   "id": "b5d4c493",
   "metadata": {},
   "source": [
    "### Загрузка данных"
   ]
  },
  {
   "cell_type": "code",
   "execution_count": null,
   "id": "d410cf8c",
   "metadata": {},
   "outputs": [],
   "source": [
    "# Установим дополнительные библиотеки\n",
    "!pip install missingno\n",
    "!pip install geopandas\n",
    "!pip install geopy"
   ]
  },
  {
   "cell_type": "markdown",
   "id": "7b068772",
   "metadata": {},
   "source": [
    "**ВНИМАНИЕ!!! УВАЖАЕМЫЙ РЕВЬЮЕР!!! Если при загрузке библиотек происходит ошибка, связанная с проблемой совместимости, прошу попробовать перезапустить ядро и весь блокнот, прежде чем отправлять проект на доработку!!!**"
   ]
  },
  {
   "cell_type": "code",
   "execution_count": null,
   "id": "1f15fa26",
   "metadata": {},
   "outputs": [],
   "source": [
    "# Импортируем библиотеки и применим настройки\n",
    "import pandas as pd # библиотека для работы с табличными данными\n",
    "import plotly.express as px # библиотека для визуализации данных\n",
    "import matplotlib.pyplot as plt # модуль для создания графиков и диаграмм\n",
    "import seaborn as sns # библиотека, построенная на основе Matplotlib для визуализации данных.\n",
    "import plotly.graph_objects as go # библиотека для визуализации данных\n",
    "import folium # библиотека для создания карт\n",
    "import numpy as np # библиотека для научных вычислений\n",
    "import re # библиотека для работы с регулярными выражениями\n",
    "import missingno as msno # библиотека для визуализации пропущенных значений\n",
    "import warnings # библиотека для предупреждений\n",
    "import geopandas as gpd # библиотека для работы с геообъектами\n",
    "import requests\n",
    "from shapely.geometry import Point\n",
    "import json\n",
    "from shapely import wkt\n",
    "from folium import Map, Choropleth\n",
    "from folium.features import GeoJsonTooltip\n",
    "from geopy.distance import geodesic\n",
    "warnings.filterwarnings('ignore')\n",
    "pd.set_option('display.max_columns', None)\n",
    "pd.set_option('display.max_rows', None)\n",
    "pd.set_option('display.float_format', '{:.2f}'.format)"
   ]
  },
  {
   "cell_type": "code",
   "execution_count": null,
   "id": "194d2975",
   "metadata": {},
   "outputs": [],
   "source": [
    "# Стандартные импорты plotly\n",
    "#import chart_studio.plotly as py\n",
    "import plotly.graph_objs as go\n",
    "#from plotly.offline import iplot\n",
    "#import cufflinks\n",
    "from plotly.subplots import make_subplots  # Импортируем make_subplots\n",
    "#cufflinks.go_offline()\n",
    "# Устанавливаем глобальную тему \n",
    "#cf.set_config_file(world_readable=True, theme='pearl', offline=True)"
   ]
  },
  {
   "cell_type": "code",
   "execution_count": null,
   "id": "71970d72",
   "metadata": {
    "scrolled": true
   },
   "outputs": [],
   "source": [
    "# Загрузка данных\n",
    "try:\n",
    "    df = pd.read_csv('datasets/moscow_places.csv')\n",
    "except:\n",
    "    df = pd.read_csv('https://code.s3.yandex.net/datasets/moscow_places.csv')"
   ]
  },
  {
   "cell_type": "code",
   "execution_count": null,
   "id": "3c7a6b74",
   "metadata": {},
   "outputs": [],
   "source": [
    "# Посмотрим на информацию\n",
    "df.info()"
   ]
  },
  {
   "cell_type": "code",
   "execution_count": null,
   "id": "9ed268ce",
   "metadata": {},
   "outputs": [],
   "source": [
    "# Выведем случайные 5 строк\n",
    "df.sample(5).T"
   ]
  },
  {
   "cell_type": "markdown",
   "id": "81c8e439",
   "metadata": {},
   "source": [
    "### Пропуски"
   ]
  },
  {
   "cell_type": "code",
   "execution_count": null,
   "id": "e3ca9845",
   "metadata": {},
   "outputs": [],
   "source": [
    "# Посмотрим на пропуски\n",
    "df.isna().mean().sort_values(ascending=False)"
   ]
  },
  {
   "cell_type": "code",
   "execution_count": null,
   "id": "35bd9346",
   "metadata": {},
   "outputs": [],
   "source": [
    "# Посмотрим на график количества пропущенных значений\n",
    "#msno.bar(df)\n",
    "#plt.title('График количества пропущенных значений', fontsize=20)\n",
    "#plt.show()"
   ]
  },
  {
   "cell_type": "code",
   "execution_count": null,
   "id": "50dd0fca",
   "metadata": {},
   "outputs": [],
   "source": [
    "# Для наглядности отобразим, матрицу пропущенных значений \n",
    "msno.matrix(df)\n",
    "plt.title('Матрица пропущенных значений', fontsize=20)\n",
    "plt.show()"
   ]
  },
  {
   "cell_type": "code",
   "execution_count": null,
   "id": "d25e68e2",
   "metadata": {
    "scrolled": false
   },
   "outputs": [],
   "source": [
    "# Построим матрицу корреляции пропусков для  определения зависимостей между их возникновением\n",
    "msno.heatmap(df)\n",
    "plt.title('Матрица корреляции пропусков', fontsize=20)\n",
    "plt.ylabel('Признаки', fontsize=15)\n",
    "plt.xlabel('Признаки', fontsize=15)\n",
    "plt.show()"
   ]
  },
  {
   "cell_type": "markdown",
   "id": "6d4c5c41",
   "metadata": {},
   "source": [
    "В данных присутствует большое количество пропущенных значений, вероятнее всего причиной возникновения пропусков является человеческий фактор. Существует очевидная взаимосвязь между наличием пропущенных значений у признака avg_bill и наличием пропущенных значений у признака middle_avg_bill."
   ]
  },
  {
   "cell_type": "markdown",
   "id": "13d3e746",
   "metadata": {},
   "source": [
    "### Дубликаты"
   ]
  },
  {
   "cell_type": "code",
   "execution_count": null,
   "id": "276f6df2",
   "metadata": {},
   "outputs": [],
   "source": [
    "# Проверим на наличие явных дубликатов\n",
    "df.duplicated().sum()"
   ]
  },
  {
   "cell_type": "code",
   "execution_count": null,
   "id": "f66e9ec1",
   "metadata": {},
   "outputs": [],
   "source": [
    "# Проверим наличие неявных дубликатов по сочетанию признаков\n",
    "df.duplicated(subset=['name','address']).sum()"
   ]
  },
  {
   "cell_type": "markdown",
   "id": "86c37db2",
   "metadata": {},
   "source": [
    "Будем считать что в наших данных отсутствуют как явные так и неявные дубликаты."
   ]
  },
  {
   "cell_type": "markdown",
   "id": "fa7e0e40",
   "metadata": {},
   "source": [
    "### Целевая переменная"
   ]
  },
  {
   "cell_type": "markdown",
   "id": "e01f93c7",
   "metadata": {},
   "source": [
    "Целевой переменной отражающей одно из KPI заведения будем считать `rating`, по крайней мере именно она является зависимой от сопутствующих факторов, а не наоборот. Однако сама по себе переменная `rating` не может говорить, об успешности заведения, так как имеет место множество сопутствующих факторов."
   ]
  },
  {
   "cell_type": "markdown",
   "id": "378cf026",
   "metadata": {},
   "source": [
    "### Кратие предварительные итоги"
   ]
  },
  {
   "cell_type": "markdown",
   "id": "cd9e6469",
   "metadata": {},
   "source": [
    "Мы выполнили загрузку представленных датасетов и выявили следующие проблемы:\n",
    "\n",
    "- В предоставленных данных присутствует большое количество пропущенных значений, вероятнее всего причиной возникновения пропусков является человеческий фактор. \n",
    "- Существует очевидная взаимосвязь между наличием пропущенных значений у признака avg_bill и наличием пропущенных значений у признака middle_avg_bill.\n",
    "- Типы данных вобщем соответстуют их содержанию, однако мы можем изменить некоторые из них с целью оптимизации.\n",
    "- Явные  как и неявные дубликаты в данных отсутствуют, наличие одинаковых имён указывает на наличие сетей и простые совпадения.\n",
    "- Данные о стоимости средней чашки кофе присутствуют лишь в 6% наблюдений, что может свидетльствовать  как о небольшом количестве кофеен, так и о проблемах в данных."
   ]
  },
  {
   "cell_type": "markdown",
   "id": "cf3ed2af",
   "metadata": {},
   "source": [
    "## Предобработка данных и разведовательный анализ"
   ]
  },
  {
   "cell_type": "markdown",
   "id": "f2286d69",
   "metadata": {},
   "source": [
    "### Изменим тип данных"
   ]
  },
  {
   "cell_type": "code",
   "execution_count": null,
   "id": "219790c0",
   "metadata": {},
   "outputs": [],
   "source": [
    "# Приведем признаки к типу category\n",
    "df['name'] = df['name'].astype('string')\n",
    "df['category'] = df['category'].astype('string')\n",
    "df['address'] = df['address'].astype('string')\n",
    "df['district'] = df['district'].astype('string')\n",
    "df['hours'] = df['hours'].astype('string')\n",
    "df['price'] = df['price'].astype('string')\n",
    "df['avg_bill'] = df['avg_bill'].astype('string')\n",
    "df.dtypes"
   ]
  },
  {
   "cell_type": "markdown",
   "id": "ad4ec6c0",
   "metadata": {},
   "source": [
    "### Обработка пропусков\n",
    "В предоставленном датасете, большое количество пропущенных значений,  любая попытка заменить их может привести к искажению данных. Поэтому стоит осмотрительно выбирать метод обработки."
   ]
  },
  {
   "cell_type": "code",
   "execution_count": null,
   "id": "59f58fec",
   "metadata": {},
   "outputs": [],
   "source": [
    "#df.dropna(inplace=True)"
   ]
  },
  {
   "cell_type": "markdown",
   "id": "e36a5fab",
   "metadata": {},
   "source": [
    "Если мы применим метод dropna к нашему датафрейму и отбросим все строки которые содержат хотябы  один пропуск, у нас не останется не одной строки для анализа."
   ]
  },
  {
   "cell_type": "code",
   "execution_count": null,
   "id": "5dd32b4b",
   "metadata": {},
   "outputs": [],
   "source": [
    "# Проверим соблюдается ли условие по заполнению столбцов указанное в описании данных\n",
    "df[df['avg_bill'].notna() & df['middle_coffee_cup'].isna() & df['middle_avg_bill'].isna()].sample(5)"
   ]
  },
  {
   "cell_type": "markdown",
   "id": "5809136e",
   "metadata": {},
   "source": [
    "Судя по всему ребята из Фонда «Shut Up and Take My Money» за здоровый образ жизни, поэтому в датасете отсутствует признак `middle_bear_pint`."
   ]
  },
  {
   "cell_type": "code",
   "execution_count": null,
   "id": "0bceb819",
   "metadata": {},
   "outputs": [],
   "source": [
    "# Посмотрим на пропуски\n",
    "df.isna().mean().sort_values(ascending=False)"
   ]
  },
  {
   "cell_type": "markdown",
   "id": "44eda9b0",
   "metadata": {},
   "source": [
    "#### Признак `middle_coffee_cup` и  `middle_avg_bill`."
   ]
  },
  {
   "cell_type": "markdown",
   "id": "9ec1204b",
   "metadata": {},
   "source": [
    "Признак `middle_coffee_cup` имеет 94 % пропущенных значений, что может быть от части связано с тем, что далеко не все заведения специлизируються на продаже кофе. Мы можем, относительно, безопасно заполнить пропуски по данному столбцу медианными групповыми значениями по  имени сетевого заведения. Для признака `middle_avg_bill` поступим аналогично."
   ]
  },
  {
   "cell_type": "code",
   "execution_count": null,
   "id": "5b5efc90",
   "metadata": {},
   "outputs": [],
   "source": [
    "# Фильтрация по условию chain = 1\n",
    "filtered_data = df[df['chain'] == 1]\n",
    "\n",
    "# Заполнение пропущенных значений медианой с группировкой по названию\n",
    "filtered_data['middle_coffee_cup'] = filtered_data.groupby(['name'])['middle_coffee_cup'].transform(lambda x: x.fillna(x.median()))\n",
    "\n",
    "filtered_data['middle_avg_bill'] = filtered_data.groupby(['name'])['middle_avg_bill'].transform(lambda x: x.fillna(x.median()))\n",
    "\n",
    "# Объединение с исходными данными\n",
    "df.loc[filtered_data.index, 'middle_coffee_cup'] = filtered_data['middle_coffee_cup']\n",
    "\n",
    "df.loc[filtered_data.index, 'middle_avg_bill'] = filtered_data['middle_avg_bill']\n",
    "\n",
    "# Заполним оставшиеся пропуски медианными групповыми значениями \n",
    "#df['middle_coffee_cup'] = df.groupby(['category'])['middle_coffee_cup'].transform(lambda x: x.fillna(x.median()))\n",
    "#df['middle_avg_bill'] = df.groupby(['category'])['middle_avg_bill'].transform(lambda x: x.fillna(x.median()))"
   ]
  },
  {
   "cell_type": "markdown",
   "id": "1adab4a8",
   "metadata": {},
   "source": [
    "**Мы могли бы заполнить оставшиеся пропуски среднегрупповыми значениями, но это может исказить результаты анализа, оставим как есть.**"
   ]
  },
  {
   "cell_type": "markdown",
   "id": "c4780502",
   "metadata": {},
   "source": [
    "#### Признак `avg_bill`"
   ]
  },
  {
   "cell_type": "markdown",
   "id": "a993bb45",
   "metadata": {},
   "source": [
    "Признак имеет 55  % пропущенных значений, причиной возникновения пропусков в данном столбце вероятнее всего является человеческий фактор, данный признак не учавствует напрямую в анализе и для исследования не интересен. Оставим как есть чтобы не искажать данные."
   ]
  },
  {
   "cell_type": "markdown",
   "id": "63a670e6",
   "metadata": {},
   "source": [
    "#### Признак `price`"
   ]
  },
  {
   "cell_type": "markdown",
   "id": "1de4862b",
   "metadata": {},
   "source": [
    "Признак  имеет   61% пропусков,  мы можем попробовать заполнить пропуски по данному полю аналогичными значениями по именам сетевых заведений."
   ]
  },
  {
   "cell_type": "code",
   "execution_count": null,
   "id": "a81098ca",
   "metadata": {},
   "outputs": [],
   "source": [
    "df.sample(10).T"
   ]
  },
  {
   "cell_type": "code",
   "execution_count": null,
   "id": "0beb14d3",
   "metadata": {},
   "outputs": [],
   "source": [
    "# Заполнение пропущенных значений в 'price' значением по аналогичным группам\n",
    "def fillna_group(group):\n",
    "    if group.notnull().any():  # Проверка, есть ли непустые значения в группе\n",
    "        return group.fillna(group.mode().iloc[0])\n",
    "    else:\n",
    "        return group\n",
    "\n",
    "filtered_data['price'] = filtered_data.groupby(['name'])['price'].transform(fillna_group)\n",
    "\n",
    "# Объединение с исходными данными\n",
    "df.loc[filtered_data.index, 'price'] = filtered_data['price']\n"
   ]
  },
  {
   "cell_type": "markdown",
   "id": "bdf7e01c",
   "metadata": {},
   "source": [
    "#### Признак `seats`\n",
    "Признак имеет 43  % пропущенных значений, причиной возникновения пропусков в данном поле вероятнее всего является человеческий фактор. Оставим как есть чтобы не искажать данные."
   ]
  },
  {
   "cell_type": "code",
   "execution_count": null,
   "id": "feb3d09b",
   "metadata": {},
   "outputs": [],
   "source": [
    "df.seats.value_counts().head(5)"
   ]
  },
  {
   "cell_type": "code",
   "execution_count": null,
   "id": "fcacd44d",
   "metadata": {},
   "outputs": [],
   "source": [
    "# Выполним замену пропущенных значений медианными групповыми\n",
    "#df['seats'] = df.groupby(['category', 'name'])['seats'].transform(lambda x: x.fillna(x.median()))"
   ]
  },
  {
   "cell_type": "markdown",
   "id": "64f27139",
   "metadata": {},
   "source": [
    "#### Признак `hours`"
   ]
  },
  {
   "cell_type": "markdown",
   "id": "6b427827",
   "metadata": {},
   "source": [
    "Признак имеет 6 % пропущенных значений, причиной возникновения пропусков в данном поле вероятнее всего является человеческий фактор, выполним  замену пропущенных значений по аналогии с признаком price."
   ]
  },
  {
   "cell_type": "code",
   "execution_count": null,
   "id": "a5484719",
   "metadata": {},
   "outputs": [],
   "source": [
    "# Заполнение пропущенных значений в 'hours' значением по аналогичным группам\n",
    "filtered_data['hours'] = filtered_data.groupby(['name'])['hours'].transform(fillna_group)\n",
    "\n",
    "# Объединение с исходными данными\n",
    "df.loc[filtered_data.index, 'hours'] = filtered_data['hours']"
   ]
  },
  {
   "cell_type": "code",
   "execution_count": null,
   "id": "dc2e4437",
   "metadata": {},
   "outputs": [],
   "source": [
    "# Остальные пропуски заполним меткой \"неизвестно\"\n",
    "df['hours'] = df.hours.fillna('unknown')"
   ]
  },
  {
   "cell_type": "code",
   "execution_count": null,
   "id": "a4bd190a",
   "metadata": {},
   "outputs": [],
   "source": [
    "# Посмотрим на оставшиеся пропуски\n",
    "df.isna().mean().sort_values(ascending=False)"
   ]
  },
  {
   "cell_type": "markdown",
   "id": "03d31b74",
   "metadata": {},
   "source": [
    "#### Вывод по пропущенным значениям\n",
    "\n",
    "Причина возникновения пропущенных значений, связана в первую очередь со способом сбора данных и указывает на человеческий фактор. Нам удалось снизить количество пропущенных значений в важных для исследования полях, однако большую часть пропусков оставили как есть, чтобы не искажать результаты исследования."
   ]
  },
  {
   "cell_type": "markdown",
   "id": "ecc50996",
   "metadata": {},
   "source": [
    "### Обработка дубликатов"
   ]
  },
  {
   "cell_type": "markdown",
   "id": "c7fab9bc",
   "metadata": {},
   "source": [
    "В виду отсутствия явных дубликатов, обработка не требуется."
   ]
  },
  {
   "cell_type": "markdown",
   "id": "3bd61ec3",
   "metadata": {},
   "source": [
    "### Изучим категориальные признаки"
   ]
  },
  {
   "cell_type": "code",
   "execution_count": null,
   "id": "519814a5",
   "metadata": {},
   "outputs": [],
   "source": [
    "# Посмотрим на описательные статистики\n",
    "df.describe(include=['object', 'category', 'string']).T"
   ]
  },
  {
   "cell_type": "markdown",
   "id": "2b48692c",
   "metadata": {},
   "source": [
    "Уже на этом этапе мы можем сделать ряд полезных наблюдений:\n",
    "- Самым популярным именем среди заведений является, и самой популярной категорией является  — «Кафе».\n",
    "- По адресу самое популярное — «Москва, проспект Вернадского, 86В» - существует целых 28 заведений! ТЦ?\n",
    "- Самыми популярным по размещению заведений является Центральный административный округ в нём  расположено 2242 заведений.\n",
    "- Самое популярное время работы — «ежедневно, 10:00–22:00» - существует 759 работающих заведений!\n"
   ]
  },
  {
   "cell_type": "markdown",
   "id": "625d32a0",
   "metadata": {},
   "source": [
    "#### Изучим признак `name`"
   ]
  },
  {
   "cell_type": "code",
   "execution_count": null,
   "id": "5838a503",
   "metadata": {},
   "outputs": [],
   "source": [
    "df.name.value_counts().head(10) "
   ]
  },
  {
   "cell_type": "markdown",
   "id": "9947e2c7",
   "metadata": {},
   "source": [
    "Как видно из результатов выше, наиболее популярные заведения в Москве - это кафе, за ним идут названия известных сетей."
   ]
  },
  {
   "cell_type": "code",
   "execution_count": null,
   "id": "7aad35c7",
   "metadata": {},
   "outputs": [],
   "source": [
    "# Изучим дубликаты среди несетевых заведений\n",
    "df.query('chain == 0').name.value_counts().head(10) "
   ]
  },
  {
   "cell_type": "markdown",
   "id": "3dcc5840",
   "metadata": {},
   "source": [
    "Наличие одинаковых названий свидетельствует как о  присутствие сетевых заведениях, так и невысокой степени креативности среди отдельных групп."
   ]
  },
  {
   "cell_type": "markdown",
   "id": "0161c7e2",
   "metadata": {},
   "source": [
    "#### Изучим признак `сategory`"
   ]
  },
  {
   "cell_type": "code",
   "execution_count": null,
   "id": "da0b5894",
   "metadata": {},
   "outputs": [],
   "source": [
    "df.category.value_counts()"
   ]
  },
  {
   "cell_type": "markdown",
   "id": "98867eff",
   "metadata": {},
   "source": [
    "У нас 8 категорий заведений, большую часть которых составляют кафе. Данные выглядят нормально."
   ]
  },
  {
   "cell_type": "markdown",
   "id": "e668a8e2",
   "metadata": {},
   "source": [
    "#### Изучим признак `address`"
   ]
  },
  {
   "cell_type": "code",
   "execution_count": null,
   "id": "07701466",
   "metadata": {},
   "outputs": [],
   "source": [
    "df.address.value_counts().head(10)"
   ]
  },
  {
   "cell_type": "markdown",
   "id": "fa3d454f",
   "metadata": {},
   "source": [
    "Наличие одинаковых адресов не является аномальным, заведения очень часто распологаются рядом на фудкортах в ТЦ и в проходных местах"
   ]
  },
  {
   "cell_type": "markdown",
   "id": "19655186",
   "metadata": {},
   "source": [
    "#### Изучим признак `district`"
   ]
  },
  {
   "cell_type": "code",
   "execution_count": null,
   "id": "c1d1fcbb",
   "metadata": {},
   "outputs": [],
   "source": [
    "df.district.value_counts()"
   ]
  },
  {
   "cell_type": "markdown",
   "id": "e8b20281",
   "metadata": {},
   "source": [
    "С названиями округов всё в порядке."
   ]
  },
  {
   "cell_type": "markdown",
   "id": "429b9651",
   "metadata": {},
   "source": [
    "#### Изучим признак `hours`"
   ]
  },
  {
   "cell_type": "code",
   "execution_count": null,
   "id": "719c3a56",
   "metadata": {},
   "outputs": [],
   "source": [
    "df.hours.value_counts().head(10)"
   ]
  },
  {
   "cell_type": "code",
   "execution_count": null,
   "id": "0bc90320",
   "metadata": {},
   "outputs": [],
   "source": [
    "round(df.hours.str.contains('круглосуточно').sum() /len(df) * 100 , 2)"
   ]
  },
  {
   "cell_type": "markdown",
   "id": "36ff18f9",
   "metadata": {},
   "source": [
    "Имеем 1090 круглосуточных заведений, что составляет  12.97% от общего числа заведений."
   ]
  },
  {
   "cell_type": "markdown",
   "id": "291d38da",
   "metadata": {},
   "source": [
    "#### Изучим признак `price`"
   ]
  },
  {
   "cell_type": "code",
   "execution_count": null,
   "id": "ccadc7f6",
   "metadata": {},
   "outputs": [],
   "source": [
    "df.price.value_counts()"
   ]
  },
  {
   "cell_type": "markdown",
   "id": "7e85fd7c",
   "metadata": {},
   "source": [
    "Проблем с данными в данном поле нет."
   ]
  },
  {
   "cell_type": "markdown",
   "id": "4ea2f24d",
   "metadata": {},
   "source": [
    "### Изучим количественные признаки"
   ]
  },
  {
   "cell_type": "code",
   "execution_count": null,
   "id": "d05e1615",
   "metadata": {},
   "outputs": [],
   "source": [
    "# Посмотрим на описательные статистики\n",
    "df[['rating', 'middle_avg_bill', 'middle_coffee_cup', 'seats']].describe().T\n",
    "\n"
   ]
  },
  {
   "cell_type": "markdown",
   "id": "84eb698d",
   "metadata": {},
   "source": [
    "Высокое стандартное отклонение говорит о неоднородности распределения данных и присутствии выбросов."
   ]
  },
  {
   "cell_type": "code",
   "execution_count": null,
   "id": "5cbc084d",
   "metadata": {
    "scrolled": false
   },
   "outputs": [],
   "source": [
    "# Создание pairplot\n",
    "sns.pairplot(df[['rating', 'middle_avg_bill', 'middle_coffee_cup', 'seats', 'category']],\n",
    "             diag_kind='kde',\n",
    "             hue='category');"
   ]
  },
  {
   "cell_type": "markdown",
   "id": "6aa79ba3",
   "metadata": {},
   "source": [
    "Из представленного графика мы можем сделать следующие выводы и гипотезы:\n",
    "- Самый высокий рейтинг принадлежит заведениям категории ресторан;\n",
    "- Самые низкие оценки принадлежат категории заведений \"кафе\";\n",
    "- В данных присутствуют выбросы которые могут повлиять на результаты исследования.\n",
    "Определим функцию для более подробного изучения количественных признаков."
   ]
  },
  {
   "cell_type": "code",
   "execution_count": null,
   "id": "6eb13c86",
   "metadata": {
    "scrolled": false
   },
   "outputs": [],
   "source": [
    "# Построим матрицу корреляции\n",
    "corr_matrix = df[['middle_avg_bill', 'middle_coffee_cup', 'rating', 'seats']].corr()\n",
    "sns.heatmap(corr_matrix, annot=True, cmap='viridis')\n",
    "fig = plt.gcf()\n",
    "fig.set_size_inches(10, 8)\n",
    "plt.title('Матрица корреляции', fontsize=18)"
   ]
  },
  {
   "cell_type": "markdown",
   "id": "5bfd6106",
   "metadata": {},
   "source": [
    "Присутствует низкая корреляция `rating` от переменных `middle_coffee_cup` и `middle_avg_bill`."
   ]
  },
  {
   "cell_type": "code",
   "execution_count": null,
   "id": "99af9c9f",
   "metadata": {},
   "outputs": [],
   "source": [
    "# Функция для построения гистограммы и ящика с усами\n",
    "def plot_hist_box(df, column, x_range=None, title='Ratings distribution', x_title='rating', y_title='count'):\n",
    "    # Создаем гистограмму\n",
    "    histogram = go.Histogram(\n",
    "        x=df[column],\n",
    "        nbinsx=100,  # Количество корзин (bins)\n",
    "        marker=dict(\n",
    "            color='#f54123',\n",
    "            line=dict(width=2, color='#0b3536')  # Устанавливаем цвет линий между столбцами\n",
    "        ),\n",
    "        opacity=0.8\n",
    "    )\n",
    "    \n",
    "    # Создаем ящик с усами (boxplot)\n",
    "    boxplot = go.Box(\n",
    "        x=df[column],  # Используем x вместо y#f54123\n",
    "        marker=dict(color='#0b3536'),  # Цвет линий boxplot\n",
    "        orientation='h'  # Горизонтальное расположение\n",
    "    )\n",
    "    \n",
    "    # Создаем subplot\n",
    "    fig = make_subplots(rows=2, cols=1, shared_xaxes=True, row_heights=[0.2, 0.8])\n",
    "\n",
    "    # Добавляем ящик с усами в первую строку\n",
    "    fig.add_trace(boxplot, row=1, col=1)\n",
    "\n",
    "    # Добавляем гистограмму во вторую строку\n",
    "    fig.add_trace(histogram, row=2, col=1)\n",
    "\n",
    "    # Настраиваем высоту и ширину графика\n",
    "    fig.update_layout(height=700, width=980)\n",
    "\n",
    "    # Настраиваем заголовки и метки осей\n",
    "    fig.update_layout(\n",
    "        title=title,\n",
    "        # Расположение заголовка\n",
    "        title_x=0.5,\n",
    "        xaxis=dict(range=x_range),  # Устанавливаем диапазон оси X\n",
    "        xaxis2=dict(title=x_title),\n",
    "        yaxis2=dict(title=y_title),  # yaxis2 для второй оси Y\n",
    "        showlegend=False,\n",
    "        template='plotly_white'  # Тема \"white\"\n",
    "    )\n",
    "\n",
    "    # Удаляем названия traces\n",
    "    fig.data[0].name = ''\n",
    "    fig.data[1].name = ''\n",
    "\n",
    "    # Отображаем график\n",
    "    fig.show()"
   ]
  },
  {
   "cell_type": "markdown",
   "id": "b6507ece",
   "metadata": {},
   "source": [
    "#### Изучим признак `rating`"
   ]
  },
  {
   "cell_type": "code",
   "execution_count": null,
   "id": "a7f73c8c",
   "metadata": {},
   "outputs": [],
   "source": [
    "# Построим гистограмму и ящик с усами для рейтинга\n",
    "plot_hist_box(df, 'rating', x_range=None, title='Распределение рейтинга', x_title='Рейтинг', y_title='Количество')"
   ]
  },
  {
   "cell_type": "markdown",
   "id": "0852ee65",
   "metadata": {},
   "source": [
    "Здесь мы видим явно выраженный левый хвост и концентрацию значений в правой части. Что может говорить нам о том, что люди предпочитают ставить приемущественно высокие оценки. В целом каких либо аномальных значений, для этого признака здесь не видно. Распределение имеет некоторые отличия от нормального."
   ]
  },
  {
   "cell_type": "markdown",
   "id": "588e7292",
   "metadata": {},
   "source": [
    "#### Изучим признак `middle_avg_bill`"
   ]
  },
  {
   "cell_type": "code",
   "execution_count": null,
   "id": "19d897dc",
   "metadata": {
    "scrolled": false
   },
   "outputs": [],
   "source": [
    "# Построим гистограмму и ящик с усами для средней суммы чека\n",
    "plot_hist_box(df, 'middle_avg_bill', x_range=None, title='Распределение по среднему чеку',\n",
    "              x_title='Средний чек',\n",
    "              y_title='Количество')"
   ]
  },
  {
   "cell_type": "markdown",
   "id": "057d5da9",
   "metadata": {},
   "source": [
    "Распределение имеет явно выраженный правых хвост, что характерно для подобных признаков, так же можно отметить присутствие \"выбросов\" в данных,  в разрезе от 10 до 35 тыс. рублей. Медианное значение для данного признака составляет 650 рублей, а граница 1.5*IQR = 2750 рублей."
   ]
  },
  {
   "cell_type": "code",
   "execution_count": null,
   "id": "a6ece05e",
   "metadata": {},
   "outputs": [],
   "source": [
    "df[df['middle_avg_bill'] >= 10000]"
   ]
  },
  {
   "cell_type": "markdown",
   "id": "6a2a8d32",
   "metadata": {},
   "source": [
    "Значения для заведений \"Кафе\" и \"Чойхона\" выглядят странно, а вот  ресторан \"Гости\" действительно имеет немалый средний чек отфильтруем эти наблюдения."
   ]
  },
  {
   "cell_type": "markdown",
   "id": "1a854c36",
   "metadata": {},
   "source": [
    "#### Изучим признак `middle_coffee_cup`"
   ]
  },
  {
   "cell_type": "code",
   "execution_count": null,
   "id": "22a11b0c",
   "metadata": {},
   "outputs": [],
   "source": [
    "# Построим гистограмму и ящик с усами для средней стоимости кофе\n",
    "plot_hist_box(df, 'middle_coffee_cup', x_range=None, title='Распределение по средней цене чашки кофе',\n",
    "              x_title='Цена чашки кофе',\n",
    "              y_title='Количество')"
   ]
  },
  {
   "cell_type": "markdown",
   "id": "44a2b60f",
   "metadata": {},
   "source": [
    "Распределение выглядит бимодальным, что может свидетельствовать о наличии единых цен для различных форматов и сетей кофеен, так же можно отметить присутствие \"выбросов\" в данных,  стоимость кофе свыше 500 р. Медианное значение для данного признака составляет 155 рублей, а граница 1.5*IQR = 375 рублей."
   ]
  },
  {
   "cell_type": "code",
   "execution_count": null,
   "id": "10ed72bd",
   "metadata": {},
   "outputs": [],
   "source": [
    "# Посмотрим на самую \"дорогую кофейню\"\n",
    "df[df['middle_coffee_cup'] > 500]"
   ]
  },
  {
   "cell_type": "markdown",
   "id": "cc58c36e",
   "metadata": {},
   "source": [
    "Вероятнее всего ошибка при вводе данных, заменим медианным значением по сети."
   ]
  },
  {
   "cell_type": "code",
   "execution_count": null,
   "id": "a3656e7a",
   "metadata": {},
   "outputs": [],
   "source": [
    "# Заменим значения больше 500 на NaN\n",
    "df.loc[df['middle_coffee_cup'] > 500, 'middle_coffee_cup'] = np.nan\n",
    "# Заменим пропуски на групповое медианное значение\n",
    "df['middle_coffee_cup'] = df.groupby('name')['middle_coffee_cup'].transform(lambda x: x.fillna(x.median()))"
   ]
  },
  {
   "cell_type": "markdown",
   "id": "27d8928a",
   "metadata": {},
   "source": [
    "#### Изучим признак `seats`"
   ]
  },
  {
   "cell_type": "code",
   "execution_count": null,
   "id": "5d6e500b",
   "metadata": {
    "scrolled": false
   },
   "outputs": [],
   "source": [
    "# Построим гистограмму и ящик с усами для количества мест\n",
    "plot_hist_box(df, 'seats', x_range=None, title='Распреределение по количеству мест',\n",
    "              x_title='Посадочные места',\n",
    "              y_title='Количество')"
   ]
  },
  {
   "cell_type": "markdown",
   "id": "8c74e11a",
   "metadata": {},
   "source": [
    "Распределение имеет явно выраженный правый хвост. Значения свыше 500 мест выглядят аномальными, безусловно в Москве существуют огромные банкетные залы вместимостью свыше 500 мест, однако таких мест не так много. Заменим значения больше 500 на групповые медианные значения. Возможной причиной возникновения аномалий, может являться указание общего количества посадочных мест в комплексе или ТЦ."
   ]
  },
  {
   "cell_type": "code",
   "execution_count": null,
   "id": "537be977",
   "metadata": {},
   "outputs": [],
   "source": [
    "# Посмотрим на ТОП-5 заведений с количеством мест больше 500\n",
    "df[df['seats'] > 500].sort_values(by='seats', ascending=False).head(5)"
   ]
  },
  {
   "cell_type": "markdown",
   "id": "a7511ce2",
   "metadata": {},
   "source": [
    "Кофейни и кафе с количеством посадочных мест свыше 1000+ выглядят как явные аномалии."
   ]
  },
  {
   "cell_type": "code",
   "execution_count": null,
   "id": "42d5541f",
   "metadata": {},
   "outputs": [],
   "source": [
    "df.groupby('address')['seats'].agg(['count', 'median']).sort_values(by='count', ascending=False).head(5)"
   ]
  },
  {
   "cell_type": "code",
   "execution_count": null,
   "id": "fa54564b",
   "metadata": {},
   "outputs": [],
   "source": [
    "# Заменим значения больше 300 на NaN\n",
    "df.loc[df['seats'] > 500, 'seats'] = np.nan\n",
    "# Заменим пропуски на групповое медианное значение\n",
    "df['seats'] = df.groupby(['category','district'])['seats'].transform(lambda x: x.fillna(x.median()))"
   ]
  },
  {
   "cell_type": "markdown",
   "id": "df32b27c",
   "metadata": {},
   "source": [
    "### Добавим фичи для проведения анализа"
   ]
  },
  {
   "cell_type": "markdown",
   "id": "258f8367",
   "metadata": {},
   "source": [
    "Выполните предобработку данных:\n",
    "Создайте столбец street с названиями улиц из столбца с адресом.\n",
    "Создайте столбец is_24_7 с обозначением, что заведение работает ежедневно и круглосуточно (24/7):\n",
    "логическое значение True — если заведение работает ежедневно и круглосуточно;\n",
    "логическое значение False — в противоположном случае."
   ]
  },
  {
   "cell_type": "markdown",
   "id": "5895270e",
   "metadata": {},
   "source": [
    "#### Признак `street`"
   ]
  },
  {
   "cell_type": "code",
   "execution_count": null,
   "id": "8b0e0199",
   "metadata": {},
   "outputs": [],
   "source": [
    "# Извлечение названия улицы с помощью регулярного выражения\n",
    "df['street'] = df['address'].str.extract(r'^[^,]+,\\s*([^,]+(?:, [^,]+)?)')[0]\n",
    "df['street'] = df['street'].str.split(',').str[0]"
   ]
  },
  {
   "cell_type": "code",
   "execution_count": null,
   "id": "d138bd86",
   "metadata": {},
   "outputs": [],
   "source": [
    "df['street'].nunique()"
   ]
  },
  {
   "cell_type": "code",
   "execution_count": null,
   "id": "cd1f4d67",
   "metadata": {},
   "outputs": [],
   "source": [
    "# Проверим значения\n",
    "df['street'].value_counts().head(10)"
   ]
  },
  {
   "cell_type": "markdown",
   "id": "2bd4920e",
   "metadata": {},
   "source": [
    " Вот и топ 10 улиц по количеству заведений."
   ]
  },
  {
   "cell_type": "markdown",
   "id": "a827183b",
   "metadata": {},
   "source": [
    "#### Признак `is_24_7`"
   ]
  },
  {
   "cell_type": "code",
   "execution_count": null,
   "id": "073f3c3b",
   "metadata": {},
   "outputs": [],
   "source": [
    "# Зададим поле \"is_24_7\"\n",
    "df['is_24_7'] = False\n",
    "df.loc[df['hours'].str.contains('круглосуточно', 'ежедневно'), 'is_24_7'] = True"
   ]
  },
  {
   "cell_type": "code",
   "execution_count": null,
   "id": "c58fc996",
   "metadata": {},
   "outputs": [],
   "source": [
    "df.head(5)"
   ]
  },
  {
   "cell_type": "markdown",
   "id": "ea1ed25b",
   "metadata": {},
   "source": [
    "### Фильтрация данных."
   ]
  },
  {
   "cell_type": "code",
   "execution_count": null,
   "id": "e335f392",
   "metadata": {},
   "outputs": [],
   "source": [
    "# Отфильтруем данные\n",
    "dff = df.copy().query(\n",
    "    '(middle_avg_bill < 10000 or middle_avg_bill != middle_avg_bill) '\n",
    "    'and (middle_coffee_cup < 500 or middle_coffee_cup != middle_coffee_cup)'\n",
    ")"
   ]
  },
  {
   "cell_type": "code",
   "execution_count": null,
   "id": "120f2dda",
   "metadata": {},
   "outputs": [],
   "source": [
    "# Выполним проверку оставшегося % значения после фильтрации\n",
    "\"Оставшееся количество строк после фильтрации = \" + f'{round((dff.shape[0] / df.shape[0]) * 100, 2)} %'"
   ]
  },
  {
   "cell_type": "markdown",
   "id": "b3d6697e",
   "metadata": {},
   "source": [
    "### Вывод по этапу предобратки"
   ]
  },
  {
   "cell_type": "markdown",
   "id": "5fd4b9fc",
   "metadata": {},
   "source": [
    "В процессе предобработки данных мы достигли нескольких целей и пришли к следующим выводам и изменениям:\n",
    "\n",
    "\n",
    "1. Мы провели изменения в типах данных, с целью оптимизации.\n",
    "     \n",
    "     \n",
    "2. Мы провели обработку пропусков, в результате чего нам удалось выявить признаки с пропущенными значениями и их взаимосвзязи. На данном этапе, мы заменили часть пропущенных значений где это не могло повлиять на результаты нашего исследования. Однако в данных остались пропуски, которые не могут быть обработаны без привлечения информации из сторонних ресурсов, это следует учесть при проведении анализа. Основными причина возникновения пропущенных значений, связана в первую очередь со способом сбора данных и указывает на человеческий фактор.       \n",
    "\n",
    "\n",
    "3. Мы изучили категориальные переменные и получили следующие результаты:\n",
    "    - Аномалий среди категориальных переменных не обнаружено.\n",
    "    - Наличие одинаковых названий свидетельствует как о  присутствие сетевых заведениях, так и невысокой степени креативности среди отдельных групп.\n",
    "    - Самым популярным именем среди заведений является, и самой популярной категорией является  — «Кафе».\n",
    "    - По адресу самое популярное — «Москва, проспект Вернадского, 86В» - существует целых 28 заведений! ТЦ?\n",
    "    - Самыми популярным по размещению заведений является Центральный административный округ в нём  расположено 2242 заведений.\n",
    "    - Самое популярное время работы — «ежедневно, 10:00–22:00» - существует 759 работающих заведений!\n",
    "    \n",
    "    \n",
    "4. Мы изучили количественные признаки, и пришли к слудущим результатам:\n",
    "    - Мы изучили распределения наших признаков, и выявили, что в них есть выбросы среди признаков `middle_coffee_cup` и `middle_avg_bill`.\n",
    "    - Мы обратили внимание на наличие мультимодальности в признаке `middle_coffee_cup`, что может свидетельствовать о наличии единых цен для различных форматов и сетей кофеен.\n",
    "    - В целом распределения для признаков `middle_coffee_cup`, `middle_avg_bill`  имеют схожую тенденцию распределения с длинным хвостом вправо.\n",
    "    - Для признака `ratings` ситуация с распределением зеркальна, что характеризует оценку пользователей по 5-бальной шкале.\n",
    "    - Присутствует низкая положительная корреляция  переменной `rating` от переменных `middle_coffee_cup` и `middle_avg_bill`.\n",
    "    - В признаке `seats` имеются аномальные значения, мы обработали часть из них и заменили на медианные групповые.\n",
    "\n",
    "\n",
    "5. Мы провели фильтрацию данных, что бы отбросить аномальные значения, и выполнили проверку оставшихся данных. Отфильтрованная таблица имеет  99,96% значений.\n",
    "\n",
    "\n",
    "6. Мы добавили новые фичи для улучшения анализа данных:\n",
    "\n",
    "    - Признак `street` - наименование улицы.\n",
    "    - Признаки `is_24_7` - характеризует круглосуточное заведение или нет.\n",
    "\n",
    "\n",
    "Таким образом, проведённые изменения и обработка данных позволили улучшить их качество и снизить объём памяти, обеспечив возможность более точного и эффективного анализа."
   ]
  },
  {
   "cell_type": "markdown",
   "id": "31d94328",
   "metadata": {},
   "source": [
    "##  Анализ данных"
   ]
  },
  {
   "cell_type": "markdown",
   "id": "56fb483d",
   "metadata": {},
   "source": [
    "### Изучим распределение заведений по категориям."
   ]
  },
  {
   "cell_type": "code",
   "execution_count": null,
   "id": "d59b1482",
   "metadata": {},
   "outputs": [],
   "source": [
    "# Burg\n",
    "#ffc6c4,#f4a3a8,#e38191,#cc607d,#ad466c,#8b3058,#672044\n",
    "\n",
    "#5F4690,#1D6996,#38A6A5,#0F8554,#73AF48,#EDAD08,#E17C05,#CC503E,#94346E,#6F4070,#994E95,#666666]\n",
    "\n",
    "# BOLD\n",
    "#['#277da1', '#4d908e', '#43aa8b', '#90be6d', '#f9c74f', '#f8961e', '#f3722c', '#f94144']\n",
    "#7F3C8D,#11A579,#3969AC,#F2B701,#E73F74,#80BA5A,#E68310,#008695,#CF1C90,#f97b72,#4b4b8f,#A5AA99\n",
    "\n",
    "#['#143961', '#0F8CC1', '#03CEA4', '#A9E17E', '#F9C74F', '#F8961E', '#F3722C', '#F94144']\n",
    "#['#0F8CC1', '#21466f', '#F94144', '#A9E17E', '#F9C74F', '#F8961E', '#F3722C', '#03CEA4']\n",
    "#00202e,  #003f5c,  #2c4875,  #8a508f,  #bc5090,  #ff6361,  #ff8531,  #ffa600 and  #ffd380."
   ]
  },
  {
   "cell_type": "code",
   "execution_count": null,
   "id": "cca09772",
   "metadata": {},
   "outputs": [],
   "source": [
    "# Подсчитаем количество заведений по категориям\n",
    "category_counts = dff['category'].value_counts()\n",
    "\n",
    "# Создание списка цветов для категорий\n",
    "categories_list = category_counts.index.tolist() # список категорий\n",
    "custom_palette = ['#277da1', '#21466f', '#f94144', '#90be6d', '#f9c74f', '#f8961e', '#f3722c', '#43aa8b'] # список цветов\n",
    "palette_dict = dict(zip(categories_list, custom_palette)) # Объединение двух списков\n",
    "palette_colors = [palette_dict[category] for category in categories_list] # Выбор цветов\n",
    "\n",
    "# Создадим список для pull, установив значения 0.1 для топ категории\n",
    "pull = [0.01 if category != category_counts.max() else 0.05 for category in category_counts]\n",
    "\n",
    "# Зададим параметр textposition\n",
    "textposition = ['outside' if category in category_counts.tail(3).index.tolist() \n",
    "                else 'inside' for category in category_counts.index]\n",
    "# Построим круговую диаграмму\n",
    "fig = go.Figure(data=[go.Pie(labels=category_counts.index, values=category_counts.values, hole=0.5,\n",
    "                             pull=pull,\n",
    "                             textinfo='label+percent',\n",
    "                             textposition=textposition,\n",
    "                             textfont=dict(size=15),\n",
    "                             marker=dict(colors=palette_colors))])\n",
    "\n",
    "# Обновим макет диаграммы для отображения\n",
    "fig.update_layout(\n",
    "    title='Распределение заведений по категориям',\n",
    "    annotations=[dict(text=f'Всего заведений: {dff.shape[0]}', x=0.5, y=0.5, font_size=16, showarrow=False)]\n",
    "    \n",
    ")\n",
    "# Изменим размер шрифта в заголовке и выведем по центру\n",
    "fig.update_layout(title_font=dict(size=16), title_x=0.5)\n",
    "\n",
    "# Изменим размер графика\n",
    "fig.update_layout(width=800, height=800)\n",
    "# Скрыть легенду\n",
    "fig.update_layout(showlegend=False)\n",
    "\n",
    "# Покажем диаграмму\n",
    "fig.show()"
   ]
  },
  {
   "cell_type": "markdown",
   "id": "66498c40",
   "metadata": {},
   "source": [
    "Исходя из представленного выше графика можно сделать следующие выводы и гипотезы: \n",
    "- Наиболее распространенными заведениями в Москве являются кафе, рестораны и кофейни на их долю приходится почти 70 % рынка;\n",
    "- Остальные категории делят между собой 30 % от общего объема, наименее распространенными заведениями являются булочные и столовые."
   ]
  },
  {
   "cell_type": "markdown",
   "id": "0497c137",
   "metadata": {},
   "source": [
    "### Исследуем количество посадочных мест  по категориям."
   ]
  },
  {
   "cell_type": "code",
   "execution_count": null,
   "id": "655ddf1d",
   "metadata": {},
   "outputs": [],
   "source": [
    "# Сгруппируем по категориям и посчитаем медиану по количеству мест\n",
    "t=dff.groupby('category', as_index=False)['seats'].agg('median').sort_values(by='seats', ascending=False)\n",
    "\n",
    "# Зададим стиль графика\n",
    "sns.set_style('white')\n",
    "\n",
    "# Зададим размер графика\n",
    "plt.figure(figsize=(14, 8))\n",
    "\n",
    "# Создаем столбчатую диаграмму с кастомной палитрой\n",
    "ax = sns.barplot(x='category', y='seats', data=t, palette=palette_dict)\n",
    "\n",
    "# Дабавляем название к графику\n",
    "plt.title('Медианное количество мест по категориям', fontsize=15)\n",
    "# Добавляем подпись к осям\n",
    "plt.xlabel(None)\n",
    "plt.ylabel('Медианное количество мест')\n",
    "\n",
    "# Поворачиваем подписи оси X на 45 градусов\n",
    "plt.xticks(rotation=0)\n",
    "\n",
    "# Добавляем подписи над каждым столбцом\n",
    "for p in ax.patches:\n",
    "    ax.annotate(f'{p.get_height():.0f}', \n",
    "                (p.get_x() + p.get_width() / 2., p.get_height()), \n",
    "                ha='center', va='center',\n",
    "                xytext=(0, 5), \n",
    "                textcoords='offset points')\n",
    "    \n",
    "# Убираем границы и оси\n",
    "\n",
    "y_axis = ax.axes.get_yaxis()\n",
    "y_axis.set_visible(False)\n",
    "sns.despine(left=True, bottom=False)\n",
    "\n",
    "# Показываем график\n",
    "plt.show()"
   ]
  },
  {
   "cell_type": "code",
   "execution_count": null,
   "id": "d5adf988",
   "metadata": {},
   "outputs": [],
   "source": [
    "#dff.groupby('address')['seats'].agg(['count', 'median']).sort_values(by='count', ascending=False)"
   ]
  },
  {
   "cell_type": "markdown",
   "id": "f4e1ce7f",
   "metadata": {},
   "source": [
    "Исходя из предоставленных данных, можно сделать следующие выводы и гипотезы:\n",
    "- Наибольшим показателем посадочных мест обладают бары, рестораны и кофейни, предположим что, данные категории ориентированы на более длительное время посещения клиентами, а также проведение торжественных и развлекательных мероприятий. \n",
    "- Самые низкие показатели  по количеству посадочных мест среди  категорий «булочная» и  «пиццерия».\n",
    "- Количество мест кажется завышенным, вероятнее всего есть какие то неточности в данных, возможно количество мест для многих заведений расчитывалось как общее количество мест на фудкорте или в ТЦ. Стоит уточнить информацию, перед тем как презентовать такие выводы заказчику."
   ]
  },
  {
   "cell_type": "markdown",
   "id": "1af2f6be",
   "metadata": {},
   "source": [
    "### Рассмотрим  соотношение сетевых и несетевых заведений в датасете."
   ]
  },
  {
   "cell_type": "code",
   "execution_count": null,
   "id": "81d8f6e7",
   "metadata": {},
   "outputs": [],
   "source": [
    "# Подсчитаем количество заведений по категориям с учетом False значений\n",
    "its_chain = dff['chain'].value_counts()\n",
    "\n",
    "# Добавим палитру\n",
    "new_palette = ['#21466f', '#f94144']\n",
    "\n",
    "# Создадим список для pull, установив значения 0.1 для топ категории\n",
    "pull = [0.01 if category != its_chain.max() else 0.02 for category in its_chain]\n",
    "\n",
    "# Построим круговую диаграмму\n",
    "fig = go.Figure(data=[go.Pie(labels=its_chain.index, values=its_chain.values, hole=0.5,\n",
    "                             pull=pull,\n",
    "                             textinfo='label+percent',\n",
    "                             textposition='inside',\n",
    "                             textfont=dict(size=15),\n",
    "                             marker=dict(colors=new_palette),\n",
    "                             domain=dict(x=[0, 1], y=[0, 1])\n",
    "                             )])\n",
    "\n",
    "# Обновим макет диаграммы для отображения\n",
    "fig.update_layout(\n",
    "    title='Доля сетевых и несетевых заведений',\n",
    "    annotations=[dict(text=f'Всего заведений: {dff.shape[0]}', x=0.5, y=0.5, font_size=20, showarrow=False)]\n",
    "    \n",
    ")\n",
    "# Изменим размер шрифта в заголовке и выведем по центру\n",
    "fig.update_layout(title_font=dict(size=20), title_x=0.5)\n",
    "\n",
    "# Изменим названия лейблов на Да и Нет\n",
    "fig.update_traces(labels=['Нет', 'Да'])\n",
    "\n",
    "# Изменим размер графика\n",
    "fig.update_layout(width=800, height=800)\n",
    "# Скрыть легенду\n",
    "fig.update_layout(showlegend=False)\n",
    "\n",
    "# Покажем диаграмму\n",
    "fig.show()"
   ]
  },
  {
   "cell_type": "markdown",
   "id": "b2ca5251",
   "metadata": {},
   "source": [
    "Исходя из предоставленных данных, можно сделать следующие выводы и гипотезы: - Более 60 % рынка общепита Москвы приходится на несетевых игроков, что может свидетельствовать о большом многообразии выбора концепций, на любой вкус и цвет."
   ]
  },
  {
   "cell_type": "markdown",
   "id": "2d07fac1",
   "metadata": {},
   "source": [
    "### Изучим какие категории заведений чаще являются сетевыми."
   ]
  },
  {
   "cell_type": "code",
   "execution_count": null,
   "id": "9b9233d1",
   "metadata": {},
   "outputs": [],
   "source": [
    "# Определим, какие категории заведений чаще являются сетевыми\n",
    "category_chain = df.groupby('category')['chain'].mean().reset_index()\n",
    "category_chain.columns = ['category', 'network_percentage']\n",
    "\n",
    "# Сортировка по убыванию\n",
    "category_chain = category_chain.sort_values(by='network_percentage', ascending=False)\n",
    "# Cоздадим фигуру\n",
    "plt.figure(figsize=(14, 8))\n",
    "# Настроим отступы для текста и оси y\n",
    "\n",
    "ax = sns.barplot(x='category', y='network_percentage', data=category_chain, palette=palette_dict)\n",
    "\n",
    "# Заполнение и добавление текста\n",
    "for p in ax.patches:\n",
    "    height = p.get_height()\n",
    "    # Увеличенный отступ для текста\n",
    "    ax.text(\n",
    "        p.get_x() + p.get_width() / 2, height + 0.01,  # Увеличен отступ\n",
    "        f'{height:.1%}',\n",
    "        ha='center', va='bottom', fontsize=12, color='black'\n",
    "    )\n",
    "\n",
    "# Установка лимитов оси y для обеспечения дополнительного пространства\n",
    "ax.set_ylim(0, category_chain['network_percentage'].max() + 0.1)\n",
    "\n",
    "# Убираем верхнюю и левую часть графика\n",
    "y_axis = ax.axes.get_yaxis()\n",
    "y_axis.set_visible(False)\n",
    "sns.despine(left=True, bottom=False)\n",
    "plt.title('Процент сетевых заведений для каждой категории', fontsize=20)\n",
    "plt.xlabel(None)\n",
    "plt.ylabel('Процент сетевых заведений')\n",
    "plt.xticks(rotation=0)\n",
    "plt.tight_layout()\n",
    "plt.show()"
   ]
  },
  {
   "cell_type": "markdown",
   "id": "598733b3",
   "metadata": {},
   "source": [
    "Исходя из предоставленных данных, можно сделать следующие выводы и гипотезы: \n",
    "- Булочные, пиццерии и кофейни - в более чем 50 % случаев оказываются сетевыми заведениями, возможно это связано с особенностями и затратами на масштабирование.\n",
    "- Наименьшим количеством сетевых заведений являются пабы и бары - заведения для души. =)"
   ]
  },
  {
   "cell_type": "code",
   "execution_count": null,
   "id": "7294e319",
   "metadata": {
    "scrolled": false
   },
   "outputs": [],
   "source": [
    "# Создадим фигуру\n",
    "plt.figure(figsize=(14, 8))\n",
    "\n",
    "# Построим график\n",
    "ax = sns.countplot(data=dff, x='chain', hue='category', palette=palette_dict)\n",
    "\n",
    "# Добавляем подписи к столбцам\n",
    "for p in ax.patches:\n",
    "    height = p.get_height()\n",
    "    percentage = round(height / len(dff) * 100, 1)\n",
    "    if percentage > 0:  # Показывать только ненулевые значения\n",
    "        ax.annotate(f'{percentage}%', \n",
    "                    (p.get_x() + p.get_width() / 2, height), \n",
    "                    ha='center', \n",
    "                    va='bottom', \n",
    "                    xytext=(0, 10), \n",
    "                    textcoords='offset points',\n",
    "                    fontsize=10,\n",
    "                    color='black')\n",
    "\n",
    "# Добавляем подпись к осям\n",
    "ax.set(xticklabels=['Несетевые', 'Сетевые'])\n",
    "\n",
    "# Добавляем название к графику\n",
    "plt.xlabel('')\n",
    "plt.ylabel('Количество заведений')\n",
    "plt.title('Соотношение несетевых и сетевых заведений по категориям', fontsize=15)\n",
    "\n",
    "# Создание легенды в одну линию внизу по центру\n",
    "plt.legend(title=None, \n",
    "           bbox_to_anchor=(0.5, -0.05), loc='upper center', ncol=8,  frameon=False, fontsize=10)\n",
    "\n",
    "\n",
    "# Убираем оси и границы\n",
    "sns.despine(left=True, bottom=False)\n",
    "\n",
    "# Убираем верхнюю и левую часть графика\n",
    "ax.yaxis.set_visible(False)\n",
    "\n",
    "# Отображаем график\n",
    "plt.show()"
   ]
  },
  {
   "cell_type": "markdown",
   "id": "0faaf0ec",
   "metadata": {},
   "source": [
    "Этот график хуже отвечает на вопрос, однако лучше отражает распределение."
   ]
  },
  {
   "cell_type": "markdown",
   "id": "c55e335e",
   "metadata": {},
   "source": [
    "### Найдём топ-15 популярных сетей в Москве. "
   ]
  },
  {
   "cell_type": "code",
   "execution_count": null,
   "id": "1e0a130d",
   "metadata": {},
   "outputs": [],
   "source": [
    "# Получение списка популярных сетей\n",
    "top_15_networks = dff.query('chain == 1')['name'].value_counts().head(15).reset_index()\n",
    "top_15_networks.columns = ['name', 'count']\n",
    "\n",
    "# Определение категории для каждой сети\n",
    "def get_category(name):\n",
    "    categories = dff.query(f'name == \"{name}\"')['category'].unique()\n",
    "    if len(categories) > 0:\n",
    "        return categories[0]  # Взять первую категорию, если их несколько\n",
    "    return 'unknown'\n",
    "\n",
    "top_15_networks['category'] = top_15_networks['name'].apply(get_category)\n",
    "# Определение уникальных категорий\n",
    "unique_categories = top_15_networks['category'].unique()\n",
    "\n",
    "# Построение графика\n",
    "fig, ax = plt.subplots(figsize=(14, 8))\n",
    "\n",
    "for index, row in top_15_networks.iterrows():\n",
    "    bar = ax.barh(row['name'], row['count'], color=palette_dict[row['category']], alpha=0.7)\n",
    "    # Добавление меток с наименованиями по левому краю столбцов\n",
    "    ax.text(2, index, row['name'], va='center', ha='left', color='black', fontsize=10)\n",
    "    # Добавление количества заведений рядом со столбцами справа\n",
    "    ax.text(row['count'] + 0.5, index, str(row['count']), va='center', ha='left', color='black', fontsize=12)\n",
    "\n",
    "\n",
    "# Настройка осей и заголовка\n",
    "ax.set_xlabel('Количество заведений')\n",
    "ax.set_title('Топ-15 популярных сетевых заведений в Москве', fontsize=18)\n",
    "\n",
    "# Инвертируем ось y, чтобы заведения с наибольшим количеством были на первом месте\n",
    "ax.invert_yaxis()\n",
    "\n",
    "# Создание легенды в одну линию внизу по центру\n",
    "handles = [plt.Line2D([0], [0], color=palette_dict[cat], lw=4) for cat in unique_categories]\n",
    "labels = unique_categories\n",
    "ax.legend(handles, labels,\n",
    "          title_fontsize=10,\n",
    "          fontsize=10,\n",
    "          frameon=False,\n",
    "          loc='upper center', bbox_to_anchor=(0.5, -0.05), ncol=len(unique_categories))\n",
    "\n",
    "# Убираем верхнюю и левую часть графика\n",
    "y_axis = ax.axes.get_yaxis()\n",
    "x_axis = ax.axes.get_xaxis()\n",
    "y_axis.set_visible(False)\n",
    "x_axis.set_visible(False)\n",
    "sns.despine(left=True, bottom=True)\n",
    "# Отображаем график\n",
    "plt.show()"
   ]
  },
  {
   "cell_type": "markdown",
   "id": "f71eb7e4",
   "metadata": {},
   "source": [
    "Исходя из предоставленных данных, можно сделать следующие выводы и гипотезы:\n",
    "\n",
    "- Среди популярных сетевых заведений, преобладают кофейни  а также рестораны доставки и быстрого питания.\n",
    "- Такие заведения как правило размещаются в крупных торговых центрах, на остановках и других местах с высоким трафиком.\n",
    "- Также присутствуют точки с ориентацией на доставку.\n"
   ]
  },
  {
   "cell_type": "markdown",
   "id": "f2434a78",
   "metadata": {},
   "source": [
    "### Какие административные районы Москвы присутствуют в датасете? Отобразим общее количество заведений и количество заведений каждой категории по районам. "
   ]
  },
  {
   "cell_type": "code",
   "execution_count": null,
   "id": "fd96fba9",
   "metadata": {},
   "outputs": [],
   "source": [
    "# Подсчёт количества заведений по районам и категориям\n",
    "district_summary = df.groupby(['district', 'category']).size().reset_index(name='count')\n",
    "\n",
    "# Сортировка данных по количеству заведений и пересортировка по районам\n",
    "district_summary_sorted = district_summary.sort_values(by=['district', 'count'], ascending=[True, False])\n",
    "\n",
    "# Создание сводной таблицы для накопления\n",
    "pivot_table = district_summary_sorted.pivot(index='district', columns='category', values='count').fillna(0)\n",
    "\n",
    "# Вычисление общего количества заведений для каждого района\n",
    "pivot_table['Total'] = pivot_table.sum(axis=1)\n",
    "\n",
    "# Сортировка по общему количеству заведений\n",
    "pivot_table_sorted = pivot_table.sort_values(by='Total', ascending=False)\n",
    "\n",
    "# Создание накопительного графика\n",
    "fig, ax = plt.subplots(figsize=(14, 8 ))\n",
    "\n",
    "# Создание словаря для замены названий категорий\n",
    "replacement_dict = {'Восточный административный округ': 'Восточный',\n",
    "                    'Западный административный округ': 'Западный',\n",
    "                    'Северный административный округ': 'Северный',\n",
    "                    'Северо-Восточный административный округ': 'Северо-Восточный',\n",
    "                    'Северо-Западный административный округ' : 'Северо-Западный',\n",
    "                    'Центральный административный округ' : 'Центральный',\n",
    "                    'Юго-Восточный административный округ' : 'Юго-Восточный',\n",
    "                    'Юго-Западный административный округ' : 'Юго-Западный',\n",
    "                    'Южный административный округ' : 'Южный',\n",
    "               }\n",
    "\n",
    "# Замена названий категорий\n",
    "pivot_table_sorted.index = pivot_table_sorted.index.map(replacement_dict)\n",
    "# Построение накопительного графика с назначением цветов из palette_dict\n",
    "pivot_table_sorted.iloc[:, :-1].plot(kind='barh',\n",
    "                                     stacked=True,\n",
    "                                     ax=ax,\n",
    "                                     color=[palette_dict.get(cat, '#gray') for cat in pivot_table_sorted.columns[:-1]])\n",
    "\n",
    "# Добавление общего количества заведений справа\n",
    "for i, (index, row) in enumerate(pivot_table_sorted.iterrows()):\n",
    "    total = row['Total']\n",
    "    ax.text(total + 10, i, f'{int(total)}', va='center', ha='left', color='black')\n",
    "\n",
    "# Настройка графика\n",
    "ax.set_title('Количество заведений по категориям в административных районах Москвы', fontsize=16)\n",
    "ax.set_xlabel('Количество заведений')\n",
    "ax.set_ylabel(None)\n",
    "plt.tight_layout()\n",
    "\n",
    "# Инвертируем ось y, чтобы заведения с наибольшим количеством были на первом месте\n",
    "ax.invert_yaxis()\n",
    "\n",
    "# Создание легенды в одну линию внизу по центру\n",
    "handles = [plt.Line2D([0], [0], color=palette_dict[cat], lw=4) for cat in unique_categories]\n",
    "labels = unique_categories\n",
    "ax.legend(handles, labels,\n",
    "          title_fontsize=10,\n",
    "          fontsize=10,\n",
    "          frameon=False,\n",
    "          loc='upper center', bbox_to_anchor=(0.5, -0.05), ncol=len(unique_categories))\n",
    "\n",
    "# Убираем верхнюю и левую часть графика\n",
    "#y_axis = ax.axes.get_yaxis()\n",
    "#x_axis = ax.axes.get_xaxis()\n",
    "y_axis.set_visible(False)\n",
    "#x_axis.set_visible(False)\n",
    "sns.despine()\n",
    "plt.grid(axis='x', linestyle='--', linewidth=1)\n",
    "\n",
    "# Отображение графика\n",
    "plt.show()"
   ]
  },
  {
   "cell_type": "markdown",
   "id": "9e78d878",
   "metadata": {},
   "source": [
    "Данный график хорошо отображает общее распределение по районам, однако не так хорошо справляется с задачей отображения распределения по категориям."
   ]
  },
  {
   "cell_type": "code",
   "execution_count": null,
   "id": "a98c2aff",
   "metadata": {
    "scrolled": false
   },
   "outputs": [],
   "source": [
    "# Подсчёт количества заведений по районам и категориям\n",
    "district_summary = dff.groupby(['district', 'category']).size().reset_index(name='count')\n",
    "# Задание стиля dark_background\n",
    "\n",
    "# Сортировка данных по убыванию количества заведений\n",
    "district_summary_sorted = district_summary.sort_values(by='count', ascending=False)\n",
    "# Заменим значения в поле district значениями из словаря\n",
    "district_summary_sorted.district = district_summary_sorted.district.map(replacement_dict)\n",
    "# Построение графика\n",
    "plt.figure(figsize=(14, 8))\n",
    "sns.barplot(x='district', y='count', hue='category', data=district_summary_sorted, palette=palette_dict)\n",
    "\n",
    "# Настройка графика\n",
    "plt.title('Количество заведений по категориям в административных округах Москвы', fontsize=20)\n",
    "plt.xlabel(None)\n",
    "plt.ylabel('Количество заведений')\n",
    "plt.xticks(rotation=0)\n",
    "plt.legend(title='Категория заведения')\n",
    "plt.tight_layout()\n",
    "plt.grid(axis='y', linestyle='--', linewidth=1)\n",
    "\n",
    "# Заменим названия округов на сокрещенные\n",
    "\n",
    "\n",
    "# Создание легенды в одну линию внизу по центру\n",
    "plt.legend(title=None, \n",
    "           bbox_to_anchor=(0.5, -0.05), loc='upper center', ncol=8,  frameon=False, fontsize=10)\n",
    "\n",
    "sns.despine()\n",
    "# Отображение графика\n",
    "plt.show()\n"
   ]
  },
  {
   "cell_type": "markdown",
   "id": "8b22c7cb",
   "metadata": {},
   "source": [
    "Исходя из предоставленных данных, можно сделать следующие выводы и гипотезы: \n",
    "- Центральный административный округ Москвы более чем в два раза опережает другие районы по количеству заведений. \n",
    "- В центральном административном округе лидируют рестораны по количеству заведений, тогда как в других районах преобладают кафе. \n",
    "- Москва является центром притяжения туристов и бизнеса, поэтому рестораторы стремятся разместить свои заведения как можно ближе к точкам притяжения ЦА.\n",
    "- Остальные районы отличаются друг от друга в меньшей степени по количеству заведений, наименее заполненными являются Юго-Восточный, Юго-Западный и Северо-Западный округа."
   ]
  },
  {
   "cell_type": "markdown",
   "id": "c5ee0321",
   "metadata": {},
   "source": [
    "### Изучим распределение средних рейтингов по категориям заведений."
   ]
  },
  {
   "cell_type": "code",
   "execution_count": null,
   "id": "9e997a6e",
   "metadata": {
    "scrolled": false
   },
   "outputs": [],
   "source": [
    "# Расчет среднего рейтинга по категориям\n",
    "mean_ratings = df.groupby('category').rating.mean().reset_index()\n",
    "# Отсортировка по рейтингу\n",
    "mean_ratings = mean_ratings.sort_values(by='rating', ascending=False)\n",
    "# Построение графика\n",
    "plt.figure(figsize=(14, 8))\n",
    "plt.bar(mean_ratings['category'], mean_ratings['rating'], color=palette_colors)\n",
    "plt.xlabel(None)\n",
    "plt.ylabel('Средний рейтинг')\n",
    "plt.title('Средний рейтинг по категориям заведений', fontsize=16)\n",
    "# Удалим сетку\n",
    "plt.grid(False)\n",
    "sns.despine()\n",
    "\n",
    "# Отобразим значения рейтинга\n",
    "for i, v in enumerate(mean_ratings['rating']):\n",
    "    plt.text(i, v + 0.05, str(round(v, 2)), ha='center', fontsize=10)\n",
    "# Изменим range y\n",
    "plt.ylim(3.5, 5)\n",
    "plt.show()"
   ]
  },
  {
   "cell_type": "markdown",
   "id": "e59b1ead",
   "metadata": {},
   "source": [
    "Исходя из предоставленных данных, можно сделать следующие выводы и гипотезы: \n",
    "- Учитывая, что нам пришлось изменять значения шкалы, чтобы наглядно отразить различия между категориями, можно сказать что различия между большинства из ними невелики.\n",
    "- Средние рейтинги между категориями колеблются от 4.39 до 4.05 в зависимости от категории. \n",
    "- Наивысшими средними рейтингами обладают бары и пабы, можно предположить что алкоголь не только поднимает посетителям настроение, но и рейтинги заведению =). \n",
    "- Самыми низкими рейтингами обладают кафе и заведения быстрого питания, что может быть связано более низким качеством сервиса, относительно своих премиальных коллег. \n",
    "- Если внимательно посмотреть на распределение, можно отметить что высокие оценки свыше 4.5 выходят за границу 1.5 QR для всех заведений кроме баров и кафе."
   ]
  },
  {
   "cell_type": "code",
   "execution_count": null,
   "id": "68e29f01",
   "metadata": {
    "scrolled": false
   },
   "outputs": [],
   "source": [
    "# Посмотрим на распределение рейтинга по категориям\n",
    "data = []\n",
    "for cat in dff.category.unique():\n",
    "    data.append(\n",
    "        go.Box(y=df[df.category==cat].rating, name=cat, marker_color=palette_dict[cat])\n",
    "    )\n",
    "\n",
    "# создаем объект Figure\n",
    "fig = go.Figure(data=data)\n",
    "\n",
    "# настраиваем отображение\n",
    "fig.update_layout(\n",
    "    title=\"Рейтинг заведений по категориям\",\n",
    "    xaxis_title=\"Категория\",\n",
    "    yaxis_title=\"Рейтинг\",\n",
    "    showlegend=False,\n",
    "    paper_bgcolor='rgba(0,0,0,0)',\n",
    "    plot_bgcolor='rgba(0,0,0,0)',\n",
    "    width=900,\n",
    "    height=600,\n",
    "    title_font=dict(\n",
    "        size=18,\n",
    "        color=\"black\"\n",
    "    ),\n",
    "    title_x=0.5,\n",
    "    font=dict(\n",
    "        size=12,\n",
    "        color=\"black\"\n",
    "    ),\n",
    ")\n",
    "\n",
    "# визуализируем данные\n",
    "fig.show()\n"
   ]
  },
  {
   "cell_type": "markdown",
   "id": "03e094e8",
   "metadata": {},
   "source": [
    "Если внимательно посмотреть на распределение, можно отметить что высокие оценки свыше 4.9 выходят за границу 1.5 QR для всех заведений кроме баров и кафе."
   ]
  },
  {
   "cell_type": "markdown",
   "id": "40fdd9b3",
   "metadata": {},
   "source": [
    "### Построим фоновую картограмму (хороплет) со средним рейтингом заведений каждого района. "
   ]
  },
  {
   "cell_type": "code",
   "execution_count": null,
   "id": "49c70a52",
   "metadata": {},
   "outputs": [],
   "source": [
    "# Посчитаем средний рейтинг в каждом административном округе\n",
    "rating_df = df.groupby('district', as_index=False)['rating'].agg('mean')"
   ]
  },
  {
   "cell_type": "code",
   "execution_count": null,
   "id": "ffd2ff7a",
   "metadata": {
    "scrolled": false
   },
   "outputs": [],
   "source": [
    "# импортируем карту и маркер\n",
    "from folium import Map, Marker, Choropleth, GeoJson\n",
    "\n",
    "# moscow_lat - широта центра Москвы, moscow_lng - долгота центра Москвы\n",
    "moscow_lat, moscow_lng = 55.751244, 37.618423\n",
    "# создаём карту Москвы\n",
    "m = Map(location=[moscow_lat, moscow_lng], zoom_start=10, tiles='Cartodb Positron')\n",
    "# загружаем JSON-файл с границами округов Москвы\n",
    "state_geo = 'https://code.s3.yandex.net/data-analyst/admin_level_geomap.geojson'\n",
    "response = requests.get(state_geo)\n",
    "geo_json = response.json()\n",
    "\n",
    "# создаём хороплет с помощью конструктора Choropleth и добавляем его на карту\n",
    "Choropleth(\n",
    "    geo_data=state_geo,\n",
    "    data=rating_df,\n",
    "    columns=['district', 'rating'],\n",
    "    key_on='feature.properties.name',  # ключ должен соответствовать названию в GeoJSON\n",
    "    fill_color='YlGnBu',\n",
    "    fill_opacity=0.7,\n",
    "    line_opacity=0.4,\n",
    "    legend_name='Медианный рейтинг заведений по районам',\n",
    ").add_to(m) \n",
    "# Добавление подсказок\n",
    "for feature in geo_json['features']:\n",
    "    district_name = feature['properties']['name']\n",
    "    rating = rating_df[rating_df['district'] == district_name]['rating'].values[0]\n",
    "    feature['properties']['rating'] = rating\n",
    "\n",
    "# Добавляем GeoJson с подсказками\n",
    "GeoJson(\n",
    "    geo_json,\n",
    "    style_function=lambda x: {\n",
    "        'fillColor': '#f1f2f0',\n",
    "        'color': 'black',\n",
    "        'weight': 0,\n",
    "        'dashArray': '5, 5'\n",
    "    },\n",
    "    tooltip=folium.GeoJsonTooltip(\n",
    "        fields=['name', 'rating'],\n",
    "        aliases=['Район', 'Рейтинг'],\n",
    "        localize=True\n",
    "    )\n",
    ").add_to(m)\n",
    "\n",
    "# Выводим карту\n",
    "m"
   ]
  },
  {
   "cell_type": "markdown",
   "id": "5e6f1e9c",
   "metadata": {},
   "source": [
    "Исходя из предоставленных данных, можно сделать следующие выводы и гипотезы:\n",
    "- Навивысшим средним рейтингом заведений обладает центральный административный округ Москвы,\n",
    "- Можно предположить, что высокая конкуренция является хорошей мотивацией для постоянного улучшени качества сервиса.\n",
    "- Второе и третье место делят между собой Северный и Северо-западный административные округа Москвы, а самым низким рейтингом обладает Юго-восточный."
   ]
  },
  {
   "cell_type": "markdown",
   "id": "2dd10770",
   "metadata": {},
   "source": [
    "### Отобразим все заведения датасета на карте с помощью кластеров средствами библиотеки folium."
   ]
  },
  {
   "cell_type": "code",
   "execution_count": null,
   "id": "73a0f6d0",
   "metadata": {
    "scrolled": false
   },
   "outputs": [],
   "source": [
    "# импортируем MarkerCluster\n",
    "from folium.plugins import MarkerCluster\n",
    "# импортируем собственные иконки\n",
    "from folium.features import CustomIcon\n",
    "\n",
    "# создаём карту Москвы\n",
    "m = Map(location=[moscow_lat, moscow_lng], zoom_start=10, tiles=\"Cartodb Positron\")\n",
    "# создаём пустой кластер, добавляем его на карту\n",
    "marker_cluster = MarkerCluster().add_to(m)\n",
    "\n",
    "# создаём словарь с URL-адресами иконок для каждой категории\n",
    "icon_urls = {\n",
    "    'кафе': 'https://img.icons8.com/?size=80&id=DYFtdyRJBCzl&format=png',\n",
    "    'ресторан': 'https://img.icons8.com/?size=80&id=FZu85J5sQWEf&format=png',\n",
    "    'кофейня': 'https://img.icons8.com/?size=48&id=xBWX9FKhoaDH&format=png',\n",
    "    'бар,паб': 'https://img.icons8.com/?size=48&id=sPSMuwEk1xLs&format=png',\n",
    "    'пиццерия': 'https://img.icons8.com/?size=80&id=U0gvPQjNMSZ6&format=png',\n",
    "    'быстрое питание': 'https://img.icons8.com/?size=48&id=GXWFcKAortzy&format=png',\n",
    "    'столовая': 'https://img.icons8.com/?size=48&id=oFbl0xPVTnJ8&format=png',\n",
    "    'булочная': 'https://img.icons8.com/?size=48&id=ve9ZQ8rgxZky&format=png'\n",
    "    # добавьте другие категории и соответствующие URL-адреса иконок здесь\n",
    "}\n",
    "\n",
    "def create_clusters(row):\n",
    "    # получаем URL-адрес иконки для данной категории\n",
    "    icon_url = icon_urls.get(row['category'], 'https://img.icons8.com/external-wanicon-flat-wanicon/344/external-mall-shop-and-store-wanicon-flat-wanicon.png')  # URL по умолчанию, если категории нет в словаре\n",
    "    \n",
    "    # создаём объект с собственной иконкой размером 30x30\n",
    "    icon = CustomIcon(icon_url, icon_size=(30, 30))\n",
    "    \n",
    "    # создаём маркер с иконкой icon и добавляем его в кластер\n",
    "    Marker(\n",
    "        [row['lat'], row['lng']],\n",
    "        popup=f\"{row['name']} {row['rating']}\",\n",
    "        icon=icon,\n",
    "    ).add_to(marker_cluster)\n",
    "\n",
    "# применяем функцию для создания кластеров к каждой строке датафрейма\n",
    "dff.apply(create_clusters, axis=1)\n",
    "\n",
    "# выводим карту\n",
    "m"
   ]
  },
  {
   "cell_type": "markdown",
   "id": "63c7ba81",
   "metadata": {},
   "source": [
    "Практически все доступные места заполнены заведениями на любой вкус."
   ]
  },
  {
   "cell_type": "markdown",
   "id": "ea5b3f96",
   "metadata": {},
   "source": [
    "### Найдём топ-15 улиц по количеству заведений. "
   ]
  },
  {
   "cell_type": "code",
   "execution_count": null,
   "id": "2ed4dfa4",
   "metadata": {
    "scrolled": false
   },
   "outputs": [],
   "source": [
    "# Построим сводную таблицу и выбрать топ-15 улиц\n",
    "street_table = pd.pivot_table(dff, values='name', index='street', columns='category', aggfunc='count', fill_value=0)\n",
    "top_15_pivot_table = street_table.loc[street_table.sum(axis=1).sort_values(ascending=False).head(15).index].reset_index()\n",
    "\n",
    "# Подготовим данные для Plotly\n",
    "top_15_melted = top_15_pivot_table.melt(id_vars='street', var_name='category', value_name='count')\n",
    "\n",
    "# Визуализируем данные\n",
    "fig = px.bar(\n",
    "    top_15_melted, \n",
    "    y='street', \n",
    "    x='count', \n",
    "    color='category',\n",
    "    title='ТОП-15 улиц по количеству заведений в Москве',\n",
    "    labels={'count': 'Количество заведений', 'street': 'Улица', 'category': 'Категория заведения'},\n",
    "    barmode='stack', \n",
    "    orientation='h', \n",
    "    color_discrete_map=palette_dict\n",
    ")\n",
    "\n",
    "# Обновление графика\n",
    "fig.update_layout(\n",
    "    yaxis={'categoryorder': 'total ascending'}, \n",
    "    yaxis_title=None,  # Убираем подпись оси Y\n",
    "    xaxis_title=None,  # Убираем подпись оси X\n",
    "    paper_bgcolor='rgba(0,0,0,0)',\n",
    "    plot_bgcolor='rgba(0,0,0,0)',\n",
    "    width=950, \n",
    "    height=600,\n",
    "    title_font=dict(size=20),\n",
    "    title_x=0.5,\n",
    "    legend=dict(\n",
    "        orientation=\"h\",\n",
    "        yanchor=\"bottom\",\n",
    "        y=-0.15,  # Размещаем легенду ниже оси X\n",
    "        xanchor=\"center\",\n",
    "        x=0.5,\n",
    "        title=None,\n",
    "    )\n",
    ")\n",
    "\n",
    "# Добавление аннотаций для общего количества заведений\n",
    "for idx, row in top_15_pivot_table.iterrows():\n",
    "    street = row['street']\n",
    "    total_count = row.drop('street').sum()\n",
    "    fig.add_annotation(\n",
    "        x=total_count, \n",
    "        y=street,\n",
    "        text=f'{total_count}', \n",
    "        showarrow=False, \n",
    "        xanchor='left', \n",
    "        yanchor='middle',\n",
    "        font=dict(size=12, color='black')\n",
    "    )\n",
    "\n",
    "# Отображаем график\n",
    "fig.show()"
   ]
  },
  {
   "cell_type": "markdown",
   "id": "7a18e262",
   "metadata": {},
   "source": [
    "Исходя из предоставленных данных, можно сделать следующие выводы и гипотезы:\n",
    "- Самыми популярными улицами являются проспект Мира , Профсоюзная улица, и проспект Вернандского что связано в первую очередь с протяженностью данных улиц они пересекают насквозь несколько районов Москвы.\n",
    "- Так же стоит отметить присутствие МКАД в ТОПе, говорят за его границей находятся лишь безлюдные пустоши! Расположение по периметру границы, и огромная протяженность позволяет ей оказаться в лидерах по количеству заведений.\n",
    "- Было бы интересно посмотреть на отношение количества заведений к протяженности улицы, но вносить данные вручную дело не благодарное."
   ]
  },
  {
   "cell_type": "code",
   "execution_count": null,
   "id": "88c27376",
   "metadata": {},
   "outputs": [],
   "source": [
    "# Изучим расположение улиц\n",
    "#import osmnx as ox\n",
    "\n",
    "# Устанавливаем стиль отображения карт с использованием новых настроек OSMnx\n",
    "#ox.settings.use_cache = True\n",
    "#ox.settings.log_console = True\n",
    "\n",
    "# Список названий улиц, которые мы хотим отобразить\n",
    "#street_names = [\"проспект Мира\", \"Профсоюзная улица\", \"проспект Вернадского\"]\n",
    "\n",
    "# Город и страна для поиска\n",
    "#city = \"Москва\"\n",
    "#country = \"Россия\"\n",
    "\n",
    "# Используем osmnx для получения графа улиц\n",
    "#tags = {'highway': True}  # Фильтр только для улиц\n",
    "#graph = ox.graph_from_place(f\"{city}, {country}\", network_type='drive', simplify=True)\n",
    "\n",
    "# Преобразуем граф в GeoDataFrames\n",
    "#streets_gdf = ox.graph_to_gdfs(graph, nodes=False, edges=True)\n",
    "\n",
    "# Создаем базовую карту с черным фоном\n",
    "#m = folium.Map(location=[55.7558, 37.6173], zoom_start=12, tiles=\"Cartodb dark_matter\")\n",
    "\n",
    "# Проходим по списку улиц\n",
    "#for street_name in street_names:\n",
    "    # Фильтруем улицы по имени\n",
    "#    street = streets_gdf[streets_gdf['name'] == street_name]\n",
    "\n",
    "    # Проверяем, нашлась ли улица\n",
    "#    if not street.empty:\n",
    "        # Получаем средние координаты для центра улицы\n",
    "#        center_lat, center_lon = street.unary_union.centroid.y, street.unary_union.centroid.x\n",
    "\n",
    "#       # Добавляем улицу на карту\n",
    "#        folium.GeoJson(\n",
    "#            street.geometry,\n",
    "#            name=street_name,\n",
    "#            style_function=lambda feature: {\n",
    "#                'color': 'green',\n",
    "#                'weight': 3,\n",
    "#                'opacity': 0.8,\n",
    "#            }\n",
    "#        ).add_to(m)\n",
    "\n",
    "        # Добавляем маркер на центр улицы\n",
    "#        folium.Marker(\n",
    "#            location=[center_lat, center_lon],\n",
    "#            popup=folium.Popup(f\"{street_name}\", parse_html=True, sticky=True),  # Установите sticky=True\n",
    "#            icon=folium.Icon(color=\"green\", icon=\"info-sign\")\n",
    "#        ).add_to(m)\n",
    "#    else:\n",
    "#        print(f\"Улица '{street_name}' не найдена в {city}.\")\n",
    "\n",
    "# Отображаем карту\n",
    "\n",
    "#m\n",
    "\n",
    "\n",
    "# Тренажёр не хочет работать с библиотекой =((("
   ]
  },
  {
   "cell_type": "markdown",
   "id": "d8f8f630",
   "metadata": {},
   "source": [
    "### Изучим улицы на которых находится только одно заведение. "
   ]
  },
  {
   "cell_type": "code",
   "execution_count": null,
   "id": "758cb254",
   "metadata": {},
   "outputs": [],
   "source": [
    "# Построим сводную таблицу и выберем улицы с одним заведением\n",
    "pivot_table = pd.pivot_table(df, values='name', index='street', aggfunc='count', fill_value=0)\n",
    "one_street = pivot_table[pivot_table['name'] == 1].index\n",
    "one_place_data = df[df['street'].isin(one_street)]\n",
    "\n",
    "sample = one_place_data.pivot_table(index='category',\n",
    "                           values=['rating', 'middle_avg_bill'],\n",
    "                           aggfunc={'rating': 'mean',\n",
    "                                    'middle_avg_bill': 'mean',\n",
    "                                   })\n",
    "\n",
    "\n",
    "gen = dff.pivot_table(index='category',\n",
    "                           values=['rating', 'middle_avg_bill'],\n",
    "                           aggfunc={'rating': 'mean',\n",
    "                                    'middle_avg_bill': 'mean',\n",
    "                                   })\n",
    "\n",
    "\n",
    "\n",
    "\n",
    "\n",
    "p = gen.merge(sample, on='category', how='left', suffixes=('_gen', '_smpl'))\n",
    "\n",
    "\n",
    "\n",
    "# Подсчитаем среднее значение для каждой строки\n",
    "average_row = p.mean(numeric_only=True)\n",
    "\n",
    "# Изменяем индекс на названия столбцов\n",
    "average_row_df = average_row.to_frame().T\n",
    "average_row_df.index = ['Итого']\n",
    "\n",
    "# Объединяем таблицы\n",
    "p = pd.concat([p, average_row_df])\n",
    "\n",
    "# Переименование колонок на русский язык\n",
    "p = p.rename(columns={\n",
    "    'rating_gen': 'Средний рейтинг (общий)',\n",
    "    'middle_avg_bill_gen': 'Средний чек (общий)',\n",
    "    'rating_smpl': 'Средний рейтинг (выборка)',\n",
    "    'middle_avg_bill_smpl': 'Средний чек (выборка)',\n",
    "    'category': 'Категория'\n",
    "})\n",
    "# Выводим таблицу \n",
    "(\n",
    "p#.style.set_table_attributes('style=\"font-size: 14px; width: 100%;\"')\n",
    "#        .set_caption('Cравнение выборочных и общих показателей')\n",
    "#        .set_properties(**{'width': '100px'})\n",
    "#        #.background_gradient(subset=['Средний рейтинг (общий)', 'Средний рейтинг (выборка)'], cmap='RdYlGn')\n",
    "#        .set_table_styles([\n",
    "#        dict(selector=\"caption\", props=[\n",
    "#            (\"background-color\", \"#21466f\"),\n",
    "#            (\"text-align\", \"center\"),\n",
    "#            (\"font-size\", \"120%\"),\n",
    "#            (\"font-weight\", \"bold\"),\n",
    "#            (\"color\", \"white\")\n",
    "#        ]),\n",
    "#        dict(selector=\".col_heading\", props=[\n",
    "#            (\"text-align\", \"right\"),\n",
    "#            (\"border-width\", \"2px\"),\n",
    "#            (\"font-weight\", \"bold\")\n",
    "#        ]),\n",
    "#        dict(selector=\".row_heading\", props=[\n",
    "#            (\"text-align\", \"left\"),  \n",
    "#            (\"border-width\", \"2px\"),\n",
    "#            (\"font-weight\", \"bold\")\n",
    "#        ]),\n",
    "#        dict(selector=\"tr, td\", props=[\n",
    "#            (\"text-align\", \"right\"),\n",
    "#            (\"border-width\", \"2px\"),\n",
    "#            (\"font-weight\", \"bold\")\n",
    "#        ])\n",
    "#    \n",
    "#    ])\n",
    ")\n",
    "# Тренажёр ругается на старые весии библиотек, поэтому  пришлось обойтись без  табличных украшательств."
   ]
  },
  {
   "cell_type": "code",
   "execution_count": null,
   "id": "aa122622",
   "metadata": {
    "scrolled": false
   },
   "outputs": [],
   "source": [
    "# создаём карту Москвы\n",
    "m = Map(location=[moscow_lat, moscow_lng], zoom_start=10, tiles=\"Cartodb Positron\")\n",
    "# создаём пустой кластер, добавляем его на карту\n",
    "marker_cluster = MarkerCluster().add_to(m)\n",
    "\n",
    "# Посчитаем количество заведений для каждого района\n",
    "avg_bill_median = one_place_data.pivot_table(index='district', values='name', aggfunc='count').reset_index()\n",
    "Choropleth(\n",
    "    geo_data=state_geo,\n",
    "    data=avg_bill_median,\n",
    "    columns=['district', 'name'],\n",
    "    key_on='feature.properties.name',  # ключ должен соответствовать названию в GeoJSON\n",
    "    fill_color='YlGnBu',\n",
    "    fill_opacity=0.7,\n",
    "    line_opacity=0.4,\n",
    "    legend_name='Количество заведений на район'\n",
    ").add_to(m) \n",
    "# применяем функцию для создания кластеров к каждой строке датафрейма\n",
    "one_place_data.apply(create_clusters, axis=1)\n",
    "\n",
    "# Добавим Хороплёт на карту\n",
    "\n",
    "# выводим карту\n",
    "m"
   ]
  },
  {
   "cell_type": "markdown",
   "id": "43660d30",
   "metadata": {},
   "source": [
    "Исходя из предоставленных данных, можно сделать следующие выводы и гипотезы: \n",
    "\n",
    "- Данные улицы имеют схожее распределение по категориям и округам, средний рейтинг и цена для них не отличается значимо от общей совокупности наблюдений. \n",
    "- **Информация об этих улицах может иметь значение при выборе места для открытия собственного заведения. Так для открытия кофейни мы бы предпочли выбрать улицу на которой отсутствуют схожие по формату заведения.**"
   ]
  },
  {
   "cell_type": "markdown",
   "id": "b5f68a71",
   "metadata": {},
   "source": [
    "### Распределение средней цены по округам."
   ]
  },
  {
   "cell_type": "code",
   "execution_count": null,
   "id": "81ab30df",
   "metadata": {},
   "outputs": [],
   "source": [
    "# Посчитаем средний рейтинг в каждом административном округе\n",
    "avg_bill_median = dff.groupby('district', as_index=False)['middle_avg_bill'].agg('median')"
   ]
  },
  {
   "cell_type": "code",
   "execution_count": null,
   "id": "c51a3af2",
   "metadata": {
    "scrolled": false
   },
   "outputs": [],
   "source": [
    "# создаём карту Москвы\n",
    "m = Map(location=[moscow_lat, moscow_lng], zoom_start=10, tiles='Cartodb Positron')\n",
    "\n",
    "# создаём хороплет с помощью конструктора Choropleth и добавляем его на карту\n",
    "Choropleth(\n",
    "    geo_data=state_geo,\n",
    "    data=avg_bill_median,\n",
    "    columns=['district', 'middle_avg_bill'],\n",
    "    key_on='feature.properties.name',  # ключ должен соответствовать названию в GeoJSON\n",
    "    fill_color='YlGnBu',\n",
    "    fill_opacity=0.7,\n",
    "    line_opacity=0.4,\n",
    "    legend_name='Медианный рейтинг заведений по районам',\n",
    ").add_to(m) \n",
    "# Добавление подсказок\n",
    "for feature in geo_json['features']:\n",
    "    district_name = feature['properties']['name']\n",
    "    rating = avg_bill_median[avg_bill_median['district'] == district_name]['middle_avg_bill'].values[0]\n",
    "    feature['properties']['middle_avg_bill'] = rating\n",
    "\n",
    "# Добавляем GeoJson с подсказками\n",
    "GeoJson(\n",
    "    geo_json,\n",
    "    style_function=lambda x: {\n",
    "        'fillColor': 'transparent',\n",
    "        'color': 'black',\n",
    "        'weight': 0,\n",
    "        'dashArray': '5, 5'\n",
    "    },\n",
    "    tooltip=folium.GeoJsonTooltip(\n",
    "        fields=['name', 'middle_avg_bill'],\n",
    "        aliases=['Район', 'Средняя цена'],\n",
    "        localize=True\n",
    "    )\n",
    ").add_to(m)\n",
    "\n",
    "# Выводим карту\n",
    "m"
   ]
  },
  {
   "cell_type": "markdown",
   "id": "e5d01043",
   "metadata": {},
   "source": [
    "Исходя из предоставленных данных, можно сделать следующие выводы и гипотезы: \n",
    "- Мы можем предположить о наличии некоторой зависимости среднего чека от расстояния до центра. Одако исходя лишь из данного графика, мы можем сказать что в Ценральном районе средний чек выше почти в 2 раза чем в других административных округах. Однако изменение не равномерно, так как расположенный на равном удалении западный район имеет показатели среднего чека выше чем восточный, что может говорить о наличии других зависимостей."
   ]
  },
  {
   "cell_type": "markdown",
   "id": "6e37cd98",
   "metadata": {},
   "source": [
    "### Необязательное задание: проиллюстрируйте другие взаимосвязи, которые вы нашли в данных. Например, по желанию исследуйте часы работы заведений и их зависимость от расположения и категории заведения. Также можно исследовать особенности заведений с плохими рейтингами, средние чеки в таких местах и распределение по категориям заведений."
   ]
  },
  {
   "cell_type": "markdown",
   "id": "ca7931d0",
   "metadata": {},
   "source": [
    "###  Исследуем влияние расстояния до центра на средний чек и другие показатели заведений Москвы."
   ]
  },
  {
   "cell_type": "markdown",
   "id": "e954f3c1",
   "metadata": {},
   "source": [
    "Первым делом преобразуем наши данные с помощью библиотеки geopandas в GeoDataFrame для дальшнейших вычислений."
   ]
  },
  {
   "cell_type": "code",
   "execution_count": null,
   "id": "0e832db3",
   "metadata": {},
   "outputs": [],
   "source": [
    "import geopandas as gpd\n",
    "from shapely.geometry import Point\n",
    "\n",
    "# Преобразуем данные заведений в GeoDataFrame\n",
    "dff['geometry'] = dff.apply(lambda row: Point(row['lng'], row['lat']), axis=1)\n",
    "dff_gdf = gpd.GeoDataFrame(dff, geometry='geometry')\n",
    "\n",
    "# Установка системы координат для заведений (если они в WGS84)\n",
    "dff_gdf.set_crs(epsg=4326, inplace=True)\n",
    "\n",
    "# Визуализируем распределение заведений\n",
    "dff_gdf.plot(figsize=(16, 8), edgecolor='k', cmap='viridis')\n",
    "plt.title(\"Координаты заведений Москвы\", fontsize=15)\n",
    "plt.xlabel(\"Долгота\")\n",
    "plt.ylabel(\"Широта\")\n",
    "#plt.axis('off')\n",
    "plt.show()"
   ]
  },
  {
   "cell_type": "markdown",
   "id": "c78fa49b",
   "metadata": {},
   "source": [
    "Бесполезно, но красиво! Теперь воспользуемся библиотекой `geopy` для расчета расстояния до центра Москвы."
   ]
  },
  {
   "cell_type": "code",
   "execution_count": null,
   "id": "c98f7a98",
   "metadata": {},
   "outputs": [],
   "source": [
    "# Зададим координаты для центра Москвы\n",
    "moscow_center = (55.751244, 37.618423) \n",
    "\n",
    "# Функция для расчета расстояния до центра Москвы\n",
    "from geopy.distance import geodesic\n",
    "\n",
    "def calculate_distance(row):\n",
    "    location = (row['lat'], row['lng'])\n",
    "    distance = geodesic(moscow_center, location).kilometers\n",
    "    return distance\n",
    "\n",
    "# Добавляем столбец с расстоянием\n",
    "dff['distance_to_center_km'] = dff.apply(calculate_distance, axis=1)"
   ]
  },
  {
   "cell_type": "code",
   "execution_count": null,
   "id": "aee7b2a9",
   "metadata": {
    "scrolled": false
   },
   "outputs": [],
   "source": [
    "# Визуализируем распределение в зависимости от расстояния и прочих параметров\n",
    "\n",
    "fig, ax = plt.subplots(3, 1, figsize=(14, 25))\n",
    "\n",
    "# График зависимости среднего чека от расстояния до центра Москвы\n",
    "sns.scatterplot(\n",
    "    data=dff,\n",
    "    x='distance_to_center_km',\n",
    "    y='middle_avg_bill',\n",
    "    hue='category',  # Используем цвет для обозначения категории\n",
    "    palette=palette_dict,\n",
    "    ax=ax[0]\n",
    ")\n",
    "ax[0].set_title('Зависимость среднего чека от расстояния до центра Москвы', fontsize=16)\n",
    "ax[0].set_xlabel('Расстояние до центра Москвы (км)')\n",
    "ax[0].set_ylabel('Средний чек (руб)')\n",
    "ax[0].legend(title=None, \n",
    "           bbox_to_anchor=(0.5, -0.08), loc='upper center', ncol=8,  frameon=False, fontsize=10)\n",
    "\n",
    "# График зависимости стоимости чашки кофе от расстояния до центра Москвы\n",
    "sns.scatterplot(\n",
    "    data=dff,\n",
    "    x='distance_to_center_km',\n",
    "    y='middle_coffee_cup',\n",
    "    hue='category',\n",
    "    palette=palette_dict,\n",
    "    ax=ax[1]\n",
    ")\n",
    "ax[1].set_title('Зависимость стоимости чашки кофе от расстояния до центра Москвы', fontsize=16)\n",
    "ax[1].set_xlabel('Расстояние до центра Москвы (км)')\n",
    "ax[1].set_ylabel('Стоимость чашки кофе (руб)')\n",
    "ax[1].legend(title=None, \n",
    "           bbox_to_anchor=(0.5, -0.08), loc='upper center', ncol=8,  frameon=False, fontsize=10)\n",
    "\n",
    "# График зависимости рейтинга от расстояния до центра Москвы\n",
    "sns.scatterplot(\n",
    "    data=dff,\n",
    "    x='distance_to_center_km',\n",
    "    y='rating',\n",
    "    hue='category',\n",
    "    palette=palette_dict,\n",
    "    ax=ax[2]\n",
    ")\n",
    "ax[2].set_title('Зависимость рейтинга от расстояния до центра Москвы', fontsize=16)\n",
    "ax[2].set_xlabel('Расстояние до центра Москвы (км)')\n",
    "ax[2].set_ylabel('Рейтинг')\n",
    "ax[2].legend(title=None, \n",
    "           bbox_to_anchor=(0.5, -0.08), loc='upper center', ncol=8,  frameon=False, fontsize=10)\n",
    "sns.despine()\n",
    "# Создание легенды в одну линию внизу по центру\n"
   ]
  },
  {
   "cell_type": "markdown",
   "id": "bb0370b9",
   "metadata": {},
   "source": [
    "Исходя из представленных выше наблюдений, мы можем сделать следующие выводы и гипотезы:\n",
    "- Существует  некоторая взаимосвязь между средним чеком и расстоянием от центра, чем  больше расстояние тем ниже средний чек.\n",
    "- Средняя стоимость чашки кофе, почти не  зависит от расстояния до центра, однако в данных четко прослеживается мультимодальность, которая может свидетельствовать о ряде ценовых сегментов на кофе, вероятнее всего из за сетевых заведений.\n",
    "- Заведения в центре имеют более высокий рейтинг. \n",
    "\n",
    "\n",
    "**Отобразим матрицу корреляции.**"
   ]
  },
  {
   "cell_type": "code",
   "execution_count": null,
   "id": "3da687fb",
   "metadata": {},
   "outputs": [],
   "source": [
    "# Построим матрицу корреляции\n",
    "corr_matrix = dff[['middle_avg_bill', 'middle_coffee_cup', 'rating', 'chain', 'distance_to_center_km']].corr()\n",
    "sns.heatmap(corr_matrix, annot=True, cmap='viridis')\n",
    "plt.title('Матрица корреляции', fontsize=18, pad=20)\n",
    "# Зададим расстояние от графика до названия графика\n",
    "fig = plt.gcf()\n",
    "fig.set_size_inches(10, 8)\n",
    "plt.xticks(fontsize=12, rotation=45)\n",
    "plt.show()"
   ]
  },
  {
   "cell_type": "markdown",
   "id": "61ba5b01",
   "metadata": {},
   "source": [
    "- На представленной коррялционной матрица мы можем наблюдать присутствие положительной корреляции между рейтингом и среднем чеком.\n",
    "- Также мы можем наблюдать наличие обратной корреляции между расстоянием от центра к среднему чеку, стоимости чашки кофе и рейтингу. \n",
    "\n",
    "Данная информация является полезной, однако потенциальному заказчику лучше представить её в более информативном виде,   для этого сгруппируем наши данные по расстоянию до центра Москвы."
   ]
  },
  {
   "cell_type": "code",
   "execution_count": null,
   "id": "1c26a363",
   "metadata": {},
   "outputs": [],
   "source": [
    "# Агрегируем данные по расстоянию\n",
    "distance_bins = [0, 1, 3, 5, 10, 20]  # Примерные диапазоны расстояний\n",
    "labels = ['0-1 км', '1-3 км', '3-5 км', '5-10 км', '10-20 км']\n",
    "dff['distance_range'] = pd.cut(dff['distance_to_center_km'], bins=distance_bins, labels=labels)"
   ]
  },
  {
   "cell_type": "code",
   "execution_count": null,
   "id": "7ce9bd45",
   "metadata": {},
   "outputs": [],
   "source": [
    "# Выполним группировку\n",
    "distance_grouped = dff.groupby('distance_range').agg({\n",
    "    'name': 'count',\n",
    "    'middle_avg_bill': 'median',\n",
    "    'middle_coffee_cup': 'median',\n",
    "    'rating': 'median'\n",
    "}).rename(columns={'name': 'total_places'}).reset_index()"
   ]
  },
  {
   "cell_type": "markdown",
   "id": "cb588e01",
   "metadata": {},
   "source": [
    "#### Влияние расстояния до центра на средний чек"
   ]
  },
  {
   "cell_type": "code",
   "execution_count": null,
   "id": "200716f4",
   "metadata": {},
   "outputs": [],
   "source": [
    "# Построим график зависимости средней цены чека от расстояния\n",
    "plt.figure(figsize=(14, 8))\n",
    "sns.lineplot(x='distance_range', y='middle_avg_bill', data=distance_grouped, color='red', linewidth=3)\n",
    "plt.xlabel('Расстояние до центра Москвы', fontsize=16, labelpad=20)\n",
    "plt.ylabel('Средний чек (руб)', fontsize=16, labelpad=20)\n",
    "plt.xticks(fontsize=12, fontweight='bold')\n",
    "plt.title('Средний чек от расстояния до центра', fontsize=18, fontweight='bold')\n",
    "\n",
    "# Отобразим значения рейтинга\n",
    "for i, v in enumerate(distance_grouped['middle_avg_bill']):\n",
    "    plt.text(i, v + 25.05, str(round(v, 2)), ha='center', fontsize=14, fontweight='bold')\n",
    "\n",
    "# Удалим сетку\n",
    "plt.grid(False)\n",
    "sns.despine()\n",
    "# Отображаем график\n",
    "plt.show()"
   ]
  },
  {
   "cell_type": "markdown",
   "id": "0577da6e",
   "metadata": {},
   "source": [
    "Исходя из представленных выше наблюдений, мы можем сделать следующие выводы и гипотезы:\n",
    "- Наглядно видно как меняется значение среднего чека в зависимости от расстояния до центра.\n",
    "- Среднее значение чека для центрального района свыше 1000 рублей, тогда как на окраине города оно составляет 500 рублей. "
   ]
  },
  {
   "cell_type": "markdown",
   "id": "dcbdb478",
   "metadata": {},
   "source": [
    "#### Влияние расстояния на стоимость чашки кофе."
   ]
  },
  {
   "cell_type": "code",
   "execution_count": null,
   "id": "5338371c",
   "metadata": {},
   "outputs": [],
   "source": [
    "# Построим график зависимости средней цены чека от расстояния\n",
    "plt.figure(figsize=(14, 8))\n",
    "sns.lineplot(x='distance_range', y='middle_coffee_cup', data=distance_grouped, color='darkorange', linewidth=3)\n",
    "plt.xlabel('Расстояние до центра Москвы', fontsize=16, labelpad=20)\n",
    "plt.ylabel('Стоимость чашки кофе (руб)', fontsize=16, labelpad=20)\n",
    "plt.xticks(fontsize=12, fontweight='bold')\n",
    "plt.title('Стоимость чашки кофе от расстояния до центра', fontsize=18, fontweight='bold', pad=20)\n",
    "\n",
    "# Отобразим значения рейтинга\n",
    "for i, v in enumerate(distance_grouped['middle_coffee_cup']):\n",
    "    plt.text(i, v + 3.05, str(round(v, 2)), ha='center', fontsize=12, fontweight='bold')\n",
    "\n",
    "# Удалим сетку\n",
    "plt.grid(False)\n",
    "sns.despine()\n",
    "# Отображаем график\n",
    "plt.show()"
   ]
  },
  {
   "cell_type": "markdown",
   "id": "c9bd86bb",
   "metadata": {},
   "source": [
    "Исходя из представленных выше наблюдений, мы можем сделать следующие выводы и гипотезы:\n",
    "- Наглядно видно как меняется стоимость чашки кофе в зависимости от расстояния до центра Москвы.\n",
    "- Медианная стоимость чашки кофе для центрального района составляет 225 рублей, тогда как на окраине города всего 140.\n",
    "- Возможно на окраинах города, в большей степени преобладают заведения формата coffe to go, которые имеют меньшую стоимость чашки кофе."
   ]
  },
  {
   "cell_type": "markdown",
   "id": "77719f65",
   "metadata": {},
   "source": [
    "#### Влияние расстояния до центра на рейтинги."
   ]
  },
  {
   "cell_type": "code",
   "execution_count": null,
   "id": "4fddf949",
   "metadata": {},
   "outputs": [],
   "source": [
    "# Построим график зависимости средней цены чека от расстояния\n",
    "plt.figure(figsize=(14, 8))\n",
    "sns.lineplot(x='distance_range', y='rating', data=distance_grouped, color='green', linewidth=3)\n",
    "plt.xlabel('Расстояние до центра Москвы', fontsize=16, labelpad=20)\n",
    "plt.ylabel('Средний рейтинг', fontsize=16, labelpad=20)\n",
    "plt.xticks(fontsize=12, fontweight='bold')\n",
    "plt.title('Рейтинг от расстояния до центра', fontsize=18, fontweight='bold', pad=20)\n",
    "\n",
    "# Отобразим значения рейтинга\n",
    "for i, v in enumerate(distance_grouped['rating']):\n",
    "    plt.text(i, v + 0.006, str(round(v, 2)), ha='center', fontsize=12, fontweight='bold')\n",
    "\n",
    "# Удалим сетку\n",
    "plt.grid(False)\n",
    "sns.despine()\n",
    "# Отображаем график\n",
    "plt.show()"
   ]
  },
  {
   "cell_type": "markdown",
   "id": "588d4869",
   "metadata": {},
   "source": [
    "Исходя из представленных выше наблюдений, мы можем сделать следующие выводы и гипотезы:\n",
    "- Мы можем наблюдать очень незначительные изменения рейтинга в зависимости от расстояния до центра Москвы"
   ]
  },
  {
   "cell_type": "code",
   "execution_count": null,
   "id": "d80766fe",
   "metadata": {},
   "outputs": [],
   "source": [
    "distance_grouped"
   ]
  },
  {
   "cell_type": "code",
   "execution_count": null,
   "id": "b82f7c82",
   "metadata": {},
   "outputs": [],
   "source": [
    "# Построим график зависимости средней цены чека от расстояния\n",
    "plt.figure(figsize=(14, 8))\n",
    "sns.lineplot(x='distance_range', y='total_places', data=distance_grouped, color='darkblue', linewidth=3)\n",
    "plt.xlabel('Расстояние до центра Москвы', fontsize=16, labelpad=20)\n",
    "plt.ylabel('Средний рейтинг', fontsize=16, labelpad=20)\n",
    "plt.xticks(fontsize=12, fontweight='bold')\n",
    "plt.title('Количество заведений от расстояния до центра', fontsize=18, fontweight='bold', pad=20)\n",
    "\n",
    "# Отобразим значения рейтинга\n",
    "for i, v in enumerate(distance_grouped['total_places']):\n",
    "    plt.text(i, v + 0.05 * max(distance_grouped['total_places']), str(round(v, 2)), ha='center',\n",
    "             fontsize=12, fontweight='bold', va='center')\n",
    "\n",
    "# Удалим сетку\n",
    "plt.grid(False)\n",
    "sns.despine()\n",
    "# Отображаем график\n",
    "plt.show()"
   ]
  },
  {
   "cell_type": "markdown",
   "id": "ee169661",
   "metadata": {},
   "source": [
    "#### Влияние расстояний на количество заведений."
   ]
  },
  {
   "cell_type": "markdown",
   "id": "2d31153a",
   "metadata": {},
   "source": [
    "Ничего удивительного для нас этот график не показал, ведь с увеличением расстояния увеличивается и площадь. Правильным будет посмотреть как изменяется плотность, то есть отношение количества заведений на площадь, в зависимости от расстояния до центра. Выполним соотвествующие расчёты и отобразим плотность заведений в Москве."
   ]
  },
  {
   "cell_type": "code",
   "execution_count": null,
   "id": "90834183",
   "metadata": {},
   "outputs": [],
   "source": [
    "# Извлечём расстояние от центра\n",
    "distance_grouped['distance'] = distance_grouped['distance_range'].apply(lambda x: int(x.split('-')[1].split()[0])).astype(int)\n",
    "# Рассчитаем площадь круга\n",
    "\n",
    "distance_grouped['square'] = np.pi * (distance_grouped['distance'] ** 2)\n",
    "\n",
    "# Рассчитаем разницу между площадями\n",
    "distance_grouped['square'] = distance_grouped['square'].diff().fillna(distance_grouped['square'])\n",
    "\n",
    "# Посчитаем количество заведений на один квадратный киллометр для каждого расстояния\n",
    "distance_grouped['density'] = round(distance_grouped['total_places'] / distance_grouped['square']).astype(int)\n",
    "\n",
    "\n",
    "# Построим график зависимости средней цены чека от расстояния\n",
    "plt.figure(figsize=(14, 8))\n",
    "sns.lineplot(x='distance_range', y='density', data=distance_grouped, color='#9362ff', linewidth=3)\n",
    "plt.xlabel('Расстояние до центра Москвы', fontsize=16, labelpad=20)\n",
    "plt.ylabel('Средний рейтинг', fontsize=16, labelpad=20)\n",
    "plt.xticks(fontsize=12, fontweight='bold')\n",
    "plt.title('Количество заведений  на квадратный километр от расстояния до центра', fontsize=18, fontweight='bold', pad=20)\n",
    "\n",
    "# Отобразим значения рейтинга\n",
    "for i, v in enumerate(distance_grouped['density']):\n",
    "    plt.text(i, v + 0.04 * max(distance_grouped['density']), str(round(v, 2)), ha='center', fontsize=12, va='center')\n",
    "\n",
    "# Удалим сетку\n",
    "plt.grid(False)\n",
    "sns.despine()\n",
    "# Отображаем график\n",
    "plt.show()\n"
   ]
  },
  {
   "cell_type": "markdown",
   "id": "d76469a6",
   "metadata": {},
   "source": [
    "Исходя из представленных выше наблюдений, мы можем сделать следующие выводы и гипотезы:\n",
    "- В радиусе киллометра от центра Москвы находиться ~ 27 заведений на один квадратный киллометр;\n",
    "- Пиковое плотность заведений в Москве в радиусе от 1 до 3 км составляет  ~ 48 заведений на 1 квадратный киллометр, и постепенно снижается, до ~ 4 заведений на один квадратный киллометр на его окраинах.\n",
    "\n",
    "**Мы можем предположить что плотность заведений может изменяется не равномерно, давайте попробуем посмотреть на это под другим углом.**"
   ]
  },
  {
   "cell_type": "markdown",
   "id": "06a4e9ae",
   "metadata": {},
   "source": [
    "### Изучим распределение плотности заведений."
   ]
  },
  {
   "cell_type": "code",
   "execution_count": null,
   "id": "56fc1d4e",
   "metadata": {},
   "outputs": [],
   "source": [
    "# Отображаем плотность заведений\n",
    "plt.figure(figsize=(10, 12))\n",
    "sns.kdeplot(\n",
    "    data=dff,\n",
    "    x=\"lng\",\n",
    "    y=\"lat\",\n",
    "    cmap=\"viridis\",\n",
    "    fill=True,\n",
    "    thresh=0,\n",
    "    levels=100,  # уменьшено количество уровней\n",
    "    bw_adjust=0.3,  # уменьшение ширины ядра для четкости\n",
    "    shade_lowest=True\n",
    ")\n",
    "plt.title(\"Плотность заведений в Москве (KDE)\", fontsize=18)\n",
    "plt.xlabel(\"Долгота\")\n",
    "plt.ylabel(\"Широта\")\n",
    "plt.show()"
   ]
  },
  {
   "cell_type": "code",
   "execution_count": null,
   "id": "6f3f3a2a",
   "metadata": {},
   "outputs": [],
   "source": [
    "# Отобразим тоже самое с помощью hexbin\n",
    "plt.figure(figsize=(14, 12))\n",
    "plt.hexbin(\n",
    "    dff['lat'],\n",
    "    dff['lng'],\n",
    "    gridsize=30,\n",
    "    cmap='viridis',\n",
    "    edgecolors='k',\n",
    "    linewidths=0.1,\n",
    "    \n",
    ")\n",
    "plt.colorbar(label='Плотность')\n",
    "plt.title(\"Плотность заведений в Москве (Hexbin)\", fontsize=15)\n",
    "plt.xlabel(\"Долгота\")\n",
    "plt.ylabel(\"Широта\")\n",
    "\n",
    "#убираем оси\n",
    "plt.axis('off')\n",
    "plt.show()"
   ]
  },
  {
   "cell_type": "markdown",
   "id": "8b8da318",
   "metadata": {},
   "source": [
    "Исходя из представленных графиков плотности, мы можем сделать следующие выводы и гипотезы:\n",
    "- Центральный район Москвы является наиболее засёленным по количеству заведений, однако мы можем наблюдать и другие центры притяжений в северо-западной и юго-западной части Москвы. \n",
    "- Центрами притяжения могут являться наличие рядом учебных заведений, торговых центров зон отдыха или достопремечательностей.\n",
    "- Темные места на карте вероятно обусловлены отсутствием возможности размещения заведений, что может быть связано с особенностями ландшафта или наличием промзон."
   ]
  },
  {
   "cell_type": "markdown",
   "id": "96d2cd2a",
   "metadata": {},
   "source": [
    "### Дополним наши данные информацией о принадлежности заведений к муниципальным округам."
   ]
  },
  {
   "cell_type": "markdown",
   "id": "3a2a74c8",
   "metadata": {},
   "source": [
    "Для получения границ муниципальных районов воспользуемся информацией размещенной в открытом доступе на сайте [GIS-Lab](https://gis-lab.info/qa/moscow-atd.html). \n",
    "Мы предварительно загрузили данные о границах муниципальных районов и отфильтровали только те районы которые присутствуют в датасете, отфильтрованные данные были сохранены в формате GeoJSON в файле `filtered_districts_data.geojson`.\n",
    "Выполним обогащение данных, и присвоим каждому заведению значение его района."
   ]
  },
  {
   "cell_type": "code",
   "execution_count": null,
   "id": "8479c802",
   "metadata": {},
   "outputs": [],
   "source": [
    "# Чтение файла GeoJSON и DataFrame с данными заведений\n",
    "\n",
    "geojson_path = 'https://raw.githubusercontent.com/MaximBakaldin/Moscow_Places/main/filtered_districts_data.geojson'\n",
    "districts_gdf = gpd.read_file(geojson_path)\n",
    "\n",
    "\n",
    "# Преобразуем данные заведений в GeoDataFrame\n",
    "dff['geometry'] = dff.apply(lambda row: Point(row['lng'], row['lat']), axis=1)\n",
    "dff_gdf = gpd.GeoDataFrame(dff, geometry='geometry')\n",
    "\n",
    "# Установка системы координат для заведений (если они в WGS84)\n",
    "dff_gdf.set_crs(epsg=4326, inplace=True)\n",
    "\n",
    "# Объеденим два датафрейма в один\n",
    "df_upd = gpd.sjoin(dff_gdf, districts_gdf, how='left', predicate='within')\n",
    "\n",
    "# Присвоение района и удаление лишних колонок\n",
    "df_upd['area'] = df_upd['NAME']\n",
    "df_upd = df_upd.drop(columns=['geometry', 'index_right', 'NAME', 'ABBREV_AO',\n",
    "                                                     'OKATO_AO', 'WKT', 'NAME_AO', 'OKATO', 'OKTMO'])\n",
    "\n",
    "# выведем первые 5 строк\n",
    "df_upd.head()"
   ]
  },
  {
   "cell_type": "code",
   "execution_count": null,
   "id": "0f54d465",
   "metadata": {},
   "outputs": [],
   "source": [
    "# Визуализация всех районов\n",
    "districts_gdf.plot(figsize=(10, 12), edgecolor='k', cmap='YlGnBu')\n",
    "plt.title(\"Районы Москвы\", fontsize=15)\n",
    "plt.xlabel(\"Долгота\")\n",
    "plt.ylabel(\"Широта\")\n",
    "plt.axis('off')\n",
    "plt.show()"
   ]
  },
  {
   "cell_type": "markdown",
   "id": "b81693e9",
   "metadata": {},
   "source": [
    "Вот такая красивая карта у нас получилась, теперь мы сможем изучить наши признаки более детально."
   ]
  },
  {
   "cell_type": "code",
   "execution_count": null,
   "id": "9743b1c9",
   "metadata": {},
   "outputs": [],
   "source": [
    "# Проверка содержимого GeoJSON файла\n",
    "# URL для загрузки GeoJSON файла\n",
    "output_geojson_path = 'https://raw.githubusercontent.com/MaximBakaldin/Moscow_Places/main/filtered_districts_data.geojson'\n",
    "\n",
    "# Загрузка данных через requests\n",
    "response = requests.get(output_geojson_path)\n",
    "\n",
    "# Проверка успешности запроса\n",
    "if response.status_code == 200:\n",
    "    # Загрузка содержимого как JSON\n",
    "    geojson_data = json.loads(response.text)\n",
    "\n",
    "else:\n",
    "    print(f\"Ошибка при загрузке файла: {response.status_code}\")"
   ]
  },
  {
   "cell_type": "markdown",
   "id": "462e7086",
   "metadata": {},
   "source": [
    "### Изучим как меняются признаки в разных районах Москвы."
   ]
  },
  {
   "cell_type": "markdown",
   "id": "6ba1754a",
   "metadata": {},
   "source": [
    "Карт будет много, поэтому запишем функцию для построения хороплета"
   ]
  },
  {
   "cell_type": "code",
   "execution_count": null,
   "id": "5fb9d527",
   "metadata": {},
   "outputs": [],
   "source": [
    "import requests\n",
    "import json\n",
    "import folium\n",
    "from folium import Choropleth, GeoJson, GeoJsonTooltip\n",
    "\n",
    "def create_choropleth_map(geojson_url, data_df, value_col, legend_name, tooltip_name):\n",
    "    # Загрузка GeoJSON данных через requests\n",
    "    response = requests.get(geojson_url)\n",
    "    \n",
    "    # Проверка успешности запроса\n",
    "    if response.status_code == 200:\n",
    "        geojson_data = response.json()  # Преобразование ответа в JSON\n",
    "    else:\n",
    "        print(f\"Ошибка при загрузке файла: {response.status_code}\")\n",
    "        return None\n",
    "\n",
    "    # Преобразование данных в словарь для легкого поиска\n",
    "    data_dict = data_df.set_index('area')[value_col].to_dict()\n",
    "\n",
    "    # Добавление значения из сводной таблицы к каждому району в GeoJSON\n",
    "    for feature in geojson_data['features']:\n",
    "        district_name = feature['properties']['NAME']\n",
    "        feature['properties'][value_col] = data_dict.get(district_name, 'Нет данных')\n",
    "\n",
    "    # Создание карты\n",
    "    moscow_lat, moscow_lng = 55.751244, 37.618423\n",
    "    m = folium.Map(location=[moscow_lat, moscow_lng], zoom_start=10, tiles='Cartodb Positron')\n",
    "\n",
    "    # Создание хороплета\n",
    "    Choropleth(\n",
    "        geo_data=geojson_data,\n",
    "        data=data_df,\n",
    "        columns=['area', value_col],\n",
    "        key_on='feature.properties.NAME',\n",
    "        fill_color='YlGnBu',\n",
    "        fill_opacity=0.5,\n",
    "        line_opacity=0.9,\n",
    "        legend_name=legend_name,\n",
    "        sticky=True,\n",
    "        highlight=True\n",
    "    ).add_to(m)\n",
    "\n",
    "    # Добавление GeoJson с подсказками и настройкой стиля\n",
    "    GeoJson(\n",
    "        geojson_data,\n",
    "        style_function=lambda x: {\n",
    "            'fillColor': 'transparent',  # Прозрачная заливка\n",
    "            'color': 'black',            # Цвет границы\n",
    "            'weight': 0.5,               # Толщина границы\n",
    "            'dashArray': '5, 5'          # Штриховая линия\n",
    "        },\n",
    "        highlight_function=lambda x: {  # Стиль при наведении\n",
    "            'weight': 3,                # Толщина границы при наведении\n",
    "            'color': '#666',            # Цвет границы при наведении\n",
    "            'fillOpacity': 0.7,         # Прозрачность заливки при наведении\n",
    "            'fillColor': '#ffff00',     # Заливка при наведении\n",
    "            'dashArray': ''             # Убираем штриховку при наведении\n",
    "        },\n",
    "        tooltip=GeoJsonTooltip(\n",
    "            fields=['NAME', value_col],\n",
    "            aliases=[tooltip_name, legend_name],\n",
    "            localize=True,\n",
    "            sticky=True,\n",
    "            labels=True,\n",
    "            style=(\n",
    "                \"background-color: white; \"\n",
    "                \"font-size: 12px; \"\n",
    "                \"font-weight: bold; \"\n",
    "                \"padding: 10px; \"\n",
    "                \"border-radius: 5px;\"\n",
    "            ),\n",
    "            max_width=800\n",
    "        )\n",
    "    ).add_to(m)\n",
    "\n",
    "    return m"
   ]
  },
  {
   "cell_type": "code",
   "execution_count": null,
   "id": "4fe1b8d4",
   "metadata": {},
   "outputs": [],
   "source": [
    "# Cгруппируем по раионам и посчитаем средний чек\n",
    "price = df_upd.groupby('area')['middle_avg_bill'].median().reset_index()\n",
    "price.columns = ['area', 'middle_avg_bill']"
   ]
  },
  {
   "cell_type": "code",
   "execution_count": null,
   "id": "6472e2b1",
   "metadata": {},
   "outputs": [],
   "source": [
    "# Круглосуточные заведения по районам\n",
    "m = create_choropleth_map(\n",
    "     output_geojson_path,\n",
    "     data_df=price,\n",
    "     value_col='middle_avg_bill',\n",
    "     legend_name='Средний чек',\n",
    "     tooltip_name='Район'\n",
    " )\n",
    "m\n"
   ]
  },
  {
   "cell_type": "markdown",
   "id": "a9a71f83",
   "metadata": {},
   "source": [
    "Исходя из представленных выше наблюдений, мы можем сделать следующие выводы и гипотезы:\n",
    "- Средний чек колеблется от 1175  до 285 рублей в зависимости от района.\n",
    "- Самыми дорогими районами Москвы являються Пресненский, Арбат, Проспект Вернандского и  Крылатское.\n",
    "- Отметим что проспект Вернандского вошел в топ-3 по количеству заведений, на карте видно что цены по районам которые он пересекает, выше чем цены по соседним. Вероятнее всего рядом распологаются различные зоны притяжения клиентов.\n",
    "- Так же стоит отметить район Крылатское имеющий аналогичную стоймость"
   ]
  },
  {
   "cell_type": "code",
   "execution_count": null,
   "id": "90d7768d",
   "metadata": {},
   "outputs": [],
   "source": [
    "# Посмотрим на распределение средней цены ченка по районам\n",
    "ratings = df_upd.groupby('area')['rating'].median().reset_index()"
   ]
  },
  {
   "cell_type": "code",
   "execution_count": null,
   "id": "cb16a015",
   "metadata": {},
   "outputs": [],
   "source": [
    "# Медианный рейтинг по районам\n",
    "m = create_choropleth_map(\n",
    "     geojson_path,\n",
    "     data_df=ratings,\n",
    "     value_col='rating',\n",
    "     legend_name='Средний рейтинг',\n",
    "     tooltip_name='Район'\n",
    " )\n",
    "m"
   ]
  },
  {
   "cell_type": "markdown",
   "id": "a0b03f5e",
   "metadata": {},
   "source": [
    "Исходя из представленных выше наблюдений, мы можем сделать следующие выводы и гипотезы:\n",
    "- Заведения с наивысшим рейтингом равномерно распределились вокрук центра Москвы;\n",
    "- В целом изменение рейтинга выглядит равномерым.\n",
    "- Также высокими рейтингами могут похвастать Проспект Вернандского и Нагорный."
   ]
  },
  {
   "cell_type": "markdown",
   "id": "355b6fc9",
   "metadata": {},
   "source": [
    "### Изучим информацию о режимах работы заведений"
   ]
  },
  {
   "cell_type": "code",
   "execution_count": null,
   "id": "128b668c",
   "metadata": {},
   "outputs": [],
   "source": [
    "# Выборка данных\n",
    "h = df.query('hours != \"unknown\"').groupby('hours')['name'].count().sort_values(ascending=False).head(10)\n",
    "\n",
    "# Построение графика\n",
    "plt.figure(figsize=(14, 8))  # Устанавливаем размер графика для лучшей читаемости\n",
    "\n",
    "sns.barplot(x=h.values, y=h.index, orient='h', palette='viridis')\n",
    "\n",
    "# Добавляем заголовок и подписи к осям\n",
    "plt.title('Популярные режимы работы', fontsize=18, pad=20, fontweight='bold')\n",
    "plt.xlabel('Количество заведений' , fontsize=16, labelpad=20)\n",
    "plt.ylabel(None)\n",
    "\n",
    "sns.despine()\n",
    "\n",
    "# Отображаем график\n",
    "plt.show()"
   ]
  },
  {
   "cell_type": "markdown",
   "id": "76542043",
   "metadata": {},
   "source": [
    "Исходя из представленного выше графика, мы можем сделать следующие выводы и гипотезы:\n",
    "- Большая часть заведений работает ежедневно.\n",
    "- Самые популярные режимы работы Москвы с 10:00 до 22:00 и круглосуточно."
   ]
  },
  {
   "cell_type": "code",
   "execution_count": null,
   "id": "32349996",
   "metadata": {},
   "outputs": [],
   "source": [
    "# Подсчитываем количество заведений для каждого часа\n",
    "counts = df_upd.query('hours != \"unknown\"').groupby('hours')['category'].count().sort_values(ascending=False)\n",
    "\n",
    "# Извлекаем топ-10 часов по количеству заведений\n",
    "top_hours = counts.head(10).index\n",
    "\n",
    "# Создаем кросстаб для топ-10 часов\n",
    "h = pd.crosstab(df_upd['category'], df_upd['hours'], normalize='index')\n",
    "\n",
    "# Фильтруем кросстаб, оставляя только топ-10 часов\n",
    "h = h[top_hours]  # Выбираем только топ-10 часов как столбцы\n",
    "\n",
    "# Переименуем названия колонок\n",
    "h.columns = ['10:00-22:00',\n",
    "             'круглосуточно',\n",
    "             '11:00-23:00',\n",
    "             '10:00-23:00', \n",
    "             '12:00-00:00',\n",
    "             '09:00-21:00',\n",
    "             '09:00-22:00',\n",
    "             '12:00-23:00',\n",
    "             '08:00-23:00',\n",
    "             '08:00-22:00']\n",
    "\n",
    "# Переводим значения в проценты\n",
    "h = h * 100\n",
    "\n",
    "# Построение графика\n",
    "plt.figure(figsize=(14, 8))  # Устанавливаем размер графика для лучшей читаемости\n",
    "\n",
    "# Построение тепловой карты\n",
    "sns.heatmap(h, cmap=\"YlGnBu\", annot=True, fmt=\".2f\", cbar_kws={'format': '%.0f%%'}, linewidths=0.5, linecolor='gray')\n",
    "\n",
    "# Добавляем заголовок и метки\n",
    "plt.title('Тепловая карта по категориям и режимам работы', fontsize=18, pad=20)  # Увеличение отступа заголовка\n",
    "plt.xlabel(None)\n",
    "plt.ylabel(None)\n",
    "\n",
    "# Дополнительные настройки для лучшего отображения\n",
    "plt.xticks(rotation=0, fontsize=10)  # Поворот и размер шрифта меток оси X\n",
    "plt.yticks(fontsize=12)               # Размер шрифта меток оси Y\n",
    "\n",
    "# Настройка отступов вокруг графика\n",
    "plt.subplots_adjust(top=0.9, bottom=0.1, left=0.1, right=0.9)\n",
    "\n",
    "plt.tight_layout()  # Автоматическая компоновка для предотвращения наложения текста\n",
    "\n",
    "plt.show()"
   ]
  },
  {
   "cell_type": "markdown",
   "id": "ace760cd",
   "metadata": {},
   "source": [
    "Исходя из представленного выше графика, мы можем сделать следующие выводы и гипотезы:\n",
    "- Чаще всего круглосуточными бывают заведения типа кафе и быстрого питания;\n",
    "- Более 50 % заведений быстрого питания работаю круглосуточно.\n",
    "- Самые \"ранние\" заведения - булочные.\n"
   ]
  },
  {
   "cell_type": "code",
   "execution_count": null,
   "id": "75fd58eb",
   "metadata": {},
   "outputs": [],
   "source": [
    "# Изучим как распределены круглосуточные заведения по категориям и округам\n",
    "\n",
    "# Круглосуточные заведения\n",
    "is_24 = df_upd.query('is_24_7 == True')\n",
    "# Создание кросс-таблицы\n",
    "ct = pd.crosstab(is_24['district'], is_24['category'], normalize=True)\n",
    "\n",
    "# Убираем названия индекса и колонок\n",
    "ct = ct.rename_axis(index=None, columns=None)\n",
    "\n",
    "\n",
    "# Замена названий категорий\n",
    "ct.index = ct.index.map(replacement_dict)\n",
    "\n",
    "# Построение графика\n",
    "plt.figure(figsize=(14, 8))  # Устанавливаем размер графика для лучшей читаемости\n",
    "\n",
    "# Построение тепловой карты\n",
    "sns.heatmap(ct, cmap=\"YlGnBu\", annot=True, fmt=\".2f\", cbar_kws={'format': '%.0f%%'}, linewidths=0.5, linecolor='gray')\n",
    "\n",
    "# Добавляем заголовок и метки\n",
    "plt.title('Тепловая карта распределения круглосуточных заведений', fontsize=18, pad=20)  # Увеличение отступа заголовка\n",
    "plt.xlabel(None)\n",
    "plt.ylabel(None)\n",
    "\n",
    "# Дополнительные настройки для лучшего отображения\n",
    "plt.xticks(rotation=0, fontsize=10)  # Поворот и размер шрифта меток оси X\n",
    "plt.yticks(fontsize=12)               # Размер шрифта меток оси Y\n",
    "\n",
    "# Настройка отступов вокруг графика\n",
    "plt.subplots_adjust(top=0.9, bottom=0.1, left=0.1, right=0.9)\n",
    "\n",
    "plt.tight_layout()  # Автоматическая компоновка для предотвращения наложения текста\n",
    "\n",
    "plt.show()"
   ]
  },
  {
   "cell_type": "markdown",
   "id": "137cc0a2",
   "metadata": {},
   "source": [
    "Исходя из представленного выше графика, мы можем сделать следующие выводы и гипотезы:\n",
    "- Наибольшее количество круглосуточных кафе приходится на Юго-Восточный округ, \n",
    "- Круглосуточные бары как правило нахjдятся в Центральном округе, так же  следует отметить большое количество кофеен именно  в Центральном округе.\n",
    "- Круглосуточный режим работы в большей степени характерен для заведений категории Кафе, быстрое питание и рестораны."
   ]
  },
  {
   "cell_type": "code",
   "execution_count": null,
   "id": "d934b6d6",
   "metadata": {},
   "outputs": [],
   "source": [
    "# Отобразим на карте\n",
    "\n",
    "is_24 = df_upd.query('is_24_7 == True').groupby('area')['name'].count().reset_index()\n",
    "is_24.columns = ['area', 'count']\n",
    "# Медианный рейтинг по районам\n",
    "m = create_choropleth_map(\n",
    "     geojson_path,\n",
    "     data_df=is_24,\n",
    "     value_col='count',\n",
    "     legend_name='Распределение круглосуточных заведений',\n",
    "     tooltip_name='Район'\n",
    " )\n",
    "m"
   ]
  },
  {
   "cell_type": "markdown",
   "id": "37745df4",
   "metadata": {},
   "source": [
    "Наибольшее количество круглосуточных заведений находиться в Тверском районе города Москвы."
   ]
  },
  {
   "cell_type": "markdown",
   "id": "b5f7ac89",
   "metadata": {},
   "source": [
    "### Отобразим как именяется значение среднего чека и рейтинга по районам."
   ]
  },
  {
   "cell_type": "code",
   "execution_count": null,
   "id": "fc74857c",
   "metadata": {},
   "outputs": [],
   "source": [
    "# Сформируем сводную таблицу\n",
    "p = (df_upd.groupby('area')[['name', 'middle_avg_bill', 'middle_coffee_cup', 'rating']]\n",
    "      .agg({'name': 'count', 'middle_avg_bill': 'mean', 'middle_coffee_cup': 'mean', 'rating': 'mean'})\n",
    "      .sort_values(by='name', ascending=False)\n",
    "      .head(10).reset_index())"
   ]
  },
  {
   "cell_type": "code",
   "execution_count": null,
   "id": "1632c0b7",
   "metadata": {},
   "outputs": [],
   "source": [
    "# Настройка фигуры и осей\n",
    "fig, ax1 = plt.subplots(figsize=(14, 8))\n",
    "\n",
    "# Построение гистограммы для количества заведений\n",
    "sns.barplot(data=p, x='area', y='name', palette='viridis', ax=ax1, alpha=0.7, edgecolor='w')\n",
    "ax1.set_xlabel(None)\n",
    "ax1.set_ylabel('Количество заведений', fontsize=16, labelpad=20)\n",
    "ax1.tick_params(axis='y', labelcolor='black')\n",
    "ax1.set_xticklabels(ax1.get_xticklabels(), rotation=25, ha='right', fontsize=12, color='black')\n",
    "\n",
    "# Создание второй оси y для среднего чека\n",
    "ax2 = ax1.twinx()\n",
    "sns.lineplot(data=p, x='area', y='middle_avg_bill', marker='o', color='#f94144', ax=ax2, label='Средний чек',linewidth=3)\n",
    "ax2.set_ylabel('Средний чек', color='black')\n",
    "ax2.tick_params(axis='y', labelcolor='black')\n",
    "\n",
    "# Создание третьей оси y для рейтинга\n",
    "ax3 = ax1.twinx()\n",
    "\n",
    "# Сдвигаем третью ось, чтобы избежать наложения с другой осью\n",
    "ax3.spines['right'].set_position(('outward', 60))\n",
    "sns.lineplot(data=p, x='area', y='rating', marker='o', color='#21466f', ax=ax3, label='Рейтинг', linewidth=3)\n",
    "ax3.set_ylabel('Рейтинг', color='black')\n",
    "ax3.tick_params(axis='y', labelcolor='black')\n",
    "\n",
    "\n",
    "\n",
    "# Добавление аннотаций для каждого второго значения среднего чека\n",
    "for i in range(1, len(p), 3):\n",
    "    middle_avg_bill = p['middle_avg_bill'].iloc[i]\n",
    "    ax2.annotate(\n",
    "        f'{middle_avg_bill:.0f}', \n",
    "        xy=(i, middle_avg_bill), \n",
    "        xytext=(-10, 0),  # Смещение влево и вниз\n",
    "        textcoords='offset points',\n",
    "        ha='right', va='top', color='#f94144', fontsize=14, fontweight='bold'\n",
    "    )\n",
    "\n",
    "    \n",
    "# Добавление аннотаций для каждого второго значения рейтинга\n",
    "for i in range(2, len(p), 3):\n",
    "    rating = p['rating'].iloc[i]\n",
    "    ax3.annotate(\n",
    "        f'{rating:.2f}', \n",
    "        xy=(i, rating), \n",
    "        xytext=(2, 5),  # Смещение вправо и вверх\n",
    "        textcoords='offset points',\n",
    "        ha='left', va='bottom', color='#21466f', fontsize=14, fontweight='bold'\n",
    "    )\n",
    "\n",
    "# Убираем оси\n",
    "#ax2.spines['top'].set_visible(False)\n",
    "#ax2.spines['right'].set_visible(False)\n",
    "#ax3.spines['top'].set_visible(False)\n",
    "#ax3.spines['right'].set_visible(False)\n",
    "ax2.yaxis.set_visible(False)\n",
    "ax3.yaxis.set_visible(False)\n",
    "\n",
    "# Настройка графика\n",
    "plt.title('График изменения среднего чека и рейтинга среди районов с наибольшим количеством заведений', fontsize=18, pad=20)\n",
    "\n",
    "# Добавление легенды\n",
    "ax2.legend(loc='upper left', bbox_to_anchor=(0.50, -0.15), ncol=1, frameon=False, shadow=True, fontsize=14)\n",
    "ax3.legend(loc='upper left', bbox_to_anchor=(0.30, -0.15), ncol=1, frameon=False, shadow=True, fontsize=14)\n",
    "\n",
    "# Настройка отступов\n",
    "plt.subplots_adjust(top=0.85, bottom=0.15, left=0.1, right=0.9, hspace=0.3, wspace=0.3)\n",
    "# Убираем лишние линии и отображаем график\n",
    "sns.despine(top=True, right=True, left=False, bottom=False)\n",
    "plt.tight_layout()\n",
    "plt.show()"
   ]
  },
  {
   "cell_type": "markdown",
   "id": "fbd67f31",
   "metadata": {},
   "source": [
    "Исходя из представленного выше графика, мы можем сделать следующие выводы и гипотезы:\n",
    "-  Мы видим что рейтинг снижмается вместе с уменьшением среднего чека, однако это не говорит о причинно-следственной связи, вероятнее что люди в меньшей степени склонны оставлять много денег в заведениях с низким рейтингом.\n",
    "- Можно отметить что для Тверского района отношение рейтина к чеку выше,  чем для района Хамовники. "
   ]
  },
  {
   "cell_type": "code",
   "execution_count": null,
   "id": "2d1194b1",
   "metadata": {},
   "outputs": [],
   "source": [
    "# Сформируем сводную таблицу\n",
    "p = (df_upd.groupby('area')[['name', 'middle_avg_bill', 'middle_coffee_cup', 'rating']]\n",
    "      .agg({'name': 'count', 'middle_avg_bill': 'mean', 'middle_coffee_cup': 'mean', 'rating': 'mean'})\n",
    "      .sort_values(by='middle_avg_bill', ascending=False)\n",
    "      .head(10).reset_index())"
   ]
  },
  {
   "cell_type": "code",
   "execution_count": null,
   "id": "b1febed0",
   "metadata": {
    "scrolled": false
   },
   "outputs": [],
   "source": [
    "# Настройка фигуры и осей\n",
    "fig, ax1 = plt.subplots(figsize=(14, 8))\n",
    "\n",
    "# Построение гистограммы для количества заведений\n",
    "sns.barplot(data=p, x='area', y='name', palette='viridis', ax=ax1, alpha=0.7, edgecolor='w')\n",
    "ax1.set_xlabel(None)\n",
    "ax1.set_ylabel('Количество заведений', fontsize=16, labelpad=20)\n",
    "ax1.tick_params(axis='y', labelcolor='black')\n",
    "ax1.set_xticklabels(ax1.get_xticklabels(), rotation=25, ha='right')\n",
    "\n",
    "# Создание второй оси y для среднего чека\n",
    "ax2 = ax1.twinx()\n",
    "sns.lineplot(data=p, x='area', y='middle_avg_bill', marker='o', color='#f94144', ax=ax2, label='Средний чек', linewidth=3)\n",
    "ax2.set_ylabel('Средний чек', color='black')\n",
    "ax2.tick_params(axis='y', labelcolor='black')\n",
    "\n",
    "# Создание третьей оси y для рейтинга\n",
    "ax3 = ax1.twinx()\n",
    "\n",
    "# Сдвигаем третью ось, чтобы избежать наложения с другой осью\n",
    "ax3.spines['right'].set_position(('outward', 60))\n",
    "sns.lineplot(data=p, x='area', y='rating', marker='o', color='#21466f', ax=ax3, label='Рейтинг', linewidth=3)\n",
    "ax3.set_ylabel('Рейтинг', color='blue')\n",
    "ax3.tick_params(axis='y', labelcolor='blue')\n",
    "\n",
    "# Добавление аннотаций для каждого второго значения среднего чека\n",
    "for i in range(1, len(p), 3):\n",
    "    middle_avg_bill = p['middle_avg_bill'].iloc[i]\n",
    "    ax2.annotate(\n",
    "        f'{middle_avg_bill:.0f}', \n",
    "        xy=(i, middle_avg_bill), \n",
    "        xytext=(-10, 0),  # Смещение влево и вниз\n",
    "        textcoords='offset points',\n",
    "        ha='right', va='top', color='#f94144', fontsize=14, fontweight='bold'\n",
    "    )\n",
    "    \n",
    "# Добавление аннотаций для каждого второго значения рейтинга\n",
    "for i in range(1, len(p), 2):\n",
    "    rating = p['rating'].iloc[i]\n",
    "    ax3.annotate(\n",
    "        f'{rating:.2f}', \n",
    "        xy=(i, rating), \n",
    "        xytext=(15, 5),  # Смещение вправо и вверх\n",
    "        textcoords='offset points',\n",
    "        ha='left', va='bottom', color='#21466f', fontsize=14, fontweight='bold'\n",
    ")\n",
    "    \n",
    "# Убираем оси\n",
    "ax2.yaxis.set_visible(False)\n",
    "ax3.yaxis.set_visible(False)\n",
    "\n",
    "# Настройка графика\n",
    "plt.title('График изменения среднего чека и рейтинга среди самых дорогих районов Москвы', fontsize=18, pad=20)\n",
    "\n",
    "# Добавление легенды\n",
    "ax2.legend(loc='upper left', bbox_to_anchor=(0.45, -0.12), ncol=1, frameon=False, shadow=True)\n",
    "ax3.legend(loc='upper left', bbox_to_anchor=(0.35, -0.12), ncol=1, frameon=False, shadow=True)\n",
    "\n",
    "# Настройка отступов\n",
    "plt.subplots_adjust(top=0.85, bottom=0.15, left=0.1, right=0.9, hspace=0.3, wspace=0.3)\n",
    "# Убираем лишние линии и отображаем график\n",
    "sns.despine()\n",
    "plt.tight_layout()\n",
    "plt.show()"
   ]
  },
  {
   "cell_type": "markdown",
   "id": "4311f01e",
   "metadata": {},
   "source": [
    "Исходя из представленного выше графика, мы можем сделать следующие выводы и гипотезы:\n",
    "-  На этом графика хорошо видно, что показатели среднего рейтинга по району не зависят от среднего чека.\n",
    "- Самыми выгодными с точки зрения соотношения  выглядят Тверской район и Якиманка, Тверской район к тому же может похвастать высоким ассортиментом.\n",
    "- Раменки имеет наименьшей рейтинг и показатель среднего чека, вероятно в этом районе более бюджетный сегмент заведений соответсвующий ЦА.\n",
    "- Район Крылатской имеет наихудшее отношение рейтинга к среднему чеку."
   ]
  },
  {
   "cell_type": "markdown",
   "id": "8b90aec2",
   "metadata": {},
   "source": [
    "### Изучим заведения с «плохим рейтингом»"
   ]
  },
  {
   "cell_type": "markdown",
   "id": "0704503a",
   "metadata": {},
   "source": [
    "Само понятие «плохой рейтинг» может быть очень неоднозначным, будем считать что заведения с рейтингом ниже значений хвоста межквартильного размаха — 3.7 заведениями с низким рейтингом. Отфильтруем данные по этому признаку."
   ]
  },
  {
   "cell_type": "code",
   "execution_count": null,
   "id": "816a460f",
   "metadata": {},
   "outputs": [],
   "source": [
    "low_df = df_upd.query(\"rating < 3.7\").copy()"
   ]
  },
  {
   "cell_type": "code",
   "execution_count": null,
   "id": "9389af49",
   "metadata": {},
   "outputs": [],
   "source": [
    "#  Посмотрим какой процент таких заведений от общей массы\n",
    "f'Количество заведений с низким рейтингом составляет: {round((df_upd.query(\"rating < 3.7\").shape[0] / df_upd.shape[0]) * 100 )} %'"
   ]
  },
  {
   "cell_type": "code",
   "execution_count": null,
   "id": "8d8aa492",
   "metadata": {
    "scrolled": false
   },
   "outputs": [],
   "source": [
    "# Получение списка популярных сетей\n",
    "top_15_networks = low_df.name.value_counts().head(10).reset_index()\n",
    "top_15_networks.columns = ['name', 'count']\n",
    "\n",
    "# Определение категории для каждой сети\n",
    "def get_category(name):\n",
    "    categories = low_df.query(f'name == \"{name}\"')['category'].unique()\n",
    "    if len(categories) > 0:\n",
    "        return categories[0]  # Взять первую категорию, если их несколько\n",
    "    return 'unknown'\n",
    "\n",
    "top_15_networks['category'] = top_15_networks['name'].apply(get_category)\n",
    "\n",
    "# Вычисление среднего рейтинга для каждой сети\n",
    "def get_average_rating(name):\n",
    "    return low_df.query(f'name == \"{name}\"')['rating'].mean()\n",
    "\n",
    "# Добавление среднего рейтинга в DataFrame\n",
    "top_15_networks['average_rating'] = top_15_networks['name'].apply(get_average_rating)\n",
    "\n",
    "# Определение уникальных категорий\n",
    "unique_categories = top_15_networks['category'].unique()\n",
    "\n",
    "# Построение графика\n",
    "fig, ax = plt.subplots(figsize=(14, 8))\n",
    "\n",
    "for index, row in top_15_networks.iterrows():\n",
    "    # Используем количество заведений в качестве длины столбца\n",
    "    bar = ax.barh(row['name'], row['count'], color=palette_dict[row['category']], alpha=0.7)\n",
    "    ax.text(row['count'] + 0.5, index, f'Рейтинг: {row[\"average_rating\"]:.1f}', va='center',\n",
    "            ha='left', color='black', fontsize=12)\n",
    "\n",
    "# Настройка осей и заголовка\n",
    "ax.set_xlabel('Количество заведений')\n",
    "ax.set_title('Десять популярных названий и сетей Москвы с низким рейтингом', fontsize=18)\n",
    "\n",
    "# Инвертируем ось y, чтобы заведения с наибольшим количеством были на первом месте\n",
    "ax.invert_yaxis()\n",
    "\n",
    "# Создание легенды в одну линию внизу по центру\n",
    "handles = [plt.Line2D([0], [0], color=palette_dict[cat], lw=4) for cat in unique_categories]\n",
    "labels = unique_categories\n",
    "ax.legend(handles, labels,\n",
    "          title_fontsize=10,\n",
    "          fontsize=10,\n",
    "          frameon=False,\n",
    "          loc='upper center', bbox_to_anchor=(0.5, -0.10), ncol=len(unique_categories))\n",
    "\n",
    "# Убираем верхнюю и правую часть графика\n",
    "sns.despine(left=True, bottom=False, right=True)\n",
    "\n",
    "# Отображаем график\n",
    "plt.show()"
   ]
  },
  {
   "cell_type": "markdown",
   "id": "3aa298fb",
   "metadata": {},
   "source": [
    "Исходя из представленного выше графика, мы можем сделать следующие выводы и гипотезы:\n",
    "- Среди заведений с низким рейтингом преобладают заведения с наименованием «Кафе» относящихся к категории «Кафе» \n",
    "- Возможно невысокий уровень креативности сказывается на уровне сервиса? («Как вы судно назовёте, так оно и поплывёт» (с))\n",
    "- Так же стоит отметить, что низкие рейтинги имеют отдельные заведения популярных сетей."
   ]
  },
  {
   "cell_type": "code",
   "execution_count": null,
   "id": "1aab0c62",
   "metadata": {},
   "outputs": [],
   "source": [
    "# Изучим как распределены эти заведения по категориям и  округам\n",
    "low_cross = pd.crosstab(low_df['district'], low_df['category'], normalize=True)\n",
    "\n",
    "# Убираем названия индекса и колонок\n",
    "low_cross = low_cross.rename_axis(index=None, columns=None)\n",
    "\n",
    "# Замена названий районов\n",
    "low_cross.index = low_cross.index.map(replacement_dict)\n",
    "fig, ax = plt.subplots(figsize=(12, 8))\n",
    "sns.heatmap(low_cross, cmap='YlGnBu', cbar=False, annot=True, fmt='.2%', linewidths=0.5, linecolor='gray', ax=ax, annot_kws={'fontsize': 12})\n",
    "# Добавляем заголовок и метки\n",
    "plt.title('Тепловая карта распределения «плохих заведений»', fontsize=18, pad=20)  \n",
    "plt.xlabel(None)\n",
    "plt.ylabel(None)\n",
    "\n",
    "# Дополнительные настройки для лучшего отображения\n",
    "plt.xticks(rotation=0, fontsize=12)  \n",
    "plt.yticks(fontsize=12)  \n",
    "\n",
    "# Настройка отступов вокруг графика\n",
    "plt.subplots_adjust(top=0.9, bottom=0.1, left=0.1, right=0.9)\n",
    "\n",
    "\n",
    "plt.show()\n"
   ]
  },
  {
   "cell_type": "markdown",
   "id": "0fe42b0d",
   "metadata": {},
   "source": [
    "Исходя из представленного выше наблюдений, мы можем сделать следующие выводы и гипотезы:\n",
    "- Наибольшее количество заведений с низким рейтингом приходятся на категорию «кафе» в не зависимости от округа.\n",
    "- Наиболшее количество таких заведений приходиться на юго-восточный район."
   ]
  },
  {
   "cell_type": "code",
   "execution_count": null,
   "id": "81f4f6f2",
   "metadata": {},
   "outputs": [],
   "source": [
    "# Посчитаем средний чек и рейтинг для каждого района\n",
    "l = (low_df.groupby('area')[['name', 'middle_avg_bill', 'rating']]\n",
    "    .agg({'name': 'count', 'middle_avg_bill': 'median', 'rating': 'mean'}).reset_index()\n",
    "    )\n",
    "# Посчитаем общее количество заведений в каждом районе\n",
    "area_count = df_upd.groupby('area')['name'].count().reset_index().sort_values(by='name', ascending=False)\n",
    "area_count.columns = ['area', 'area_count']\n",
    "\n",
    "# Объединим таблицы\n",
    "l = l.merge(area_count, on='area', how='left')\n",
    "\n",
    "# Процент заведений с низким рейтингом.\n",
    "l['low_rate'] = round((l['name'] / l['area_count']) * 100)\n",
    "\n",
    "# Выведем андертоп районов по соотношению заведений с низким рейтингом к общей массе\n",
    "l = l.sort_values(by='low_rate', ascending=False).head(10)"
   ]
  },
  {
   "cell_type": "code",
   "execution_count": null,
   "id": "a59c828b",
   "metadata": {},
   "outputs": [],
   "source": [
    "\n",
    "# Настройка фигуры и осей\n",
    "fig, ax1 = plt.subplots(figsize=(14, 8))\n",
    "\n",
    "# Построение гистограммы для количества заведений\n",
    "sns.barplot(data=l, x='area', y='low_rate', palette='viridis', ax=ax1, alpha=0.7, edgecolor='w')\n",
    "ax1.set_xlabel(None)\n",
    "ax1.set_ylabel('Процент «плохих заведений»', color='black')\n",
    "ax1.tick_params(axis='y', labelcolor='black')\n",
    "ax1.set_xticklabels(ax1.get_xticklabels(), rotation=25, ha='right')\n",
    "\n",
    "# Добавление аннотаций для каждого второго значения рейтинга\n",
    "for i in range(0, len(p), 1):\n",
    "    low_rate = l['low_rate'].iloc[i]\n",
    "    rating = l['rating'].iloc[i]\n",
    "    # Устанавливаем аннотацию немного выше столбца\n",
    "    ax1.annotate(f'{rating:.1f}', xy=(i, low_rate), xytext=(0, 5), textcoords='offset points',\n",
    "                 ha='center', va='bottom', fontsize=12)\n",
    "# Убираем оси\n",
    "ax2.yaxis.set_visible(False)\n",
    "ax3.yaxis.set_visible(False)\n",
    "\n",
    "# Настройка графика\n",
    "plt.title('Десять районов с наибольшей долей «плохих заведений» и их рейтинг', fontsize=18)\n",
    "\n",
    "# Убираем лишние линии и отображаем график\n",
    "sns.despine()\n",
    "plt.tight_layout()\n",
    "plt.show()"
   ]
  },
  {
   "cell_type": "markdown",
   "id": "25937a4c",
   "metadata": {},
   "source": [
    "Исходя из представленного выше наблюдений, мы можем сделать следующие выводы и гипотезы:\n",
    "- Наибольший процент «плохих заведений» приходится на Кисино-Ухтомнский район, в нем находится более 40% заведений с низким рейтингом.\n",
    "- Наименьший средний рейтинг плохих заведений в Ясенево, процент плохих заведений в Ясенево составляет более 20%."
   ]
  },
  {
   "cell_type": "code",
   "execution_count": null,
   "id": "e65e56ff",
   "metadata": {
    "scrolled": false
   },
   "outputs": [],
   "source": [
    "# Сравним значения средних чеков для заведений с низким рейтингом \n",
    "x = low_df.middle_avg_bill.median()\n",
    "# Сравним значения средних чеков для заведений с высоким рейтингом\n",
    "high_df = df_upd.query('rating >= 3.7').copy()\n",
    "y = high_df.middle_avg_bill.median()\n",
    "\n",
    "# Настройка фигуры и осей\n",
    "fig, ax1 = plt.subplots(figsize=(10, 6))\n",
    "sns.barplot(x=['Низкий рейтинг', 'Высокий рейтинг'], y=[x, y], palette=new_palette)\n",
    "plt.title('Сравнение средних чеков для заведений с низким и высоким рейтингом, руб.', fontsize=16, pad=10)\n",
    "\n",
    "# Добавление аннотаций\n",
    "for i, value in enumerate([x, y]):\n",
    "    ax1.text(i, value + 3, f'{value:.2f}', ha='center', va='bottom', fontsize=12, color='black', weight='bold')\n",
    "# Изменим ширину столбцов\n",
    "#ax1.set_xlabel(None)\n",
    "# ax1.set_ylabel('Средний чек', color='black')\n",
    "# ax1.tick_params(axis='y', labelcolor='black')\n",
    "# Скроем ось Y\n",
    "ax1.yaxis.set_visible(False)\n",
    "sns.despine(left=True)\n",
    "plt.show()"
   ]
  },
  {
   "cell_type": "markdown",
   "id": "5b859c64",
   "metadata": {},
   "source": [
    "Исходя из представленных выше наблюдений, мы можем сделать следующие выводы и гипотезы:\n",
    "- Значение среднего чека для заведений с рейтингом ниже 3.7 в два раза меньше чем значение среднего чека для заведений с рейтингом выше 3.7."
   ]
  },
  {
   "cell_type": "markdown",
   "id": "c886a4f6",
   "metadata": {},
   "source": [
    "### Промежуточные итоги."
   ]
  },
  {
   "cell_type": "markdown",
   "id": "a8e8a4fe",
   "metadata": {},
   "source": [
    "Мы провели анализ предоставленных данных и получили следующие промежуточные выводы.\n",
    "\n",
    "1. **Общая статистика**\n",
    "\n",
    "- В Москве преобладают кафе (28,3%), рестораны (24,3%) и кофейни (16,8%).\n",
    "- Меньше всего булочных (3,05%) и столовых (3,75%).\n",
    "- Центральный административный округ лидирует по количеству заведений (26,6%), за ним следуют Северный (10,7%), Южный (10,6%) округа.\n",
    "\n",
    "2. **Типы заведений и их особенности**\n",
    "\n",
    "- Кафе, рестораны и кофейни составляют почти 70% рынка. Это говорит о высоком спросе на заведения в которые люди приходят не только перекусить, но и провести время.\n",
    "- Пиццерии и булочные наименее распространены. Это может указывать на особенности их бизнес-моделей, например, пиццерии могут работать в первую очередь от доставки.\n",
    "\n",
    "3. **Сетевые vs. Несетевые заведения:**\n",
    "\n",
    "- Большинство кофеень, булочных и пиццерий являются сетевыми, что связано с возможностью масштабирования и стандартизации услуг.\n",
    "- Наименьшее количество сетевых заведений в категории баров и пабов, которые часто предлагают уникальный опыт и ориентированы на определенную аудиторию.\n",
    "\n",
    "4. **Популярные сети**\n",
    "\n",
    "- Самая популярная сеть Москвы кофейня Шоколадница.\n",
    "\n",
    "- Среди популярных сетевых заведений, преобладают кофейни, заведения быстрого питания и  рестораны доставки.\n",
    "\n",
    "- Такие заведения как правило размещаются в крупных торговых центрах, на остановках и других местах с высоким трафиком.\n",
    "\n",
    "\n",
    "5. **Средний чек и рейтинг**\n",
    "\n",
    "- Средний чек в Центральном административном округе почти в два раза выше, чем в других округах, что может свидетельствовать о большем спросе на премиум-услуги в центре города.\n",
    "- Бары и пабы имеют более высокие рейтинги, что может быть связано с уникальностью их предложения и атмосферой, а так же влиянием алкоголя на выставляемые оценки ;)\n",
    "- Существует  прямая корреляция между средним чеком  и рейтингом заведения, что может говорить нам о том, что люди менее охотно оставляют деньги в заведениях с плохим рейтингом и подтверждает значимость этого параметра.\n",
    "- Количество заведений с «низким рейтингом» составляет: 7 % от общего.\n",
    "- Наибольший процент «плохих заведений» приходится на Кисино-Ухтомнский район, в нем находится более 40% заведений с низким рейтингом.\n",
    "- Средний чек таких заведений в два раза ниже чем средний чек заведений с рейтингом выше.\n",
    "- Данные наблюдения могут свидетельствовать что рейтинг является важным ключевым показателем для оценки успешности заведения.\n",
    "\n",
    "6. **Зависимость от расстояния**\n",
    "- Улицы с наибольшим количеством заведений являються основными артериями города, Проспект Мира, Профсоюзная улица, и Проспект Вернандского возглавляют тройку лидеров. Однако следует учесть что количество заведений так же зависит от протяжености улиц. И не говорит о плотности заведений. Хорошим примером является МКАД занимающий 10 место по количеству заведений, его протяженность составляет 108 км!\n",
    "- Среднее значение чека колеблется от 1100 до 500 рублей в зависимости от расстояния до центра. \n",
    "- Медианная стоимость чашки кофе для центрального района составляет 225 рублей, тогда как на окраине города всего 140.  \n",
    "- Возможно на окраинах города, в большей степени преобладают заведения формата coffe to go, которые имеют меньшую стоимость чашки кофе.\n",
    "\n",
    "7. **Плотность заведений**\n",
    "- Наиболее высокая плотность заведений в Москве достигает 48 заведений на квадратный километр в радиусе 1-3 км от центра. Однако помимо центрального округа существуют и другие точки притяжения и популярные маршруты.\n",
    "- На окраинах города плотность значительно снижается, до 4 заведений на квадратный километр.\n",
    "- Существующие \"тёмные пятна\" на карте  могут говорить о особенностях ландшафта, или не пригодных для размещения заведений условиях (Промзоны, ж.д. пути и др.)\n",
    "\n",
    "8. **Распределение по районам**\n",
    "\n",
    "- Центральный округ: Является крупнейшим центром  притяжения заведений. Здесь преобладают рестораны, что объясняется высоким спросом со стороны туристов и бизнеса.\n",
    "- Самые дорогие районы соредоточены в центре города. \n",
    "- Самыми выгодными с точки зрения соотношения рейтинга к среднему чеку выглядят Тверской район и Якиманка, Тверской район к тому же может похвастать высоким ассортиментом.\n",
    "- Раменки имеет наименьшей рейтинг и показатель среднего чека среди \"дорогих\" районов, вероятно в этом районе более бюджетный сегмент заведений соответсвующий ЦА.\n",
    "- Район Крылатской имеет наихудшее отношение рейтинга к среднему чеку.\n",
    "\n",
    "9. **Режим работы**\n",
    "- Часто встречаются круглосуточные заведения: В основном это кафе и заведения быстрого питания.\n",
    "- Популярные часы работы: С 10:00 до 22:00, что может быть связано с основным потоком клиентов в дневное время.\n",
    "\n",
    "10. **Средний чек и цена чашки кофе**\n",
    "- Средний чек: В Центральном округе значительно выше, чем в других частях города.\n",
    "- Цена чашки кофе: Медианная стоимость чашки кофе в центральных районах выше, чем на окраинах, что также может быть связано с более высоким спросом на премиум-продукты.\n",
    "\n",
    "\n",
    "11. **Рекомендации для открытия заведения:** \n",
    "\n",
    "- Оцените плотность заведений в выбранной локации. В Центральном округе конкуренция выше, но и спрос больше. В менее насыщенных районах конкуренция меньше, но и потенциальный поток клиентов может быть ниже.\n",
    "\n",
    "- Формат заведения: Учитывайте тип заведения в зависимости от района. Кофейни и кафе хорошо работают в центральных и коммерчески активных зонах, в то время как пиццерии и булочные могут быть успешными в жилых районах.\n",
    "    \n",
    "- Стоит ожидать, что в центральных районах цены будут выше, а на окраине – ниже. Это стоит учитывать при планировании ценовой политики.\n",
    "\n",
    "- Если планируется открытие круглосуточного заведения, стоит рассмотреть районы с высоким трафиком и спросом на такие услуги, особенно в Центральном округе.\n",
    "\n"
   ]
  },
  {
   "cell_type": "markdown",
   "id": "280b00cf",
   "metadata": {},
   "source": [
    "## Детализируем исследование: открытие кофейни\n",
    "Основателям фонда «Shut Up and Take My Money» не даёт покоя успех сериала «Друзья». Их мечта — открыть такую же крутую и доступную, как «Central Perk», кофейню в Москве. Будем считать, что заказчики не боятся конкуренции в этой сфере, ведь кофеен в больших городах уже достаточно. Попробуйте определить, осуществима ли мечта клиентов.https://6121ftcrobotics.wordpress.com/wp-content/uploads/2014/03/shut-up-and-take-my-money.jpg"
   ]
  },
  {
   "cell_type": "markdown",
   "id": "e70edd90",
   "metadata": {},
   "source": [
    "###  Изучим сколько всего кофеен в датасете? В каких районах их больше всего, каковы особенности их расположения?"
   ]
  },
  {
   "cell_type": "code",
   "execution_count": null,
   "id": "d9d0afa4",
   "metadata": {},
   "outputs": [],
   "source": [
    "# Отфильтруем данные по кофейнням\n",
    "df_coffee = df_upd.query('category == \"кофейня\"').copy()"
   ]
  },
  {
   "cell_type": "code",
   "execution_count": null,
   "id": "b4f2934a",
   "metadata": {},
   "outputs": [],
   "source": [
    "# Подсчитаем количество заведений по категориям\n",
    "category_counts = df_coffee['district'].value_counts()\n",
    "\n",
    "category_counts.index = category_counts.index.map(replacement_dict)\n",
    "\n",
    "# Создадим список для pull, установив значения 0.1 для топ категории\n",
    "pull = [0.01 if category != category_counts.max() else 0.05 for category in category_counts]\n",
    "\n",
    "# Построим круговую диаграмму\n",
    "fig = go.Figure(data=[go.Pie(labels=category_counts.index, values=category_counts.values, hole=0.5,\n",
    "                             pull=pull,\n",
    "                             textinfo='label+percent',\n",
    "                             textposition='outside',\n",
    "                             textfont=dict(size=15),\n",
    "                             marker=dict(colors=palette_colors)\n",
    "                             )])\n",
    "\n",
    "# Обновим макет диаграммы для отображения\n",
    "fig.update_layout(\n",
    "    title='Распределение кофеен по административным округам',\n",
    "    annotations=[dict(text=f'Всего кофеен: {df_coffee.shape[0]}', x=0.5, y=0.5, font_size=20, showarrow=False)]\n",
    "    \n",
    ")\n",
    "# Изменим размер шрифта в заголовке и выведем по центру\n",
    "fig.update_layout(title_font=dict(size=20), title_x=0.5)\n",
    "\n",
    "# Изменим размер графика\n",
    "fig.update_layout(width=800, height=800)\n",
    "# Скрыть легенду\n",
    "fig.update_layout(showlegend=False)\n",
    "\n",
    "# Покажем диаграмму\n",
    "fig.show()"
   ]
  },
  {
   "cell_type": "markdown",
   "id": "41fdaf3a",
   "metadata": {},
   "source": [
    "Исходя из представленных выше наблюдений, мы можем сделать следующие выводы и гипотезы:\n",
    "- Общее количество кофеен в Москве составляет около 1400 заведений.\n",
    "- Больше всего кофеен приходится на центральный, северный и северо-восточный округа Москвы.\n",
    "- 30%  из них приходиться на центральный округ Москвы.\n"
   ]
  },
  {
   "cell_type": "code",
   "execution_count": null,
   "id": "84b6b61a",
   "metadata": {},
   "outputs": [],
   "source": [
    "t = df_coffee.groupby('area')['name'].count().reset_index().sort_values(by='name', ascending=False).head(10)"
   ]
  },
  {
   "cell_type": "code",
   "execution_count": null,
   "id": "8fde4890",
   "metadata": {},
   "outputs": [],
   "source": [
    "\n",
    "\n",
    "# Построим график \n",
    "plt.figure(figsize=(14, 8))\n",
    "sns.barplot(x='name', y='area', data=t, orient='h', palette=palette_colors, edgecolor='w')\n",
    "\n",
    "# Добавим обозначения\n",
    "for index, value in enumerate(t['name']):\n",
    "    plt.text(value, index, f'{value}', va='center', ha='left', fontsize=10, color='black')\n",
    "\n",
    "# Изменим названия осей\n",
    "plt.xlabel('Количество кофеен')\n",
    "plt.ylabel(None)\n",
    "plt.title('ТОП-10 Районов по количеству кофеен', fontsize=16, pad=10)\n",
    "# Скроем значения но очи х\n",
    "plt.xticks([])\n",
    "\n",
    "# Убираем лишние линии\n",
    "sns.despine(top=True, right=True, left=True, bottom=True)\n",
    "# Show plot\n",
    "plt.show()"
   ]
  },
  {
   "cell_type": "markdown",
   "id": "4c7ef8bf",
   "metadata": {},
   "source": [
    "Исходя из представленных выше наблюдений, мы можем сделать следующие выводы и гипотезы:\n",
    "- Лидерами по количеству кофеен становятся Басманный, Преснениский и Тверской районы.\n"
   ]
  },
  {
   "cell_type": "markdown",
   "id": "92a9bf38",
   "metadata": {},
   "source": [
    "### Есть ли круглосуточные кофейни?"
   ]
  },
  {
   "cell_type": "code",
   "execution_count": null,
   "id": "92f2daf9",
   "metadata": {},
   "outputs": [],
   "source": [
    "# Подсчитаем количество заведений по категориям с учетом False значенийф\n",
    "\n",
    "its_24_counts = df_coffee['is_24_7'].value_counts()\n",
    "\n",
    "# Создадим список для pull, установив значения 0.1 для топ категории\n",
    "pull = [0.01 if category != its_24_counts.max() else 0.05 for category in its_24_counts]\n",
    "\n",
    "# Построим круговую диаграмму\n",
    "fig = go.Figure(data=[go.Pie(labels=its_24_counts.index, values=its_24_counts.values, hole=0.5,\n",
    "                             pull=pull,\n",
    "                             textinfo='label+percent',\n",
    "                             textposition='inside',\n",
    "                             textfont=dict(size=15),\n",
    "                             marker=dict(colors=new_palette)\n",
    "                             )])\n",
    "\n",
    "# Обновим макет диаграммы для отображения\n",
    "fig.update_layout(\n",
    "    title='Кофейня работает круглосуточно?',\n",
    "    annotations=[dict(text=f'Всего кофеен: {df_coffee.shape[0]}', x=0.5, y=0.5, font_size=20, showarrow=False)]\n",
    "    \n",
    ")\n",
    "# Изменим размер шрифта в заголовке и выведем по центру\n",
    "fig.update_layout(title_font=dict(size=20), title_x=0.5)\n",
    "\n",
    "# Изменим названия лейблов на Да и Нет\n",
    "fig.update_traces(labels=['Нет', 'Да'])\n",
    "\n",
    "# Изменим размер графика\n",
    "fig.update_layout(width=800, height=800)\n",
    "# Скрыть легенду\n",
    "fig.update_layout(showlegend=False)\n",
    "\n",
    "# Покажем диаграмму\n",
    "fig.show()"
   ]
  },
  {
   "cell_type": "markdown",
   "id": "9a993519",
   "metadata": {},
   "source": [
    "Исходя из наблюдений выше можно сказать что, среди кофеен Москвы всего 5,5% работают круглосуточно."
   ]
  },
  {
   "cell_type": "markdown",
   "id": "cc19a20d",
   "metadata": {},
   "source": [
    "### Изучим распределение  кофеен с круглосуточным режимом работы"
   ]
  },
  {
   "cell_type": "code",
   "execution_count": null,
   "id": "d4dd5e2c",
   "metadata": {},
   "outputs": [],
   "source": [
    "# Посмотрим в каких округах больше всего круглосуточных кофеен\n",
    "\n",
    "dt = (df_coffee.groupby('district')[['is_24_7', 'middle_coffee_cup']]\n",
    "    .agg({'is_24_7': 'sum', 'middle_coffee_cup': 'median'}).reset_index().\n",
    "    sort_values(by='is_24_7', ascending=False).head(10)\n",
    ")\n",
    "\n",
    "# Замена названий категорий\n",
    "dt.district = dt.district.map(replacement_dict)\n",
    "\n",
    "# Построим график \n",
    "plt.figure(figsize=(10, 6))\n",
    "sns.barplot(x='is_24_7', y='district', data=dt, orient='h', palette=palette_colors)\n",
    "\n",
    "# Добавим обозначения\n",
    "for index, value in enumerate(dt['is_24_7']):\n",
    "    plt.text(value, index, f'{value}', va='center', ha='left', fontsize=10, color='black')\n",
    "\n",
    "# Изменим названия осей\n",
    "plt.xlabel('Количество круглосуточных кофеен')\n",
    "plt.ylabel(None)\n",
    "plt.title('График распределения круглосуточных кофеен по округам')\n",
    "sns.despine(top=True, right=True)\n",
    "# Show plot\n",
    "plt.show()"
   ]
  },
  {
   "cell_type": "markdown",
   "id": "bc987cdf",
   "metadata": {},
   "source": [
    "Исходя из представленных выше наблюдений, мы можем сделать следующие выводы и гипотезы:\n",
    "- Количество круглосуточных кофеен Центрального округа в несколько раз превышает количество в других округах.\n",
    "- Наименьше количество круглосуточных кофеен находится в Юго-Восточном округе."
   ]
  },
  {
   "cell_type": "code",
   "execution_count": null,
   "id": "c49397c5",
   "metadata": {},
   "outputs": [],
   "source": [
    "# Посмортим какие кофейни чаще бывают круглосуточными\n",
    "nt=(df_coffee.query('is_24_7 == True').groupby('name')[['is_24_7', 'middle_coffee_cup']]\n",
    "    .agg({'is_24_7': 'sum', 'middle_coffee_cup': 'median'}).reset_index().\n",
    "    sort_values(by='is_24_7', ascending=False).head(10)\n",
    ")\n",
    "\n",
    "# Отобразим график\n",
    "plt.figure(figsize=(14, 8))\n",
    "sns.barplot(x='is_24_7', y='name', data=nt, orient='h', palette=palette_colors)\n",
    "\n",
    "# Добавим обозначения\n",
    "for index, value in enumerate(nt['is_24_7']):\n",
    "    plt.text(value, index, f'{value}', va='center', ha='left', fontsize=10, color='black')\n",
    "    \n",
    "# Настроим подписи\n",
    "plt.xlabel('Количество круглосуточных кофеен')\n",
    "plt.ylabel(None)\n",
    "plt.title('ТОП-10 круглосуточных кофеен в Москве')\n",
    "sns.despine(top=True, right=True)\n",
    "# Show plot\n",
    "plt.show()"
   ]
  },
  {
   "cell_type": "markdown",
   "id": "6bb90dd4",
   "metadata": {},
   "source": [
    "Исходя из представленных выше наблюдений, мы можем сделать следующие выводы и гипотезы:\n",
    "- Самой популярной круглосуточной кофейней остается Шоколадница."
   ]
  },
  {
   "cell_type": "code",
   "execution_count": null,
   "id": "05b30717",
   "metadata": {},
   "outputs": [],
   "source": [
    "# Изучим местоположение круглосуточных заведений на карте\n",
    "\n",
    "# создаём карту Москвы\n",
    "m = Map(location=[moscow_lat, moscow_lng], zoom_start=10, tiles=\"Cartodb Positron\")\n",
    "\n",
    "# создаём пустой кластер, добавляем его на карту\n",
    "marker_cluster = MarkerCluster().add_to(m)\n",
    "\n",
    "# применяем функцию для создания кластеров к каждой строке датафрейма\n",
    "df_coffee.query('is_24_7 == True').apply(create_clusters, axis=1)\n",
    "m"
   ]
  },
  {
   "cell_type": "markdown",
   "id": "1928bdd4",
   "metadata": {},
   "source": [
    "Внимательно изучив расположение круглосуточных заведений на карте, мы можем сделать следующие выводы:\n",
    "- Большинство круглосуточных кофеен расположено вблизи пересечний транспортных и пешеходных маршрутов с высоким трафиком. А также на территориях ЖД вокзалов и аэропортов.\n",
    "- Так кофени сети WildBean расположились по периметру города вдоль МКАД.\n",
    "- Кофейни сети Шоколадница расположены приемущественно в центральных районах."
   ]
  },
  {
   "cell_type": "markdown",
   "id": "0d898724",
   "metadata": {},
   "source": [
    "### Какие у кофеен рейтинги? Как они распределяются по округам?"
   ]
  },
  {
   "cell_type": "code",
   "execution_count": null,
   "id": "3896b587",
   "metadata": {},
   "outputs": [],
   "source": [
    "# Группировка и расчет среднего рейтинга по административным округам\n",
    "cofe_ratings = df_coffee.groupby('district').rating.mean().reset_index()\n",
    "\n",
    "# Замена значений в столбце district\n",
    "cofe_ratings['district'] = cofe_ratings['district'].replace(replacement_dict)\n",
    "\n",
    "# Отсортировка по рейтингу\n",
    "cofe_ratings = cofe_ratings.sort_values(by='rating', ascending=False)\n",
    "\n",
    "\n",
    "# Построение графика\n",
    "plt.figure(figsize=(10, 6))\n",
    "plt.bar(cofe_ratings['district'], cofe_ratings['rating'], color=palette_colors)\n",
    "plt.xlabel(None)\n",
    "plt.ylabel('Средний рейтинг')\n",
    "plt.title('Средний рейтинг по административным округам', fontsize=16)\n",
    "plt.ylim(3.5, 5)  # Установим минимальное и максимальное значение на графике\n",
    "plt.xticks(rotation=45, ha='right')\n",
    "sns.despine()\n",
    "\n",
    "# Отобразим значения рейтинга\n",
    "for i, v in enumerate(cofe_ratings['rating']):\n",
    "    plt.text(i, v + 0.02, str(round(v, 2)), ha='center', fontsize=10)\n",
    "\n",
    "plt.show()"
   ]
  },
  {
   "cell_type": "markdown",
   "id": "f5f31db3",
   "metadata": {},
   "source": [
    "Исходя из представленных выше наблюдений, можно предположить что рейтинг заведений различается незначительно между округами. Изучим информацию детальнее по каждому району."
   ]
  },
  {
   "cell_type": "code",
   "execution_count": null,
   "id": "ea5d7951",
   "metadata": {},
   "outputs": [],
   "source": [
    "# Изучим как распределены рейтинги по районам \n",
    "# Группировка и расчет среднего рейтинга по административным округам\n",
    "cofe_ratings_area = df_coffee.groupby('area').rating.mean().reset_index()\n",
    "\n",
    "# Отсортировка по рейтингу\n",
    "cofe_ratings_top10 = cofe_ratings_area.sort_values(by='rating', ascending=False).head(10)\n",
    "cofe_ratings_undertop10 = cofe_ratings_area.sort_values(by='rating', ascending=False).tail(10)\n",
    "cofe_concat = pd.concat([cofe_ratings_top10, cofe_ratings_undertop10], ignore_index=True)"
   ]
  },
  {
   "cell_type": "code",
   "execution_count": null,
   "id": "ab4b0934",
   "metadata": {},
   "outputs": [],
   "source": [
    "# Построение графика\n",
    "plt.figure(figsize=(12, 8))\n",
    "\n",
    "# Создаем список цветов для верхней и нижней 10ки\n",
    "top_palette = sns.color_palette(\"viridis\", len(cofe_ratings_top10))\n",
    "bottom_palette = sns.color_palette(\"viridis_r\", len(cofe_ratings_undertop10))\n",
    "\n",
    "# Объединяем палитры\n",
    "colors = top_palette + bottom_palette\n",
    "\n",
    "# Построение столбчатой диаграммы\n",
    "sns.barplot(\n",
    "    x='area',\n",
    "    y='rating',\n",
    "    data=cofe_concat,\n",
    "    palette=colors,\n",
    "    order=cofe_concat['area'],\n",
    ")\n",
    "\n",
    "# Отображаем значения рейтинга над столбцами\n",
    "for i, v in enumerate(cofe_concat['rating']):\n",
    "    plt.text(i, v + 0.05, str(round(v, 2)), ha='center', fontsize=10, weight='bold')\n",
    "\n",
    "# Добавление аннотаций для максимальных и минимальных значений\n",
    "plt.text(4.5, cofe_concat['rating'].max() - 0.00, 'Максимальные значения',\n",
    "         ha='center', fontsize=12, weight='bold', color='black')\n",
    "plt.text(14.5, cofe_concat['rating'].min() + 1.20, 'Минимальные значения',\n",
    "         ha='center', fontsize=12, weight='bold', color='black')\n",
    "\n",
    "# Вертикальные линии для обозначения разделения\n",
    "plt.axvline(9.5, color='grey', linestyle='--', lw=1.5)\n",
    "\n",
    "plt.xlabel(None)\n",
    "plt.ylabel('Средний рейтинг')\n",
    "plt.title('Средний рейтинг по районам', fontsize=16, pad=20)\n",
    "plt.ylim(3.5, 5)  # Установим минимальное и максимальное значение на графике\n",
    "plt.xticks(rotation=45, ha='right')\n",
    "sns.despine()\n",
    "plt.tight_layout()\n",
    "plt.show()"
   ]
  },
  {
   "cell_type": "markdown",
   "id": "c9ebf70e",
   "metadata": {},
   "source": [
    "Исходя из представленных выше наблюдений, мы можем сделать следущие выводы:\n",
    "- Средний рейтинг колеблеться от 3.7 до 4.9 в зависимости от района.\n",
    "- Максимальный рейтинг приндлежит Бескудиновскому району и составляет 4.9, тогда как самый минимальный рейтинг кофеен в Братеево."
   ]
  },
  {
   "cell_type": "markdown",
   "id": "7d7b24af",
   "metadata": {},
   "source": [
    "### Посмотрим на  принадлежность к сетевым заведениям."
   ]
  },
  {
   "cell_type": "code",
   "execution_count": null,
   "id": "5ed9d1af",
   "metadata": {},
   "outputs": [],
   "source": [
    "# Подсчитаем количество заведений по категориям с учетом False значенийф\n",
    "\n",
    "coffee_chain = df_coffee['chain'].value_counts()\n",
    "\n",
    "coffee_chain = coffee_chain.sort_values(ascending=True)\n",
    "\n",
    "# Создадим список для pull, установив значения 0.1 для топ категории\n",
    "pull = [0.01 if category != coffee_chain.max() else 0.05 for category in its_24_counts]\n",
    "\n",
    "# Построим круговую диаграмму\n",
    "fig = go.Figure(data=[go.Pie(labels=coffee_chain.index, values=coffee_chain.values, hole=0.5,\n",
    "                             pull=pull,\n",
    "                             textinfo='label+percent',\n",
    "                             textposition='inside',\n",
    "                             textfont=dict(size=15),\n",
    "                             marker=dict(colors=new_palette)\n",
    "                             )])\n",
    "\n",
    "# Обновим макет диаграммы для отображения\n",
    "fig.update_layout(\n",
    "    title='Кофейня является сетевой?',\n",
    "    annotations=[dict(text=f'Всего кофеен: {df_coffee.shape[0]}', x=0.5, y=0.5, font_size=20, showarrow=False)]\n",
    "    \n",
    ")\n",
    "# Изменим размер шрифта в заголовке и выведем по центру\n",
    "fig.update_layout(title_font=dict(size=20), title_x=0.5)\n",
    "\n",
    "# Изменим названия лейблов на Да и Нет\n",
    "fig.update_traces(labels=['Нет', 'Да'])\n",
    "\n",
    "# Изменим размер графика\n",
    "fig.update_layout(width=800, height=800)\n",
    "# Скрыть легенду\n",
    "fig.update_layout(showlegend=False)\n",
    "\n",
    "# Покажем диаграмму\n",
    "fig.show()"
   ]
  },
  {
   "cell_type": "code",
   "execution_count": null,
   "id": "6c3933a7",
   "metadata": {},
   "outputs": [],
   "source": [
    "# Отобразим самые популярные сетевые кофейни по количеству заведений\n",
    "top_chain = (df_coffee.query('chain == 1').groupby('name')[['address', 'middle_coffee_cup','rating']]\n",
    "             .agg({'address': 'count', 'middle_coffee_cup': 'median', 'rating': 'mean'})\n",
    "             .sort_values(by='address', ascending=False).head(10))\n",
    "# Уберем индекс\n",
    "top_chain.reset_index(inplace=True)\n",
    "\n",
    "# Переименуем столбцы\n",
    "top_chain.columns = ['Название', 'Количество заведений', 'Стоимость чашки кофе', 'Средний рейтинг']\n",
    "\n",
    "# Выведем\n",
    "top_chain.sort_values(by='Средний рейтинг', ascending=False)"
   ]
  },
  {
   "cell_type": "code",
   "execution_count": null,
   "id": "5921beb4",
   "metadata": {},
   "outputs": [],
   "source": [
    "# Построение горизонтального барчарта\n",
    "fig = go.Figure()\n",
    "\n",
    "# Добавляем барчарт для количества заведений\n",
    "fig.add_trace(go.Bar(\n",
    "    y=top_chain['Название'],  # Названия кофеен\n",
    "    x=top_chain['Количество заведений'],  # Количество заведений\n",
    "    text=[f'{price:.2f} ₽<br> {rating:.2f}' for price, rating in zip(top_chain['Стоимость чашки кофе'], top_chain['Средний рейтинг'])],\n",
    "    orientation='h',  # Горизонтальная ориентация\n",
    "    marker_color=palette_colors,  # Цвет столбцов\n",
    "    hoverinfo='text'  # Информация при наведении\n",
    "))\n",
    "\n",
    "# Обновление внешнего вида графика\n",
    "fig.update_traces(textposition='outside', textfont=dict(color='black', size=12))\n",
    "\n",
    "fig.update_layout(\n",
    "    title='Самые популярные сетевые кофейни по количеству заведений',\n",
    "    xaxis_title='Количество заведений',\n",
    "    yaxis_title='Кофейня',\n",
    "    yaxis=dict(autorange='reversed'),  # Инвертируем порядок для горизонтальной ориентации\n",
    "    uniformtext_minsize=10,\n",
    "    margin=dict(l=120, r=40, t=40, b=40),  # Настройка отступов\n",
    "    plot_bgcolor='white',\n",
    "    width=950,\n",
    "    height=600,\n",
    "    title_x=0.5,  # Заголовок по центру\n",
    ")\n",
    "\n",
    "# Отображение графика\n",
    "fig.show()"
   ]
  },
  {
   "cell_type": "markdown",
   "id": "7e04e76b",
   "metadata": {},
   "source": [
    "Исходя из представленных выше наблюдений, мы можем сделать следущие выводы и гипотезы.\n",
    "- Среди популярных сетевых заведений средний рейтинг изменяется от 3.92 до 4.46.\n",
    "- Средняя стоимость чашки кофе разнится от 60 до 256 рублей.\n",
    "- Сетевые заведения имеют разный формат, поэтому средняя стоимость чашки кофе в них сильно различается."
   ]
  },
  {
   "cell_type": "markdown",
   "id": "8fda2199",
   "metadata": {},
   "source": [
    "### На какую стоимость чашки капучино стоит ориентироваться при открытии и почему?"
   ]
  },
  {
   "cell_type": "markdown",
   "id": "3e4736ea",
   "metadata": {},
   "source": [
    "- Что бы определить на какую стоимость чашки кофе стоит ориентироваться, следует исходить из формата заведения, так как выбранный заказчиком формат подразумевает полноценную кофейню с посадкой, следует ориентироваться на заведения с аналогичным форматом.\n",
    "- Так же можно предположить что сетевые игроки, могут демпинговать цены, засчет большего масштаба и оборота. \n",
    "- Будем учитывать только те кофейни стоимость чашки кофе в которых свыше 100 рублей.\n",
    "- Сравним показатели для сетевых и несетевых кофеен в зависимости от округа.\n"
   ]
  },
  {
   "cell_type": "code",
   "execution_count": null,
   "id": "9e13a981",
   "metadata": {},
   "outputs": [],
   "source": [
    "# Что бы понять\n",
    "chain = (df_coffee.query('chain == 1').groupby('district')['middle_coffee_cup']\n",
    "         .median().sort_values(ascending=False)).reset_index()\n",
    "not_chain = (df_coffee.query('chain == 0').groupby('district')['middle_coffee_cup']\n",
    "         .median().sort_values(ascending=False)).reset_index()\n",
    "\n",
    "chain_and_not = chain.merge(not_chain, on='district', suffixes=('_chain', '_not_chain'))\n",
    "\n",
    "chain_and_not['district'] = chain_and_not['district'].replace(replacement_dict)\n",
    "\n",
    "chain_and_not = chain_and_not.sort_values(by='middle_coffee_cup_not_chain', ascending=False)"
   ]
  },
  {
   "cell_type": "code",
   "execution_count": null,
   "id": "d33e60b2",
   "metadata": {},
   "outputs": [],
   "source": [
    "# Построение горизонтального барчарта\n",
    "fig = go.Figure()\n",
    "\n",
    "# Добавляем горизонтальные столбцы для сетевых кофеен\n",
    "fig.add_trace(go.Bar(\n",
    "    y=chain_and_not['district'],  # Задаем ось Y вместо X\n",
    "    x=chain_and_not['middle_coffee_cup_chain'],  # Значения по оси X\n",
    "    name='Сетевые кофейни',\n",
    "    orientation='h',  # Горизонтальная ориентация\n",
    "    text=[f'{val:.2f} ₽' for val in chain_and_not['middle_coffee_cup_chain']],\n",
    "    marker=dict(color='#21466f'),# Подписи\n",
    "    textposition='auto'  # Автоматическое расположение подписей\n",
    "))\n",
    "\n",
    "# Добавляем горизонтальные столбцы для несетевых кофеен\n",
    "fig.add_trace(go.Bar(\n",
    "    y=chain_and_not['district'],  # Задаем ось Y вместо X\n",
    "    x=chain_and_not['middle_coffee_cup_not_chain'],  # Значения по оси X\n",
    "    name='Несетевые кофейни',\n",
    "    orientation='h',  # Горизонтальная ориентация\n",
    "    text=[f'{val:.2f} ₽' for val in chain_and_not['middle_coffee_cup_not_chain']],\n",
    "    marker=dict(color='#f94144'),# Подписи\n",
    "    textposition='auto'  # Автоматическое расположение подписей\n",
    "))\n",
    "\n",
    "# Настройка макета\n",
    "fig.update_layout(\n",
    "    title='Медианная цена чашки кофе в районах: Сетевые vs Несетевые кофейни',\n",
    "    xaxis=dict(\n",
    "        title='Медианная цена чашки кофе', \n",
    "        titlefont_size=16, \n",
    "        tickfont_size=14\n",
    "    ),\n",
    "    legend=dict(\n",
    "        x=0.5,  # Горизонтальное расположение\n",
    "        y=-0.2,  # Вертикальное расположение\n",
    "        xanchor='center',  # Центрируем по оси X\n",
    "        orientation='h',  # Горизонтальная ориентация легенды\n",
    "        bgcolor='rgba(255, 255, 255, 0)',  # Прозрачный фон\n",
    "        bordercolor='rgba(255, 255, 255, 0)'\n",
    "    ),\n",
    "    barmode='group',  # Группировка столбцов\n",
    "    bargap=0.15,  # Разрыв между столбцами\n",
    "    bargroupgap=0.1,  # Разрыв между группами столбцов\n",
    "    yaxis=dict(autorange='reversed'),  # Инвертируем порядок для горизонтальной ориентации\n",
    "    uniformtext_minsize=10,\n",
    "    margin=dict(l=120, r=40, t=40, b=100),  # Настройка отступов\n",
    "    plot_bgcolor='white',\n",
    "    width=950,\n",
    "    height=600,\n",
    "    title_x=0.5,  # Заголовок по центру\n",
    ")\n",
    "\n",
    "# Отображение графика\n",
    "fig.show()"
   ]
  },
  {
   "cell_type": "markdown",
   "id": "7938e1f1",
   "metadata": {},
   "source": [
    "Исходя из представленных выше наблюдений, мы можем сделать следущие выводы и гипотезы.\n",
    "- Медианная стоимость для несетевых заведений выше, чем для сетевых. Однако если отбросить заведения формата coffee to go, которые часто бывают сетевыми, ситуация можем поменяться противоположно.\n",
    "- Медианная стоимость вариируется от 135 до 195 рублей за чашку кофе в зависимости от округа.\n",
    "\n",
    "**Для расчета стоимости чашки кофе, не будем учитывать заведения со стоимость меньше 100 рублей за чашку кофе, такие заведения чаще всего работают по отличному от выбранного нами формата.**"
   ]
  },
  {
   "cell_type": "code",
   "execution_count": null,
   "id": "09c36db4",
   "metadata": {},
   "outputs": [],
   "source": [
    "# Изучим как распределены рейтинги по районам \n",
    "# Группировка и расчет среднего рейтинга по административным округам\n",
    "cofe_price = df_coffee.query('middle_coffee_cup > 100 and chain == 0').groupby('area').middle_coffee_cup.median().reset_index()\n",
    "\n",
    "# Отсортировка по рейтингу\n",
    "cofe_price_top10 = cofe_price.sort_values(by='middle_coffee_cup', ascending=False).head(10)\n",
    "cofe_price_undertop10 = cofe_price.sort_values(by='middle_coffee_cup', ascending=False).tail(10)\n",
    "cofe_price_concat = pd.concat([cofe_price_top10, cofe_price_undertop10], ignore_index=True)"
   ]
  },
  {
   "cell_type": "code",
   "execution_count": null,
   "id": "9b49cf7c",
   "metadata": {},
   "outputs": [],
   "source": [
    "# Построение графика\n",
    "plt.figure(figsize=(12, 8)) \n",
    "# Создаем список цветов для верхней и нижней 10-ки\n",
    "top_palette = sns.color_palette(\"viridis\", len(cofe_price_top10))\n",
    "bottom_palette = sns.color_palette(\"viridis_r\", len(cofe_price_undertop10))\n",
    "\n",
    "# Объединяем палитры\n",
    "colors = top_palette + bottom_palette\n",
    "\n",
    "# Построение столбчатой диаграммы\n",
    "sns.barplot(\n",
    "    x='area',\n",
    "    y='middle_coffee_cup',\n",
    "    data=cofe_price_concat,\n",
    "    palette=colors,\n",
    "    order=cofe_price_concat['area'],\n",
    ")\n",
    "\n",
    "# Добавление аннотаций для максимальных и минимальных значений\n",
    "plt.text(4.5, cofe_price_concat['middle_coffee_cup'].max() - 0.00, 'Максимальные значения',\n",
    "         ha='center', fontsize=12, weight='bold', color='black')\n",
    "plt.text(14.5, cofe_price_concat['middle_coffee_cup'].min() + 130.00, 'Минимальные значения',\n",
    "         ha='center', fontsize=12, weight='bold', color='black')\n",
    "\n",
    "# Вертикальные линии для обозначения разделения\n",
    "plt.axvline(9.5, color='grey', linestyle='--', lw=1.5)\n",
    "\n",
    "# Отображаем значения рейтинга над столбцами\n",
    "for i, v in enumerate(cofe_price_concat['middle_coffee_cup']):\n",
    "    plt.text(i, v + 0.5, f\"{int(round(v, 0))}\", ha='center', fontsize=10, weight='bold')\n",
    "\n",
    "plt.xlabel(None)\n",
    "plt.ylabel('Медиана цены чашки кофе', fontsize=12)\n",
    "plt.title('Медиана средних цен за чашку кофе по районам', fontsize=16, pad=20)\n",
    "plt.xticks(rotation=45, ha='right')\n",
    "sns.despine()\n",
    "plt.tight_layout()\n",
    "plt.show()"
   ]
  },
  {
   "cell_type": "markdown",
   "id": "a4c171b4",
   "metadata": {},
   "source": [
    "Исходя из представленных выше наблюдений, мы можем сделать следущие выводы и гипотезы.\n",
    "- Мы исключили заведения неподходящего формата и посчитали медианную стоимость для каждого района.\n",
    "- Медианная стоимость изменяется от 120 до 250 рублей за чашку кофе в зависимости от района, эти данные следует учитывать при выборе места."
   ]
  },
  {
   "cell_type": "code",
   "execution_count": null,
   "id": "7bfcc262",
   "metadata": {},
   "outputs": [],
   "source": [
    "# Подготовка данных\n",
    "df_summary = df_coffee.groupby('rating')['middle_coffee_cup'].median().reset_index().sort_values(by='rating', ascending=False)\n",
    "\n",
    "# Фильтрация только целых значений\n",
    "df_summary = df_summary[df_summary['middle_coffee_cup'] % 1 == 0]\n",
    "df_summary['middle_coffee_cup'] = df_summary['middle_coffee_cup'].astype(int)  # Приведение к целым числам\n",
    "\n",
    "# Создание фигуры\n",
    "plt.figure(figsize=(14, 8))\n",
    "\n",
    "# Лайплот для изменения средней чашки кофе по рейтингу\n",
    "sns.lineplot(data=df_summary, x='rating', y='middle_coffee_cup',\n",
    "              linewidth=2.5, color='#f94144')\n",
    "\n",
    "# Добавление значений на график через одно с поднятием аннотаций\n",
    "for i in range(2, len(df_summary), 3):  \n",
    "    plt.text(df_summary['rating'].iloc[i], df_summary['middle_coffee_cup'].iloc[i] + 6.5,\n",
    "             f'{df_summary[\"middle_coffee_cup\"].iloc[i]}',  # Целое значение\n",
    "             fontsize=12, fontweight='bold', ha='center', va='bottom')\n",
    "\n",
    "# Настройки графика\n",
    "plt.title('Изменение стоимости средней чашки кофе в зависимости от рейтинга, руб.', fontsize=16, pad=20)\n",
    "plt.xlabel('Рейтинг', fontsize=12)\n",
    "plt.ylabel('Средняя чашка кофе, руб.', fontsize=12)\n",
    "plt.grid(True, alpha=0.2)\n",
    "sns.despine()\n",
    "\n",
    "# Показать график\n",
    "plt.show()"
   ]
  },
  {
   "cell_type": "markdown",
   "id": "4a6ad08a",
   "metadata": {},
   "source": [
    "Исходя из представленных выше наблюдений, мы можем сделать следущие выводы и гипотезы.\n",
    "- C повышением рейтинга растёт и медианная стоимость чашки кофе, однако на максимальном рейтинге, стоимость чашки кофе несколько ниже чем на близких к нему значениях."
   ]
  },
  {
   "cell_type": "markdown",
   "id": "7d32a671",
   "metadata": {},
   "source": [
    "### Изучим конкурентов с высоким рейтингом."
   ]
  },
  {
   "cell_type": "code",
   "execution_count": null,
   "id": "d9161e82",
   "metadata": {},
   "outputs": [],
   "source": [
    "# Выведем топ 20 кофейен с самым высоким рейтингом и их показатели\n",
    "top = df_coffee.sort_values(by='rating', ascending=False)\n",
    "top_concurents = top[['name', 'area', 'street', 'chain', 'is_24_7', 'middle_coffee_cup']].head(20)\n",
    "top_concurents = top_concurents.reset_index(drop=True)\n",
    "top_concurents.style.set_caption('Топ 20 кофеен с самым высоким рейтингом')"
   ]
  },
  {
   "cell_type": "code",
   "execution_count": null,
   "id": "77884438",
   "metadata": {},
   "outputs": [],
   "source": [
    "# Изучим местоположение кофеен с рейтингом 5\n",
    "\n",
    "# создаём карту Москвы\n",
    "m = Map(location=[moscow_lat, moscow_lng], zoom_start=10, tiles=\"Cartodb Positron\")\n",
    "\n",
    "# создаём пустой кластер, добавляем его на карту\n",
    "marker_cluster = MarkerCluster().add_to(m)\n",
    "\n",
    "# применяем функцию для создания кластеров к каждой строке датафрейма\n",
    "top.query('rating == 5').apply(create_clusters, axis=1)\n",
    "m"
   ]
  },
  {
   "cell_type": "markdown",
   "id": "baf11bad",
   "metadata": {},
   "source": [
    "Перед тем как открыть кафе в том или ином районе рекомендуется изучить лидеров среди конкурентов: их формат, концепцию, особенности расположения, ценовую политику. Это позволит принять более взвешенное и объективное решение при выборе местоположения."
   ]
  },
  {
   "cell_type": "markdown",
   "id": "87230755",
   "metadata": {},
   "source": [
    "### Изучим какую долю составляют кофейни в каждом районе."
   ]
  },
  {
   "cell_type": "code",
   "execution_count": null,
   "id": "fa065be0",
   "metadata": {},
   "outputs": [],
   "source": [
    "# Подсчитаем долю кофеен от общего количества заведений для каждого района\n",
    "area_coffee = df_coffee.groupby('area')['name'].count().reset_index().sort_values(by='name', ascending=False)\n",
    "# Переименуем поля\n",
    "area_coffee = area_coffee.rename(columns={'name': 'coffee_count'})\n",
    "# Объединим таблицы\n",
    "area_coffee = area_coffee.merge(area_count, on='area', how='right')\n",
    "# Учтем что могут быть нулевые значения кофеен в районе\n",
    "area_coffee.coffee_count = area_coffee.coffee_count.fillna(0).astype('int64')\n",
    "# Процент кофейней в районе\n",
    "area_coffee['coffee_rate'] = round((area_coffee['coffee_count'] / area_coffee['area_count']) * 100)\n",
    "# Сортируем по убыванию\n",
    "area_coffee = area_coffee.sort_values(by='coffee_rate', ascending=False).reset_index()\n",
    "\n",
    "# Объеденим с таблицей по цене чашки кофейни\n",
    "area_coffee = area_coffee.merge(cofe_price, on='area', how='left')"
   ]
  },
  {
   "cell_type": "code",
   "execution_count": null,
   "id": "0a653b3f",
   "metadata": {},
   "outputs": [],
   "source": [
    "# Создаем фигуру\n",
    "fig = px.bar(\n",
    "    area_coffee, \n",
    "    x='area', \n",
    "    y='coffee_rate', \n",
    "    color='coffee_rate',  # цветовая шкала в зависимости от значения\n",
    "    color_continuous_scale='YlGnBu',  # используем ту же палитру\n",
    "    title='Доля кофеен для каждого района Москвы'\n",
    ")\n",
    "# Настраиваем текст на столбцах\n",
    "fig.update_traces(marker_line_color='white')\n",
    "\n",
    "# Настраиваем подписи на оси X - оставляем только первую и последнюю\n",
    "fig.update_xaxes(\n",
    "    tickvals=[0, len(area_coffee)-1],  # индексы для отображения\n",
    "    ticktext=[area_coffee['area'].iloc[0], area_coffee['area'].iloc[5], area_coffee['area'].iloc[-1]],  # подписи\n",
    ")\n",
    "\n",
    "# Настройка осей и заголовка\n",
    "fig.update_layout(\n",
    "    xaxis_title=None,\n",
    "    yaxis_title='Процент кофеен',\n",
    "    title_font_size=18,\n",
    "    xaxis_tickangle=0,\n",
    "    xaxis_tickfont_size=12,\n",
    "    yaxis_tickfont_size=12,\n",
    "    paper_bgcolor='rgba(0,0,0,0)',\n",
    "    plot_bgcolor='rgba(0,0,0,0)',\n",
    "    width=950, \n",
    "    height=800,\n",
    "    title_x=0.5,\n",
    "    coloraxis_showscale=False\n",
    ")\n",
    "    \n",
    "\n",
    "# Убираем легенду и цветовую ось\n",
    "\n",
    "\n",
    "# Убираем границы и отображаем график\n",
    "fig.update_layout(margin=dict(l=20, r=20, t=40, b=20))\n",
    "fig.show()"
   ]
  },
  {
   "cell_type": "markdown",
   "id": "b5033be6",
   "metadata": {},
   "source": [
    "Исходя из представленных выше наблюдений, мы можем сделать следущие выводы и гипотезы:\n",
    "- Доля кофеен изменяется от 4% до 30% в разных районах Москвы.\n",
    "- Мы получили чарт районов по доле нахождения  в них кофеен, для определения оптимального местоположения чем меньше это значением тем лучше. Отобразим эти значения на карте."
   ]
  },
  {
   "cell_type": "code",
   "execution_count": null,
   "id": "b5d8548c",
   "metadata": {},
   "outputs": [],
   "source": [
    "# Посмотрим как это выглядит на карте\n",
    "# Количество кофеен в каждом районе\n",
    "m = create_choropleth_map(\n",
    "     geojson_path,\n",
    "     data_df=area_coffee,\n",
    "     value_col='coffee_rate',\n",
    "     legend_name='Доля кофеен, %',\n",
    "     tooltip_name='Район',\n",
    " )\n",
    "m"
   ]
  },
  {
   "cell_type": "markdown",
   "id": "b399bb40",
   "metadata": {},
   "source": [
    "- Исходя из графика можно сделать вывод, что наименьшая доля кофеен расположена на окраинах города, открывать заведение в таких районах может быть рискованно в связи с низким трафиком.\n",
    "- Мы можем расмотреть варианты с наименьшей долей кофеен среди популярных районов города Москвы."
   ]
  },
  {
   "cell_type": "markdown",
   "id": "7a51911d",
   "metadata": {},
   "source": [
    "### Изучим распределение кофеен среди популярных районов."
   ]
  },
  {
   "cell_type": "code",
   "execution_count": null,
   "id": "15277f38",
   "metadata": {},
   "outputs": [],
   "source": [
    "# Выполним сортировку\n",
    "top15_area = area_coffee.sort_values(by='area_count', ascending=False).head(15)"
   ]
  },
  {
   "cell_type": "code",
   "execution_count": null,
   "id": "028df1ec",
   "metadata": {},
   "outputs": [],
   "source": [
    "# Построим график\n",
    "top15_area = top15_area.sort_values(by='area_count', ascending=True)\n",
    "\n",
    "# Создаем график\n",
    "fig = go.Figure()\n",
    "\n",
    "# Добавляем общее количество заведений\n",
    "fig.add_trace(go.Bar(\n",
    "    y=top15_area['area'],\n",
    "    x=top15_area['area_count'],\n",
    "    name='Общее количество заведений',\n",
    "    orientation='h',\n",
    "    marker=dict(color='#21466f'),  # Цвет для общего количества заведений\n",
    "    text=top15_area['area_count'],\n",
    "    textposition='inside',\n",
    "    texttemplate='%{text}'\n",
    "))\n",
    "\n",
    "# Добавляем количество кофеен поверх общего количества\n",
    "fig.add_trace(go.Bar(\n",
    "    y=top15_area['area'],\n",
    "    x=top15_area['coffee_count'],\n",
    "    name='Количество кофеен',\n",
    "    orientation='h',\n",
    "    marker=dict(color='#f94144'),  # Цвет для кофеен\n",
    "    text=top15_area['coffee_count'],\n",
    "    textposition='inside',\n",
    "    texttemplate='%{text}'\n",
    "))\n",
    "\n",
    "# Настройка графика\n",
    "fig.update_layout(\n",
    "    barmode='overlay',  # Наложение кофеен на общее количество\n",
    "    title='Доля кофеен в популярных районах Москвы',\n",
    "    xaxis_title='Количество заведений',\n",
    "    yaxis_title=None,\n",
    "    title_font_size=18,\n",
    "    xaxis_tickfont_size=12,\n",
    "    yaxis_tickfont_size=12,  \n",
    "    paper_bgcolor='rgba(0,0,0,0)',\n",
    "    plot_bgcolor='rgba(0,0,0,0)',\n",
    "    width=950,\n",
    "    height=600,\n",
    "    title_x=0.5,\n",
    "    \n",
    "    # Настройка легенды\n",
    "    legend=dict(\n",
    "        x=0.5,            # Положение по оси X (0 - левый край, 1 - правый край)\n",
    "        y=-0.1,           # Положение по оси Y (0 - нижний край, 1 - верхний край)\n",
    "        xanchor='center', # Горизонтальная привязка\n",
    "        yanchor='top',    # Вертикальная привязка\n",
    "        orientation='h',  # Горизонтальная ориентация\n",
    "        font=dict(size=12)\n",
    "    )\n",
    ")\n",
    "\n",
    "# Добавление аннотаций с долей кофеен\n",
    "for i, row in top15_area.iterrows():\n",
    "    coffee_rate_text = f'{row[\"coffee_rate\"]:.1f}%'\n",
    "    fig.add_annotation(\n",
    "        x=row['area_count'] + 2,  # Позиция справа от столбца\n",
    "        y=row['area'],\n",
    "        text=coffee_rate_text,\n",
    "        showarrow=False,\n",
    "        font=dict(size=12, color='black'),\n",
    "        xanchor='left'\n",
    "    )\n",
    "\n",
    "# Отображение графика\n",
    "fig.show()"
   ]
  },
  {
   "cell_type": "markdown",
   "id": "8931a55b",
   "metadata": {},
   "source": [
    "Исходя из представленных выше наблюдений, мы можем сделать следущие выводы и гипотезы:\n",
    "- Доля кофеен среди популярных районов изменяется от 12 до 21 %.\n",
    "- Теперь отсортируем получившийся топ по рейтингу и получим, рейтинг районов с наименьшим количество конкурентов"
   ]
  },
  {
   "cell_type": "code",
   "execution_count": null,
   "id": "a0399542",
   "metadata": {},
   "outputs": [],
   "source": [
    "# Построим график\n",
    "top15_area = top15_area.sort_values(by='coffee_rate', ascending=False)\n",
    "# Создаем график\n",
    "fig = go.Figure()\n",
    "\n",
    "# Добавляем общее количество заведений\n",
    "fig.add_trace(go.Bar(\n",
    "    y=top15_area['area'],\n",
    "    x=top15_area['area_count'],\n",
    "    name='Общее количество заведений',\n",
    "    orientation='h',\n",
    "    marker=dict(color='#21466f'),  # Цвет для общего количества заведений\n",
    "    text=top15_area['area_count'],\n",
    "    textposition='inside',\n",
    "    texttemplate='%{text}'\n",
    "))\n",
    "\n",
    "# Добавляем количество кофеен поверх общего количества\n",
    "fig.add_trace(go.Bar(\n",
    "    y=top15_area['area'],\n",
    "    x=top15_area['coffee_count'],\n",
    "    name='Количество кофеен',\n",
    "    orientation='h',\n",
    "    marker=dict(color='#f94144'),  # Цвет для кофеен\n",
    "    text=top15_area['coffee_count'],\n",
    "    textposition='inside',\n",
    "    texttemplate='%{text}'\n",
    "))\n",
    "\n",
    "# Настройка графика\n",
    "fig.update_layout(\n",
    "    barmode='overlay',  # Наложение кофеен на общее количество\n",
    "    title='Доля кофеен в популярных районах Москвы',\n",
    "    xaxis_title='Количество заведений',\n",
    "    yaxis_title=None,\n",
    "    title_font_size=18,\n",
    "    xaxis_tickfont_size=12,\n",
    "    yaxis_tickfont_size=12,  \n",
    "    paper_bgcolor='rgba(0,0,0,0)',\n",
    "    plot_bgcolor='rgba(0,0,0,0)',\n",
    "    width=950,\n",
    "    height=600,\n",
    "    title_x=0.5,\n",
    "    \n",
    "    # Настройка легенды\n",
    "    legend=dict(\n",
    "        x=0.5,            # Положение по оси X (0 - левый край, 1 - правый край)\n",
    "        y=-0.1,           # Положение по оси Y (0 - нижний край, 1 - верхний край)\n",
    "        xanchor='center', # Горизонтальная привязка\n",
    "        yanchor='top',    # Вертикальная привязка\n",
    "        orientation='h',  # Горизонтальная ориентация\n",
    "        font=dict(size=12)\n",
    "    )\n",
    ")\n",
    "\n",
    "# Добавление аннотаций с долей кофеен\n",
    "for i, row in top15_area.iterrows():\n",
    "    coffee_rate_text = f'{row[\"coffee_rate\"]:.1f}%'\n",
    "    fig.add_annotation(\n",
    "        x=row['area_count'] + 2,  # Позиция справа от столбца\n",
    "        y=row['area'],\n",
    "        text=coffee_rate_text,\n",
    "        showarrow=False,\n",
    "        font=dict(size=12, color='black'),\n",
    "        xanchor='left'\n",
    "    )\n",
    "\n",
    "# Отображение графика\n",
    "fig.show()"
   ]
  },
  {
   "cell_type": "code",
   "execution_count": null,
   "id": "bbd93e82",
   "metadata": {},
   "outputs": [],
   "source": [
    "# Построим таблицу с лучшими площадками\n",
    "top5_best_area = top15_area.sort_values(by='coffee_rate', ascending=True).head(5)\n",
    "top5_best_area"
   ]
  },
  {
   "cell_type": "markdown",
   "id": "82205178",
   "metadata": {},
   "source": [
    "Исходя из представленных выше наблюдений, мы можем сделать следущие выводы и гипотезы:\n",
    "-  Среди популярных районов Москвы самыми перспективными с точки зрения наименьшей конкуренции будут Даниловский, Обручевский и Арбат.\n",
    "- Другие районы обладают более высокой конкуренцией, но и большим количеством потенциальных клиентов."
   ]
  },
  {
   "cell_type": "markdown",
   "id": "d2f22d99",
   "metadata": {},
   "source": [
    "### Попробуем определить лучшие места для открытия кофейни."
   ]
  },
  {
   "cell_type": "markdown",
   "id": "ca0e183d",
   "metadata": {},
   "source": [
    "Основными критериями для выбора местоположения для открытия кафе  являются следующие параметры зависящие от концепции:\n",
    "- Трафик (количество пешеходов, проживающих рядом людей);\n",
    "- Социально-демографический профиль населения;\n",
    "- Экономическая активность населения (средний чек и т.д.);\n",
    "- Синергия с другими заведениями;\n",
    "- Доступность.\n",
    "\n",
    "Открытие кофейни формата с посадкой, требует очень тщательного подхода для выбора местоположения, так как требует вложения большого количества средств на этапе подготовки. Для открытия могут подойти как турристические или популярные у учащихся районы, так и разрастающиеся спальники. Однако следует также отметить что косвенными конкурентами могут являться не только другие кофейни, но и другие категории заведений где подают кофе, такие как рестораны и кафе.\n",
    "\n",
    "**Воспользуемся данными по улицам с одним заведением для определения лучшего местоположения**"
   ]
  },
  {
   "cell_type": "code",
   "execution_count": null,
   "id": "c69fc335",
   "metadata": {},
   "outputs": [],
   "source": [
    "# Получим данные с одним заведением на улицу\n",
    "one_place_data_upd = df_upd[df_upd['street'].isin(one_street)]"
   ]
  },
  {
   "cell_type": "code",
   "execution_count": null,
   "id": "6d6fea4b",
   "metadata": {},
   "outputs": [],
   "source": [
    "# Выполним фильтрацию по категориям нежелательного соседства\n",
    "filtered_one_place = (\n",
    "    one_place_data_upd.query(\n",
    "        \"category != 'кафе' and \"\n",
    "        \"category != 'ресторан' and \"\n",
    "        \"category != 'кофейня' and \"\n",
    "        \"category != 'бар,паб'\"\n",
    "    )\n",
    ")"
   ]
  },
  {
   "cell_type": "markdown",
   "id": "c83a1a1a",
   "metadata": {},
   "source": [
    "#### Подход №1 - отталкиваемся от доли кофеен среди популярных районов города, рассматриваем улицы, на которых отсутствуют заведения конкурентов."
   ]
  },
  {
   "cell_type": "code",
   "execution_count": null,
   "id": "6fdb7cf0",
   "metadata": {},
   "outputs": [],
   "source": [
    "# Отфильтруем по районам с наименьшим долей кофеен среди популярных\n",
    "variant1 = filtered_one_place.query(\"area in @top15_area['area']\")"
   ]
  },
  {
   "cell_type": "code",
   "execution_count": null,
   "id": "246ea442",
   "metadata": {
    "scrolled": false
   },
   "outputs": [],
   "source": [
    "# Количество кофеен в каждом районе\n",
    "m = create_choropleth_map(\n",
    "     geojson_path,\n",
    "     data_df=area_coffee,\n",
    "     value_col='coffee_rate',\n",
    "     legend_name='Доля кофеен, %',\n",
    "     tooltip_name='Район',\n",
    " )\n",
    "# создаём пустой кластер, добавляем его на карту\n",
    "marker_cluster = MarkerCluster().add_to(m)\n",
    "\n",
    "# применяем функцию для создания кластеров к каждой строке датафрейма\n",
    "variant1.apply(create_clusters, axis=1)\n",
    "m"
   ]
  },
  {
   "cell_type": "markdown",
   "id": "c7753a14",
   "metadata": {},
   "source": [
    "Исходя из представленных выше наблюдений, мы можем предложить следубщие варианты размещенитя:\n",
    "- Даниловский район имеет наименьший процент кофеен - 12 %, находится  в Южном округе и имеет два вариана для размещения.\n",
    "- Среди центральных районов выделяется Тверской район с двумя вариантами, однако доля кофеен в нем выше и составляет 17 %.\n",
    "- Также среди районов с хорошим расположением можно обратить внимание на  Ломоносовский, всего 7 % кофеен от общей доли и удачное соседство с Раменками и Проспектом вернандского."
   ]
  },
  {
   "cell_type": "markdown",
   "id": "ec591fbd",
   "metadata": {},
   "source": [
    "#### Подход №2 обогатим наши данные информацией по плотности населения для районов Москвы из открытого источника [ссылка](https://russia.duck.consulting/maps/330),  Изучим районы по количеству человек на одну кофеню.  Проверим на наличие среди них улиц, с отсутствием конкурентов."
   ]
  },
  {
   "cell_type": "code",
   "execution_count": null,
   "id": "62828d85",
   "metadata": {},
   "outputs": [],
   "source": [
    "# Прочитаем данные из CSV\n",
    "people = pd.read_csv('https://raw.githubusercontent.com/MaximBakaldin/Moscow_Places/main/moscow_people.csv', header=None)\n",
    "people.columns = ['id', 'area', 'people']\n",
    "people = people.drop(columns=['id'])"
   ]
  },
  {
   "cell_type": "code",
   "execution_count": null,
   "id": "231cf5af",
   "metadata": {},
   "outputs": [],
   "source": [
    "# Объединим данные\n",
    "df_plus_people = area_coffee.merge(people, on='area', how='left')\n",
    "df_plus_people['coffee_count'] = df_plus_people['coffee_count'].replace(0, 1)\n",
    "df_plus_people['people_rate'] =  round(df_plus_people.people / df_plus_people.coffee_count)\n",
    "top_10_people = df_plus_people.sort_values(by='people_rate', ascending=False).head(10)"
   ]
  },
  {
   "cell_type": "code",
   "execution_count": null,
   "id": "ab56b2b6",
   "metadata": {},
   "outputs": [],
   "source": [
    "variant2 = filtered_one_place.query(\"area in @top_10_people['area']\")"
   ]
  },
  {
   "cell_type": "code",
   "execution_count": null,
   "id": "a7ae35d7",
   "metadata": {},
   "outputs": [],
   "source": [
    "# Количество кофеен в каждом районе\n",
    "m = create_choropleth_map(\n",
    "     geojson_path,\n",
    "     data_df=df_plus_people,\n",
    "     value_col='people_rate',\n",
    "     legend_name='Количество человек на одну кофейню',\n",
    "     tooltip_name='Район'\n",
    " )\n",
    "\n",
    "# создаём пустой кластер, добавляем его на карту\n",
    "marker_cluster = MarkerCluster().add_to(m)\n",
    "# применяем функцию для создания кластеров к каждой строке датафрейма\n",
    "variant2.apply(create_clusters, axis=1)\n",
    "m"
   ]
  },
  {
   "cell_type": "markdown",
   "id": "4bf9fbab",
   "metadata": {},
   "source": [
    "Исходя из представленных выше наблюдений, мы можем предложить следубщие варианты размещенитя:\n",
    "- Район Зюзино имеет 23 000 жителей на одну кофейню, к тому же есть вариант расположения на улице с одним единственным заведение. \n",
    "- Также среди районов с хорошим расположением можно обратить внимание на  Ломоносовский, 6500 человек на одну кофейю и удачное  и удачное соседство с Раменками и Проспектом вернандского."
   ]
  },
  {
   "cell_type": "markdown",
   "id": "c6381475",
   "metadata": {},
   "source": [
    "## Выводы  по разделу."
   ]
  },
  {
   "cell_type": "markdown",
   "id": "223c5853",
   "metadata": {},
   "source": [
    "Общее количество кофеен и их распределение\n",
    "\n",
    "- В Москве насчитывается около 1400 кофеен. Основное количество заведений сосредоточено в Центральном, Северном и Северо-Восточном округах. На Центральный округ приходится 30% от общего числа кофеен, что делает его наиболее насыщенным в данной категории.\n",
    "\n",
    "Круглосуточные кофейни\n",
    "\n",
    "- Всего 5,5% кофеен работают круглосуточно. Доля круглосуточных кофеен значительно выше в Центральном округе по сравнению с другими округами, особенно в Юго-Восточном округе, где наблюдается наименьшее количество круглосуточных заведений.\n",
    "- Самой популярной круглосуточной кофейней в Москве остается «Шоколадница». Эта сеть расположена преимущественно в центральных районах, тогда как сети типа WildBean находятся по периметру города вдоль МКАД.\n",
    "\n",
    "\n",
    "Рейтинг кофеен\n",
    "\n",
    "- Рейтинг кофеен варьируется от 3.7 до 4.9, в зависимости от района. Бескудиновский район имеет максимальный рейтинг 4.9, в то время как Братеево — минимальный.\n",
    "- Сетевые заведения имеют средний рейтинг от 3.92 до 4.46. Медианная стоимость чашки кофе в сетевых заведениях варьируется от 60 до 256 рублей, что также зависит от формата заведения.\n",
    "\n",
    "\n",
    "Ценовая политика\n",
    "\n",
    "-  Медианная стоимость чашки кофе в Москве изменяется от 120 до 250 рублей, в зависимости от района. Выбор формата заведения влияет на цену, и необходимо ориентироваться на кофейни с аналогичным форматом для более точной оценки.\n",
    "- Медианная стоимость чашки кофе в несетевых заведениях выше, чем в сетевых, но сетевые заведения могут демпинговать цены благодаря большему масштабу.\n",
    "\n",
    "\n",
    "Конкуренция и рекомендации по размещению\n",
    "\n",
    "- Доля кофеен в разных районах варьируется от 4% до 30%. Открытие кофейни в районах с низкой долей кофеен может быть менее рискованным, особенно если это районы с высокой проходимостью или значительным трафиком.\n",
    "-  Среди популярных районов ЦАО - наиболее перспективным для открытия кофейни с низкой конкуренцией являются Арбат(10%) Среди популярных районов ЮАО - Ломоносовский (7% ) и Зюзино (7%) и Даниловский (12%) Эти районы имеют потенциально высокий трафик и меньшее количество конкурентов.\n",
    " \n",
    "Рекомендации по выбору местоположения\n",
    "\n",
    "- Открытие кофейни формата с посадкой требует тщательного выбора местоположения. Следует учитывать не только уровень конкуренции, но и потенциальный трафик и близость к ключевым транспортным узлам.\n",
    "- Рассмотреть районы с низкой долей кофеен и высоким рейтингом для обеспечения лучшего конкурентного преимущества. Например, Ломоносовский район и район Зюзино могут быть хорошими вариантами, поскольку они имеют низкую долю кофеен и высокий рейтинг для потенциальных клиентов.\n",
    "\n",
    "Финальные рекомендации\n",
    "\n",
    "- Провести дополнительное исследование конкурентов в выбранном районе, оценить их формат, концепцию и ценовую политику.\n",
    "- Оценить стоимость аренды и наличие подходящих помещений в выбранных районах.\n",
    "- Обратить внимание на расположение вблизи высоко проходимых зон, таких как транспортные узлы и туристические маршруты.\n",
    "- Эти выводы помогут в принятии обоснованного решения о месте для открытия кофейни и учтут все ключевые факторы, влияющие на - успешное функционирование заведения.\n",
    "- Общие выводы и финальные результаты анализа представлены в [презентации](https://disk.yandex.ru/i/9mCIN6hpLGA9tQ)\n",
    "\n"
   ]
  },
  {
   "cell_type": "code",
   "execution_count": null,
   "id": "9333ddf3",
   "metadata": {},
   "outputs": [],
   "source": []
  }
 ],
 "metadata": {
  "kernelspec": {
   "display_name": "Python 3 (ipykernel)",
   "language": "python",
   "name": "python3"
  },
  "language_info": {
   "codemirror_mode": {
    "name": "ipython",
    "version": 3
   },
   "file_extension": ".py",
   "mimetype": "text/x-python",
   "name": "python",
   "nbconvert_exporter": "python",
   "pygments_lexer": "ipython3",
   "version": "3.9.19"
  },
  "toc": {
   "base_numbering": 1,
   "nav_menu": {
    "height": "27.9883px",
    "width": "160px"
   },
   "number_sections": true,
   "sideBar": true,
   "skip_h1_title": true,
   "title_cell": "Table of Contents",
   "title_sidebar": "Contents",
   "toc_cell": true,
   "toc_position": {
    "height": "1253.33px",
    "left": "36px",
    "top": "111.84px",
    "width": "430.852px"
   },
   "toc_section_display": true,
   "toc_window_display": true
  }
 },
 "nbformat": 4,
 "nbformat_minor": 5
}
